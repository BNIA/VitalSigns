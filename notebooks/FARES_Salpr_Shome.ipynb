{
 "cells": [
  {
   "cell_type": "code",
   "execution_count": null,
   "metadata": {
    "id": "WMQWXdm9ckKI"
   },
   "outputs": [],
   "source": [
    "# default_exp fares"
   ]
  },
  {
   "cell_type": "markdown",
   "metadata": {
    "id": "_jLE_5-I9HzS"
   },
   "source": [
    "# VS Fares Data Intake and Operations\n",
    "\n",
    "> This notebook uses data to generate a portion of BNIA's Vital Signs report."
   ]
  },
  {
   "cell_type": "markdown",
   "metadata": {
    "id": "iSNOAJoTlQr0"
   },
   "source": [
    "This colab and more can be found at https://github.com/BNIA/vitalsigns.\n"
   ]
  },
  {
   "cell_type": "markdown",
   "metadata": {
    "id": "ukxt0JZCsaxc"
   },
   "source": [
    "## Whats Inside?: "
   ]
  },
  {
   "cell_type": "markdown",
   "metadata": {
    "id": "lEdBnKIqli8m"
   },
   "source": [
    "### __The Guided Walkthrough__\n",
    "\n",
    "This notebook was made to create the following Housing Vital Signs Indicators:"
   ]
  },
  {
   "cell_type": "markdown",
   "metadata": {
    "id": "J5fgpFCgNkVt"
   },
   "source": [
    "#### __Indicators Used__\n",
    "\n",
    "- ✅ 29 - __salepr__ -  (Fares) Median Price of Homes Sold\n",
    "- ✅ 31 - __shomes__ -  (Fares) Number of Homes Sold"
   ]
  },
  {
   "cell_type": "markdown",
   "metadata": {
    "id": "-6lDtbLS0a-C"
   },
   "source": [
    "#### __Datasets Used__\n",
    "\n",
    "- ✅ foreclosures.fares_201X __(29-salepr, 31-shomes -> saledate primcatcod landusecod saleamount)__\n",
    "\n",
    "❌"
   ]
  },
  {
   "cell_type": "code",
   "execution_count": null,
   "metadata": {
    "id": "kaPqfCBQscqe"
   },
   "outputs": [],
   "source": [
    "year = '19'"
   ]
  },
  {
   "cell_type": "markdown",
   "metadata": {
    "id": "-1RKv4DiMVwo"
   },
   "source": [
    "# Guided Walkthrough"
   ]
  },
  {
   "cell_type": "markdown",
   "metadata": {
    "id": "e8-mgsByhrxG"
   },
   "source": [
    "## SETUP Enviornment:"
   ]
  },
  {
   "cell_type": "markdown",
   "metadata": {
    "id": "0hHCW-qPMeH6"
   },
   "source": [
    "### Import Modules"
   ]
  },
  {
   "cell_type": "code",
   "execution_count": null,
   "metadata": {
    "colab": {
     "background_save": true
    },
    "id": "WUvcamATFo4G"
   },
   "outputs": [],
   "source": [
    "%%capture\n",
    "! pip install -U -q PyDrive\n",
    "! pip install geopy\n",
    "! pip install geopandas\n",
    "! pip install geoplot\n",
    "! pip install dataplay\n",
    "! pip install matplotlib\n",
    "! pip install psycopg2-binary"
   ]
  },
  {
   "cell_type": "code",
   "execution_count": null,
   "metadata": {
    "colab": {
     "background_save": true
    },
    "id": "r0vkoXtZRdJz"
   },
   "outputs": [],
   "source": [
    "%%capture\n",
    "! apt-get install build-dep python-psycopg2\n",
    "! apt-get install libpq-dev\n",
    "! apt-get install libspatialindex-dev"
   ]
  },
  {
   "cell_type": "code",
   "execution_count": null,
   "metadata": {
    "colab": {
     "background_save": true
    },
    "id": "gZ17xjOgR8vg"
   },
   "outputs": [],
   "source": [
    "%%capture\n",
    "!pip install rtree\n",
    "!pip install dexplot"
   ]
  },
  {
   "cell_type": "code",
   "execution_count": null,
   "metadata": {
    "colab": {
     "background_save": true
    },
    "id": "w9Mcvm-X0gdo"
   },
   "outputs": [],
   "source": [
    "from dataplay.geoms import workWithGeometryData"
   ]
  },
  {
   "cell_type": "code",
   "execution_count": null,
   "metadata": {
    "colab": {
     "background_save": true
    },
    "id": "nNOByHFKFo4m"
   },
   "outputs": [],
   "source": [
    "%%capture \n",
    "# These imports will handle everything\n",
    "import os\n",
    "import sys\n",
    "import csv\n",
    "import matplotlib.pyplot as plt\n",
    "import numpy as np\n",
    "import pandas as pd\n",
    "import geopandas as gpd\n",
    "from geopandas import GeoDataFrame\n",
    "import psycopg2\n",
    "import pyproj\n",
    "from pyproj import Proj, transform\n",
    "# conda install -c conda-forge proj4\n",
    "from shapely.geometry import Point\n",
    "from shapely import wkb\n",
    "from shapely.wkt import loads\n",
    "# https://pypi.org/project/geopy/\n",
    "from geopy.geocoders import Nominatim\n",
    "\n",
    "# In case file is KML, enable support\n",
    "import fiona\n",
    "fiona.drvsupport.supported_drivers['kml'] = 'rw'\n",
    "fiona.drvsupport.supported_drivers['KML'] = 'rw'"
   ]
  },
  {
   "cell_type": "code",
   "execution_count": null,
   "metadata": {
    "colab": {
     "background_save": true
    },
    "id": "evj9GJLdSlxF"
   },
   "outputs": [],
   "source": [
    "from IPython.display import clear_output\n",
    "clear_output(wait=True)"
   ]
  },
  {
   "cell_type": "code",
   "execution_count": null,
   "metadata": {
    "colab": {
     "background_save": true
    },
    "id": "uTcb3bD84mSA"
   },
   "outputs": [],
   "source": [
    "import ipywidgets as widgets\n",
    "from ipywidgets import interact, interact_manual"
   ]
  },
  {
   "cell_type": "markdown",
   "metadata": {
    "id": "q8tLzJzcMh74"
   },
   "source": [
    "### Configure Enviornment"
   ]
  },
  {
   "cell_type": "code",
   "execution_count": null,
   "metadata": {
    "colab": {
     "background_save": true
    },
    "id": "OuH4mBeYCUqU"
   },
   "outputs": [],
   "source": [
    "# This will just beautify the output\n",
    "\n",
    "pd.set_option('display.expand_frame_repr', False)\n",
    "pd.set_option('display.precision', 2)\n",
    "from IPython.core.interactiveshell import InteractiveShell\n",
    "InteractiveShell.ast_node_interactivity = \"all\"\n",
    "\n",
    "# pd.set_option('display.expand_frame_repr', False)\n",
    "# pd.set_option('display.precision', 2)\n",
    "# pd.reset_option('max_colwidth')\n",
    "pd.set_option('max_colwidth', 20)\n",
    "# pd.reset_option('max_colwidth')"
   ]
  },
  {
   "cell_type": "markdown",
   "metadata": {
    "id": "g-eNzM614b3K"
   },
   "source": [
    "## Prep Datasets"
   ]
  },
  {
   "cell_type": "markdown",
   "metadata": {
    "id": "_3QiG_W4iDl7"
   },
   "source": [
    "#### TPOP CSA and Baltimore"
   ]
  },
  {
   "cell_type": "markdown",
   "metadata": {
    "id": "tlQvkkbaB0ZI"
   },
   "source": [
    "Get Baltimore"
   ]
  },
  {
   "cell_type": "code",
   "execution_count": null,
   "metadata": {
    "colab": {
     "background_save": true
    },
    "id": "-xeV9WHdOhBv"
   },
   "outputs": [],
   "source": [
    "#collapse_output\n",
    "#collapse_input\n",
    "csa = \"https://services1.arcgis.com/mVFRs7NF4iFitgbY/ArcGIS/rest/services/Tpop/FeatureServer/0/query?where=1%3D1&outFields=*&returnGeometry=true&f=pgeojson\"\n",
    "csa = gpd.read_file(csa);\n",
    "csa.head(1)"
   ]
  },
  {
   "cell_type": "markdown",
   "metadata": {
    "id": "QyBS5PlHB1db"
   },
   "source": [
    "Get CSA"
   ]
  },
  {
   "cell_type": "code",
   "execution_count": null,
   "metadata": {
    "colab": {
     "background_save": true
    },
    "id": "2FLpVhiPUAck"
   },
   "outputs": [],
   "source": [
    "url2 = \"https://services1.arcgis.com/mVFRs7NF4iFitgbY/ArcGIS/rest/services/Tpop/FeatureServer/1/query?where=1%3D1&outFields=*&returnGeometry=true&f=pgeojson\"\n",
    "csa2 = gpd.read_file(url2);\n",
    "csa2['CSA2010'] = csa2['City_1'] \n",
    "csa2['OBJECTID'] = 56 \n",
    "csa2 = csa2.drop(columns=['City_1'])\n",
    "csa2.head()"
   ]
  },
  {
   "cell_type": "markdown",
   "metadata": {
    "id": "RiT-Pc1jgZJI"
   },
   "source": [
    "Append do no append Bcity. We put it on the Bottom of the df because when performing the ponp it returns only the last matching columns CSA Label. "
   ]
  },
  {
   "cell_type": "code",
   "execution_count": null,
   "metadata": {
    "colab": {
     "background_save": true
    },
    "id": "RWZigszHUWm5"
   },
   "outputs": [],
   "source": [
    "# csa = pd.concat([csa2, csa], ignore_index=True)\n",
    "csa = csa.append(csa2).reset_index(drop=True)"
   ]
  },
  {
   "cell_type": "code",
   "execution_count": null,
   "metadata": {
    "colab": {
     "background_save": true
    },
    "id": "oH6C5OecjBsy"
   },
   "outputs": [],
   "source": [
    "csa.head(3)"
   ]
  },
  {
   "cell_type": "code",
   "execution_count": null,
   "metadata": {
    "colab": {
     "background_save": true
    },
    "id": "WLpXYhJHB_rt"
   },
   "outputs": [],
   "source": [
    "csa.tail(3)"
   ]
  },
  {
   "cell_type": "code",
   "execution_count": null,
   "metadata": {
    "colab": {
     "background_save": true
    },
    "id": "wpZDcRVkk9SJ"
   },
   "outputs": [],
   "source": [
    "csa.head()"
   ]
  },
  {
   "cell_type": "code",
   "execution_count": null,
   "metadata": {
    "colab": {
     "background_save": true
    },
    "id": "wG_g3sp2J2pq"
   },
   "outputs": [],
   "source": [
    "csa.drop(columns=['Shape__Area', 'Shape__Length', 'OBJECTID'], axis=1).to_file(\"BCity_and_CSA.geojson\", driver='GeoJSON')"
   ]
  },
  {
   "cell_type": "markdown",
   "metadata": {
    "id": "1yN6qfuBLSeu"
   },
   "source": [
    "### Fares"
   ]
  },
  {
   "cell_type": "markdown",
   "metadata": {
    "id": "2yGE0yLGAvAF"
   },
   "source": []
  },
  {
   "cell_type": "code",
   "execution_count": null,
   "metadata": {
    "id": "JNRLZHHh6KHN"
   },
   "outputs": [],
   "source": [
    "import pandas as pd\n",
    "import geopandas \n",
    "\n",
    "original = gpd.read_file(\"FARES_20\"+year+\"_CSACity.shp\", geometry='geometry');\n",
    "original.columns "
   ]
  },
  {
   "cell_type": "code",
   "execution_count": null,
   "metadata": {
    "id": "Qiw4TZ8Msppg"
   },
   "outputs": [],
   "source": [
    "original.rename(columns={ 'CSA':'CSA2010', 'BaltCity':'InBaltimore'}, inplace=True)\n",
    "df = original[ original['CSA2010'].notnull() | original['InBaltimore'].notnull()  ]"
   ]
  },
  {
   "cell_type": "code",
   "execution_count": null,
   "metadata": {
    "id": "lVYhbJ5dsq0w"
   },
   "outputs": [],
   "source": [
    "print('After filtering records where a CSA or Baltimore geo-code match Exists')\n",
    "print( 'All rows Before Filter: ', original.shape[0] ) # rows, columns\n",
    "print( '# w BCity.isnull: ', df.InBaltimore.isnull().sum() ); bmorow = df[ df.CSA2010.isnull()  ].shape[0]\n",
    "print( '# w CSA2010.isnull: ', bmorow ); csarow = df[ df.CSA2010.notnull()  ].shape[0] \n",
    "print( '# w CSA2010.notnull: ', csarow ); \n",
    "print( '# rows After Filter: ', df.shape[0],'==',csarow,'+',bmorow,'==', csarow + bmorow); "
   ]
  },
  {
   "cell_type": "code",
   "execution_count": null,
   "metadata": {
    "id": "-MjNhXd2sviB"
   },
   "outputs": [],
   "source": [
    "# add baltimore city\n",
    "df.CSA2010 = df.CSA2010.fillna('Baltimore City')"
   ]
  },
  {
   "cell_type": "code",
   "execution_count": null,
   "metadata": {
    "id": "7hkvEAYFsxdQ"
   },
   "outputs": [],
   "source": [
    "fares = df.copy()\n",
    "fares.head(1)"
   ]
  },
  {
   "cell_type": "markdown",
   "metadata": {
    "id": "EFGK-nZa1eU6"
   },
   "source": [
    "#### Not Used"
   ]
  },
  {
   "cell_type": "code",
   "execution_count": null,
   "metadata": {
    "id": "zGRDE0prK-Nx"
   },
   "outputs": [],
   "source": [
    "# Convert Geom to Coords\n",
    "# fares[\"x\"] = fares.centroid.map(lambda p: p.x)\n",
    "# fares[\"y\"] = fares.centroid.map(lambda p: p.y)\n",
    "\n",
    "fares['x'] = fares.geometry.x\n",
    "fares['y'] = fares.geometry.y\n",
    "# fares.head(5)\n",
    "\n",
    "fares = fares[ fares.geometry.y > 38 ]\n",
    "fares = fares[ fares.geometry.x < -70 ]\n",
    "fares = fares[ fares.geometry.x > -80 ]"
   ]
  },
  {
   "cell_type": "code",
   "execution_count": null,
   "metadata": {
    "id": "07ho5f-8K-N4"
   },
   "outputs": [],
   "source": [
    "# Reference: All Points\n",
    "base = csa.plot(color='white', edgecolor='black')\n",
    "fares.plot(ax=base, marker='o', color='green', markersize=5);"
   ]
  },
  {
   "cell_type": "code",
   "execution_count": null,
   "metadata": {
    "id": "_8kSfx99l_iO"
   },
   "outputs": [],
   "source": [
    "fares = fares[['SALEDATE', 'SALEAMOUNT', 'LANDUSECOD', 'geometry']]\n",
    "fares.head()"
   ]
  },
  {
   "cell_type": "code",
   "execution_count": null,
   "metadata": {
    "id": "30kIXp4SK-N-"
   },
   "outputs": [],
   "source": [
    "# Get CSA Labels for all Points.\n",
    "faresCsa = workWithGeometryData( \n",
    "     method='ponp', df=fares, polys=csa, ptsCoordCol='geometry', \n",
    "     polygonsCoordCol='geometry', polygonsLabel='CSA2010'\n",
    ")\n",
    "faresCsa = faresCsa.drop('geometry',axis=1) \n",
    "faresCsa.to_csv('ponp_fares.csv', index=False)\n",
    "faresCsa.head(1)"
   ]
  },
  {
   "cell_type": "markdown",
   "metadata": {
    "id": "PF7NoFzRLshU"
   },
   "source": [
    "# Indicators"
   ]
  },
  {
   "cell_type": "code",
   "execution_count": null,
   "metadata": {
    "id": "NAPfhluS7ktp"
   },
   "outputs": [],
   "source": [
    "faresCsa = fares.copy()"
   ]
  },
  {
   "cell_type": "code",
   "execution_count": null,
   "metadata": {
    "id": "nQ3ioF9272hf"
   },
   "outputs": [],
   "source": [
    "faresCsa.dtypes"
   ]
  },
  {
   "cell_type": "code",
   "execution_count": null,
   "metadata": {
    "id": "WKZp_Er8_nV9"
   },
   "outputs": [],
   "source": [
    "faresCsa.LANDUSECOD.unique()"
   ]
  },
  {
   "cell_type": "markdown",
   "metadata": {
    "id": "4T2cDUAKEoLo"
   },
   "source": [
    "### 29 - salepr (Fares)"
   ]
  },
  {
   "cell_type": "markdown",
   "metadata": {
    "id": "pcXVpnV8BsgS"
   },
   "source": [
    "landusecode was discontinued a few years ago\n",
    "\n",
    "Q: The original sql queries say we need to filter on for ['HIGH RISE CONDO', 'CONDOMINIUM', 'RESIDENTIAL (NEC)', 'MID RISE CONDO', 'MULTI FAMILY DWELLING', 'MULTI FAMILY 10 UNITS LESS', 'SFR', 'TOWNHOUSE/ROWHOUSE'] but the column is missing\n",
    "\n",
    "A: as of 3/30/2021 I (Carlos) officially declare that the we will not be using landusecod in our query and are going to be using PROPERTYIN on fields 'CONDOMINIUM', 'SINGLE FAMILY'.\n",
    "\n",
    "oldquerilandusecodfilter = \"HIGH RISE CONDO|CONDOMINIUM|RESIDENTIAL (NEC)|MID RISE CONDO|MULTI FAMILY DWELLING|MULTI FAMILY 10 UNITS LESS|SFR|TOWNHOUSE/ROWHOUSE\""
   ]
  },
  {
   "cell_type": "code",
   "execution_count": null,
   "metadata": {
    "id": "OEVVfQh-FqjW"
   },
   "outputs": [],
   "source": [
    "# salepr - Median Price of Homes Sold\n",
    "\n",
    "# https://services1.arcgis.com/mVFRs7NF4iFitgbY/arcgis/rest/services/salepr/FeatureServer/layers\n",
    "\n",
    "# Numerator: Fares\n",
    "# Denominator: None\n",
    "\n",
    "long_Description: \"\"\"\n",
    "The median home sales price is the middle value of the prices for which homes are sold (both market and private transactions) \n",
    "within a calendar year. The median value is used as opposed to the average so that both extremely high and extremely low prices \n",
    "do not distort the prices for which homes are sold. This measure does not take into account the assessed value of a property.\n",
    "\"\"\"\n",
    "\n",
    "salepr_SQL = \"\"\" \n",
    "SELECT fullbounds.csa, sQuery.Result \n",
    "  FROM boundaries.csa2010 as fullbounds \n",
    "    LEFT JOIN (SELECT bounds.csa AS Boundary, median(Tables.saleamount::numeric(10,2))::numeric(10,2) as Result\n",
    "      FROM housing.fares_2016 AS Tables\n",
    "      JOIN boundaries.csa2010 AS bounds \n",
    "      ON ST_Contains(bounds.the_geom, Tables.the_geom)\n",
    "        where (landusecod LIKE 'HIGH RISE CONDO' OR \n",
    "               landusecod LIKE 'CONDOMINIUM' OR \n",
    "               landusecod LIKE 'RESIDENTIAL (NEC)' OR \n",
    "               landusecod LIKE 'MID RISE CONDO' OR \n",
    "               landusecod LIKE 'MULTI FAMILY DWELLING' OR \n",
    "               landusecod LIKE 'MULTI FAMILY 10 UNITS LESS' OR \n",
    "               landusecod LIKE 'SFR' OR \n",
    "               landusecod LIKE 'TOWNHOUSE/ROWHOUSE'\n",
    "          ) AND \n",
    "          ( primcatcod LIKE 'ARMS LENGTH') AND \n",
    "          ( saledate between '20160101' and '20161231') AND \n",
    "          ( saleamount > 1000 )\n",
    "GROUP BY Boundary\n",
    "ORDER BY Boundary) as sQuery\n",
    "ON fullbounds.csa = sQuery.Boundary\n",
    "ORDER BY fullbounds.csa \n",
    "\"\"\"\n",
    "\n",
    "# landusecod No longer being used \n",
    "salepr_translation = \"\"\"\n",
    "Select median saleamount from CSA Where ( \n",
    "  ( landusecod LIKE ['HIGH RISE CONDO', 'CONDOMINIUM', 'RESIDENTIAL (NEC)', 'MID RISE CONDO',\n",
    "                     'MULTI FAMILY DWELLING', 'MULTI FAMILY 10 UNITS LESS', 'SFR', 'TOWNHOUSE/ROWHOUSE'] ) & \n",
    "  ( primcatcod LIKE 'ARMS LENGTH') & \n",
    "  ( '20160101' < saledate > '20161231') & \n",
    "  ( saleamount > 1000) )\n",
    "\"\"\""
   ]
  },
  {
   "cell_type": "code",
   "execution_count": null,
   "metadata": {
    "id": "FOQ1nEQzZiP4"
   },
   "outputs": [],
   "source": [
    "#export \n",
    "# Copy the Data\n",
    "faresCsa = fares.copy()\n",
    "faresCsa['SALEDATE'] = pd.to_datetime(faresCsa['SALEDATE'], format='%Y%m%d') # ,infer_datetime_format=True)\n",
    "\n",
    "# Query the Data\n",
    "salepr = faresCsa[\n",
    "  (faresCsa['PROPERTYIN'].str.contains('CONDOMINIUM|SINGLE FAMILY', regex=True) )\n",
    "& (faresCsa['SALEDATE'] >= '20'+year+'-01-01')\n",
    "& (faresCsa['SALEDATE'] <= '20'+year+'-12-31')\n",
    "& (faresCsa['SALEAMOUNT'] > 1000 )\n",
    "& (faresCsa['PRIMARYCAT'] == 'ARMS LENGTH' )\n",
    "]\n",
    "\n",
    "# Prep and Save the Filtered Records\n",
    "salepr.rename(columns={ 'SALEAMOUNT':'29-salepr'+year}, inplace=True)\n",
    "salepr.drop(columns=['geometry', 'PRIMARYCAT', 'PROPERTYIN', 'LANDUSECOD', 'SALEDATE' ], inplace=True)\n",
    "salepr.to_csv('fares_filtered_'+year+'.csv')\n",
    "\n",
    "# *Special*: # UPDATE HERE AND THEN GROUP\n",
    "salepr = salepr.append({'CSA2010': 'Baltimore City' , '29-salepr'+year : salepr['29-salepr'+year].median() } , ignore_index=True)\n",
    "salepr = salepr.groupby('CSA2010').median(numeric_only=True)\n",
    "\n",
    "# Make sure ALL csas and BaltimoreCity are included and sorted.\n",
    "salepr = csa.merge( salepr, left_on='CSA2010', right_on='CSA2010', how='outer' )\n",
    "salepr.drop(columns=['OBJECTID', 'Shape__Length', 'Shape__Area', 'geometry' ], inplace=True)\n",
    "salepr = salepr[['CSA2010', '29-salepr'+year]]\n",
    "\n",
    "display( salepr.head(2) )\n",
    "salepr.tail(2)\n",
    "\n",
    "salepr.to_csv('29-salepr'+year+'.csv')\n",
    "\n",
    "# & (faresCsa['PRIMCATCOD'] == 'ARMS LENGTH' )\n",
    "# faresCsa['LANDUSECOD'].str.contains('HIGH RISE CONDO|CONDOMINIUM|RESIDENTIAL (NEC)|MID RISE CONDO|MULTI FAMILY DWELLING|MULTI FAMILY 10 UNITS LESS|SFR|TOWNHOUSE/ROWHOUSE', regex=False)"
   ]
  },
  {
   "cell_type": "code",
   "execution_count": null,
   "metadata": {
    "id": "tI3JPOPJFnEA"
   },
   "outputs": [],
   "source": [
    "faresCsa = faresCsa.astype({'SALEAMOUNT': 'int32'})"
   ]
  },
  {
   "cell_type": "code",
   "execution_count": null,
   "metadata": {
    "id": "dhNvJu7FAv2x"
   },
   "outputs": [],
   "source": [
    "pd.options.display.float_format = '{:.2f}'.format\n",
    "t = faresCsa[ \n",
    "  (faresCsa.CSA2010 == 'Greater Roland Park/Poplar Hill') &\n",
    "  (faresCsa['PROPERTYIN'].str.contains('CONDOMINIUM|SINGLE FAMILY', regex=True) ) & \n",
    "  (faresCsa['SALEDATE'] >= '20'+year+'-01-01') & \n",
    "  (faresCsa['SALEDATE'] <= '20'+year+'-12-31') & \n",
    "  (faresCsa['SALEAMOUNT'] > 1000 ) & \n",
    "  (faresCsa['PRIMARYCAT'] == 'ARMS LENGTH' )  \n",
    "][['CSA2010','SALEAMOUNT', 'PROPERTYIN']].sort_values(by='SALEAMOUNT')\n",
    "t.to_csv('GRP salepr records.csv')\n",
    "t.plot.bar(x='CSA2010', y='SALEAMOUNT', rot=0)"
   ]
  },
  {
   "cell_type": "code",
   "execution_count": null,
   "metadata": {
    "id": "ocOfjyD5In9W"
   },
   "outputs": [],
   "source": [
    "t.head(20)"
   ]
  },
  {
   "cell_type": "code",
   "execution_count": null,
   "metadata": {
    "id": "iPxTi-Y6JZu_"
   },
   "outputs": [],
   "source": [
    "faresCsa.PROPERTYIN.unique()"
   ]
  },
  {
   "cell_type": "code",
   "execution_count": null,
   "metadata": {
    "id": "NQ010fRFFWgn"
   },
   "outputs": [],
   "source": [
    "pd.options.display.float_format = '{:.2f}'.format\n",
    "faresCsa[ \n",
    "         (faresCsa.CSA2010 == 'Greater Roland Park/Poplar Hill') & \n",
    "         ( faresCsa.PRIMARYCAT == 'ARMS LENGTH') \n",
    "].plot.bar(x='CSA2010', y='SALEAMOUNT', rot=0)"
   ]
  },
  {
   "cell_type": "code",
   "execution_count": null,
   "metadata": {
    "id": "PPTi1GaDFByQ"
   },
   "outputs": [],
   "source": [
    "pd.options.display.float_format = '{:.2f}'.format\n",
    "faresCsa[ \n",
    "         (faresCsa.CSA2010 == 'Greater Roland Park/Poplar Hill') & \n",
    "         (faresCsa['PROPERTYIN'].str.contains('CONDOMINIUM|SINGLE FAMILY', regex=True) ) \n",
    "].head(10).plot.bar(x='CSA2010', y='SALEAMOUNT', rot=0)"
   ]
  },
  {
   "cell_type": "code",
   "execution_count": null,
   "metadata": {
    "id": "eiUInWc-AK1Y"
   },
   "outputs": [],
   "source": [
    "faresCsa.PRIMARYCAT.unique()"
   ]
  },
  {
   "cell_type": "code",
   "execution_count": null,
   "metadata": {
    "id": "1SVEAbVO_IBw"
   },
   "outputs": [],
   "source": [
    "faresCsa[ faresCsa['PRIMARYCAT'] == 'ARMS LENGTH' ]['CSA2010'].value_counts()"
   ]
  },
  {
   "cell_type": "code",
   "execution_count": null,
   "metadata": {
    "id": "nZOq7ncg-yXQ"
   },
   "outputs": [],
   "source": [
    "salepr.head(22)"
   ]
  },
  {
   "cell_type": "code",
   "execution_count": null,
   "metadata": {
    "id": "vbFIbz1gjZKo"
   },
   "outputs": [],
   "source": [
    "# faresCsa[ (faresCSA['CSA2010']=='Midtown') & (faresCsa['SALEAMOUNT'] > 1000) & (faresCsa['PRIMARYCAT'] == 'ARMS LENGTH' ) &  (faresCsa['PROPERTYIN'].str.contains('CONDOMINIUM|SINGLE FAMILY', regex=True) )  ].head(3)"
   ]
  },
  {
   "cell_type": "code",
   "execution_count": null,
   "metadata": {
    "id": "1ieuoC-3i1Q9"
   },
   "outputs": [],
   "source": [
    "# faresCsa[ (faresCSA['CSA2010']=='Midtown') & (faresCsa['SALEAMOUNT'] > 1000) ].head(3)"
   ]
  },
  {
   "cell_type": "markdown",
   "metadata": {
    "id": "HxKFicqiEnjq"
   },
   "source": [
    "### 31 - shomes - (Fares)"
   ]
  },
  {
   "cell_type": "code",
   "execution_count": null,
   "metadata": {
    "id": "UoIZtu6lF9hD"
   },
   "outputs": [],
   "source": [
    "# shomes - Number of Homes Sold\n",
    "\n",
    "# https://services1.arcgis.com/mVFRs7NF4iFitgbY/arcgis/rest/services/shomes/FeatureServer/layers\n",
    "\n",
    "# Numerator: housing.fares_201X\n",
    "# Denominator: None\n",
    "\n",
    "long_Description: \"\"\"The total number of residential properties sold in a calendar year.\"\"\"\n",
    "\n",
    "_SQL = \"\"\"\n",
    "  with tbl AS (\n",
    "    select ( sum( case \n",
    "      when ( \n",
    "        landusecod = 'HIGH RISE CONDO' OR \n",
    "        landusecod = 'CONDOMINIUM' OR \n",
    "        landusecod = 'RESIDENTIAL (NEC)' OR \n",
    "        landusecod = 'MID RISE CONDO' OR \n",
    "        landusecod = 'MULTI FAMILY DWELLING' OR \n",
    "        landusecod = 'MULTI FAMILY 10 UNITS LESS' OR \n",
    "        landusecod = 'SFR' OR \n",
    "        landusecod = 'TOWNHOUSE/ROWHOUSE'\n",
    "      ) AND \n",
    "      (primcatcod = 'ARMS LENGTH') AND \n",
    "      (saledate between '20160101' and '20161231') AND \n",
    "      (saleamount > 1000) then 1 else 0 end)::numeric ) as result, csa\n",
    "        from vital_signs.match_csas_and_bc_by_geom('housing.fares_2016', 'gid', 'the_geom') a\n",
    "          left join housing.fares_2016 b on a.gid = b.gid group by csa\n",
    "   )\n",
    "   update vital_signs.data\n",
    "   set shomes = result from tbl where data.csa = tbl.csa and data_year = '2016'; \n",
    "\"\"\"\n",
    "\n",
    "_translation = \"\"\"\n",
    "Sum records where \n",
    "      landusecod in ['HIGH RISE CONDO', 'CONDOMINIUM', 'RESIDENTIAL (NEC)', 'MID RISE CONDO', 'MULTI FAMILY DWELLING', 'MULTI FAMILY 10 UNITS LESS', 'SFR', 'TOWNHOUSE/ROWHOUSE']\n",
    "      AND (primcatcod = 'ARMS LENGTH') \n",
    "      AND (saledate between '20160101' and '20161231') \n",
    "      AND (saleamount > 1000) \n",
    "\"\"\""
   ]
  },
  {
   "cell_type": "code",
   "execution_count": null,
   "metadata": {
    "id": "6KC2OqDQ2Gu7"
   },
   "outputs": [],
   "source": [
    "#export\n",
    "# Copy the Data\n",
    "faresCsa = fares.copy()\n",
    "faresCsa['SALEDATE'] = pd.to_datetime(faresCsa['SALEDATE'], format='%Y%m%d') # ,infer_datetime_format=True)\n",
    "\n",
    "# Query the Data\n",
    "shomes = faresCsa[\n",
    "  (faresCsa['PROPERTYIN'].str.contains('CONDOMINIUM|SINGLE FAMILY', regex=True) )\n",
    "& (faresCsa['SALEDATE'] >= '20'+year+'-01-01')\n",
    "& (faresCsa['SALEDATE'] <= '20'+year+'-12-31')\n",
    "& (faresCsa['SALEAMOUNT'] > 1000 )\n",
    "& (faresCsa['PRIMARYCAT'] == 'ARMS LENGTH' )\n",
    "]\n",
    "\n",
    "# Prep and Save the Filtered Records\n",
    "shomes['31-shomes'+year] = 1\n",
    "# shomes.rename(columns={ 'SALEAMOUNT':'29-shomes'+year}, inplace=True)\n",
    "# shomes.drop(columns=['geometry', 'PRIMARYCAT', 'PROPERTYIN', 'LANDUSECOD', 'SALEDATE', 'SALEAMOUNT'], inplace=True)\n",
    "shomes = shomes[['CSA2010','31-shomes'+year]]\n",
    "shomes.to_csv('fares_filtered_'+year+'.csv')\n",
    "\n",
    "# *Special*: # UPDATE HERE AND THEN GROUP\n",
    "# shomes = shomes.append({'CSA2010': 'Baltimore City', '31-shomes'+year : shomes['31-shomes'+year].sum() } , ignore_index=True)\n",
    "shomes = shomes.groupby('CSA2010').sum(numeric_only=True)\n",
    "\n",
    "# Make sure ALL csas and BaltimoreCity are included and sorted.\n",
    "shomes = csa.merge( shomes, left_on='CSA2010', right_on='CSA2010', how='outer' )\n",
    "shomes.drop(columns=['OBJECTID', 'Shape__Length', 'Shape__Area', 'geometry' ], inplace=True)\n",
    "\n",
    "# *SPECIAL* Update the baltimore CSA.\n",
    "shomes.at[55] = shomes.sum(numeric_only=True)\n",
    "shomes.at[55, 'CSA2010'] = 'Baltimore City'\n",
    "\n",
    "display( shomes.head(2) )\n",
    "shomes.tail(2)\n",
    "\n",
    "shomes.to_csv('31-shomes'+year+'.csv')\n",
    "\n",
    "# & (faresCsa['PRIMCATCOD'] == 'ARMS LENGTH' )\n",
    "# faresCsa['LANDUSECOD'].str.contains('HIGH RISE CONDO|CONDOMINIUM|RESIDENTIAL (NEC)|MID RISE CONDO|MULTI FAMILY DWELLING|MULTI FAMILY 10 UNITS LESS|SFR|TOWNHOUSE/ROWHOUSE', regex=False)"
   ]
  },
  {
   "cell_type": "markdown",
   "metadata": {
    "id": "xrrLYoOF60hv"
   },
   "source": [
    "Merge and Save Both"
   ]
  }
 ],
 "metadata": {
  "colab": {
   "authorship_tag": "ABX9TyMaB374bGSrkbYuV5JMB2NO",
   "collapsed_sections": [
    "0hHCW-qPMeH6",
    "q8tLzJzcMh74",
    "_3QiG_W4iDl7",
    "1yN6qfuBLSeu",
    "EFGK-nZa1eU6",
    "HxKFicqiEnjq"
   ],
   "name": "FARES_Salpr_Shome.ipynb",
   "provenance": [],
   "toc_visible": true
  },
  "kernelspec": {
   "display_name": "Python 3",
   "name": "python3"
  },
  "language_info": {
   "name": "python"
  }
 },
 "nbformat": 4,
 "nbformat_minor": 0
}
