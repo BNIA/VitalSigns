{
  "nbformat": 4,
  "nbformat_minor": 0,
  "metadata": {
    "colab": {
      "provenance": []
    },
    "kernelspec": {
      "name": "python3",
      "display_name": "Python 3"
    },
    "language_info": {
      "name": "python"
    }
  },
  "cells": [
    {
      "cell_type": "markdown",
      "source": [
        "This notebook uses the RBIntel data to create a portion of BNIA'S Vital Signs report\n",
        "\n",
        "###**Indicators from this csv**\n",
        "\n",
        "\n",
        "*   dom - Median Number of Days on the Market\n",
        "*   cashsa - Percentage of residential sales for cash\n",
        "*   reosa - Percentage of residential sales in foreclosure (REO)\n",
        "\n"
      ],
      "metadata": {
        "id": "nzrucgX7UBHS"
      }
    },
    {
      "cell_type": "code",
      "execution_count": null,
      "metadata": {
        "id": "k2vx5AIyTjPK"
      },
      "outputs": [],
      "source": [
        "#export\n",
        "#import needed libraries\n",
        "import pandas as pd"
      ]
    },
    {
      "cell_type": "code",
      "source": [
        "#export\n",
        "#Read data\n",
        "RBIntel_2021 = pd.read_csv('RBIntel_2021_BaltRegion_CSA_City.csv', encoding=\"cp850\") #utf8 encoding kept giving an error.\n",
        "\n",
        "#The crosswalk table is used to append CSA2010 names. \n",
        "crosswalk = pd.read_csv('https://raw.githubusercontent.com/BNIA/VitalSigns/main/CSA_2010_and_2020.csv')\n",
        "\n",
        "#Keep necessary columns from crosswalk table\n",
        "crosswalk = crosswalk[['CSA2010', 'CSA2020']]\n",
        "\n",
        "#Remove duplicate rows.\n",
        "crosswalk = crosswalk.drop_duplicates()\n",
        "\n",
        "#Remove rows where Baltimore City column is empty\n",
        "RBIntel_2021 = RBIntel_2021[RBIntel_2021['BaltCity'] == 'Baltimore City']"
      ],
      "metadata": {
        "id": "QKLyq5mITt0k"
      },
      "execution_count": null,
      "outputs": []
    },
    {
      "cell_type": "markdown",
      "source": [
        "####dom Indicator"
      ],
      "metadata": {
        "id": "RehUUOi9U6t4"
      }
    },
    {
      "cell_type": "code",
      "source": [
        "#export\n",
        "#Keep only necessary columns\n",
        "dom = RBIntel_2021[[\"DaysonMark\", \"CSA2020\"]]\n",
        "\n",
        "#Remove rows (homes) that have been in the market for 0 days.\n",
        "dom = dom[dom['DaysonMark'] > 0]\n",
        "\n",
        "#Add Baltimore City row. Calculate its Median.\n",
        "dom.loc[len(dom.index)] = [dom['DaysonMark'].median(), \"Baltimore City\"]\n",
        "\n",
        "#Group by CSA\n",
        "dom = dom.groupby(['CSA2020']).median()\n",
        "\n",
        "#make index the CSA2020 column\n",
        "dom.reset_index(inplace=True)\n",
        "\n",
        "#Append CSA2010 names\n",
        "dom = dom.merge(crosswalk, on='CSA2020', how='inner')\n",
        "\n",
        "#Rename indicator Column\n",
        "dom = dom.rename(columns={'DaysonMark':'domXX'})\n",
        "\n",
        "#Change column order to clean things up.\n",
        "dom = dom[['CSA2010', 'CSA2020', 'domXX']]\n",
        "\n",
        "#Sort rows alphabetically \n",
        "dom = dom.sort_values('CSA2010')"
      ],
      "metadata": {
        "id": "Qyv6ZImWU0Zy"
      },
      "execution_count": null,
      "outputs": []
    },
    {
      "cell_type": "markdown",
      "source": [
        "####cashsa Indicator"
      ],
      "metadata": {
        "id": "Ri8p55GMU_qG"
      }
    },
    {
      "cell_type": "code",
      "source": [
        "#export\n",
        "#Keep only necessary columns\n",
        "cashsa = RBIntel_2021[[\"BuyerFinan\", \"CSA2020\"]]\n",
        "\n",
        "#Numerator\n",
        "cashsa['count'] = 1\n",
        "\n",
        "#Denominator\n",
        "denom = cashsa.copy()\n",
        "\n",
        "#Only keep records where BuyerFinan has the word \"Cash\"\n",
        "cashsa = cashsa[cashsa['BuyerFinan'].str.contains('Cash', regex=True, na=False)]\n",
        "\n",
        "#Add Baltimore City row to both Numerator and Denominator\n",
        "cashsa.loc[len(cashsa.index)] = [\"Cash\", \"Baltimore City\", cashsa['count'].sum()]\n",
        "denom.loc[len(denom.index)] = [\"Cash\", \"Baltimore City\", denom['count'].sum()]\n",
        "\n",
        "#Group by CSA\n",
        "cashsa = cashsa.groupby(['CSA2020']).sum()\n",
        "denom = denom.groupby(['CSA2020']).sum()\n",
        "\n",
        "#Merge both tables\n",
        "cashsa = cashsa.merge(denom, on='CSA2020', how='inner')\n",
        "\n",
        "#Calculate indicator\n",
        "cashsa['cashsaXX'] = (cashsa['count_x'] / cashsa['count_y']) *100\n",
        "\n",
        "#make index the CSA2020 column\n",
        "cashsa.reset_index(inplace=True)\n",
        "\n",
        "#Append CSA2010 names\n",
        "cashsa = cashsa.merge(crosswalk, on='CSA2020', how='inner')\n",
        "\n",
        "#Change column order to clean things up.\n",
        "cashsa = cashsa[['CSA2010', 'CSA2020', 'count_x', 'count_y' ,'cashsaXX']]\n",
        "\n",
        "#Sort rows alphabetically \n",
        "cashsa = cashsa.sort_values('CSA2010')"
      ],
      "metadata": {
        "id": "SZfCENA8VCkM"
      },
      "execution_count": null,
      "outputs": []
    },
    {
      "cell_type": "markdown",
      "source": [
        "####reosa Indicator"
      ],
      "metadata": {
        "id": "4Vf_E87HVC3k"
      }
    },
    {
      "cell_type": "code",
      "source": [
        "#export\n",
        "#Keep only necessary columns\n",
        "reosa = RBIntel_2021[[\"Foreclosur\", \"CSA2020\"]]\n",
        "\n",
        "#Numerator\n",
        "reosa['count'] = 1\n",
        "\n",
        "#Denominator\n",
        "denom = reosa.copy()\n",
        "\n",
        "#Only keep records where Foreclosur = 'Y' (This column should only have 'Y's and 'N's)\n",
        "reosa = reosa[reosa['Foreclosur'] == \"Y\"]\n",
        "\n",
        "#Add Baltimore City row to both tables\n",
        "reosa.loc[len(reosa.index)] = [\"Y\", \"Baltimore City\", reosa['count'].sum()]\n",
        "denom.loc[len(denom.index)] = [\"Y\", \"Baltimore City\", denom['count'].sum()]\n",
        "\n",
        "#Group by CSA\n",
        "reosa = reosa.groupby(['CSA2020']).sum()\n",
        "denom = denom.groupby(['CSA2020']).sum()\n",
        "\n",
        "#Merge both tables\n",
        "reosa = reosa.merge(denom, on='CSA2020', how='inner')\n",
        "\n",
        "#make index the CSA2020 column\n",
        "reosa.reset_index(inplace=True)\n",
        "\n",
        "#Append CSA2010 names\n",
        "reosa = reosa.merge(crosswalk, on='CSA2020', how='inner')\n",
        "\n",
        "#Change column order to clean things up.\n",
        "reosa = reosa[['CSA2010', 'CSA2020', 'count_x', 'count_y']]\n",
        "\n",
        "#Calculate Indicator\n",
        "reosa['reosaXX'] = (reosa['count_x'] / reosa['count_y']) *100\n",
        "\n",
        "#Sort rows alphabetically \n",
        "reosa = reosa.sort_values('CSA2010')"
      ],
      "metadata": {
        "id": "dXBAtaXpVE71"
      },
      "execution_count": null,
      "outputs": []
    }
  ]
}