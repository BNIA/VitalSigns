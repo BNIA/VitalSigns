{
 "cells": [
  {
   "cell_type": "code",
   "execution_count": null,
   "metadata": {
    "id": "xjO9iJ43clVf"
   },
   "outputs": [],
   "source": [
    "# default_exp liquor"
   ]
  },
  {
   "cell_type": "markdown",
   "metadata": {
    "id": "_jLE_5-I9HzS"
   },
   "source": [
    "# VS Liquor Data Intake and Operations\n",
    "\n",
    "> This notebook uses data to generate a portion of BNIA's Vital Signs report."
   ]
  },
  {
   "cell_type": "markdown",
   "metadata": {
    "id": "iSNOAJoTlQr0"
   },
   "source": [
    "This colab and more can be found at https://github.com/BNIA/vitalsigns.\n"
   ]
  },
  {
   "cell_type": "markdown",
   "metadata": {
    "id": "ukxt0JZCsaxc"
   },
   "source": [
    "## Whats Inside?: "
   ]
  },
  {
   "cell_type": "markdown",
   "metadata": {
    "id": "lEdBnKIqli8m"
   },
   "source": [
    "### __The Guided Walkthrough__\n",
    "\n",
    "This notebook was made to create the following Housing Vital Signs Indicators:"
   ]
  },
  {
   "cell_type": "markdown",
   "metadata": {
    "id": "sC6WQKL_SB_p"
   },
   "source": [
    "https://bniajfi.org/indicators/Children%20And%20Family%20Health/liquor\n",
    "\n",
    "This indicator reflects the number of business establishments that possess a Class A (Off Sale package goods no on-premises consumption - 6 days, 6:00 a.m.- Midnight. No Sunday sales except Sundays between Thanksgiving Day and New Year's Day upon issuance of a special license for each Sunday) or BD7 (tavern) business license that allows them to sell beer, wine, or liquor. Other liquor licenses to restaurants or on-premise consumption were not included in this analysis. This number is provided by 1,000 residents to allow for comparison across neighborhoods.\n",
    "\n"
   ]
  },
  {
   "cell_type": "markdown",
   "metadata": {
    "id": "J5fgpFCgNkVt"
   },
   "source": [
    "#### __Indicators Used__\n",
    "\n",
    "- ✅ 109 - __Liquor__ -  (Liquor) Liquor Outlet Density (per 1,000 Residents) "
   ]
  },
  {
   "cell_type": "markdown",
   "metadata": {
    "id": "-6lDtbLS0a-C"
   },
   "source": [
    "#### __Datasets Used__\n",
    "\n",
    "- ✅ Liquor.Liquor_201X __(109-columns)__\n",
    "\n",
    "❌"
   ]
  },
  {
   "cell_type": "code",
   "execution_count": null,
   "metadata": {
    "id": "kaPqfCBQscqe"
   },
   "outputs": [],
   "source": [
    "year = '19'"
   ]
  },
  {
   "cell_type": "markdown",
   "metadata": {
    "id": "-1RKv4DiMVwo"
   },
   "source": [
    "# Guided Walkthrough"
   ]
  },
  {
   "cell_type": "markdown",
   "metadata": {
    "id": "e8-mgsByhrxG"
   },
   "source": [
    "## SETUP Enviornment:"
   ]
  },
  {
   "cell_type": "markdown",
   "metadata": {
    "id": "0hHCW-qPMeH6"
   },
   "source": [
    "### Import Modules"
   ]
  },
  {
   "cell_type": "code",
   "execution_count": null,
   "metadata": {
    "id": "WUvcamATFo4G"
   },
   "outputs": [],
   "source": [
    "%%capture\n",
    "! pip install -U -q PyDrive\n",
    "! pip install geopy\n",
    "! pip install geopandas\n",
    "! pip install geoplot\n",
    "! pip install dataplay\n",
    "! pip install matplotlib\n",
    "! pip install psycopg2-binary"
   ]
  },
  {
   "cell_type": "code",
   "execution_count": null,
   "metadata": {
    "id": "r0vkoXtZRdJz"
   },
   "outputs": [],
   "source": [
    "%%capture\n",
    "! apt-get install build-dep python-psycopg2\n",
    "! apt-get install libpq-dev\n",
    "! apt-get install libspatialindex-dev"
   ]
  },
  {
   "cell_type": "code",
   "execution_count": null,
   "metadata": {
    "id": "gZ17xjOgR8vg"
   },
   "outputs": [],
   "source": [
    "%%capture\n",
    "!pip install rtree\n",
    "!pip install dexplot"
   ]
  },
  {
   "cell_type": "code",
   "execution_count": null,
   "metadata": {
    "id": "w9Mcvm-X0gdo"
   },
   "outputs": [],
   "source": [
    "from dataplay.geoms import workWithGeometryData"
   ]
  },
  {
   "cell_type": "code",
   "execution_count": null,
   "metadata": {
    "id": "nNOByHFKFo4m"
   },
   "outputs": [],
   "source": [
    "%%capture \n",
    "# These imports will handle everything\n",
    "import os\n",
    "import sys\n",
    "import csv\n",
    "import matplotlib.pyplot as plt\n",
    "import numpy as np\n",
    "import pandas as pd\n",
    "import geopandas as gpd\n",
    "from geopandas import GeoDataFrame\n",
    "import psycopg2\n",
    "import pyproj\n",
    "from pyproj import Proj, transform\n",
    "# conda install -c conda-forge proj4\n",
    "from shapely.geometry import Point\n",
    "from shapely import wkb\n",
    "from shapely.wkt import loads\n",
    "# https://pypi.org/project/geopy/\n",
    "from geopy.geocoders import Nominatim\n",
    "\n",
    "# In case file is KML, enable support\n",
    "import fiona\n",
    "fiona.drvsupport.supported_drivers['kml'] = 'rw'\n",
    "fiona.drvsupport.supported_drivers['KML'] = 'rw'"
   ]
  },
  {
   "cell_type": "code",
   "execution_count": null,
   "metadata": {
    "id": "evj9GJLdSlxF"
   },
   "outputs": [],
   "source": [
    "from IPython.display import clear_output\n",
    "clear_output(wait=True)"
   ]
  },
  {
   "cell_type": "code",
   "execution_count": null,
   "metadata": {
    "id": "uTcb3bD84mSA"
   },
   "outputs": [],
   "source": [
    "import ipywidgets as widgets\n",
    "from ipywidgets import interact, interact_manual"
   ]
  },
  {
   "cell_type": "markdown",
   "metadata": {
    "id": "q8tLzJzcMh74"
   },
   "source": [
    "### Configure Enviornment"
   ]
  },
  {
   "cell_type": "code",
   "execution_count": null,
   "metadata": {
    "id": "OuH4mBeYCUqU"
   },
   "outputs": [],
   "source": [
    "# This will just beautify the output\n",
    "\n",
    "pd.set_option('display.expand_frame_repr', False)\n",
    "pd.set_option('display.precision', 2)\n",
    "from IPython.core.interactiveshell import InteractiveShell\n",
    "InteractiveShell.ast_node_interactivity = \"all\"\n",
    "\n",
    "# pd.set_option('display.expand_frame_repr', False)\n",
    "# pd.set_option('display.precision', 2)\n",
    "# pd.reset_option('max_colwidth')\n",
    "pd.set_option('max_colwidth', 20)\n",
    "# pd.reset_option('max_colwidth')"
   ]
  },
  {
   "cell_type": "markdown",
   "metadata": {
    "id": "g-eNzM614b3K"
   },
   "source": [
    "## Prep Datasets"
   ]
  },
  {
   "cell_type": "markdown",
   "metadata": {
    "id": "_3QiG_W4iDl7"
   },
   "source": [
    "#### TPOP CSA and Baltimore"
   ]
  },
  {
   "cell_type": "markdown",
   "metadata": {
    "id": "tlQvkkbaB0ZI"
   },
   "source": [
    "Get Baltimore"
   ]
  },
  {
   "cell_type": "code",
   "execution_count": null,
   "metadata": {
    "id": "-xeV9WHdOhBv"
   },
   "outputs": [],
   "source": [
    "#collapse_output\n",
    "#collapse_input\n",
    "csa = \"https://services1.arcgis.com/mVFRs7NF4iFitgbY/ArcGIS/rest/services/Tpop/FeatureServer/0/query?where=1%3D1&outFields=*&returnGeometry=true&f=pgeojson\"\n",
    "csa = gpd.read_file(csa);\n",
    "csa.head(1)"
   ]
  },
  {
   "cell_type": "markdown",
   "metadata": {
    "id": "QyBS5PlHB1db"
   },
   "source": [
    "Get CSA"
   ]
  },
  {
   "cell_type": "code",
   "execution_count": null,
   "metadata": {
    "id": "2FLpVhiPUAck"
   },
   "outputs": [],
   "source": [
    "url2 = \"https://services1.arcgis.com/mVFRs7NF4iFitgbY/ArcGIS/rest/services/Tpop/FeatureServer/1/query?where=1%3D1&outFields=*&returnGeometry=true&f=pgeojson\"\n",
    "csa2 = gpd.read_file(url2);\n",
    "csa2['CSA2010'] = csa2['City_1'] \n",
    "csa2['OBJECTID'] = 56 \n",
    "csa2 = csa2.drop(columns=['City_1'])\n",
    "csa2.head()"
   ]
  },
  {
   "cell_type": "markdown",
   "metadata": {
    "id": "RiT-Pc1jgZJI"
   },
   "source": [
    "Append do no append Bcity. We put it on the Bottom of the df because when performing the ponp it returns only the last matching columns CSA Label. "
   ]
  },
  {
   "cell_type": "code",
   "execution_count": null,
   "metadata": {
    "id": "RWZigszHUWm5"
   },
   "outputs": [],
   "source": [
    "# csa = pd.concat([csa2, csa], ignore_index=True)\n",
    "csa = csa.append(csa2).reset_index(drop=True)"
   ]
  },
  {
   "cell_type": "code",
   "execution_count": null,
   "metadata": {
    "id": "oH6C5OecjBsy"
   },
   "outputs": [],
   "source": [
    "csa.head(3)"
   ]
  },
  {
   "cell_type": "code",
   "execution_count": null,
   "metadata": {
    "id": "WLpXYhJHB_rt"
   },
   "outputs": [],
   "source": [
    "csa.tail(3)"
   ]
  },
  {
   "cell_type": "code",
   "execution_count": null,
   "metadata": {
    "id": "wG_g3sp2J2pq"
   },
   "outputs": [],
   "source": [
    "csa.drop(columns=['Shape__Area', 'Shape__Length', 'OBJECTID'], axis=1).to_file(\"BCity_and_CSA.geojson\", driver='GeoJSON')"
   ]
  },
  {
   "cell_type": "markdown",
   "metadata": {
    "id": "1yN6qfuBLSeu"
   },
   "source": [
    "### Liquor"
   ]
  },
  {
   "cell_type": "code",
   "execution_count": null,
   "metadata": {
    "id": "JNRLZHHh6KHN"
   },
   "outputs": [],
   "source": [
    "import pandas as pd\n",
    "import geopandas \n",
    "\n",
    "original = gpd.read_file(\"Liquor_2020_CSACity_forVS19.shp\", geometry='geometry');\n",
    "original.columns "
   ]
  },
  {
   "cell_type": "code",
   "execution_count": null,
   "metadata": {
    "id": "Qiw4TZ8Msppg"
   },
   "outputs": [],
   "source": [
    "original.rename(columns={ 'CSA':'CSA2010', 'BaltCity':'InBaltimore'}, inplace=True)\n",
    "df = original[ original['CSA2010'].notnull() | original['InBaltimore'].notnull()  ]"
   ]
  },
  {
   "cell_type": "code",
   "execution_count": null,
   "metadata": {
    "id": "lVYhbJ5dsq0w"
   },
   "outputs": [],
   "source": [
    "print('After filtering records where a CSA or Baltimore geo-code match Exists')\n",
    "print( 'All rows Before Filter: ', original.shape[0] ) # rows, columns\n",
    "print( '# w BCity.isnull: ', df.InBaltimore.isnull().sum() ); bmorow = df[ df.CSA2010.isnull()  ].shape[0]\n",
    "print( '# w CSA2010.isnull: ', bmorow ); csarow = df[ df.CSA2010.notnull()  ].shape[0] \n",
    "print( '# w CSA2010.notnull: ', csarow ); \n",
    "print( '# rows After Filter: ', df.shape[0],'==',csarow,'+',bmorow,'==', csarow + bmorow); "
   ]
  },
  {
   "cell_type": "code",
   "execution_count": null,
   "metadata": {
    "id": "-MjNhXd2sviB"
   },
   "outputs": [],
   "source": [
    "# add baltimore city\n",
    "df.CSA2010 = df.CSA2010.fillna('Baltimore City')"
   ]
  },
  {
   "cell_type": "code",
   "execution_count": null,
   "metadata": {
    "id": "31P04A-30N-r"
   },
   "outputs": [],
   "source": [
    "len(df[ (df['License'].str.contains('LA|LA-2|LAS|LBD7|WA|WAS', regex=True) ) ])"
   ]
  },
  {
   "cell_type": "code",
   "execution_count": null,
   "metadata": {
    "id": "RM6yEWs70smr"
   },
   "outputs": [],
   "source": [
    "len(df[ (df['License'].str.contains('LA', regex=True) ) ])"
   ]
  },
  {
   "cell_type": "code",
   "execution_count": null,
   "metadata": {
    "id": "2jgB8rnT0s7q"
   },
   "outputs": [],
   "source": [
    "len(df[ (df['License'].str.contains('LA-2', regex=True) ) ])"
   ]
  },
  {
   "cell_type": "code",
   "execution_count": null,
   "metadata": {
    "id": "MxPuxhpO0zTS"
   },
   "outputs": [],
   "source": [
    "len(df[ (df['License'].str.contains('LAS', regex=True) ) ])"
   ]
  },
  {
   "cell_type": "code",
   "execution_count": null,
   "metadata": {
    "id": "XRcyj4a71Ljj"
   },
   "outputs": [],
   "source": [
    "len(df[ (df['License'].str.contains('LBD7', regex=True) ) ])"
   ]
  },
  {
   "cell_type": "code",
   "execution_count": null,
   "metadata": {
    "id": "6cgg3isq0zyi"
   },
   "outputs": [],
   "source": [
    "len(df[ (df['License'].str.contains('WA', regex=True) ) ])"
   ]
  },
  {
   "cell_type": "code",
   "execution_count": null,
   "metadata": {
    "id": "BvjLN0cS06Az"
   },
   "outputs": [],
   "source": [
    "len(df[ (df['License'].str.contains('WAS', regex=True) ) ])"
   ]
  },
  {
   "cell_type": "code",
   "execution_count": null,
   "metadata": {
    "id": "7hkvEAYFsxdQ"
   },
   "outputs": [],
   "source": [
    "liquordf = df.copy()\n",
    "liquordf = liquordf[['CSA2010','InBaltimore', 'License']]\n",
    "liquordf.head(1)"
   ]
  },
  {
   "cell_type": "markdown",
   "metadata": {
    "id": "SZ43hZL-oG8m"
   },
   "source": [
    "### Indicator Liquor 109"
   ]
  },
  {
   "cell_type": "code",
   "execution_count": null,
   "metadata": {
    "id": "BhXQApPbodyU"
   },
   "outputs": [],
   "source": [
    "#export\n",
    "def liquor(df, csa, yr):\n",
    "\n",
    "  # Create the Numerator\n",
    "  liquor = df.copy()\n",
    "\n",
    "  liquor = liquor[\n",
    "    ( liquor['License'].str.contains('LA|LA-2|LAS|LBD7|WA|WAS', regex=True) )\n",
    "  ]\n",
    "\n",
    "  liquor['count'] = 1\n",
    "  liquor = liquor.groupby('CSA2010').sum(numeric_only=True)\n",
    "\n",
    "  # Make sure ALL csas and BaltimoreCity are included and sorted.\n",
    "  liquor = csa.merge( liquor, left_on='CSA2010', right_on='CSA2010', how='outer' )\n",
    "  liquor.drop( columns=['geometry', 'Shape__Length','Shape__Area'], inplace=True)\n",
    "  # Baltimoire has records not in the\n",
    "  liquor.at[55,'count']=liquor['count'].sum()\n",
    "  # Perform the calculation\n",
    "  liquor['109-liquor'+year] = liquor['count'] / liquor['tpop10'] * 1000\n",
    "\n",
    "  compareYears = gpd.read_file(\"https://services1.arcgis.com/mVFRs7NF4iFitgbY/ArcGIS/rest/services/Liquor/FeatureServer/0/query?where=1%3D1&outFields=*&returnGeometry=true&f=pgeojson\");\n",
    "  prevYear = 'liquor'+ str( int(year) - 1 )\n",
    "  if prevYear in compareYears.columns:\n",
    "    liquor = liquor.merge( compareYears[['CSA2010', prevYear]], left_on='CSA2010', right_on='CSA2010', how='outer' )\n",
    "    liquor['change'] = liquor['109-liquor'+year] - liquor[ prevYear ]\n",
    "    liquor['percentChange'] = liquor['change' ] / liquor[ prevYear ] * 100\n",
    "    liquor['change'] = liquor['change'].apply(lambda x: \"{:.2f}\".format(x) )\n",
    "  print( 'Records Matching Query: ', liquor.size / len(liquor.columns) )\n",
    "  return liquor\n",
    "\n",
    "fin = liquor(liquordf, csa, year)\n",
    "fin.to_csv('109-liquor'+year+'.csv', index=False)\n",
    "fin.head(60)"
   ]
  }
 ],
 "metadata": {
  "colab": {
   "authorship_tag": "ABX9TyOrOolSKf2VGKNfYhV9Fu+v",
   "collapsed_sections": [],
   "name": "City_Liquor_Board_Permits.ipynb",
   "provenance": [],
   "toc_visible": true
  },
  "kernelspec": {
   "display_name": "Python 3",
   "name": "python3"
  },
  "language_info": {
   "name": "python"
  }
 },
 "nbformat": 4,
 "nbformat_minor": 0
}
