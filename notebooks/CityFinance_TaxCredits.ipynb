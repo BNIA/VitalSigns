{
  "nbformat": 4,
  "nbformat_minor": 0,
  "metadata": {
    "colab": {
      "provenance": []
    },
    "kernelspec": {
      "name": "python3",
      "display_name": "Python 3"
    },
    "language_info": {
      "name": "python"
    }
  },
  "cells": [
    {
      "cell_type": "markdown",
      "source": [
        "This notebook uses tax data to create a portion of BNIA's Vital Signs report\n",
        "\n",
        "###Indicators from this csv\n",
        "*   histax\n",
        "*   homtax \n",
        "*   owntax\n",
        "\n",
        "###Tables used in this notebook\n",
        "*   HistoricTax_FY2022_CSACity.csv\n",
        "*   HomesteadTax_FY2022_CSACity.csv\n",
        "*   FY2022 UBALT HomeOwners.xlsx\n",
        "*   totalRes_2021\n",
        "*   CSA2010 to CSA2020 Crosswalk\n",
        "\n",
        "\n",
        "\n"
      ],
      "metadata": {
        "id": "345feRQjxxVn"
      }
    },
    {
      "cell_type": "code",
      "execution_count": null,
      "metadata": {
        "id": "g4ruDk_-na2H"
      },
      "outputs": [],
      "source": [
        "#export\n",
        "#Import needed libraries\n",
        "import pandas as pd"
      ]
    },
    {
      "cell_type": "code",
      "source": [
        "#Export\n",
        "#read data\n",
        "histax = pd.read_csv(\"HistoricTax_FY2022_CSACity.csv\")\n",
        "homtax = pd.read_csv(\"HomesteadTax_FY2022_CSACity.csv\")\n",
        "owntax = pd.read_excel(\"FY2022 UBALT HomeOwners.xlsx\")\n",
        "totalres = pd.read_csv(\"totalRes_2021.csv\")\n",
        "crosswalk = pd.read_csv(\"https://raw.githubusercontent.com/BNIA/VitalSigns/main/CSA2010_2020.csv\")\n",
        "\n",
        "#Remove rows where BaltCity is empty.\n",
        "histax = histax[histax['BaltCity'].notna()]\n",
        "homtax = homtax[homtax['BaltCity'].notna()]"
      ],
      "metadata": {
        "id": "7DZ8elO-pMFb"
      },
      "execution_count": null,
      "outputs": []
    },
    {
      "cell_type": "markdown",
      "source": [
        "###Histax"
      ],
      "metadata": {
        "id": "0leCg16joehH"
      }
    },
    {
      "cell_type": "code",
      "source": [
        "#Export\n",
        "#histax Indicator\n",
        "#Number of Historic Tax Credits per 1,000 Residential Units\n",
        "\n",
        "#Only keep needed columns\n",
        "histax = histax[['CSA']]\n",
        "\n",
        "histax[\"count\"] = 1\n",
        "\n",
        "#Add Baltimore City row\n",
        "histax.loc[len(histax.index)] = ['Baltimore City', histax['count'].sum()]\n",
        "\n",
        "#Group by CSA\n",
        "histax = histax.groupby(\"CSA\").sum()\n",
        "\n",
        "#Append 2010 CSAs\n",
        "histax = crosswalk.merge(histax, left_on=\"CSA2020\", right_on=\"CSA\", how=\"outer\")\n",
        "\n",
        "#Append 2021 totalres\n",
        "histax = histax.merge(totalres, on=[\"CSA2010\", \"CSA2020\"], how='outer')\n",
        "\n",
        "#Get histax indicator\n",
        "histax['histaxXX'] = (histax['count'] / histax['totalres']) * 1000\n",
        "\n",
        "#Sort rows alphabetically \n",
        "histax = histax.sort_values('CSA2010')"
      ],
      "metadata": {
        "id": "FlNU8m9pogjX"
      },
      "execution_count": null,
      "outputs": []
    },
    {
      "cell_type": "markdown",
      "source": [
        "###Homtax"
      ],
      "metadata": {
        "id": "Ht4TML0Rog9S"
      }
    },
    {
      "cell_type": "code",
      "source": [
        "#Export\n",
        "#homtax Indicator\n",
        "#Number of Homestead Tax Credits per 1,000 Residential Units\n",
        "\n",
        "#Only keep needed columns\n",
        "homtax = homtax[['CSA']]\n",
        "\n",
        "homtax[\"count\"] = 1\n",
        "\n",
        "#Add Baltimore City row\n",
        "homtax.loc[len(homtax.index)] = ['Baltimore City', homtax['count'].sum()]\n",
        "\n",
        "#Group by CSA\n",
        "homtax = homtax.groupby(\"CSA\").sum()\n",
        "\n",
        "#Append 2010 CSAs\n",
        "homtax = crosswalk.merge(homtax, left_on=\"CSA2020\", right_on=\"CSA\", how=\"outer\")\n",
        "\n",
        "#Append 2021 totalres\n",
        "homtax = homtax.merge(totalres, on=[\"CSA2010\", \"CSA2020\"], how='outer')\n",
        "\n",
        "#Get homtax indicator\n",
        "homtax['homtaxXX'] = (homtax['count'] / homtax['totalres']) * 1000\n",
        "\n",
        "#Sort rows alphabetically \n",
        "homtax = homtax.sort_values('CSA2010')"
      ],
      "metadata": {
        "id": "k1DdmEhSoinx"
      },
      "execution_count": null,
      "outputs": []
    },
    {
      "cell_type": "markdown",
      "source": [
        "###Owntax\n",
        "\n",
        "NOTE: This dataset is already aggregated using the 2010 CSAs."
      ],
      "metadata": {
        "id": "2tgNclzGoleg"
      }
    },
    {
      "cell_type": "code",
      "source": [
        "#Export\n",
        "#owntax Indicator\n",
        "#Number of Homeowner's Tax Credits per 1,000 Residential Units\n",
        "\n",
        "#Add Baltimore City row\n",
        "owntax.loc[len(owntax.index)] = ['Baltimore City', owntax['Total'].sum()]\n",
        "\n",
        "#Append 2020 CSAs\n",
        "owntax = crosswalk.merge(owntax, left_on=\"CSA2010\", right_on=\"CSA2010\", how=\"outer\")\n",
        "\n",
        "#Append 2021 totalres\n",
        "owntax = owntax.merge(totalres, on=[\"CSA2010\", \"CSA2020\"], how='outer')\n",
        "\n",
        "#Get owntax indicator\n",
        "owntax['owntaxXX'] = (owntax['Total'] / owntax['totalres']) * 1000\n",
        "\n",
        "#Sort rows alphabetically \n",
        "owntax = owntax.sort_values('CSA2010')"
      ],
      "metadata": {
        "id": "wLyhkXCBvGYC"
      },
      "execution_count": null,
      "outputs": []
    },
    {
      "cell_type": "code",
      "source": [
        "from google.colab import files\n",
        "owntax.to_csv('owntax2021.csv') \n",
        "files.download('owntax2021.csv')"
      ],
      "metadata": {
        "id": "DcnxKBKwomsU",
        "colab": {
          "base_uri": "https://localhost:8080/",
          "height": 17
        },
        "outputId": "023e4788-9e6a-4a86-cdd1-3a64d2190640"
      },
      "execution_count": null,
      "outputs": [
        {
          "output_type": "display_data",
          "data": {
            "text/plain": [
              "<IPython.core.display.Javascript object>"
            ],
            "application/javascript": [
              "\n",
              "    async function download(id, filename, size) {\n",
              "      if (!google.colab.kernel.accessAllowed) {\n",
              "        return;\n",
              "      }\n",
              "      const div = document.createElement('div');\n",
              "      const label = document.createElement('label');\n",
              "      label.textContent = `Downloading \"${filename}\": `;\n",
              "      div.appendChild(label);\n",
              "      const progress = document.createElement('progress');\n",
              "      progress.max = size;\n",
              "      div.appendChild(progress);\n",
              "      document.body.appendChild(div);\n",
              "\n",
              "      const buffers = [];\n",
              "      let downloaded = 0;\n",
              "\n",
              "      const channel = await google.colab.kernel.comms.open(id);\n",
              "      // Send a message to notify the kernel that we're ready.\n",
              "      channel.send({})\n",
              "\n",
              "      for await (const message of channel.messages) {\n",
              "        // Send a message to notify the kernel that we're ready.\n",
              "        channel.send({})\n",
              "        if (message.buffers) {\n",
              "          for (const buffer of message.buffers) {\n",
              "            buffers.push(buffer);\n",
              "            downloaded += buffer.byteLength;\n",
              "            progress.value = downloaded;\n",
              "          }\n",
              "        }\n",
              "      }\n",
              "      const blob = new Blob(buffers, {type: 'application/binary'});\n",
              "      const a = document.createElement('a');\n",
              "      a.href = window.URL.createObjectURL(blob);\n",
              "      a.download = filename;\n",
              "      div.appendChild(a);\n",
              "      a.click();\n",
              "      div.remove();\n",
              "    }\n",
              "  "
            ]
          },
          "metadata": {}
        },
        {
          "output_type": "display_data",
          "data": {
            "text/plain": [
              "<IPython.core.display.Javascript object>"
            ],
            "application/javascript": [
              "download(\"download_db302c96-dcc2-4173-9a55-8e500be5daa8\", \"owntax2021.csv\", 4056)"
            ]
          },
          "metadata": {}
        }
      ]
    }
  ]
}