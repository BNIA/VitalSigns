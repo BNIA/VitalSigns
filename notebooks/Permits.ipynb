{
  "nbformat": 4,
  "nbformat_minor": 0,
  "metadata": {
    "colab": {
      "provenance": []
    },
    "kernelspec": {
      "name": "python3",
      "display_name": "Python 3"
    },
    "language_info": {
      "name": "python"
    }
  },
  "cells": [
    {
      "cell_type": "markdown",
      "source": [
        "This notebook uses the Permits 2021 data to create a portion of BNIA's Vital Signs report\n",
        "\n",
        "###Indicators from this csv\n",
        "*   resrehab\n",
        "*   crehab (calculate ComProp first)\n",
        "*   demper\n",
        "*   constper\n",
        "\n",
        "###Tables used in this notebook\n",
        "*   Permits_2021\n",
        "*   TotalRes_2021 (BNIA Indicator)\n",
        "*   MDPropertyView_2021\n",
        "\n",
        "\n",
        "\n"
      ],
      "metadata": {
        "id": "DxqefxhWn8R9"
      }
    },
    {
      "cell_type": "code",
      "source": [
        "#export\n",
        "#Import needed libraries\n",
        "import pandas as pd"
      ],
      "metadata": {
        "id": "nZKiwlSyQmY2"
      },
      "execution_count": null,
      "outputs": []
    },
    {
      "cell_type": "code",
      "execution_count": null,
      "metadata": {
        "id": "WhURlTPvOncG"
      },
      "outputs": [],
      "source": [
        "#export\n",
        "#Read data\n",
        "permits = pd.read_excel(\"Permits_2021v2_CSACity.xlsx\")\n",
        "totalRes_2021 = pd.read_csv(\"totalRes_2021.csv\")\n",
        "mdProp = pd.read_csv(\"MDPropertyView_2021_CSACity.csv\")\n",
        "crosswalk = pd.read_csv('https://raw.githubusercontent.com/BNIA/VitalSigns/main/CSA_2010_and_2020.csv')\n",
        "\n",
        "\n",
        "\n",
        "#Remove rows where BaltCity is empty\n",
        "permits = permits[permits['BaltCity'] != '']\n",
        "mdProp = mdProp[mdProp['BaltCity'] != '']\n",
        "\n",
        "#Keep necessary columns from crosswalk table\n",
        "crosswalk = crosswalk[['CSA2010', 'CSA2020']]\n",
        "#Remove duplicate rows.\n",
        "crosswalk = crosswalk.drop_duplicates()"
      ]
    },
    {
      "cell_type": "markdown",
      "source": [
        "###resrehab"
      ],
      "metadata": {
        "id": "jUvIzRVon344"
      }
    },
    {
      "cell_type": "code",
      "source": [
        "#export\n",
        "#resrehab Indicator\n",
        "#Output - Percentage of properties with rehabilitation permits exceeding $5k\n",
        "\n",
        "#Filter data\n",
        "resrehab = permits[\n",
        "    (permits['csm_cost'] > 5000) &\n",
        "    (permits['csm_type_w'].str.contains('AA|ADD|ALT', regex=True)) &\n",
        "    (permits['case_type'].str.contains('COM', regex=True)) &\n",
        "    (permits['com_existi'].str.contains('SF|MF|DFAM|1-', regex=True)) &\n",
        "    (permits['csm_use'].str.contains('SF|MF|DFAM|1-', regex=True))\n",
        "]\n",
        "\n",
        "#Only keep needed columns\n",
        "resrehab = resrehab[['CSA2020']]\n",
        "\n",
        "#Add indicator column\n",
        "resrehab['permit_count'] = 1\n",
        "\n",
        "#Group by CSAs\n",
        "resrehab = resrehab.groupby('CSA2020').sum(numeric_only=True) \n",
        "\n",
        "#make index the CSA2020 column\n",
        "resrehab.reset_index(inplace=True)\n",
        "\n",
        "#Add Baltimore City row\n",
        "resrehab.loc[len(resrehab.index)] = ['Baltimore City', resrehab['permit_count'].sum()]\n",
        "\n",
        "#Merge table with TotalRes indicator\n",
        "resrehab = resrehab.merge(totalRes_2021, on='CSA2020', how='outer')\n",
        "\n",
        "#Create indicator\n",
        "resrehab['resrehabXX'] = (resrehab['permit_count']/resrehab['totalres'])*100\n",
        "\n",
        "#Sort rows alphabetically \n",
        "resrehab = resrehab.sort_values('CSA2010')\n",
        "\n",
        "#Change column order to clean things up.\n",
        "resrehab = resrehab[['CSA2010', 'CSA2020', 'permit_count', 'totalres', 'resrehabXX']]"
      ],
      "metadata": {
        "id": "r7FwG5Ixn6SB"
      },
      "execution_count": null,
      "outputs": []
    },
    {
      "cell_type": "markdown",
      "source": [
        "###crehab"
      ],
      "metadata": {
        "id": "TJV0dhzF2Ks5"
      }
    },
    {
      "cell_type": "markdown",
      "source": [
        "####Comprop (from MDProperty View)"
      ],
      "metadata": {
        "id": "zkSMpd4IQP2k"
      }
    },
    {
      "cell_type": "code",
      "source": [
        "#export\n",
        "#comprop - denominator used for crehab indicator.\n",
        "\n",
        "#Filter data\n",
        "comprop = mdProp[mdProp['LU'].isin(['C','EC','I'])]\n",
        "\n",
        "#Only keep needed columns\n",
        "comprop = comprop[['CSA']]\n",
        "\n",
        "#Add counter\n",
        "comprop['comprop'] = 1\n",
        "\n",
        "#Group by CSAs\n",
        "comprop = comprop.groupby('CSA').sum(numeric_only=True) \n",
        "\n",
        "#make index the CSA2020 column\n",
        "comprop.reset_index(inplace=True)\n",
        "\n",
        "#Rename column\n",
        "comprop = comprop.rename(columns={'CSA': 'CSA2010'})\n",
        "\n",
        "#Add Baltimore City row\n",
        "comprop.loc[len(comprop.index)] = ['Baltimore City', comprop['comprop'].sum()]\n",
        "\n",
        "#Append 2020 CSA names\n",
        "comprop = comprop.merge(crosswalk, on='CSA2010', how='inner')\n",
        "\n",
        "comprop"
      ],
      "metadata": {
        "id": "k7FU7pkaP_EW"
      },
      "execution_count": null,
      "outputs": []
    },
    {
      "cell_type": "code",
      "source": [
        "#export\n",
        "#crehab Indicator\n",
        "#Output - Percentage of Commercial properties with rehabilitation permits exceeding $5k\n",
        "\n",
        "#Filter data\n",
        "crehab = permits[\n",
        "    (permits['csm_cost'] > 5000) &\n",
        "    (permits['csm_type_w'].str.contains('AA|ADD|ALT', regex=True)) &\n",
        "    (permits['com_existi'].str.contains('2-|3-|4-|5-|6-|7-|COM|IND|BUS|AIR|ANIM|BAR|BEAU|DELI|FAC|ASM|ALV|DOTH|DWC|EDU|FOOD|HCF|HIH|HOS|MIXC|INS|MER|LIB|MNTL|MOB|PUB|STO|UT|VAC|VAL|DFAM', regex=True)) &\n",
        "    (permits['csm_use'].str.contains('2-|3-|4-|5-|6-|7-|COM|IND|BUS|AIR|ANIM|BAR|BEAU|DELI|FAC|ASM|ALV|DOTH|DWC|EDU|FOOD|HCF|HIH|HOS|MIXC|INS|MER|LIB|MNTL|MOB|PUB|STO|UT|VAC|VAL|DFAM', regex=True))\n",
        "]\n",
        "\n",
        "#Only keep needed columns\n",
        "crehab = crehab[['CSA2020']]\n",
        "\n",
        "#Add indicator column\n",
        "crehab['permit_count'] = 1\n",
        "\n",
        "#Group by CSAs\n",
        "crehab = crehab.groupby('CSA2020').sum(numeric_only=True) \n",
        "\n",
        "#make index the CSA2020 column\n",
        "crehab.reset_index(inplace=True)\n",
        "\n",
        "#Add Baltimore City row\n",
        "crehab.loc[len(crehab.index)] = ['Baltimore City', crehab['permit_count'].sum()]\n",
        "\n",
        "#Merge table with comprop table\n",
        "crehab = crehab.merge(comprop, on='CSA2020', how='inner')\n",
        "\n",
        "#calculate indicator\n",
        "crehab['crehabXX'] = (crehab['permit_count']/ crehab['comprop']) *100\n",
        "\n",
        "#Sort rows alphabetically \n",
        "crehab = crehab.sort_values('CSA2010')\n",
        "\n",
        "#Change column order to clean things up.\n",
        "crehab = crehab[['CSA2010', 'CSA2020', 'permit_count', 'comprop', 'crehabXX']]\n",
        "\n",
        "crehab"
      ],
      "metadata": {
        "id": "_fASrqty2Mco"
      },
      "execution_count": null,
      "outputs": []
    },
    {
      "cell_type": "markdown",
      "source": [
        "####demper"
      ],
      "metadata": {
        "id": "E5tzRwBmOjrA"
      }
    },
    {
      "cell_type": "code",
      "source": [
        "#export\n",
        "#demper Indicator\n",
        "#Output - Number of demolition permits per 1000 residential properties\n",
        "\n",
        "#Filter data\n",
        "demper = permits[\n",
        "    (permits['csm_type_w'].str.contains('DEM', regex=True, na=False)) &\n",
        "    (permits['PLANADDRES']  != '')         \n",
        "]\n",
        "\n",
        "#Only keep needed columns\n",
        "demper = demper[['CSA2020']]\n",
        "\n",
        "#Add indicator column\n",
        "demper['permit_count'] = 1\n",
        "\n",
        "#Group by CSAs\n",
        "demper = demper.groupby('CSA2020').sum(numeric_only=True) \n",
        "\n",
        "#make index the CSA2020 column\n",
        "demper.reset_index(inplace=True)\n",
        "\n",
        "#Add Baltimore City row\n",
        "demper.loc[len(demper.index)] = ['Baltimore City', demper['permit_count'].sum()]\n",
        "\n",
        "#Merge table with TotalRes indicator\n",
        "demper = demper.merge(totalRes_2021, on='CSA2020', how='outer')\n",
        "\n",
        "#Create indicator\n",
        "demper['demperXX'] = (demper['permit_count'] / demper['totalres']) *1000\n",
        "\n",
        "#Sort rows alphabetically \n",
        "demper = demper.sort_values('CSA2010')\n",
        "\n",
        "#Change column order to clean things up.\n",
        "demper = demper[['CSA2010', 'CSA2020', 'permit_count', 'totalres', 'demperXX']]"
      ],
      "metadata": {
        "id": "Fp3VIPkWOnhA"
      },
      "execution_count": null,
      "outputs": []
    },
    {
      "cell_type": "markdown",
      "source": [
        "###constper"
      ],
      "metadata": {
        "id": "_viSznsGU26H"
      }
    },
    {
      "cell_type": "code",
      "source": [
        "#export\n",
        "#demper Indicator\n",
        "#Output - Number of of new construction permits per 1000 residential properties\n",
        "\n",
        "#Filter data\n",
        "constper = permits[\n",
        "    (permits['csm_type_w'].str.contains('NEW', regex=True, na=False)) &\n",
        "    (permits['PLANADDRES']  != '')         \n",
        "]\n",
        "\n",
        "#Only keep needed columns\n",
        "constper = constper[['CSA2020']]\n",
        "\n",
        "#Add indicator column\n",
        "constper['permit_count'] = 1\n",
        "\n",
        "#Group by CSAs\n",
        "constper = constper.groupby('CSA2020').sum(numeric_only=True) \n",
        "\n",
        "#make index the CSA2020 column\n",
        "constper.reset_index(inplace=True)\n",
        "\n",
        "#Add Baltimore City row\n",
        "constper.loc[len(constper.index)] = ['Baltimore City', constper['permit_count'].sum()]\n",
        "\n",
        "#Merge table with TotalRes indicator\n",
        "constper = constper.merge(totalRes_2021, on='CSA2020', how='outer')\n",
        "\n",
        "#Create indicator\n",
        "constper['constperXX'] = (constper['permit_count'] / constper['totalres']) *1000\n",
        "\n",
        "#Sort rows alphabetically \n",
        "constper = constper.sort_values('CSA2010')\n",
        "\n",
        "#Change column order to clean things up.\n",
        "constper = constper[['CSA2010', 'CSA2020', 'permit_count', 'totalres', 'constperXX']]"
      ],
      "metadata": {
        "id": "5qk0gN9SU2fx"
      },
      "execution_count": null,
      "outputs": []
    },
    {
      "cell_type": "code",
      "source": [
        "from google.colab import files \n",
        "resrehab.to_csv('resrehab_2021.csv')\n",
        "files.download('resrehab_2021.csv')"
      ],
      "metadata": {
        "colab": {
          "base_uri": "https://localhost:8080/",
          "height": 17
        },
        "id": "aXo0GBgNvISA",
        "outputId": "53ee29d3-dda5-4550-a630-ae43c878d41b"
      },
      "execution_count": null,
      "outputs": [
        {
          "output_type": "display_data",
          "data": {
            "text/plain": [
              "<IPython.core.display.Javascript object>"
            ],
            "application/javascript": [
              "\n",
              "    async function download(id, filename, size) {\n",
              "      if (!google.colab.kernel.accessAllowed) {\n",
              "        return;\n",
              "      }\n",
              "      const div = document.createElement('div');\n",
              "      const label = document.createElement('label');\n",
              "      label.textContent = `Downloading \"${filename}\": `;\n",
              "      div.appendChild(label);\n",
              "      const progress = document.createElement('progress');\n",
              "      progress.max = size;\n",
              "      div.appendChild(progress);\n",
              "      document.body.appendChild(div);\n",
              "\n",
              "      const buffers = [];\n",
              "      let downloaded = 0;\n",
              "\n",
              "      const channel = await google.colab.kernel.comms.open(id);\n",
              "      // Send a message to notify the kernel that we're ready.\n",
              "      channel.send({})\n",
              "\n",
              "      for await (const message of channel.messages) {\n",
              "        // Send a message to notify the kernel that we're ready.\n",
              "        channel.send({})\n",
              "        if (message.buffers) {\n",
              "          for (const buffer of message.buffers) {\n",
              "            buffers.push(buffer);\n",
              "            downloaded += buffer.byteLength;\n",
              "            progress.value = downloaded;\n",
              "          }\n",
              "        }\n",
              "      }\n",
              "      const blob = new Blob(buffers, {type: 'application/binary'});\n",
              "      const a = document.createElement('a');\n",
              "      a.href = window.URL.createObjectURL(blob);\n",
              "      a.download = filename;\n",
              "      div.appendChild(a);\n",
              "      a.click();\n",
              "      div.remove();\n",
              "    }\n",
              "  "
            ]
          },
          "metadata": {}
        },
        {
          "output_type": "display_data",
          "data": {
            "text/plain": [
              "<IPython.core.display.Javascript object>"
            ],
            "application/javascript": [
              "download(\"download_f8d9169f-811c-40f1-98e1-0de697de8f4d\", \"resrehab_2021.csv\", 4069)"
            ]
          },
          "metadata": {}
        }
      ]
    }
  ]
}