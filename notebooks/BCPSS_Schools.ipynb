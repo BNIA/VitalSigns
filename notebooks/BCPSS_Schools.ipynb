{
 "cells": [
  {
   "cell_type": "code",
   "execution_count": null,
   "metadata": {
    "id": "8m7tloUAYZS1"
   },
   "outputs": [],
   "source": [
    "# default_exp BCPSS"
   ]
  },
  {
   "cell_type": "markdown",
   "metadata": {
    "id": "_jLE_5-I9HzS"
   },
   "source": [
    "# VS BCPSS Data Intake and Operations\n",
    "\n",
    "> This notebook uses data to generate a portion of BNIA's Vital Signs report."
   ]
  },
  {
   "cell_type": "markdown",
   "metadata": {
    "id": "iSNOAJoTlQr0"
   },
   "source": [
    "This colab and more can be found at https://github.com/BNIA/vitalsigns.\n"
   ]
  },
  {
   "cell_type": "code",
   "execution_count": null,
   "metadata": {
    "id": "AlVRcjLZYFrz"
   },
   "outputs": [],
   "source": [
    "\"\"\"\n",
    "SchoolSwitcherFlag\n",
    "\n",
    " \n",
    "Frequency\n",
    "Percent\n",
    "Valid Percent\n",
    "Cumulative Percent\n",
    "\n",
    "0 = Duplicate\n",
    "1 = ??\n",
    "2 = School Switcher\n",
    "3 = Grade Switcher (same school--so effectively a duplicate)\n",
    "4 = Primary Record\n",
    "\"\"\""
   ]
  },
  {
   "cell_type": "markdown",
   "metadata": {
    "id": "ukxt0JZCsaxc"
   },
   "source": [
    "## Whats Inside?: "
   ]
  },
  {
   "cell_type": "markdown",
   "metadata": {
    "id": "lEdBnKIqli8m"
   },
   "source": [
    "### __The Guided Walkthrough__\n",
    "\n",
    "This notebook was made to create the following Vital Signs Indicators:"
   ]
  },
  {
   "cell_type": "markdown",
   "metadata": {
    "id": "J5fgpFCgNkVt"
   },
   "source": [
    "#### __Indicators Used__\n",
    "\n",
    "- ✅ 66 __eattend__ - (BCPSS)\n",
    "- ✅ 67 __mattend__ - (BCPSS)\n",
    "- ✅ 68 __hsattend__ - (BCPSS)\n",
    "- ✅ 70 __aastud__ - (BCPSS)\n",
    "- ✅ 71 __wstud__ - (BCPSS)\n",
    "- ✅ 72 __hstud__ - (BCPSS)\n",
    "- ✅ 73 __abse__ - (BCPSS)\n",
    "- ✅ 74 __absmd__ - (BCPSS)\n",
    "- ✅ 75 __abshs__ - (BCPSS)\n",
    "- ✅ 91 __drop__ - (BCPSS)\n",
    "- ✅ 92 __compl__ - (BCPSS)\n",
    "- ~❌ 94 __sclsw__ - (BCPSS)\n",
    "- ✅ 195 __eenrol__ - (BCPSS)\n",
    "- ✅ 196 __menrol__ - (BCPSS)\n",
    "- ✅ 197 __hsenrol__ - (BCPSS)\n",
    "- ❌ 206 __pmath3__ - (BCPSS)\n",
    "- ❌ 207 __pread3__ - (BCPSS)\n",
    "- ❌ 208 __pmath5__ - (BCPSS)\n",
    "- ❌ 209 __pread5__ - (BCPSS)\n",
    "- ❌ 210 __pmath8__ - (BCPSS)\n",
    "- ❌ 211 __pread8__ - (BCPSS)\n",
    "- ✅ 212 __palg1__ - (BCPSS)\n",
    "- ✅ 213 __palg2__ - (BCPSS)\n",
    "- ~❌ 214 __kra__ - (BCPSS)"
   ]
  },
  {
   "cell_type": "markdown",
   "metadata": {
    "id": "-6lDtbLS0a-C"
   },
   "source": [
    "#### __Datasets Used__\n",
    "\n",
    "- ✅ Schools.BCPSS_201X __(66-eattend, 67-mattend ->  grade )__"
   ]
  },
  {
   "cell_type": "code",
   "execution_count": null,
   "metadata": {
    "id": "kaPqfCBQscqe"
   },
   "outputs": [],
   "source": [
    "year = '19'"
   ]
  },
  {
   "cell_type": "markdown",
   "metadata": {
    "id": "-1RKv4DiMVwo"
   },
   "source": [
    "# Guided Walkthrough"
   ]
  },
  {
   "cell_type": "markdown",
   "metadata": {
    "id": "e8-mgsByhrxG"
   },
   "source": [
    "## SETUP Enviornment:"
   ]
  },
  {
   "cell_type": "markdown",
   "metadata": {
    "id": "0hHCW-qPMeH6"
   },
   "source": [
    "### Import Modules"
   ]
  },
  {
   "cell_type": "code",
   "execution_count": null,
   "metadata": {
    "id": "WUvcamATFo4G"
   },
   "outputs": [],
   "source": [
    "%%capture\n",
    "! pip install -U -q PyDrive\n",
    "! pip install geopy\n",
    "! pip install geopandas\n",
    "! pip install geoplot\n",
    "! pip install dataplay\n",
    "! pip install matplotlib\n",
    "! pip install psycopg2-binary"
   ]
  },
  {
   "cell_type": "code",
   "execution_count": null,
   "metadata": {
    "id": "r0vkoXtZRdJz"
   },
   "outputs": [],
   "source": [
    "%%capture\n",
    "! apt-get install build-dep python-psycopg2\n",
    "! apt-get install libpq-dev\n",
    "! apt-get install libspatialindex-dev"
   ]
  },
  {
   "cell_type": "code",
   "execution_count": null,
   "metadata": {
    "id": "gZ17xjOgR8vg"
   },
   "outputs": [],
   "source": [
    "%%capture\n",
    "!pip install rtree\n",
    "!pip install dexplot"
   ]
  },
  {
   "cell_type": "code",
   "execution_count": null,
   "metadata": {
    "id": "w9Mcvm-X0gdo"
   },
   "outputs": [],
   "source": [
    "from dataplay.geoms import workWithGeometryData"
   ]
  },
  {
   "cell_type": "code",
   "execution_count": null,
   "metadata": {
    "id": "nNOByHFKFo4m"
   },
   "outputs": [],
   "source": [
    "%%capture \n",
    "# These imports will handle everything\n",
    "import os\n",
    "import sys\n",
    "import csv\n",
    "import matplotlib.pyplot as plt\n",
    "import numpy as np\n",
    "import pandas as pd\n",
    "import geopandas as gpd\n",
    "from geopandas import GeoDataFrame\n",
    "import psycopg2\n",
    "import pyproj\n",
    "from pyproj import Proj, transform\n",
    "# conda install -c conda-forge proj4\n",
    "from shapely.geometry import Point\n",
    "from shapely import wkb\n",
    "from shapely.wkt import loads\n",
    "# https://pypi.org/project/geopy/\n",
    "from geopy.geocoders import Nominatim\n",
    "\n",
    "# In case file is KML, enable support\n",
    "import fiona\n",
    "fiona.drvsupport.supported_drivers['kml'] = 'rw'\n",
    "fiona.drvsupport.supported_drivers['KML'] = 'rw'"
   ]
  },
  {
   "cell_type": "code",
   "execution_count": null,
   "metadata": {
    "id": "evj9GJLdSlxF"
   },
   "outputs": [],
   "source": [
    "from IPython.display import clear_output\n",
    "clear_output(wait=True)"
   ]
  },
  {
   "cell_type": "code",
   "execution_count": null,
   "metadata": {
    "id": "uTcb3bD84mSA"
   },
   "outputs": [],
   "source": [
    "import ipywidgets as widgets\n",
    "from ipywidgets import interact, interact_manual"
   ]
  },
  {
   "cell_type": "markdown",
   "metadata": {
    "id": "q8tLzJzcMh74"
   },
   "source": [
    "### Configure Enviornment"
   ]
  },
  {
   "cell_type": "code",
   "execution_count": null,
   "metadata": {
    "id": "OuH4mBeYCUqU"
   },
   "outputs": [],
   "source": [
    "# This will just beautify the output\n",
    "\n",
    "pd.set_option('display.expand_frame_repr', False)\n",
    "pd.set_option('display.precision', 2)\n",
    "from IPython.core.interactiveshell import InteractiveShell\n",
    "InteractiveShell.ast_node_interactivity = \"all\"\n",
    "\n",
    "# pd.set_option('display.expand_frame_repr', False)\n",
    "# pd.set_option('display.precision', 2)\n",
    "# pd.reset_option('max_colwidth')\n",
    "pd.set_option('max_colwidth', 20)\n",
    "# pd.reset_option('max_colwidth')"
   ]
  },
  {
   "cell_type": "markdown",
   "metadata": {
    "id": "WGjxFKOkm-pH"
   },
   "source": [
    "## Prep Datasets"
   ]
  },
  {
   "cell_type": "markdown",
   "metadata": {
    "id": "_3QiG_W4iDl7"
   },
   "source": [
    "#### TPOP CSA and Baltimore"
   ]
  },
  {
   "cell_type": "markdown",
   "metadata": {
    "id": "tlQvkkbaB0ZI"
   },
   "source": [
    "Get Baltimore"
   ]
  },
  {
   "cell_type": "code",
   "execution_count": null,
   "metadata": {
    "id": "-xeV9WHdOhBv"
   },
   "outputs": [],
   "source": [
    "#collapse_output\n",
    "#collapse_input\n",
    "csa = \"https://services1.arcgis.com/mVFRs7NF4iFitgbY/ArcGIS/rest/services/Tpop/FeatureServer/0/query?where=1%3D1&outFields=*&returnGeometry=true&f=pgeojson\"\n",
    "csa = gpd.read_file(csa);\n",
    "csa.head(1)"
   ]
  },
  {
   "cell_type": "markdown",
   "metadata": {
    "id": "QyBS5PlHB1db"
   },
   "source": [
    "Get CSA"
   ]
  },
  {
   "cell_type": "code",
   "execution_count": null,
   "metadata": {
    "id": "2FLpVhiPUAck"
   },
   "outputs": [],
   "source": [
    "url2 = \"https://services1.arcgis.com/mVFRs7NF4iFitgbY/ArcGIS/rest/services/Tpop/FeatureServer/1/query?where=1%3D1&outFields=*&returnGeometry=true&f=pgeojson\"\n",
    "csa2 = gpd.read_file(url2);\n",
    "csa2['CSA2010'] = csa2['City_1'] \n",
    "csa2['OBJECTID'] = 56 \n",
    "csa2 = csa2.drop(columns=['City_1'])\n",
    "csa2.head()"
   ]
  },
  {
   "cell_type": "markdown",
   "metadata": {
    "id": "RiT-Pc1jgZJI"
   },
   "source": [
    "Append do no append Bcity. We put it on the Bottom of the df because when performing the ponp it returns only the last matching columns CSA Label. "
   ]
  },
  {
   "cell_type": "code",
   "execution_count": null,
   "metadata": {
    "id": "RWZigszHUWm5"
   },
   "outputs": [],
   "source": [
    "# csa = pd.concat([csa2, csa], ignore_index=True)\n",
    "csa = csa.append(csa2).reset_index(drop=True)"
   ]
  },
  {
   "cell_type": "code",
   "execution_count": null,
   "metadata": {
    "id": "oH6C5OecjBsy"
   },
   "outputs": [],
   "source": [
    "csa.head(3)"
   ]
  },
  {
   "cell_type": "code",
   "execution_count": null,
   "metadata": {
    "id": "WLpXYhJHB_rt"
   },
   "outputs": [],
   "source": [
    "csa.tail(3)"
   ]
  },
  {
   "cell_type": "code",
   "execution_count": null,
   "metadata": {
    "id": "wG_g3sp2J2pq"
   },
   "outputs": [],
   "source": [
    "csa.drop(columns=['Shape__Area', 'Shape__Length', 'OBJECTID'], axis=1).to_file(\"BCity_and_CSA.geojson\", driver='GeoJSON')"
   ]
  },
  {
   "cell_type": "code",
   "execution_count": null,
   "metadata": {
    "id": "HZmqvqCsV3fH"
   },
   "outputs": [],
   "source": [
    "csa.head()"
   ]
  },
  {
   "cell_type": "markdown",
   "metadata": {
    "id": "1yN6qfuBLSeu"
   },
   "source": [
    "### BCPSS"
   ]
  },
  {
   "cell_type": "code",
   "execution_count": null,
   "metadata": {
    "id": "JNRLZHHh6KHN"
   },
   "outputs": [],
   "source": [
    "import pandas as pd\n",
    "import geopandas \n",
    "# original = gpd.read_file(\"BCPSS_20\"+year+\"_CSACity.shp\", geometry='geometry');\n",
    "original = pd.read_csv(\"BCPSS_20\"+year+\"_CSACity_dbf_to_csv.csv\");\n",
    "original.columns "
   ]
  },
  {
   "cell_type": "code",
   "execution_count": null,
   "metadata": {
    "id": "DG3ZTim6WAAD"
   },
   "outputs": [],
   "source": [
    "original.head()"
   ]
  },
  {
   "cell_type": "code",
   "execution_count": null,
   "metadata": {
    "id": "Qiw4TZ8Msppg"
   },
   "outputs": [],
   "source": [
    "original.rename(columns={ 'csa':'CSA2010', 'BaltCity':'InBaltimore'}, inplace=True)\n",
    "df = original[ original['CSA2010'].notnull() | original['InBaltimore'].notnull()  ]"
   ]
  },
  {
   "cell_type": "code",
   "execution_count": null,
   "metadata": {
    "id": "J6n0f-lG1Tk2"
   },
   "outputs": [],
   "source": [
    "df.head(1)"
   ]
  },
  {
   "cell_type": "code",
   "execution_count": null,
   "metadata": {
    "id": "lVYhbJ5dsq0w"
   },
   "outputs": [],
   "source": [
    "print('After filtering records where a CSA or Baltimore geo-code match Exists')\n",
    "print( 'All rows Before Filter: ', original.shape[0] ) # rows, columns\n",
    "print( '# w BCity.isnull: ', df.InBaltimore.isnull().sum() ); bmorow = df[ df.CSA2010.isnull()  ].shape[0]\n",
    "print( '# w CSA2010.isnull: ', bmorow ); csarow = df[ df.CSA2010.notnull()  ].shape[0] \n",
    "print( '# w CSA2010.notnull: ', csarow ); \n",
    "print( '# rows After Filter: ', df.shape[0],'==',csarow,'+',bmorow,'==', csarow + bmorow); "
   ]
  },
  {
   "cell_type": "code",
   "execution_count": null,
   "metadata": {
    "id": "cmsTgkhA1Ftl"
   },
   "outputs": [],
   "source": [
    "df[df['CSA2010'] == ' ']['InBaltimore'].unique()"
   ]
  },
  {
   "cell_type": "code",
   "execution_count": null,
   "metadata": {
    "id": "5yimUCvsGbjO"
   },
   "outputs": [],
   "source": [
    "df = df[df['CSA2010'] != ' '] #['InBaltimore'] # .unique()"
   ]
  },
  {
   "cell_type": "code",
   "execution_count": null,
   "metadata": {
    "id": "-MjNhXd2sviB"
   },
   "outputs": [],
   "source": [
    "# add baltimore city\n",
    "df.CSA2010 = df.CSA2010.fillna('Baltimore City')"
   ]
  },
  {
   "cell_type": "code",
   "execution_count": null,
   "metadata": {
    "id": "EGVRatS8Gvuq"
   },
   "outputs": [],
   "source": [
    "df['CSA2010'].head()"
   ]
  },
  {
   "cell_type": "code",
   "execution_count": null,
   "metadata": {
    "id": "7hkvEAYFsxdQ"
   },
   "outputs": [],
   "source": [
    "bcpssTemp = df.copy()\n",
    "bcpssTemp.head(1)\n",
    "bcpssTemp = bcpssTemp[['CSA2010','SchoolSwitcherFlag', 'EnrollmentFlag', 'daysattend', 'daysabsent', 'grade', 'wleavecode', 'hispani_la', 'race_AIAN', 'race_asian', 'race_AA', 'race_NHPI', 'race_white', 'std_number', 'enterdate']]\n",
    "bcpssTemp['grade']= bcpssTemp['grade'].map(str)\n",
    "bcpssTemp.head(1)"
   ]
  },
  {
   "cell_type": "code",
   "execution_count": null,
   "metadata": {
    "id": "U8xMm7sJYXVz"
   },
   "outputs": [],
   "source": [
    "bcpssTemp[bcpssTemp['SchoolSwitcherFlag'] == 0].shape[0] # 0 = Duplicate"
   ]
  },
  {
   "cell_type": "code",
   "execution_count": null,
   "metadata": {
    "id": "VTd3o-ZxZJXS"
   },
   "outputs": [],
   "source": [
    "bcpssTemp[bcpssTemp['SchoolSwitcherFlag'] == 1].shape[0]"
   ]
  },
  {
   "cell_type": "code",
   "execution_count": null,
   "metadata": {
    "id": "3goVwlGn4mNc"
   },
   "outputs": [],
   "source": [
    "bcpssTemp[bcpssTemp['SchoolSwitcherFlag'] == 2].shape[0]"
   ]
  },
  {
   "cell_type": "code",
   "execution_count": null,
   "metadata": {
    "id": "k9A1Uf3Y4mHM"
   },
   "outputs": [],
   "source": [
    "bcpssTemp[bcpssTemp['SchoolSwitcherFlag'] == 3].shape[0]"
   ]
  },
  {
   "cell_type": "code",
   "execution_count": null,
   "metadata": {
    "id": "TxqvE5w24r_t"
   },
   "outputs": [],
   "source": [
    "bcpssTemp[bcpssTemp['SchoolSwitcherFlag'] == 4].shape[0]"
   ]
  },
  {
   "cell_type": "markdown",
   "metadata": {
    "id": "r23J4a0s1mve"
   },
   "source": [
    "School switcher records 0 1 3 and 4 all together make a difference here because we do not dedup on enterdate for each student like we do on the other queries.\n",
    "\n",
    "We want to know if students come in and out of enrollment multiple times"
   ]
  },
  {
   "cell_type": "markdown",
   "metadata": {
    "id": "30a5857797wk"
   },
   "source": [
    "Create the School Switchers Dataset"
   ]
  },
  {
   "cell_type": "code",
   "execution_count": null,
   "metadata": {
    "id": "R3NVyuAyZWiJ"
   },
   "outputs": [],
   "source": [
    "schoolSwitchersDF = bcpssTemp[bcpssTemp['SchoolSwitcherFlag'] == 2] # 2 = School Switcher"
   ]
  },
  {
   "cell_type": "markdown",
   "metadata": {
    "id": "WkMayb7eDJ-L"
   },
   "source": [
    "Create the Enrollment Dataset"
   ]
  },
  {
   "cell_type": "code",
   "execution_count": null,
   "metadata": {
    "id": "WPISQo7p6yP9"
   },
   "outputs": [],
   "source": [
    "enrollment = bcpssTemp[ (bcpssTemp['EnrollmentFlag'] == 1 ) & \n",
    "                  ( (bcpssTemp['SchoolSwitcherFlag'] == 4) | (bcpssTemp['SchoolSwitcherFlag'] == 3) | \n",
    "                    (bcpssTemp['SchoolSwitcherFlag'] == 1) | (bcpssTemp['SchoolSwitcherFlag'] == 0) \n",
    "                  ) \n",
    "                ]"
   ]
  },
  {
   "cell_type": "code",
   "execution_count": null,
   "metadata": {
    "id": "P1SDUMhwx93P"
   },
   "outputs": [],
   "source": [
    "bcpss = bcpssTemp[ ( (bcpssTemp['SchoolSwitcherFlag'] == 4) | (bcpssTemp['SchoolSwitcherFlag'] == 3) | \n",
    "                    (bcpssTemp['SchoolSwitcherFlag'] == 1) | (bcpssTemp['SchoolSwitcherFlag'] == 0) \n",
    "                  ) ]"
   ]
  },
  {
   "cell_type": "code",
   "execution_count": null,
   "metadata": {
    "id": "HSsStz_HDUsc"
   },
   "outputs": [],
   "source": [
    "schoolSwitchersDF.shape[0]"
   ]
  },
  {
   "cell_type": "code",
   "execution_count": null,
   "metadata": {
    "id": "r3M67a7SDUav"
   },
   "outputs": [],
   "source": [
    "enrollment.shape[0]"
   ]
  },
  {
   "cell_type": "code",
   "execution_count": null,
   "metadata": {
    "id": "42_6gFEr4ueI"
   },
   "outputs": [],
   "source": [
    "bcpss.shape[0]"
   ]
  },
  {
   "cell_type": "markdown",
   "metadata": {
    "id": "6u-pEwmzm8OO"
   },
   "source": [
    "## Indicators:"
   ]
  },
  {
   "cell_type": "markdown",
   "metadata": {
    "id": "QhihJ0jYTfcd"
   },
   "source": [
    "### 66 eattend - G - No Drop Dupes"
   ]
  },
  {
   "cell_type": "markdown",
   "metadata": {
    "id": "HJFrEZPlyTBG"
   },
   "source": [
    "Who was in the classroom at any point in the year"
   ]
  },
  {
   "cell_type": "code",
   "execution_count": null,
   "metadata": {
    "id": "wq9jhO90bRax"
   },
   "outputs": [],
   "source": [
    "lbl = \"\"\" BCPSS - Education and Youth - Number of Students Ever Attended 1st - 5th Grade \"\"\"\n",
    "\n",
    "query16 = \"\"\"with tbl AS (\n",
    "     select (sum(\n",
    "  case \n",
    "  when (daysattend > 1) AND (grade = '1' OR grade = '2' OR grade = '3' OR grade = '4' OR grade = '5')\n",
    "  then 1\n",
    "  else 0\n",
    "  end)::numeric \n",
    " ) as result, csa\n",
    " from vital_signs.match_csas_and_bc_by_geom('schools.afile_2016', 'gid', 'the_geom') a\n",
    " left join schools.afile_2016 b on a.gid = b.gid\n",
    " group by csa\n",
    "     )\n",
    "     update vital_signs.data\n",
    "     set eattend = result from tbl where data.csa = tbl.csa and data_year = '2016';\n",
    "  \"\"\"\n",
    "\n",
    "OLD17Query = \"\"\"with tbl AS (\n",
    "     select (sum(\n",
    "  case \n",
    "  when (daysattend > 1) AND (grade = '1' OR grade = '2' OR grade = '3' OR grade = '4' OR grade = '5')\n",
    "  then 1\n",
    "  else 0\n",
    "  end)::numeric \n",
    " ) as result, csa\n",
    " from vital_signs.match_csas_and_bc_by_geom('schools.afile_1617', 'gid', 'the_geom') a\n",
    " left join schools.afile_1617 b on a.gid = b.gid\n",
    " group by csa\n",
    "     )\n",
    "  select * from tbl where 1 = 1 ORDER BY csa ASC;\n",
    " \"\"\"\n",
    "\n",
    "NEW17Query = \"\"\"with tbl AS (\n",
    "  -- What we want\n",
    "  select count(*) as result, csa\n",
    "  -- CSA\n",
    "    from vital_signs.match_csas_and_bc_by_geom('schools.afile_1617', 'gid', 'the_geom') a\n",
    "      left join schools.afile_1617 b on a.gid = b.gid\n",
    "  -- RESULT\n",
    "  where daysattend > 1 AND grade in ('1', '2', '3', '4', '5') AND (std_number, enterdate) in \n",
    "    ( select std_number, max(enterdate) enterdate from schools.afile_1617 group by std_number )\n",
    "      group by csa\n",
    "  )\n",
    "  select * from tbl where 1 = 1 ORDER BY csa ASC;\n",
    "  \"\"\"\n",
    "\n",
    "simplifiedQuery = \"\"\"\n",
    "  daysattend > 1 AND \n",
    "  grade in ('1', '2', '3', '4', '5') AND \n",
    "  (std_number, enterdate) in ( select std_number, max(enterdate) enterdate from schools.afile_1617 group by std_number )\n",
    "  \"\"\"\n",
    "\n",
    "# The way the script goes, for every record it will it will take the entire dataset perform a group on it using std_number, \n",
    "# then return  on std and max(enterdate) for each std_number and compare each and every to the current record's std_num and and enterdate.\n",
    "# If any is a match, this one part of the filter succedes for the current record. And then in does this for the next record. \n",
    "hard = \"\"\"(std_number, enterdate) in ( select std_number, max(enterdate) enterdate from schools.afile_1617 group by std_number )\"\"\"\n",
    "# A simpler way would be to sort by enterdate and then remove duplicates on std_number leaving only the most recent enterdate for each unique std_num. \n",
    "easy = \"\"\"df.sort_values('enterdate', ascending=False).drop_duplicates(['std_number'])\"\"\"\n"
   ]
  },
  {
   "cell_type": "code",
   "execution_count": null,
   "metadata": {
    "id": "ncBJRZpLX-3M"
   },
   "outputs": [],
   "source": [
    "#export\n",
    "def eattend(df, csa, yr):\n",
    "\n",
    "  # Create the Numerator\n",
    "  eattend = df.copy()\n",
    "  eattend = eattend[ eattend['grade'].str.contains('^1$|^2$|^3$|^4$|^5$', regex=True)  & (eattend['daysattend'] > 1) ]\n",
    "\n",
    "  eattend['count'] = 1\n",
    "  eattend = eattend.groupby('CSA2010').sum(numeric_only=True)\n",
    "\n",
    "  # Make sure ALL csas and BaltimoreCity are included and sorted.\n",
    "  eattend = csa.merge( eattend, left_on='CSA2010', right_on='CSA2010', how='outer' )\n",
    "  eattend.drop( columns=['geometry', 'Shape__Length','Shape__Area'], inplace=True)\n",
    "  # Baltimoire has records not in the\n",
    "  eattend.at[55,'count']=eattend['count'].sum()\n",
    "  # Perform the calculation\n",
    "  eattend['66-eattend'+year] = eattend['count']\n",
    "\n",
    "  compareYears = gpd.read_file(\"https://services1.arcgis.com/mVFRs7NF4iFitgbY/ArcGIS/rest/services/Eattend/FeatureServer/0/query?where=1%3D1&outFields=*&returnGeometry=true&f=pgeojson\");\n",
    "  goback = 2 if year == '19' else 3\n",
    "  prevYear = 'eattend'+ str( int(year) - goback )\n",
    "  if prevYear in compareYears.columns:\n",
    "    eattend = eattend.merge( compareYears[['CSA2010', prevYear]], left_on='CSA2010', right_on='CSA2010', how='outer' )\n",
    "    eattend['change'] = eattend['66-eattend'+year] - eattend[ prevYear ]\n",
    "    eattend['percentChange'] = eattend['change' ] / eattend[ prevYear ] * 100\n",
    "    eattend['change'] = eattend['change'].apply(lambda x: \"{:.2f}\".format(x) )\n",
    "  print( 'Records Matching Query: ', eattend.size / len(eattend.columns) )\n",
    "  return eattend.drop(columns=['daysattend', 'SchoolSwitcherFlag', 'wleavecode', 'daysabsent', 'race_AIAN', 'race_asian', 'race_AA', 'race_NHPI', 'race_white', 'std_number', 'enterdate'])"
   ]
  },
  {
   "cell_type": "code",
   "execution_count": null,
   "metadata": {
    "id": "hLDMckXcZqUu"
   },
   "outputs": [],
   "source": [
    "fin = eattend(bcpss, csa, year)\n",
    "fin.to_csv('66-eattend'+year+'.csv', index=False)\n",
    "fin.tail(6)"
   ]
  },
  {
   "cell_type": "markdown",
   "metadata": {
    "id": "IdUe8Icidx1Z"
   },
   "source": [
    "### 67 mattend - G - No Drop Dupes\n",
    "\n"
   ]
  },
  {
   "cell_type": "code",
   "execution_count": null,
   "metadata": {
    "id": "MKRbJFKHb7hl"
   },
   "outputs": [],
   "source": [
    "lbl = \"\"\"BCPSS - Education and Youth - Number of Students Ever Attended 6th - 8th Grade \"\"\"\n",
    "\n",
    "query16 = \"\"\"with tbl AS (\n",
    "      select (sum(\n",
    "    case \n",
    "    when (daysattend > 1) AND ( grade =6 OR  grade = 7 OR  grade = 8)\n",
    "    then 1\n",
    "    else 0\n",
    "    end)::numeric \n",
    "  ) as result, csa\n",
    "  from vital_signs.match_csas_and_bc_by_geom('schools.afile_2016', 'gid', 'the_geom') a\n",
    "  left join schools.afile_2016 b on a.gid = b.gid\n",
    "  group by csa\n",
    "      )\n",
    "      update vital_signs.data\n",
    "      set mattend = result from tbl where data.csa = tbl.csa and data_year = '2016';\n",
    "  \"\"\"\n",
    "\n",
    "OLD17Query = \"\"\" with tbl AS (\n",
    "      select (sum(\n",
    "    case \n",
    "    when (daysattend > 1) AND (grade = '6' OR grade = '7' OR grade = '8')\n",
    "    then 1\n",
    "    else 0\n",
    "    end)::numeric \n",
    "  ) as result, csa\n",
    "  from vital_signs.match_csas_and_bc_by_geom('schools.afile_1617', 'gid', 'the_geom') a\n",
    "  left join schools.afile_1617 b on a.gid = b.gid\n",
    "  group by csa\n",
    "      )\n",
    "  select * from tbl where 1 = 1 ORDER BY csa ASC;\n",
    "  \"\"\"\n",
    "\n",
    "NEW17Query = \"\"\" select count(*) as result, csa\n",
    "      from vital_signs.match_csas_and_bc_by_geom('schools.afile_1617', 'gid', 'the_geom') a\n",
    "        left join schools.afile_1617 b on a.gid = b.gid\n",
    "    where daysattend > 1 AND grade in ('6', '7', '8') AND (std_number, enterdate) in \n",
    "      ( select std_number, max(enterdate) enterdate from schools.afile_1617 group by std_number )\n",
    "        group by csa ORDER BY csa ASC;\n",
    "  \"\"\""
   ]
  },
  {
   "cell_type": "code",
   "execution_count": null,
   "metadata": {
    "id": "_UfDrWx8zcp4"
   },
   "outputs": [],
   "source": [
    "#export\n",
    "def mattend(df, csa, yr):\n",
    "\n",
    "  # Create the Numerator\n",
    "  mattend = df.copy()\n",
    "\n",
    "  mattend = mattend[ mattend['grade'].str.contains('^6$|^7$|^8$', regex=True)  & (mattend['daysattend'] > 1) ]\n",
    "\n",
    "  mattend['count'] = 1\n",
    "  mattend = mattend.groupby('CSA2010').sum(numeric_only=True)\n",
    "\n",
    "  # Make sure ALL csas and BaltimoreCity are included and sorted.\n",
    "  mattend = csa.merge( mattend, left_on='CSA2010', right_on='CSA2010', how='outer' )\n",
    "  mattend.drop( columns=['geometry', 'Shape__Length','Shape__Area'], inplace=True)\n",
    "  # Baltimoire has records not in the\n",
    "  mattend.at[55,'count']=mattend['count'].sum()\n",
    "  # Perform the calculation\n",
    "  mattend['67-mattend'+year] = mattend['count']\n",
    "\n",
    "  compareYears = gpd.read_file(\"https://services1.arcgis.com/mVFRs7NF4iFitgbY/ArcGIS/rest/services/Mattend/FeatureServer/0/query?where=1%3D1&outFields=*&returnGeometry=true&f=pgeojson\");\n",
    "  goback = 2 if year == '19' else 3\n",
    "  prevYear = 'mattend'+ str( int(year) - goback )\n",
    "  if prevYear in compareYears.columns:\n",
    "    mattend = mattend.merge( compareYears[['CSA2010', prevYear]], left_on='CSA2010', right_on='CSA2010', how='outer' )\n",
    "    mattend['change'] = mattend['67-mattend'+year] - mattend[ prevYear ]\n",
    "    mattend['percentChange'] = mattend['change' ] / mattend[ prevYear ] * 100\n",
    "    mattend['change'] = mattend['change'].apply(lambda x: \"{:.2f}\".format(x) )\n",
    "  print( 'Records Matching Query: ', mattend.size / len(mattend.columns) )\n",
    "  return mattend.drop(columns=['daysattend', 'SchoolSwitcherFlag', 'wleavecode', 'daysabsent', 'race_AIAN', 'race_asian', 'race_AA', 'race_NHPI', 'race_white', 'std_number', 'enterdate'])"
   ]
  },
  {
   "cell_type": "code",
   "execution_count": null,
   "metadata": {
    "id": "rGf3JGK_ZoZ3"
   },
   "outputs": [],
   "source": [
    "fin = mattend(bcpss, csa, year)\n",
    "fin.to_csv('67-mattend'+year+'.csv', index=False)\n",
    "fin.tail(6) "
   ]
  },
  {
   "cell_type": "markdown",
   "metadata": {
    "id": "3vOV0nntdx4V"
   },
   "source": [
    "### 68 hsattend - G - No Drop Dupes\n",
    "\n"
   ]
  },
  {
   "cell_type": "code",
   "execution_count": null,
   "metadata": {
    "id": "9d043gPQbKS7"
   },
   "outputs": [],
   "source": [
    "\"\"\"  daysattend > 1 AND grade in ('9', '10', '11', '12') AND (std_number, enterdate) in ( select std_number, max(enterdate) enterdate from schools.afile_1617 group by std_number )\"\"\""
   ]
  },
  {
   "cell_type": "code",
   "execution_count": null,
   "metadata": {
    "id": "2glNupHocmp2"
   },
   "outputs": [],
   "source": [
    "#export\n",
    "def hsattend(df, csa, yr):\n",
    "\n",
    "  # Create the Numerator\n",
    "  hsattend = df.copy()\n",
    "\n",
    "  hsattend = hsattend[ hsattend['grade'].str.contains('^9$|^10$|^11$|^12$', regex=True)  & (hsattend['daysattend'] > 1) ]\n",
    "\n",
    "  hsattend['count'] = 1\n",
    "  hsattend = hsattend.groupby('CSA2010').sum(numeric_only=True)\n",
    "\n",
    "  # Make sure ALL csas and BaltimoreCity are included and sorted.\n",
    "  hsattend = csa.merge( hsattend, left_on='CSA2010', right_on='CSA2010', how='outer' )\n",
    "  hsattend.drop( columns=['geometry', 'Shape__Length','Shape__Area'], inplace=True)\n",
    "  # Baltimoire has records not in the\n",
    "  hsattend.at[55,'count']=hsattend['count'].sum()\n",
    "  # Perform the calculation\n",
    "  hsattend['68-hsattend'+year] = hsattend['count']\n",
    "\n",
    "  compareYears = gpd.read_file(\"https://services1.arcgis.com/mVFRs7NF4iFitgbY/ArcGIS/rest/services/Hsattend/FeatureServer/0/query?where=1%3D1&outFields=*&returnGeometry=true&f=pgeojson\");\n",
    "  goback = 2 if year == '19' else 3\n",
    "  prevYear = 'hsattend'+ str( int(year) - goback )\n",
    "  if prevYear in compareYears.columns:\n",
    "    hsattend = hsattend.merge( compareYears[['CSA2010', prevYear]], left_on='CSA2010', right_on='CSA2010', how='outer' )\n",
    "    hsattend['change'] = hsattend['68-hsattend'+year] - hsattend[ prevYear ]\n",
    "    hsattend['percentChange'] = hsattend['change' ] / hsattend[ prevYear ] * 100\n",
    "    hsattend['change'] = hsattend['change'].apply(lambda x: \"{:.2f}\".format(x) )\n",
    "  print( 'Records Matching Query: ', hsattend.size / len(hsattend.columns) )\n",
    "  return hsattend.drop(columns=['daysattend', 'SchoolSwitcherFlag', 'wleavecode',\n",
    "               'daysabsent', 'race_AIAN', 'race_asian', 'race_AA',\n",
    "               'race_NHPI', 'race_white', 'std_number', 'enterdate'])"
   ]
  },
  {
   "cell_type": "code",
   "execution_count": null,
   "metadata": {
    "id": "FColBKmFZlsP"
   },
   "outputs": [],
   "source": [
    "fin = hsattend(bcpss, csa, year)\n",
    "fin.to_csv('68-hsattend'+year+'.csv', index=False)\n",
    "fin.head(6) "
   ]
  },
  {
   "cell_type": "markdown",
   "metadata": {
    "id": "ZiLEgT0odx7J"
   },
   "source": [
    "### 70 aastud - G- No Drop Dupes\n",
    "\n"
   ]
  },
  {
   "cell_type": "code",
   "execution_count": null,
   "metadata": {
    "id": "pWcqIKkXclXb"
   },
   "outputs": [],
   "source": [
    "lbl = \"\"\" BCPSS - Education and Youth  - Percent of Students that are African American (non-Hispanic)\"\"\"\n",
    "\n",
    "query2016 = \"\"\"with numerator as (\n",
    "   select sum(\n",
    "   case \n",
    "   when (daysattend::numeric > 1) AND \n",
    "     (future_rac::text ='300' OR future_rac::text ='305' OR future_rac::text ='340' OR future_rac::text ='345') AND\n",
    "     (hipani_lat LIKE 'N') AND \n",
    "     (grade::numeric <13 )\n",
    "   then 1\n",
    "   else 0\n",
    "   end)::numeric as result, csa\n",
    "   from vital_signs.match_csas_and_bc_by_geom('schools.afile_2016', 'gid', 'the_geom') a\n",
    "   left join schools.afile_2016 b on a.gid = b.gid\n",
    "   group by csa\n",
    "   ),\n",
    "   denominator AS (\n",
    "    select (sum(\n",
    "     case \n",
    "     when (daysattend::numeric > 1) AND (grade::numeric <13 )\n",
    "     then 1\n",
    "     else 0\n",
    "     end)::numeric \n",
    "    ) as result, csa\n",
    "    from vital_signs.match_csas_and_bc_by_geom('schools.afile_2016', 'gid', 'the_geom') a\n",
    "    left join schools.afile_2016 b on a.gid = b.gid\n",
    "    group by csa\n",
    "   ),\n",
    "   tbl AS (\n",
    "     select denominator.csa,(numerator.result / denominator.result)*(100::numeric) as result \n",
    "     from numerator left join denominator on numerator.csa = denominator.csa\n",
    "    )\n",
    "   update vital_signs.data\n",
    "   set aastud = result from tbl where data.csa = tbl.csa and data_year = '2016';\n",
    "  \"\"\"\n",
    "\n",
    "OLD17Query = \"\"\"with numerator as (\n",
    "    select sum(\n",
    "    case \n",
    "    when (daysattend::numeric > 1) AND (future_rac = 300 OR future_rac = 305 OR future_rac = 340 OR future_rac = 345) AND (hispani_la LIKE 'N') AND (grade <13 ) \n",
    "      then 1 else 0 end\n",
    "    )::numeric as result, csa\n",
    "      from vital_signs.match_csas_and_bc_by_geom('schools.afile_1617', 'gid', 'the_geom') a\n",
    "        left join schools.afile_1617 b on a.gid = b.gid\n",
    "          group by csa\n",
    "  ),\n",
    "  denominator AS (\n",
    "    select (sum(\n",
    "      case \n",
    "        when (daysattend > 1) AND (grade <13 )\n",
    "          then 1 else 0 end\n",
    "    )::numeric ) as result, csa\n",
    "        from vital_signs.match_csas_and_bc_by_geom('schools.afile_1617', 'gid', 'the_geom') a\n",
    "          left join schools.afile_1617 b on a.gid = b.gid\n",
    "            group by csa\n",
    "  ),\n",
    "  tbl AS (\n",
    "      select denominator.csa,(numerator.result / NULLIF(denominator.result, 0) )*(100::numeric) as result \n",
    "      from numerator left join denominator on numerator.csa = denominator.csa\n",
    "      )\n",
    "  select * from tbl where 1 = 1 ORDER BY csa ASC;\n",
    "    \"\"\"\n",
    "\n",
    "New17Query = \"\"\"with numerator as (\n",
    "   select count(*)::numeric as result, csa\n",
    "     from vital_signs.match_csas_and_bc_by_geom('schools.afile_1617', 'gid', 'the_geom') a\n",
    "       left join schools.afile_1617 b on a.gid = b.gid\n",
    "   where daysattend > 1 AND future_rac in ('300', '305', '340', '345') AND (hispani_la LIKE 'N') AND (grade <13 ) AND (std_number, enterdate) in \n",
    "     ( select std_number, max(enterdate) enterdate from schools.afile_1617 group by std_number )\n",
    "   group by csa\n",
    "   ),\n",
    "   denominator AS (\n",
    "   select count(*)::numeric as result, csa\n",
    "     from vital_signs.match_csas_and_bc_by_geom('schools.afile_1617', 'gid', 'the_geom') a\n",
    "       left join schools.afile_1617 b on a.gid = b.gid\n",
    "   where daysattend > 1 AND grade <13 AND (std_number, enterdate) in \n",
    "     ( select std_number, max(enterdate) enterdate from schools.afile_1617 group by std_number )\n",
    "   group by csa\n",
    "   ),\n",
    "   tbl AS (\n",
    "     select denominator.csa,(numerator.result / NULLIF(denominator.result,0) )*(100::numeric) as result \n",
    "     from numerator left join denominator on numerator.csa = denominator.csa\n",
    "    )\n",
    "  select * from tbl where 1 = 1 ORDER BY csa ASC;\n",
    "  \"\"\"\n",
    "\n",
    "miscNotes = \"\"\"afile_1617\n",
    "  17 hispani_la\n",
    "  16 hispani_lat\n",
    "  NULLIF(denominator.result,0)\n",
    "  \"\"\""
   ]
  },
  {
   "cell_type": "code",
   "execution_count": null,
   "metadata": {
    "id": "vD8VZ--HbFVs"
   },
   "outputs": [],
   "source": [
    "\"\"\"\n",
    "   where daysattend > 1 AND future_rac in ('300', '305', '340', '345') AND (hispani_la LIKE 'N') AND (grade <13 ) AND (std_number, enterdate) in \n",
    "     ( select std_number, max(enterdate) enterdate from schools.afile_1617 group by std_number )\n",
    "\n",
    "     /\n",
    "\n",
    "   where daysattend > 1 AND grade <13 AND (std_number, enterdate) in \n",
    "     ( select std_number, max(enterdate) enterdate from schools.afile_1617 group by std_number )\n",
    "\"\"\""
   ]
  },
  {
   "cell_type": "code",
   "execution_count": null,
   "metadata": {
    "id": "sCstkQU01BWL"
   },
   "outputs": [],
   "source": [
    "#export\n",
    "def aastud(df, csa, yr):\n",
    "  df['count'] = 1\n",
    "\n",
    "  # Create the Denominator\n",
    "  denom = df.copy()\n",
    "  denom['grade'] = denom['grade'].apply(pd.to_numeric, errors='coerce')\n",
    "  denom = denom[ (denom['daysattend'] > 1) & (denom['grade'] < 13) ]\n",
    "\n",
    "  # Create the Numerator\n",
    "  numer = denom[ (denom['race_AA'] > 0 ) & (denom['hispani_la'] == 'N') ]\n",
    "\n",
    "  id = '70'\n",
    "  shortname = 'aastud'\n",
    "\n",
    "  # Group by CSA\n",
    "  numer = numer.groupby('CSA2010').sum(numeric_only=True)\n",
    "  denom = denom.groupby('CSA2010').sum(numeric_only=True)\n",
    "\n",
    "  # Make sure ALL csas and BaltimoreCity are included and sorted.\n",
    "  numer = csa.merge( numer, left_on='CSA2010', right_on='CSA2010', how='outer' )\n",
    "  denom = csa.merge( denom, left_on='CSA2010', right_on='CSA2010', how='outer' )\n",
    "  numer.drop( columns=['geometry', 'Shape__Length','Shape__Area'], inplace=True)\n",
    "  numer['denomCount'] = denom['count']\n",
    "\n",
    "  # Do after sortViaCsaMerge to get index right. False records would show underneath it but still get added to the sum.\n",
    "  numer.at[55,'count']=numer['count'].sum()\n",
    "  numer.at[55,'denomCount']=numer['denomCount'].sum()\n",
    "\n",
    "  # Perform the calculation\n",
    "  numer[id+'-'+shortname+year] = numer['count'] / numer['denomCount'] * 100\n",
    "\n",
    "  compareYears = gpd.read_file(\"https://services1.arcgis.com/mVFRs7NF4iFitgbY/ArcGIS/rest/services/\"+shortname.capitalize()+\"/FeatureServer/0/query?where=1%3D1&outFields=*&returnGeometry=true&f=pgeojson\");\n",
    "  goback = 2 if year == '19' else 3\n",
    "  prevYear = shortname+ str( int(year) - goback )\n",
    "  if prevYear in compareYears.columns:\n",
    "    numer = numer.merge( compareYears[['CSA2010', prevYear]], left_on='CSA2010', right_on='CSA2010', how='outer' )\n",
    "    numer['change'] = numer[id+'-'+shortname+year] - numer[ prevYear ]\n",
    "    numer['percentChange'] = numer['change' ] / numer[ prevYear ] * 100\n",
    "    numer['change'] = numer['change'].apply(lambda x: \"{:.2f}\".format(x) )\n",
    "    print( 'Records Matching Query: ', numer.size / len(numer.columns) )\n",
    "  return numer.drop(columns=['daysattend', 'SchoolSwitcherFlag', 'wleavecode',\n",
    "               'daysabsent', 'race_AIAN', 'race_asian', 'race_AA',\n",
    "               'race_NHPI', 'race_white', 'std_number', 'enterdate'])"
   ]
  },
  {
   "cell_type": "code",
   "execution_count": null,
   "metadata": {
    "id": "KRi0Cj6TZhpX"
   },
   "outputs": [],
   "source": [
    "fin = aastud(bcpss, csa, year)\n",
    "fin.to_csv('70-aastud'+year+'.csv', index=False)\n",
    "fin.head(6) "
   ]
  },
  {
   "cell_type": "markdown",
   "metadata": {
    "id": "STGDqEY0dx-R"
   },
   "source": [
    "### 71 wstud - G - No Drop Dupes\n",
    "\n"
   ]
  },
  {
   "cell_type": "code",
   "execution_count": null,
   "metadata": {
    "id": "Q-y_hpP_cjxr"
   },
   "outputs": [],
   "source": [
    "lbl = \"\"\"BCPSS - Education and Youth - Percent of Students that are White (non-Hispanic)\"\"\"\n",
    "\n",
    "Query16 = \"\"\"with numerator as (\n",
    "   select sum(\n",
    "   case \n",
    "   when (daysattend::numeric > 1) AND (future_rac::text ='5') AND (hipani_lat LIKE 'N') AND (grade::numeric <13 )\n",
    "   then 1\n",
    "   else 0\n",
    "   end)::numeric as result, csa\n",
    "   from vital_signs.match_csas_and_bc_by_geom('schools.afile_2016', 'gid', 'the_geom') a\n",
    "   left join schools.afile_2016 b on a.gid = b.gid\n",
    "   group by csa\n",
    "   ),\n",
    "   denominator AS (\n",
    "    select (sum(\n",
    "     case \n",
    "     when (daysattend::numeric > 1) AND (grade::numeric <13 )\n",
    "     then 1\n",
    "     else 0\n",
    "     end)::numeric \n",
    "    ) as result, csa\n",
    "    from vital_signs.match_csas_and_bc_by_geom('schools.afile_2016', 'gid', 'the_geom') a\n",
    "    left join schools.afile_2016 b on a.gid = b.gid\n",
    "    group by csa\n",
    "   ),\n",
    "   tbl AS (\n",
    "     select denominator.csa,(numerator.result / denominator.result)*(100::numeric) as result \n",
    "     from numerator left join denominator on numerator.csa = denominator.csa\n",
    "    )\n",
    "   update vital_signs.data\n",
    "   set wstud = result from tbl where data.csa = tbl.csa and data_year = '2016';\n",
    " \"\"\"\n",
    "\n",
    "OLD17Query = \"\"\"with numerator as (\n",
    "   select sum(\n",
    "   case \n",
    "   when (daysattend::numeric > 1) AND (future_rac::text ='5') AND (hispani_la LIKE 'N') AND (grade::numeric <13 )\n",
    "   then 1\n",
    "   else 0\n",
    "   end)::numeric as result, csa\n",
    "   from vital_signs.match_csas_and_bc_by_geom('schools.afile_1617', 'gid', 'the_geom') a\n",
    "   left join schools.afile_1617 b on a.gid = b.gid\n",
    "   group by csa\n",
    "   ),\n",
    "   denominator AS (\n",
    "    select (sum(\n",
    "     case \n",
    "     when (daysattend::numeric > 1) AND (grade::numeric <13 )\n",
    "     then 1\n",
    "     else 0\n",
    "     end)::numeric \n",
    "    ) as result, csa\n",
    "    from vital_signs.match_csas_and_bc_by_geom('schools.afile_1617', 'gid', 'the_geom') a\n",
    "    left join schools.afile_1617 b on a.gid = b.gid\n",
    "    group by csa\n",
    "   ),\n",
    "   tbl AS (\n",
    "     select denominator.csa,(numerator.result / NULLIF(denominator.result,0) )*(100::numeric) as result \n",
    "     from numerator left join denominator on numerator.csa = denominator.csa\n",
    "    )\n",
    " select * from tbl where 1 = 1 ORDER BY csa ASC;\n",
    " \"\"\"\n",
    "\n",
    "NEW17Query = \"\"\"with numerator as (\n",
    "   select count(*)::numeric as result, csa\n",
    "     from vital_signs.match_csas_and_bc_by_geom('schools.afile_1617', 'gid', 'the_geom') a\n",
    "       left join schools.afile_1617 b on a.gid = b.gid\n",
    "   where daysattend > 1 AND future_rac ='5' AND hispani_la LIKE 'N' AND grade <13 AND (std_number, enterdate) in \n",
    "     ( select std_number, max(enterdate) enterdate from schools.afile_1617 group by std_number )\n",
    "   group by csa\n",
    "   ),\n",
    "   denominator AS (\n",
    "   select count(*)::numeric as result, csa\n",
    "     from vital_signs.match_csas_and_bc_by_geom('schools.afile_1617', 'gid', 'the_geom') a\n",
    "       left join schools.afile_1617 b on a.gid = b.gid\n",
    "   where daysattend > 1 AND grade <13 AND (std_number, enterdate) in \n",
    "     ( select std_number, max(enterdate) enterdate from schools.afile_1617 group by std_number )\n",
    "   group by csa\n",
    "   ),\n",
    "   tbl AS (\n",
    "     select denominator.csa,(numerator.result / NULLIF(denominator.result,0) )*(100::numeric) as result \n",
    "     from numerator left join denominator on numerator.csa = denominator.csa\n",
    "    )\n",
    " select * from tbl where 1 = 1 ORDER BY csa ASC;\n",
    " \"\"\"\n",
    "\n",
    "misc = \"\"\"\n",
    "  afile_1617\n",
    "  17 hispani_la\n",
    "  16 hispani_lat\n",
    "  NULLIF(denominator.result,0)\n",
    "\"\"\""
   ]
  },
  {
   "cell_type": "code",
   "execution_count": null,
   "metadata": {
    "id": "MB8sZY_ubCZz"
   },
   "outputs": [],
   "source": [
    "\"\"\"\n",
    "   where daysattend > 1 AND future_rac ='5' AND hispani_la LIKE 'N' AND grade <13 AND (std_number, enterdate) in \n",
    "     ( select std_number, max(enterdate) enterdate from schools.afile_1617 group by std_number )\n",
    "     /\n",
    "   where daysattend > 1 AND grade <13 AND (std_number, enterdate) in \n",
    "     ( select std_number, max(enterdate) enterdate from schools.afile_1617 group by std_number )\n",
    "\"\"\""
   ]
  },
  {
   "cell_type": "code",
   "execution_count": null,
   "metadata": {
    "id": "LJKU2Znqz3mJ"
   },
   "outputs": [],
   "source": [
    "#export\n",
    "def wstud(df, csa, yr):\n",
    "  id = '71'\n",
    "  shortname = 'wstud'\n",
    "  df['count'] = 1\n",
    "\n",
    "  # Create the Denominator\n",
    "  denom = df.copy()\n",
    "  denom['grade'] = denom['grade'].apply(pd.to_numeric, errors='coerce')\n",
    "  denom = denom[ (denom['daysattend'] > 1) & (denom['grade'] < 13) ]\n",
    "\n",
    "  # Create the Numerator\n",
    "  numer = denom[ (denom['race_white'] > 0 ) & (denom['hispani_la'] == 'N') ]\n",
    "\n",
    "  id = '71'\n",
    "  shortname = 'wstud'\n",
    "\n",
    "  # Group by CSA\n",
    "  numer = numer.groupby('CSA2010').sum(numeric_only=True)\n",
    "  denom = denom.groupby('CSA2010').sum(numeric_only=True)\n",
    "\n",
    "  # Make sure ALL csas and BaltimoreCity are included and sorted.\n",
    "  numer = csa.merge( numer, left_on='CSA2010', right_on='CSA2010', how='outer' )\n",
    "  denom = csa.merge( denom, left_on='CSA2010', right_on='CSA2010', how='outer' )\n",
    "  numer.drop( columns=['geometry', 'Shape__Length','Shape__Area'], inplace=True)\n",
    "  numer['denomCount'] = denom['count']\n",
    "\n",
    "  # Do after sortViaCsaMerge to get index right. False records would show underneath it but still get added to the sum.\n",
    "  numer.at[55,'count']=numer['count'].sum()\n",
    "  numer.at[55,'denomCount']=numer['denomCount'].sum()\n",
    "\n",
    "  # Perform the calculation\n",
    "  numer[id+'-'+shortname+year] = numer['count'] / numer['denomCount'] * 100\n",
    "\n",
    "  compareYears = gpd.read_file(\"https://services1.arcgis.com/mVFRs7NF4iFitgbY/ArcGIS/rest/services/\"+shortname.capitalize()+\"/FeatureServer/0/query?where=1%3D1&outFields=*&returnGeometry=true&f=pgeojson\");\n",
    "  goback = 2 if year == '19' else 3\n",
    "  prevYear = shortname + str( int(year) - goback )\n",
    "  if prevYear in compareYears.columns:\n",
    "    numer = numer.merge( compareYears[['CSA2010', prevYear]], left_on='CSA2010', right_on='CSA2010', how='outer' )\n",
    "    numer['change'] = numer[id+'-'+shortname+year] - numer[ prevYear ]\n",
    "    numer['percentChange'] = numer['change' ] / numer[ prevYear ] * 100\n",
    "    numer['change'] = numer['change'].apply(lambda x: \"{:.2f}\".format(x) )\n",
    "    print( 'Records Matching Query: ', numer.size / len(numer.columns) )\n",
    "  return numer.drop(columns=['daysattend', 'SchoolSwitcherFlag', 'wleavecode',\n",
    "               'daysabsent', 'race_AIAN', 'race_asian', 'race_AA',\n",
    "               'race_NHPI', 'race_white', 'std_number', 'enterdate'])"
   ]
  },
  {
   "cell_type": "code",
   "execution_count": null,
   "metadata": {
    "id": "G9s2o4cpZgC_"
   },
   "outputs": [],
   "source": [
    "fin = wstud(bcpss, csa, year)\n",
    "fin.to_csv('71-wstud'+year+'.csv', index=False)\n",
    "fin.head(6) "
   ]
  },
  {
   "cell_type": "markdown",
   "metadata": {
    "id": "r-YF6OeedyBJ"
   },
   "source": [
    "### 72 hstud - G - No Drop Dupes\n",
    "\n"
   ]
  },
  {
   "cell_type": "code",
   "execution_count": null,
   "metadata": {
    "id": "SaKxmPMcciVp"
   },
   "outputs": [],
   "source": [
    "lbl = \"\"\" BCPSS - Education and Youth \"\"\"\n",
    "\n",
    "Query16 = \"\"\" with numerator as (\n",
    "   select sum(\n",
    "   case \n",
    "   when (daysattend::numeric > 1) AND (hipani_lat LIKE 'Y') AND (grade::numeric <13 )\n",
    "   then 1\n",
    "   else 0\n",
    "   end)::numeric as result, csa\n",
    "   from vital_signs.match_csas_and_bc_by_geom('schools.afile_2016', 'gid', 'the_geom') a\n",
    "   left join schools.afile_2016 b on a.gid = b.gid\n",
    "   group by csa\n",
    "   ),\n",
    "   denominator AS (\n",
    "    select (sum(\n",
    "     case \n",
    "     when (daysattend::numeric > 1) AND (grade::numeric <13 )\n",
    "     then 1\n",
    "     else 0\n",
    "     end)::numeric \n",
    "    ) as result, csa\n",
    "    from vital_signs.match_csas_and_bc_by_geom('schools.afile_2016', 'gid', 'the_geom') a\n",
    "    left join schools.afile_2016 b on a.gid = b.gid\n",
    "    group by csa\n",
    "   ),\n",
    "   tbl AS (\n",
    "     select denominator.csa,(numerator.result / denominator.result)*(100::numeric) as result \n",
    "     from numerator left join denominator on numerator.csa = denominator.csa\n",
    "    )\n",
    "   update vital_signs.data\n",
    "   set hstud = result from tbl where data.csa = tbl.csa and data_year = '2016'; \n",
    "  \"\"\"\n",
    "\n",
    "NEW17Query = \"\"\"with numerator as (\n",
    "   select count(*)::numeric as result, csa\n",
    "     from vital_signs.match_csas_and_bc_by_geom('schools.afile_1617', 'gid', 'the_geom') a\n",
    "       left join schools.afile_1617 b on a.gid = b.gid\n",
    "   where daysattend > 1 AND hispani_la LIKE 'Y' AND grade <13 AND (std_number, enterdate) in \n",
    "     ( select std_number, max(enterdate) enterdate from schools.afile_1617 group by std_number )\n",
    "   group by csa\n",
    "   ),\n",
    "   denominator AS (\n",
    "   select count(*)::numeric as result, csa\n",
    "     from vital_signs.match_csas_and_bc_by_geom('schools.afile_1617', 'gid', 'the_geom') a\n",
    "       left join schools.afile_1617 b on a.gid = b.gid\n",
    "   where daysattend > 1 AND grade <13 AND (std_number, enterdate) in \n",
    "     ( select std_number, max(enterdate) enterdate from schools.afile_1617 group by std_number )\n",
    "   group by csa\n",
    "   ),\n",
    "   tbl AS (\n",
    "     select denominator.csa,(numerator.result / NULLIF(denominator.result,0) )*(100::numeric) as result \n",
    "     from numerator left join denominator on numerator.csa = denominator.csa\n",
    "    )\n",
    "  select * from tbl where 1 = 1 ORDER BY csa ASC;\n",
    "  \"\"\"\n",
    "\n",
    "OLD17Query = \"\"\"with numerator as (\n",
    "   select sum(\n",
    "   case \n",
    "   when (daysattend::numeric > 1) AND (hispani_la LIKE 'Y') AND (grade::numeric <13 )\n",
    "   then 1\n",
    "   else 0\n",
    "   end)::numeric as result, csa\n",
    "   from vital_signs.match_csas_and_bc_by_geom('schools.afile_1617', 'gid', 'the_geom') a\n",
    "   left join schools.afile_1617 b on a.gid = b.gid\n",
    "   group by csa\n",
    "   ),\n",
    "   denominator AS (\n",
    "    select (sum(\n",
    "     case \n",
    "     when (daysattend::numeric > 1) AND (grade::numeric <13 )\n",
    "     then 1\n",
    "     else NULL\n",
    "     end)::numeric \n",
    "    ) as result, csa\n",
    "    from vital_signs.match_csas_and_bc_by_geom('schools.afile_1617', 'gid', 'the_geom') a\n",
    "    left join schools.afile_1617 b on a.gid = b.gid\n",
    "    group by csa\n",
    "   ),\n",
    "   tbl AS (\n",
    "     select denominator.csa,(numerator.result / NULLIF(denominator.result,0) )*(100::numeric) as result \n",
    "     from numerator left join denominator on numerator.csa = denominator.csa\n",
    "    )\n",
    "  select * from tbl order by csa asc\n",
    "  \"\"\""
   ]
  },
  {
   "cell_type": "code",
   "execution_count": null,
   "metadata": {
    "id": "cK4pGFU8bAH0"
   },
   "outputs": [],
   "source": [
    "\"\"\"\n",
    "   where daysattend > 1 AND hispani_la LIKE 'Y' AND grade <13 AND (std_number, enterdate) in \n",
    "     ( select std_number, max(enterdate) enterdate from schools.afile_1617 group by std_number )\n",
    "     /\n",
    "   where daysattend > 1 AND grade <13 AND (std_number, enterdate) in \n",
    "     ( select std_number, max(enterdate) enterdate from schools.afile_1617 group by std_number )\n",
    "\"\"\""
   ]
  },
  {
   "cell_type": "code",
   "execution_count": null,
   "metadata": {
    "id": "shTliSbtgMpC"
   },
   "outputs": [],
   "source": [
    "denom = bcpss.copy()\n",
    "denom['grade'] = denom['grade'].apply(pd.to_numeric, errors='coerce')\n",
    "denom = denom[ (denom['daysattend'] > 1) & (denom['grade'] < 13) ] \n",
    "denom.groupby('CSA2010').sum(numeric_only=True).head()"
   ]
  },
  {
   "cell_type": "code",
   "execution_count": null,
   "metadata": {
    "id": "qZmTWz1SgbxJ"
   },
   "outputs": [],
   "source": [
    "numer = denom = denom[ (denom['hispani_la'] == 'Y') ] \n",
    "numer.groupby('CSA2010').sum(numeric_only=True).head()"
   ]
  },
  {
   "cell_type": "code",
   "execution_count": null,
   "metadata": {
    "id": "VUQEEdb4h49x"
   },
   "outputs": [],
   "source": [
    "bcpss[ (bcpss['CSA2010'] == 'Allendale/Irvington/S. Hilton') & (bcpss['hispani_la'] == 'Y') ].head(1)"
   ]
  },
  {
   "cell_type": "code",
   "execution_count": null,
   "metadata": {
    "id": "dNOjJFou0Evw"
   },
   "outputs": [],
   "source": [
    "#export\n",
    "def hstud(df, csa, yr):\n",
    "  df['count'] = 1\n",
    "\n",
    "  # Create the Denominator\n",
    "  denom = df.copy()\n",
    "  denom['grade'] = denom['grade'].apply(pd.to_numeric, errors='coerce')\n",
    "  denom = denom[ (denom['daysattend'] > 1) & (denom['grade'] < 13) ]\n",
    "\n",
    "  # Create the Numerator\n",
    "  numer = denom[ (denom['hispani_la'] == 'Y') ]\n",
    "\n",
    "  id = '72'\n",
    "  shortname = 'hstud'\n",
    "\n",
    "  # Group by CSA\n",
    "  numer = numer.groupby('CSA2010').sum(numeric_only=True)\n",
    "  denom = denom.groupby('CSA2010').sum(numeric_only=True)\n",
    "\n",
    "  # Make sure ALL csas and BaltimoreCity are included and sorted.\n",
    "  numer = csa.merge( numer, left_on='CSA2010', right_on='CSA2010', how='outer' )\n",
    "  denom = csa.merge( denom, left_on='CSA2010', right_on='CSA2010', how='outer' )\n",
    "  numer.drop( columns=['geometry', 'Shape__Length','Shape__Area'], inplace=True)\n",
    "  numer['denomCount'] = denom['count']\n",
    "\n",
    "  # Do after sortViaCsaMerge to get index right. False records would show underneath it but still get added to the sum.\n",
    "  numer.at[55,'count']=numer['count'].sum()\n",
    "  numer.at[55,'denomCount']=numer['denomCount'].sum()\n",
    "\n",
    "  # Perform the calculation\n",
    "  numer[id+'-'+shortname+year] = numer['count'] / numer['denomCount'] * 100\n",
    "\n",
    "  compareYears = gpd.read_file(\"https://services1.arcgis.com/mVFRs7NF4iFitgbY/ArcGIS/rest/services/\"+shortname.capitalize()+\"/FeatureServer/0/query?where=1%3D1&outFields=*&returnGeometry=true&f=pgeojson\");\n",
    "  goback = 2 if year == '19' else 3\n",
    "  prevYear = shortname + str( int(year) - goback )\n",
    "  if prevYear in compareYears.columns:\n",
    "    numer = numer.merge( compareYears[['CSA2010', prevYear]], left_on='CSA2010', right_on='CSA2010', how='outer' )\n",
    "    numer['change'] = numer[id+'-'+shortname+year] - numer[ prevYear ]\n",
    "    numer['percentChange'] = numer['change' ] / numer[ prevYear ] * 100\n",
    "    numer['change'] = numer['change'].apply(lambda x: \"{:.2f}\".format(x) )\n",
    "    print( 'Records Matching Query: ', numer.size / len(numer.columns) )\n",
    "  return numer.drop(columns=['daysattend', 'SchoolSwitcherFlag', 'wleavecode',\n",
    "               'daysabsent', 'race_AIAN', 'race_asian', 'race_AA',\n",
    "               'race_NHPI', 'race_white', 'std_number', 'enterdate'])"
   ]
  },
  {
   "cell_type": "code",
   "execution_count": null,
   "metadata": {
    "id": "AExltv-_Zcan"
   },
   "outputs": [],
   "source": [
    "fin = hstud(bcpss, csa, year)\n",
    "fin.to_csv('72-hstud'+year+'.csv', index=False)\n",
    "fin.head(6) "
   ]
  },
  {
   "cell_type": "markdown",
   "metadata": {
    "id": "BFAxBttZdyED"
   },
   "source": [
    "### 73 abse - G - No Drop Dupes\n",
    "\n"
   ]
  },
  {
   "cell_type": "code",
   "execution_count": null,
   "metadata": {
    "id": "WWc5SgpFcg40"
   },
   "outputs": [],
   "source": [
    "lbl = \"\"\" BCPSS - Education and Youth - Percent of 1st-5th Grade Students that are Chronically Absent (Missing at least 20 days) \"\"\"\n",
    "\n",
    "Query16 = \"\"\"with numerator as (\n",
    "   select sum(\n",
    "   case \n",
    "   when (daysattend > 1) AND (grade = '1' OR grade = '2' OR grade = '3' OR grade = '4'OR grade = '5') AND (daysabsent > 200)\n",
    "   then 1\n",
    "   else 0\n",
    "   end)::numeric as result, csa\n",
    "   from vital_signs.match_csas_and_bc_by_geom('schools.afile_2016', 'gid', 'the_geom') a\n",
    "   left join schools.afile_2016 b on a.gid = b.gid\n",
    "   group by csa\n",
    "   ),\n",
    "   denominator AS (\n",
    "    select (sum(\n",
    "     case \n",
    "     when (daysattend::numeric > 1) AND (grade = '1' OR grade = '2' OR grade = '3' OR grade = '4'OR grade = '5')\n",
    "     then 1\n",
    "     else 0\n",
    "     end)::numeric \n",
    "    ) as result, csa\n",
    "    from vital_signs.match_csas_and_bc_by_geom('schools.afile_2016', 'gid', 'the_geom') a\n",
    "    left join schools.afile_2016 b on a.gid = b.gid\n",
    "    group by csa\n",
    "   ),\n",
    "   tbl AS (\n",
    "     select denominator.csa,(numerator.result / denominator.result)*(100::numeric) as result \n",
    "     from numerator left join denominator on numerator.csa = denominator.csa\n",
    "    )\n",
    "   update vital_signs.data\n",
    "   set abse = result from tbl where data.csa = tbl.csa and data_year = '2016';\n",
    "  \"\"\"\n",
    "\n",
    "New17Query = \"\"\"with numerator as (\n",
    "   select count(*)::numeric as result, csa\n",
    "     from vital_signs.match_csas_and_bc_by_geom('schools.afile_1617', 'gid', 'the_geom') a\n",
    "       left join schools.afile_1617 b on a.gid = b.gid\n",
    "   where daysattend > 1 AND daysabsent > 200 AND grade in ('1','2','3','4','5') AND (std_number, enterdate) in \n",
    "     ( select std_number, max(enterdate) enterdate from schools.afile_1617 group by std_number )\n",
    "   group by csa\n",
    "   ),\n",
    "   denominator AS (\n",
    "   select count(*)::numeric as result, csa\n",
    "     from vital_signs.match_csas_and_bc_by_geom('schools.afile_1617', 'gid', 'the_geom') a\n",
    "       left join schools.afile_1617 b on a.gid = b.gid\n",
    "   where daysattend > 1 AND grade in ('1','2','3','4','5') AND (std_number, enterdate) in \n",
    "     ( select std_number, max(enterdate) enterdate from schools.afile_1617 group by std_number )\n",
    "   group by csa\n",
    "   ),\n",
    "   tbl AS (\n",
    "     select denominator.csa,(numerator.result / NULLIF(denominator.result,0) )*(100::numeric) as result \n",
    "     from numerator left join denominator on numerator.csa = denominator.csa\n",
    "    )\n",
    "  select * from tbl where 1 = 1 ORDER BY csa ASC;\n",
    "  \"\"\"\n",
    "\n",
    "OLD17Query = \"\"\"with numerator as (\n",
    "   select sum(\n",
    "   case \n",
    "   when (daysattend > 1) AND (grade = 1 OR grade = 2 OR grade = 3 OR grade = 4 OR grade = 5 ) AND (daysabsent > 200)\n",
    "   then 1\n",
    "   else 0\n",
    "   end)::numeric as result, csa\n",
    "   from vital_signs.match_csas_and_bc_by_geom('schools.afile_1617', 'gid', 'the_geom') a\n",
    "   left join schools.afile_1617 b on a.gid = b.gid\n",
    "   group by csa\n",
    "   ),\n",
    "   denominator AS (\n",
    "    select (sum(\n",
    "     case \n",
    "     when (daysattend::numeric > 1) AND (grade = '1' OR grade = '2' OR grade = '3' OR grade = '4'OR grade = '5')\n",
    "     then 1\n",
    "     else 0\n",
    "     end)::numeric \n",
    "    ) as result, csa\n",
    "    from vital_signs.match_csas_and_bc_by_geom('schools.afile_1617', 'gid', 'the_geom') a\n",
    "    left join schools.afile_1617 b on a.gid = b.gid\n",
    "    group by csa\n",
    "   ),\n",
    "   tbl AS (\n",
    "     select denominator.csa,(numerator.result / NULLIF(denominator.result,0) )*(100::numeric) as result \n",
    "     from numerator left join denominator on numerator.csa = denominator.csa\n",
    "    )\n",
    "  select * from tbl where 1 = 1 ORDER BY csa ASC;\n",
    "  \"\"\n",
    "\n",
    "  afile_1617\n",
    "  17 hispani_la\n",
    "  16 hispani_lat\n",
    "  NULLIF(denominator.result,0)\n",
    "\"\"\""
   ]
  },
  {
   "cell_type": "code",
   "execution_count": null,
   "metadata": {
    "id": "va5SPeEGa60M"
   },
   "outputs": [],
   "source": [
    "\"\"\"\n",
    "   where daysattend > 1 AND daysabsent > 200 AND grade in ('1','2','3','4','5') AND (std_number, enterdate) in \n",
    "     ( select std_number, max(enterdate) enterdate from schools.afile_1617 group by std_number )\n",
    "     /\n",
    "   where daysattend > 1 AND grade in ('1','2','3','4','5') AND (std_number, enterdate) in \n",
    "     ( select std_number, max(enterdate) enterdate from schools.afile_1617 group by std_number )\n",
    "\"\"\""
   ]
  },
  {
   "cell_type": "markdown",
   "metadata": {
    "id": "Wh_ZcjeGmRLA"
   },
   "source": [
    "\n",
    "  numerator only differentiates from the denominator in that it looks for days absent > 200..also. the query filters for 200 but the indicator description says 20"
   ]
  },
  {
   "cell_type": "code",
   "execution_count": null,
   "metadata": {
    "id": "BkluYh4zmDo4"
   },
   "outputs": [],
   "source": [
    "denom[ denom['daysabsent'] > 200]"
   ]
  },
  {
   "cell_type": "code",
   "execution_count": null,
   "metadata": {
    "id": "cMduRGqX0R5o"
   },
   "outputs": [],
   "source": [
    "#export\n",
    "def abse(df, csa, yr):\n",
    "  df['count'] = 1\n",
    "\n",
    "  # Create the Denominator\n",
    "  denom = df.copy()\n",
    "  denom = denom[ denom['grade'].str.contains('^1$|^2$|^3$|^4$|^5$', regex=True)  & (denom['daysattend'] > 1) ]\n",
    "\n",
    "  # Create the Numerator\n",
    "  numer = denom[ (denom['daysabsent'] > 200 ) ]\n",
    "\n",
    "  id = '73'\n",
    "  shortname = 'abse'\n",
    "\n",
    "  # Group by CSA\n",
    "  numer = numer.groupby('CSA2010').sum(numeric_only=True)\n",
    "  denom = denom.groupby('CSA2010').sum(numeric_only=True)\n",
    "\n",
    "  # Make sure ALL csas and BaltimoreCity are included and sorted.\n",
    "  numer = csa.merge( numer, left_on='CSA2010', right_on='CSA2010', how='outer' )\n",
    "  denom = csa.merge( denom, left_on='CSA2010', right_on='CSA2010', how='outer' )\n",
    "  numer.drop( columns=['geometry', 'Shape__Length','Shape__Area'], inplace=True)\n",
    "  denom.drop( columns=['geometry', 'Shape__Length','Shape__Area'], inplace=True)\n",
    "\n",
    "  numer.drop(columns=['tpop10', 'EnrollmentFlag', 'daysattend', 'SchoolSwitcherFlag', 'wleavecode',\n",
    "               'daysabsent', 'race_AIAN', 'race_asian', 'race_AA',\n",
    "               'race_NHPI', 'race_white', 'std_number', 'enterdate']).to_csv(id+'-'+shortname+year+'_numer.csv', index=False)\n",
    "  denom.drop(columns=['tpop10', 'EnrollmentFlag', 'daysattend', 'SchoolSwitcherFlag', 'wleavecode',\n",
    "               'daysabsent', 'race_AIAN', 'race_asian', 'race_AA',\n",
    "               'race_NHPI', 'race_white', 'std_number', 'enterdate']).to_csv(id+'-'+shortname+year+'_denom.csv', index=False)\n",
    "\n",
    "  numer['denomCount'] = denom['count']\n",
    "\n",
    "  # Do after sortViaCsaMerge to get index right. False records would show underneath it but still get added to the sum.\n",
    "  numer.at[55,'count']=numer['count'].sum()\n",
    "  numer.at[55,'denomCount']=numer['denomCount'].sum()\n",
    "\n",
    "  # Perform the calculation\n",
    "  numer[id+'-'+shortname+year] = numer['count'] / numer['denomCount'] * 100\n",
    "\n",
    "  compareYears = gpd.read_file(\"https://services1.arcgis.com/mVFRs7NF4iFitgbY/ArcGIS/rest/services/\"+shortname.capitalize()+\"/FeatureServer/0/query?where=1%3D1&outFields=*&returnGeometry=true&f=pgeojson\");\n",
    "  goback = 2 if year == '19' else 3\n",
    "  prevYear = shortname + str( int(year) - goback )\n",
    "  if prevYear in compareYears.columns:\n",
    "    numer = numer.merge( compareYears[['CSA2010', prevYear]], left_on='CSA2010', right_on='CSA2010', how='outer' )\n",
    "    numer['change'] = numer[id+'-'+shortname+year] - numer[ prevYear ]\n",
    "    numer['percentChange'] = numer['change' ] / numer[ prevYear ] * 100\n",
    "    numer['change'] = numer['change'].apply(lambda x: \"{:.2f}\".format(x) )\n",
    "    print( 'Records Matching Query: ', numer.size / len(numer.columns) )\n",
    "  return numer.drop(columns=['daysattend', 'SchoolSwitcherFlag', 'wleavecode',\n",
    "               'daysabsent', 'race_AIAN', 'race_asian', 'race_AA',\n",
    "               'race_NHPI', 'race_white', 'std_number', 'enterdate'])"
   ]
  },
  {
   "cell_type": "code",
   "execution_count": null,
   "metadata": {
    "id": "BhNZLQe8ZZrW"
   },
   "outputs": [],
   "source": [
    "fin = abse(bcpss, csa, year)\n",
    "fin.to_csv('73-abse'+year+'.csv', index=False)\n",
    "fin.head(6) "
   ]
  },
  {
   "cell_type": "markdown",
   "metadata": {
    "id": "wnKzgmOwdyHM"
   },
   "source": [
    "### 74 absmd - G - No Drop Dupes\n",
    "\n"
   ]
  },
  {
   "cell_type": "code",
   "execution_count": null,
   "metadata": {
    "id": "o1zWq8OHcfWq"
   },
   "outputs": [],
   "source": [
    "lbl = \"\"\" BCPSS - Education and Youth - Percent of 6th-8th Grade Students that are Chronically Absent (Missing at least 20 days) \"\"\"\n",
    "\n",
    "query16 = \"\"\" with numerator as (\n",
    "   select sum(\n",
    "   case \n",
    "   when (daysattend > 1) AND (grade = '6' OR grade = '7' OR grade = '8') AND (daysabsent > 200)\n",
    "   then 1\n",
    "   else 0\n",
    "   end)::numeric as result, csa\n",
    "   from vital_signs.match_csas_and_bc_by_geom('schools.afile_2016', 'gid', 'the_geom') a\n",
    "   left join schools.afile_2016 b on a.gid = b.gid\n",
    "   group by csa\n",
    "   ),\n",
    "   denominator AS (\n",
    "    select (sum(\n",
    "     case \n",
    "     when (daysattend::numeric > 1) AND (grade = '6' OR grade = '7' OR grade = '8') \n",
    "     then 1\n",
    "     else 0\n",
    "     end)::numeric \n",
    "    ) as result, csa\n",
    "    from vital_signs.match_csas_and_bc_by_geom('schools.afile_2016', 'gid', 'the_geom') a\n",
    "    left join schools.afile_2016 b on a.gid = b.gid\n",
    "    group by csa\n",
    "   ),\n",
    "   tbl AS (\n",
    "     select denominator.csa,(numerator.result / denominator.result)*(100::numeric) as result \n",
    "     from numerator left join denominator on numerator.csa = denominator.csa\n",
    "    )\n",
    "   update vital_signs.data\n",
    "   set absmd = result from tbl where data.csa = tbl.csa and data_year = '2016'; \n",
    "  \"\"\"\n",
    "\n",
    "\n",
    "NEW17Query =  \"\"\"with numerator as (\n",
    "   select count(*)::numeric as result, csa\n",
    "     from vital_signs.match_csas_and_bc_by_geom('schools.afile_1617', 'gid', 'the_geom') a\n",
    "       left join schools.afile_1617 b on a.gid = b.gid\n",
    "   where daysattend > 1 AND daysabsent > 200 AND grade in ('6','7','8') AND (std_number, enterdate) in \n",
    "     ( select std_number, max(enterdate) enterdate from schools.afile_1617 group by std_number )\n",
    "   group by csa\n",
    "   ),\n",
    "   denominator AS (\n",
    "   select count(*)::numeric as result, csa\n",
    "     from vital_signs.match_csas_and_bc_by_geom('schools.afile_1617', 'gid', 'the_geom') a\n",
    "       left join schools.afile_1617 b on a.gid = b.gid\n",
    "   where daysattend > 1 AND grade in ('6','7','8') AND (std_number, enterdate) in \n",
    "     ( select std_number, max(enterdate) enterdate from schools.afile_1617 group by std_number )\n",
    "   group by csa\n",
    "   ),\n",
    "   tbl AS (\n",
    "     select denominator.csa,(numerator.result / NULLIF(denominator.result,0) )*(100::numeric) as result \n",
    "     from numerator left join denominator on numerator.csa = denominator.csa\n",
    "    )\n",
    "  select * from tbl where 1 = 1 ORDER BY csa ASC;\n",
    "  \"\"\"\n",
    "\n",
    "OLD17Query = \"\"\"with numerator as (\n",
    "   select sum(\n",
    "   case \n",
    "   when (daysattend > 1) AND (grade = '6' OR grade = '7' OR grade = '8') AND (daysabsent > 200)\n",
    "   then 1\n",
    "   else 0\n",
    "   end)::numeric as result, csa\n",
    "   from vital_signs.match_csas_and_bc_by_geom('schools.afile_1617', 'gid', 'the_geom') a\n",
    "   left join schools.afile_1617 b on a.gid = b.gid\n",
    "   group by csa\n",
    "   ),\n",
    "   denominator AS (\n",
    "    select (sum(\n",
    "     case \n",
    "     when (daysattend::numeric > 1) AND (grade = '6' OR grade = '7' OR grade = '8') \n",
    "     then 1\n",
    "     else 0\n",
    "     end)::numeric \n",
    "    ) as result, csa\n",
    "    from vital_signs.match_csas_and_bc_by_geom('schools.afile_1617', 'gid', 'the_geom') a\n",
    "    left join schools.afile_1617 b on a.gid = b.gid\n",
    "    group by csa\n",
    "   ),\n",
    "   tbl AS (\n",
    "     select denominator.csa,(numerator.result / NULLIF(denominator.result,0) )*(100::numeric) as result \n",
    "     from numerator left join denominator on numerator.csa = denominator.csa\n",
    "    )\n",
    "  select * from tbl where 1 = 1 ORDER BY csa ASC;\n",
    "  \"\"\"\n",
    "\n",
    "\"\"\" afile_1617  NULLIF(denominator.result,0) \"\"\""
   ]
  },
  {
   "cell_type": "code",
   "execution_count": null,
   "metadata": {
    "id": "W4GcZWgla1Fd"
   },
   "outputs": [],
   "source": [
    "\"\"\"\n",
    "   where daysattend > 1 AND daysabsent > 200 AND grade in ('6','7','8') AND (std_number, enterdate) in \n",
    "     ( select std_number, max(enterdate) enterdate from schools.afile_1617 group by std_number )\n",
    "     /\n",
    "   where daysattend > 1 AND grade in ('6','7','8') AND (std_number, enterdate) in \n",
    "     ( select std_number, max(enterdate) enterdate from schools.afile_1617 group by std_number )\n",
    "\"\"\""
   ]
  },
  {
   "cell_type": "code",
   "execution_count": null,
   "metadata": {
    "id": "1R8foyIs14MT"
   },
   "outputs": [],
   "source": [
    "#export\n",
    "def absmd(df, csa, yr):\n",
    "  df['count'] = 1\n",
    "\n",
    "  # Create the Denominator\n",
    "  denom = df.copy()\n",
    "  denom = denom[ denom['grade'].str.contains('^6$|^7$|^8$', regex=True)  & (denom['daysattend'] > 1) ]\n",
    "\n",
    "  # Create the Numerator\n",
    "  numer = denom[ (denom['daysabsent'] > 200 ) ]\n",
    "\n",
    "  id = '74'\n",
    "  shortname = 'absmd'\n",
    "\n",
    "  # Group by CSA\n",
    "  numer = numer.groupby('CSA2010').sum(numeric_only=True)\n",
    "  denom = denom.groupby('CSA2010').sum(numeric_only=True)\n",
    "\n",
    "  # Make sure ALL csas and BaltimoreCity are included and sorted.\n",
    "  numer = csa.merge( numer, left_on='CSA2010', right_on='CSA2010', how='outer' )\n",
    "  denom = csa.merge( denom, left_on='CSA2010', right_on='CSA2010', how='outer' )\n",
    "  numer.drop( columns=['geometry', 'Shape__Length','Shape__Area'], inplace=True)\n",
    "  denom.drop( columns=['geometry', 'Shape__Length','Shape__Area'], inplace=True)\n",
    "\n",
    "  numer.drop(columns=['tpop10', 'EnrollmentFlag', 'daysattend', 'SchoolSwitcherFlag', 'wleavecode',\n",
    "               'daysabsent', 'race_AIAN', 'race_asian', 'race_AA',\n",
    "               'race_NHPI', 'race_white', 'std_number', 'enterdate']).to_csv(id+'-'+shortname+year+'_numer.csv', index=False)\n",
    "  denom.drop(columns=['tpop10', 'EnrollmentFlag', 'daysattend', 'SchoolSwitcherFlag', 'wleavecode',\n",
    "               'daysabsent', 'race_AIAN', 'race_asian', 'race_AA',\n",
    "               'race_NHPI', 'race_white', 'std_number', 'enterdate']).to_csv(id+'-'+shortname+year+'_denom.csv', index=False)\n",
    "\n",
    "  numer['denomCount'] = denom['count']\n",
    "\n",
    "  # Do after sortViaCsaMerge to get index right. False records would show underneath it but still get added to the sum.\n",
    "  numer.at[55,'count']=numer['count'].sum()\n",
    "  numer.at[55,'denomCount']=numer['denomCount'].sum()\n",
    "\n",
    "  # Perform the calculation\n",
    "  numer[id+'-'+shortname+year] = numer['count'] / numer['denomCount'] * 100\n",
    "\n",
    "  compareYears = gpd.read_file(\"https://services1.arcgis.com/mVFRs7NF4iFitgbY/ArcGIS/rest/services/\"+shortname.capitalize()+\"/FeatureServer/0/query?where=1%3D1&outFields=*&returnGeometry=true&f=pgeojson\");\n",
    "  goback = 2 if year == '19' else 3\n",
    "  prevYear = shortname + str( int(year) - goback )\n",
    "  if prevYear in compareYears.columns:\n",
    "    numer = numer.merge( compareYears[['CSA2010', prevYear]], left_on='CSA2010', right_on='CSA2010', how='outer' )\n",
    "    numer['change'] = numer[id+'-'+shortname+year] - numer[ prevYear ]\n",
    "    numer['percentChange'] = numer['change' ] / numer[ prevYear ] * 100\n",
    "    numer['change'] = numer['change'].apply(lambda x: \"{:.2f}\".format(x) )\n",
    "    print( 'Records Matching Query: ', numer.size / len(numer.columns) )\n",
    "  return numer.drop(columns=['daysattend', 'SchoolSwitcherFlag', 'wleavecode',\n",
    "               'daysabsent', 'race_AIAN', 'race_asian', 'race_AA',\n",
    "               'race_NHPI', 'race_white', 'std_number', 'enterdate'])"
   ]
  },
  {
   "cell_type": "code",
   "execution_count": null,
   "metadata": {
    "id": "Hjtoj4wyZXxH"
   },
   "outputs": [],
   "source": [
    "fin = absmd(bcpss, csa, year)\n",
    "fin.to_csv('74-absmd'+year+'.csv', index=False)\n",
    "fin.head(6)"
   ]
  },
  {
   "cell_type": "markdown",
   "metadata": {
    "id": "sWuKgkTodyKE"
   },
   "source": [
    "### 75 abshs - G - No Drop Dupes\n",
    "\n"
   ]
  },
  {
   "cell_type": "code",
   "execution_count": null,
   "metadata": {
    "id": "Ft1b_L5_cdtT"
   },
   "outputs": [],
   "source": [
    "lbl = \"\"\" BCPSS - Education and Youth - Percent of 9th-12th Grade Students that are Chronically Absent (Missing at least 20 days) \"\"\"\n",
    "\n",
    "Query16  = \"\"\"with numerator as (\n",
    "   select sum(\n",
    "   case \n",
    "   when (daysattend > 1) AND (grade = '9' OR grade = '10' OR grade = '11' OR grade = '12') AND (daysabsent > 200)\n",
    "   then 1\n",
    "   else 0\n",
    "   end)::numeric as result, csa\n",
    "   from vital_signs.match_csas_and_bc_by_geom('schools.afile_2016', 'gid', 'the_geom') a\n",
    "   left join schools.afile_2016 b on a.gid = b.gid\n",
    "   group by csa\n",
    "   ),\n",
    "   denominator AS (\n",
    "    select (sum(\n",
    "     case \n",
    "     when (daysattend::numeric > 1) AND (grade = '9' OR grade = '10' OR grade = '11' OR grade = '12') \n",
    "     then 1\n",
    "     else 0\n",
    "     end)::numeric \n",
    "    ) as result, csa\n",
    "    from vital_signs.match_csas_and_bc_by_geom('schools.afile_2016', 'gid', 'the_geom') a\n",
    "    left join schools.afile_2016 b on a.gid = b.gid\n",
    "    group by csa\n",
    "   ),\n",
    "   tbl AS (\n",
    "     select denominator.csa,(numerator.result / denominator.result)*(100::numeric) as result \n",
    "     from numerator left join denominator on numerator.csa = denominator.csa\n",
    "    )\n",
    "   update vital_signs.data\n",
    "   set abshs = result from tbl where data.csa = tbl.csa and data_year = '2016';\n",
    "  \"\"\"\n",
    "\n",
    "New17Query =  \"\"\"with numerator as (\n",
    "   select count(*)::numeric as result, csa\n",
    "     from vital_signs.match_csas_and_bc_by_geom('schools.afile_1617', 'gid', 'the_geom') a\n",
    "       left join schools.afile_1617 b on a.gid = b.gid\n",
    "   where daysattend > 1 AND daysabsent > 200 AND grade in ('9','10','11','12') AND (std_number, enterdate) in \n",
    "     ( select std_number, max(enterdate) enterdate from schools.afile_1617 group by std_number )\n",
    "   group by csa\n",
    "   ),\n",
    "   denominator AS (\n",
    "   select count(*)::numeric as result, csa\n",
    "     from vital_signs.match_csas_and_bc_by_geom('schools.afile_1617', 'gid', 'the_geom') a\n",
    "       left join schools.afile_1617 b on a.gid = b.gid\n",
    "   where daysattend > 1 AND grade in ('9','10','11','12') AND (std_number, enterdate) in \n",
    "     ( select std_number, max(enterdate) enterdate from schools.afile_1617 group by std_number )\n",
    "   group by csa\n",
    "   ),\n",
    "   tbl AS (\n",
    "     select denominator.csa,(numerator.result / NULLIF(denominator.result,0) )*(100::numeric) as result \n",
    "     from numerator left join denominator on numerator.csa = denominator.csa\n",
    "    )\n",
    "  select * from tbl where 1 = 1 ORDER BY csa ASC;\n",
    "  \"\"\"\n",
    "\n",
    "\"\"\"\n",
    "  afile_1617\n",
    "  NULLIF(denominator.result,0)\n",
    "  \"\"\""
   ]
  },
  {
   "cell_type": "code",
   "execution_count": null,
   "metadata": {
    "id": "Au1uTc6zawsN"
   },
   "outputs": [],
   "source": [
    "\"\"\"\n",
    "   where daysattend > 1 AND daysabsent > 200 AND grade in ('9','10','11','12') AND (std_number, enterdate) in \n",
    "     ( select std_number, max(enterdate) enterdate from schools.afile_1617 group by std_number )\n",
    "     /\n",
    "   where daysattend > 1 AND grade in ('9','10','11','12') AND (std_number, enterdate) in \n",
    "     ( select std_number, max(enterdate) enterdate from schools.afile_1617 group by std_number )\n",
    "\"\"\""
   ]
  },
  {
   "cell_type": "code",
   "execution_count": null,
   "metadata": {
    "id": "gn2436mW19ww"
   },
   "outputs": [],
   "source": [
    "#export\n",
    "def abshd(df, csa, yr):\n",
    "  df['count'] = 1\n",
    "\n",
    "  # Create the Denominator\n",
    "  denom = df.copy()\n",
    "  denom = denom[ denom['grade'].str.contains('^9$|^10$|^11$|^12$', regex=True)  & (denom['daysattend'] > 1) ]\n",
    "\n",
    "  # Create the Numerator\n",
    "  numer = denom[ (denom['daysabsent'] > 200 ) ]\n",
    "\n",
    "  id = '75'\n",
    "  shortname = 'abshs'\n",
    "\n",
    "  # Group by CSA\n",
    "  numer = numer.groupby('CSA2010').sum(numeric_only=True)\n",
    "  denom = denom.groupby('CSA2010').sum(numeric_only=True)\n",
    "\n",
    "  # Make sure ALL csas and BaltimoreCity are included and sorted.\n",
    "  numer = csa.merge( numer, left_on='CSA2010', right_on='CSA2010', how='outer' )\n",
    "  denom = csa.merge( denom, left_on='CSA2010', right_on='CSA2010', how='outer' )\n",
    "  numer.drop( columns=['geometry', 'Shape__Length','Shape__Area'], inplace=True)\n",
    "  denom.drop( columns=['geometry', 'Shape__Length','Shape__Area'], inplace=True)\n",
    "\n",
    "  numer.drop(columns=['tpop10', 'EnrollmentFlag', 'daysattend', 'SchoolSwitcherFlag', 'wleavecode',\n",
    "               'daysabsent', 'race_AIAN', 'race_asian', 'race_AA',\n",
    "               'race_NHPI', 'race_white', 'std_number', 'enterdate']).to_csv(id+'-'+shortname+year+'_numer.csv', index=False)\n",
    "  denom.drop(columns=['tpop10', 'EnrollmentFlag', 'daysattend', 'SchoolSwitcherFlag', 'wleavecode',\n",
    "               'daysabsent', 'race_AIAN', 'race_asian', 'race_AA',\n",
    "               'race_NHPI', 'race_white', 'std_number', 'enterdate']).to_csv(id+'-'+shortname+year+'_denom.csv', index=False)\n",
    "\n",
    "  numer['denomCount'] = denom['count']\n",
    "\n",
    "  # Do after sortViaCsaMerge to get index right. False records would show underneath it but still get added to the sum.\n",
    "  numer.at[55,'count']=numer['count'].sum()\n",
    "  numer.at[55,'denomCount']=numer['denomCount'].sum()\n",
    "\n",
    "  # Perform the calculation\n",
    "  numer[id+'-'+shortname+year] = numer['count'] / numer['denomCount'] * 100\n",
    "\n",
    "  compareYears = gpd.read_file(\"https://services1.arcgis.com/mVFRs7NF4iFitgbY/ArcGIS/rest/services/\"+shortname.capitalize()+\"/FeatureServer/0/query?where=1%3D1&outFields=*&returnGeometry=true&f=pgeojson\");\n",
    "  goback = 2 if year == '19' else 3\n",
    "  prevYear = shortname + str( int(year) - goback )\n",
    "  if prevYear in compareYears.columns:\n",
    "    numer = numer.merge( compareYears[['CSA2010', prevYear]], left_on='CSA2010', right_on='CSA2010', how='outer' )\n",
    "    numer['change'] = numer[id+'-'+shortname+year] - numer[ prevYear ]\n",
    "    numer['percentChange'] = numer['change' ] / numer[ prevYear ] * 100\n",
    "    numer['change'] = numer['change'].apply(lambda x: \"{:.2f}\".format(x) )\n",
    "    print( 'Records Matching Query: ', numer.size / len(numer.columns) )\n",
    "  return numer.drop(columns=['daysattend', 'SchoolSwitcherFlag', 'wleavecode',\n",
    "               'daysabsent', 'race_AIAN', 'race_asian', 'race_AA',\n",
    "               'race_NHPI', 'race_white', 'std_number', 'enterdate'])"
   ]
  },
  {
   "cell_type": "code",
   "execution_count": null,
   "metadata": {
    "id": "_oC8TBTCZVZP"
   },
   "outputs": [],
   "source": [
    "fin = abshd(bcpss, csa, year)\n",
    "fin.to_csv('75-abshs'+year+'.csv', index=False)\n",
    "fin.head(6) "
   ]
  },
  {
   "cell_type": "markdown",
   "metadata": {
    "id": "a9u3RmvJoqGh"
   },
   "source": [
    "### 91 drop - G - No Drop Dupes\n",
    "\n"
   ]
  },
  {
   "cell_type": "code",
   "execution_count": null,
   "metadata": {
    "id": "6lBuYim_cRZA"
   },
   "outputs": [],
   "source": [
    "lbl = \"\"\"BCPSS - Education and Youth - High School Dropout/Withdrawl Rate\"\"\"\n",
    "\n",
    "query16 = \"\"\"with numerator as (\n",
    "   select sum(\n",
    "   case \n",
    "   when daysattend::numeric > 1 AND (wleavecode LIKE 'W%') AND (wleavecode != 'W43') AND (grade = '9' OR grade = '10' OR grade = '11' OR grade = '12')\n",
    "   then 1\n",
    "   else 0\n",
    "   end)::numeric as result, csa\n",
    "   from vital_signs.match_csas_and_bc_by_geom('schools.afile_2016', 'gid', 'the_geom') a\n",
    "   left join schools.afile_2016 b on a.gid = b.gid\n",
    "   group by csa\n",
    "   ),\n",
    "   denominator AS (\n",
    "    select (sum(\n",
    "     case \n",
    "     when (daysattend::numeric > 1) AND (grade = '9' OR grade = '10' OR grade = '11' OR grade = '12') \n",
    "     then 1\n",
    "     else 0\n",
    "     end)::numeric \n",
    "    ) as result, csa\n",
    "    from vital_signs.match_csas_and_bc_by_geom('schools.afile_2016', 'gid', 'the_geom') a\n",
    "    left join schools.afile_2016 b on a.gid = b.gid\n",
    "    group by csa\n",
    "   ),\n",
    "   tbl AS (\n",
    "     select denominator.csa,(numerator.result / NULLIF(denominator.result,0) )*(100::numeric) as result \n",
    "     from numerator left join denominator on numerator.csa = denominator.csa\n",
    "    )\n",
    "  select * from tbl where 1 = 1 ORDER BY csa ASC;\n",
    "  \"\"\"\n",
    "\n",
    "NEW17Query = \"\"\"with numerator as (\n",
    "   select count(*)::numeric as result, csa\n",
    "     from vital_signs.match_csas_and_bc_by_geom('schools.afile_1617', 'gid', 'the_geom') a\n",
    "       left join schools.afile_1617 b on a.gid = b.gid\n",
    "   where daysattend > 1 AND  grade in ('9','10','11','12') AND wleavecode IN ('30','31','32','33','34','35','36','37','38','39','41','42','44','46','50','71','85') \n",
    "   AND (std_number, enterdate) in ( select std_number, max(enterdate) enterdate from schools.afile_1617 group by std_number )\n",
    "   group by csa\n",
    "   ),\n",
    "   denominator AS (\n",
    "   select count(*)::numeric as result, csa\n",
    "     from vital_signs.match_csas_and_bc_by_geom('schools.afile_1617', 'gid', 'the_geom') a\n",
    "       left join schools.afile_1617 b on a.gid = b.gid\n",
    "   where daysattend > 1 AND grade in ('9','10','11','12') AND (std_number, enterdate) in \n",
    "     ( select std_number, max(enterdate) enterdate from schools.afile_1617 group by std_number )\n",
    "   group by csa\n",
    "   ),\n",
    "   tbl AS (\n",
    "     select denominator.csa,(numerator.result / NULLIF(denominator.result,0) )*(100::numeric) as result \n",
    "     from numerator left join denominator on numerator.csa = denominator.csa\n",
    "    )\n",
    "  select * from tbl where 1 = 1 ORDER BY csa ASC;\n",
    "  \"\"\"\n",
    "\n",
    "\n",
    "OLD17 = \"\"\" with numerator as (\n",
    "   select sum(\n",
    "   case \n",
    "   when daysattend::numeric > 1 \n",
    "     AND (grade = '9' OR grade = '10' OR grade = '11' OR grade = '12') \n",
    "     AND wleavecode IN ('30','31','32','33','34','35','36','37','38','39','41','42','44','46','50','71','85')\n",
    "   then 1\n",
    "   else 0\n",
    "   end)::numeric as result, csa\n",
    "   from vital_signs.match_csas_and_bc_by_geom('schools.afile_1617', 'gid', 'the_geom') a\n",
    "   left join schools.afile_1617 b on a.gid = b.gid\n",
    "   group by csa\n",
    "   ),\n",
    "   denominator AS (\n",
    "    select (sum(\n",
    "     case \n",
    "     when (daysattend::numeric > 1) AND (grade = '9' OR grade = '10' OR grade = '11' OR grade = '12') \n",
    "     then 1\n",
    "     else 0\n",
    "     end)::numeric \n",
    "    ) as result, csa\n",
    "    from vital_signs.match_csas_and_bc_by_geom('schools.afile_1617', 'gid', 'the_geom') a\n",
    "    left join schools.afile_1617 b on a.gid = b.gid\n",
    "    group by csa\n",
    "   ),\n",
    "   tbl AS (\n",
    "     select denominator.csa,(numerator.result / NULLIF(denominator.result,0) )*(100::numeric) as result \n",
    "     from numerator left join denominator on numerator.csa = denominator.csa\n",
    "    )\n",
    "  select * from tbl where 1 = 1 ORDER BY csa ASC;\n",
    "  \"\"\"\n",
    "\n",
    "miscnotes =   \"\"\"\n",
    "  afile_1617\n",
    "\n",
    "\n",
    "  NULLIF(denominator.result,0)\n",
    "\n",
    "  ERROR: wleavecode\n",
    "\n",
    "  43 - 'W43 - Death' \n",
    "\n",
    "  LEAVE CODES\n",
    "\n",
    "\n",
    "  WLEAVECODE SY15-16 LEAVECODE SY16-17 Code\n",
    "  0 00 0 'None'\n",
    "  C60 60 'C60 - Graduated'\n",
    "  'C61 - Graduated Certificate of Merit'\n",
    "  C62 62 'C62 - Graduated HS certificate'\n",
    "  'C63 - Graduated Special Ed'\n",
    "  C70 70 'C70 - Early college admission'\n",
    "  T10 10 'T10 - To other BCPS'\n",
    "  T13 13 'T13 - Transfer to MD Public School'\n",
    "  T14 14 'T14 - to US public school'\n",
    "  T15 15 'T15 - to non-public school within city'\n",
    "  16 'T16 - to non-public school outside Baltimore'\n",
    "  17 'T17 - to Us Non-public school' \n",
    "  18'T18 - to any school outside the US' T21 T21 - to evening high school'\n",
    "  22 'T22 - To state institution w/epdgm'\n",
    "  24 'T24 - To parent teaching'\n",
    "  26 T27\n",
    "  30 'W30 - Illness- no education program'\n",
    "  31 'W31 - Over 16, lack of academic success'\n",
    "  'W32 - Over 16, discpl (not expelled) '\n",
    "  33 'W33 - Over 16, lack of motivation'\n",
    "  34 'W34  employment'\n",
    "  'W35 - marriage'\n",
    "  'W36 - military service'\n",
    "  38 'W38 - Court action to institution'\n",
    "  W39 'W39 - Over 16, economic reasons'\n",
    "  'W40 - Under 16 expulsion'\n",
    "  41 'W41 - Under 5 immaturity'\n",
    "  42 'W42 - Under 16 special case'\n",
    "  43 'W43 - Death'\n",
    "  'W44 - Over 16 parenting'\n",
    "  'W46 - Over 16 expulsion required'\n",
    "  50 'W50 - Whereabouts unknown'\n",
    "  W71 'W71 - Pregnancy'.\n",
    "  W85 85\n",
    "  \"\"\""
   ]
  },
  {
   "cell_type": "code",
   "execution_count": null,
   "metadata": {
    "id": "VqeC7lOn2JZw"
   },
   "outputs": [],
   "source": [
    "#export\n",
    "def drop(df, csa, yr):\n",
    "  df['count'] = 1\n",
    "\n",
    "  # Create the Denominator\n",
    "  denom = df.copy()\n",
    "  denom = denom[ denom['grade'].str.contains('^9$|^10$|^11$|^12$', regex=True)  & (denom['daysattend'] > 1) ]\n",
    "\n",
    "  # Create the Numerator\n",
    "  denom['wleavecode'] = denom['wleavecode'].astype(str)\n",
    "  numer = denom[ ( denom['wleavecode'].str.contains('30|31|32|33|34|35|36|37|38|39|41|42|44|46|50|71|85', regex=True) ) ]\n",
    "\n",
    "  id = '91'\n",
    "  shortname = 'drop'\n",
    "\n",
    "  # Group by CSA\n",
    "  numer = numer.groupby('CSA2010').sum(numeric_only=True)\n",
    "  denom = denom.groupby('CSA2010').sum(numeric_only=True)\n",
    "\n",
    "  # Make sure ALL csas and BaltimoreCity are included and sorted.\n",
    "  numer = csa.merge( numer, left_on='CSA2010', right_on='CSA2010', how='outer' )\n",
    "  denom = csa.merge( denom, left_on='CSA2010', right_on='CSA2010', how='outer' )\n",
    "  numer.drop( columns=['geometry', 'Shape__Length','Shape__Area'], inplace=True)\n",
    "  numer['denomCount'] = denom['count']\n",
    "\n",
    "  # Do after sortViaCsaMerge to get index right. False records would show underneath it but still get added to the sum.\n",
    "  numer.at[55,'count']=numer['count'].sum()\n",
    "  numer.at[55,'denomCount']=numer['denomCount'].sum()\n",
    "\n",
    "  # Perform the calculation\n",
    "  numer[id+'-'+shortname+year] = numer['count'] / numer['denomCount'] * 100\n",
    "\n",
    "  compareYears = gpd.read_file(\"https://services1.arcgis.com/mVFRs7NF4iFitgbY/ArcGIS/rest/services/\"+shortname.capitalize()+\"/FeatureServer/0/query?where=1%3D1&outFields=*&returnGeometry=true&f=pgeojson\");\n",
    "  goback = 2 if year == '19' else 3\n",
    "  prevYear = shortname + str( int(year) - goback )\n",
    "  if prevYear in compareYears.columns:\n",
    "    numer = numer.merge( compareYears[['CSA2010', prevYear]], left_on='CSA2010', right_on='CSA2010', how='outer' )\n",
    "    numer['change'] = numer[id+'-'+shortname+year] - numer[ prevYear ]\n",
    "    numer['percentChange'] = numer['change' ] / numer[ prevYear ] * 100\n",
    "    numer['change'] = numer['change'].apply(lambda x: \"{:.2f}\".format(x) )\n",
    "    print( 'Records Matching Query: ', numer.size / len(numer.columns) )\n",
    "  return numer.drop(columns=['daysattend', 'SchoolSwitcherFlag',\n",
    "               'daysabsent', 'race_AIAN', 'race_asian', 'race_AA',\n",
    "               'race_NHPI', 'race_white', 'std_number', 'enterdate'])"
   ]
  },
  {
   "cell_type": "code",
   "execution_count": null,
   "metadata": {
    "id": "DDOBdEnZZTen"
   },
   "outputs": [],
   "source": [
    "fin = drop(bcpss, csa, year)\n",
    "fin.to_csv('91-drop'+year+'.csv', index=False)\n",
    "fin.head(6) "
   ]
  },
  {
   "cell_type": "markdown",
   "metadata": {
    "id": "cYUlCxIvdyNS"
   },
   "source": [
    "### 92 compl - G - No Drop Dupes\n"
   ]
  },
  {
   "cell_type": "code",
   "execution_count": null,
   "metadata": {
    "id": "tNxiEPLccPrz"
   },
   "outputs": [],
   "source": [
    "lbl = \"\"\"BCPSS - Education and Youth - High School Completion Rate\"\"\"\n",
    "\n",
    "query16 = \"\"\"with numerator as (\n",
    "   select sum(\n",
    "   case \n",
    "   when (daysattend::numeric > 1) AND (wleavecode LIKE 'C60') OR (wleavecode LIKE 'C62') AND (grade = '12')\n",
    "   then 1\n",
    "   else 0\n",
    "   end)::numeric as result, csa\n",
    "   from vital_signs.match_csas_and_bc_by_geom('schools.afile_2016', 'gid', 'the_geom') a\n",
    "   left join schools.afile_2016 b on a.gid = b.gid\n",
    "   group by csa\n",
    "   ),\n",
    "   denominator AS (\n",
    "    select (sum(\n",
    "     case \n",
    "     when (daysattend::numeric > 1) AND (grade = '12') \n",
    "     then 1\n",
    "     else 0\n",
    "     end)::numeric \n",
    "    ) as result, csa\n",
    "    from vital_signs.match_csas_and_bc_by_geom('schools.afile_2016', 'gid', 'the_geom') a\n",
    "    left join schools.afile_2016 b on a.gid = b.gid\n",
    "    group by csa\n",
    "   ),\n",
    " tbl AS (\n",
    "                        select vital_signs.div_zero (numerator.result, denominator.result)*(100::numeric) as result, numerator.csa\n",
    "                        from numerator left join denominator on numerator.csa = denominator.csa\n",
    "                                                                )\n",
    "     update vital_signs.data\n",
    "   set compl = result from tbl where data.csa = tbl.csa and data_year = '2016';    \n",
    "  \"\"\"\n",
    "\n",
    "OLD17 = \"\"\"with numerator as (\n",
    "   select sum(\n",
    "   case \n",
    "   when (daysattend::numeric > 1) AND (wleavecode = '60') OR (wleavecode = '62') AND (grade = '12')\n",
    "   then 1\n",
    "   else 0\n",
    "   end)::numeric as result, csa\n",
    "   from vital_signs.match_csas_and_bc_by_geom('schools.afile_1617', 'gid', 'the_geom') a\n",
    "   left join schools.afile_1617 b on a.gid = b.gid\n",
    "   group by csa\n",
    "   ),\n",
    "   denominator AS (\n",
    "    select (sum(\n",
    "     case \n",
    "     when (daysattend::numeric > 1) AND (grade = '12') \n",
    "     then 1\n",
    "     else 0\n",
    "     end)::numeric \n",
    "    ) as result, csa\n",
    "    from vital_signs.match_csas_and_bc_by_geom('schools.afile_1617', 'gid', 'the_geom') a\n",
    "    left join schools.afile_1617 b on a.gid = b.gid\n",
    "    group by csa\n",
    "   ),\n",
    "  tbl AS (\n",
    "  select vital_signs.div_zero (numerator.result, denominator.result)*(100::numeric) as result, numerator.csa\n",
    "  from numerator left join denominator on numerator.csa = denominator.csa\n",
    "  )\n",
    "  select * from tbl where 1 = 1 ORDER BY csa ASC;\n",
    "  \"\"\"\n",
    "\n",
    "misc = \"\"\"\n",
    "  New 17: \n",
    "\n",
    "  afile_1617\n",
    "\n",
    "  NULLIF(denominator.result,0)\n",
    "\n",
    "  ERROR: wleavecode\n",
    "\n",
    "  2016 Leave Codes: W50 T10 C60 T22 \n",
    "  2017 Leave Codes: 85 62 10 10 60\n",
    "  \"\"\""
   ]
  },
  {
   "cell_type": "code",
   "execution_count": null,
   "metadata": {
    "id": "6pLRqgdT2W3g"
   },
   "outputs": [],
   "source": [
    "#export\n",
    "def compl(df, csa, yr):\n",
    "  df['count'] = 1\n",
    "\n",
    "  # Create the Denominator\n",
    "  denom = df.copy()\n",
    "  denom = denom[ denom['grade'].str.contains('^12$', regex=True)  & (denom['daysattend'] > 1) ]\n",
    "\n",
    "  # Create the Numerator\n",
    "  denom['wleavecode'] = denom['wleavecode'].astype(str)\n",
    "  numer = denom[ ( denom['wleavecode'].str.contains('85|62|10|60', regex=True) ) ]\n",
    "\n",
    "  id = '92'\n",
    "  shortname = 'compl'\n",
    "\n",
    "  # Group by CSA\n",
    "  numer = numer.groupby('CSA2010').sum(numeric_only=True)\n",
    "  denom = denom.groupby('CSA2010').sum(numeric_only=True)\n",
    "\n",
    "  # Make sure ALL csas and BaltimoreCity are included and sorted.\n",
    "  numer = csa.merge( numer, left_on='CSA2010', right_on='CSA2010', how='outer' )\n",
    "  denom = csa.merge( denom, left_on='CSA2010', right_on='CSA2010', how='outer' )\n",
    "  numer.drop( columns=['geometry', 'Shape__Length','Shape__Area'], inplace=True)\n",
    "  numer['denomCount'] = denom['count']\n",
    "\n",
    "  # Do after sortViaCsaMerge to get index right. False records would show underneath it but still get added to the sum.\n",
    "  numer.at[55,'count']=numer['count'].sum()\n",
    "  numer.at[55,'denomCount']=numer['denomCount'].sum()\n",
    "\n",
    "  # Perform the calculation\n",
    "  numer[id+'-'+shortname+year] = numer['count'] / numer['denomCount'] * 100\n",
    "\n",
    "  compareYears = gpd.read_file(\"https://services1.arcgis.com/mVFRs7NF4iFitgbY/ArcGIS/rest/services/\"+shortname.capitalize()+\"/FeatureServer/0/query?where=1%3D1&outFields=*&returnGeometry=true&f=pgeojson\");\n",
    "  goback = 2 if year == '19' else 3\n",
    "  prevYear = shortname + str( int(year) - goback )\n",
    "  if prevYear in compareYears.columns:\n",
    "    numer = numer.merge( compareYears[['CSA2010', prevYear]], left_on='CSA2010', right_on='CSA2010', how='outer' )\n",
    "    numer['change'] = numer[id+'-'+shortname+year] - numer[ prevYear ]\n",
    "    numer['percentChange'] = numer['change' ] / numer[ prevYear ] * 100\n",
    "    numer['change'] = numer['change'].apply(lambda x: \"{:.2f}\".format(x) )\n",
    "    print( 'Records Matching Query: ', numer.size / len(numer.columns) )\n",
    "  return numer.drop(columns=['daysattend', 'SchoolSwitcherFlag',\n",
    "               'daysabsent', 'race_AIAN', 'race_asian', 'race_AA',\n",
    "               'race_NHPI', 'race_white', 'std_number', 'enterdate'])"
   ]
  },
  {
   "cell_type": "code",
   "execution_count": null,
   "metadata": {
    "id": "LnSyyLLbZNM_"
   },
   "outputs": [],
   "source": [
    "fin = compl(bcpss, csa, year)\n",
    "fin.to_csv('92-compl'+year+'.csv', index=False)\n",
    "fin.head(6) "
   ]
  },
  {
   "cell_type": "markdown",
   "metadata": {
    "id": "FcTZFLnYdyRB"
   },
   "source": [
    "### 94 sclsw - B - No Filter Duplicates\n"
   ]
  },
  {
   "cell_type": "markdown",
   "metadata": {
    "id": "uiGeJvm8jx6F"
   },
   "source": [
    "daysattend "
   ]
  },
  {
   "cell_type": "code",
   "execution_count": null,
   "metadata": {
    "id": "XyQDOrDxcOTm"
   },
   "outputs": [],
   "source": [
    "lbl = \"\"\"BCPSS - Education and Youth - Percent of Students Switching Schools within School Year\"\"\"\n",
    "\"\"\" Leave Code = 10 13 14 15 16 17 18 212 22 24\"\"\"\n",
    "\n",
    "q16 = \"\"\" with numerator as (\n",
    "   select sum(\n",
    "   case \n",
    "   when (daysattend > 1) \n",
    "   then 1\n",
    "   else 0\n",
    "   end)::numeric as result, csa\n",
    "   from vital_signs.match_csas_and_bc_by_geom('schools.schoolswitchers_2016', 'gid', 'the_geom') a\n",
    "   left join schools.schoolswitchers_2016 b on a.gid = b.gid\n",
    "   group by csa\n",
    "   ),\n",
    "   denominator AS (\n",
    "    select (sum(\n",
    "     case \n",
    "     when (daysattend::numeric > 1) \n",
    "     then 1\n",
    "     else 0\n",
    "     end)::numeric \n",
    "    ) as result, csa\n",
    "    from vital_signs.match_csas_and_bc_by_geom('schools.afile_2016', 'gid', 'the_geom') a\n",
    "    left join schools.afile_2016 b on a.gid = b.gid\n",
    "    group by csa\n",
    "   ),\n",
    " tbl AS (\n",
    "                        select vital_signs.div_zero (numerator.result, denominator.result)*(100::numeric) as result, numerator.csa\n",
    "                        from numerator left join denominator on numerator.csa = denominator.csa\n",
    "                                                                )\n",
    "     update vital_signs.data\n",
    "   set sclsw = result from tbl where data.csa = tbl.csa and data_year = '2016';  \n",
    "  \"\"\""
   ]
  },
  {
   "cell_type": "code",
   "execution_count": null,
   "metadata": {
    "id": "ouUFUEMUaSWc"
   },
   "outputs": [],
   "source": [
    "      \"\"\"\n",
    "       when (daysattend > 1) \n",
    "   then 1\n",
    "   else 0\n",
    "   /\n",
    "     when (daysattend::numeric > 1) \n",
    "     then 1\n",
    "     else 0\n",
    "     \"\"\""
   ]
  },
  {
   "cell_type": "code",
   "execution_count": null,
   "metadata": {
    "id": "aiqFavys2wIJ"
   },
   "outputs": [],
   "source": [
    "#export\n",
    "def sclsw(df, denomdf, csa, yr):\n",
    "  df['count'] = 1\n",
    "  denomdf['count'] = 1\n",
    "\n",
    "  # Create the Denominator\n",
    "  denom = denomdf.copy() #.sort_values('enterdate', ascending=False).drop_duplicates(['std_number'])\n",
    "  denom = denom[ (denom['daysattend'] > 1) ]\n",
    "\n",
    "  # Create the Numerator\n",
    "  numer = df.copy()\n",
    "  numer = numer[ (numer['daysattend'] > 1) ]\n",
    "\n",
    "  id = '94'\n",
    "  shortname = 'sclsw'\n",
    "\n",
    "  # Group by CSA\n",
    "  numer = numer.groupby('CSA2010').sum(numeric_only=True)\n",
    "  denom = denom.groupby('CSA2010').sum(numeric_only=True)\n",
    "\n",
    "  # Make sure ALL csas and BaltimoreCity are included and sorted.\n",
    "  numer = csa.merge( numer, left_on='CSA2010', right_on='CSA2010', how='outer' )\n",
    "  denom = csa.merge( denom, left_on='CSA2010', right_on='CSA2010', how='outer' )\n",
    "  numer.drop( columns=['geometry', 'Shape__Length','Shape__Area'], inplace=True)\n",
    "  numer['denomCount'] = denom['count']\n",
    "\n",
    "  # Do after sortViaCsaMerge to get index right. False records would show underneath it but still get added to the sum.\n",
    "  numer.at[55,'count']=numer['count'].sum()\n",
    "  numer.at[55,'denomCount']=numer['denomCount'].sum()\n",
    "\n",
    "  # Perform the calculation\n",
    "  numer[id+'-'+shortname+year] = numer['count'] / numer['denomCount'] * 100\n",
    "\n",
    "  compareYears = gpd.read_file(\"https://services1.arcgis.com/mVFRs7NF4iFitgbY/ArcGIS/rest/services/\"+shortname.capitalize()+\"/FeatureServer/0/query?where=1%3D1&outFields=*&returnGeometry=true&f=pgeojson\");\n",
    "  goback = 2 if year == '19' else 3\n",
    "  prevYear = shortname + str( int(year) - goback )\n",
    "  if prevYear in compareYears.columns:\n",
    "    numer = numer.merge( compareYears[['CSA2010', prevYear]], left_on='CSA2010', right_on='CSA2010', how='outer' )\n",
    "    numer['change'] = numer[id+'-'+shortname+year] - numer[ prevYear ]\n",
    "    numer['percentChange'] = numer['change' ] / numer[ prevYear ] * 100\n",
    "    numer['change'] = numer['change'].apply(lambda x: \"{:.2f}\".format(x) )\n",
    "    print( 'Records Matching Query: ', numer.size / len(numer.columns) )\n",
    "  return numer.drop(columns=['daysattend', 'SchoolSwitcherFlag',\n",
    "               'daysabsent', 'race_AIAN', 'race_asian', 'race_AA',\n",
    "               'race_NHPI', 'race_white', 'std_number', 'enterdate'])"
   ]
  },
  {
   "cell_type": "code",
   "execution_count": null,
   "metadata": {
    "id": "KVnGWz1DYzTH"
   },
   "outputs": [],
   "source": [
    "fin = sclsw(schoolSwitchersDF, bcpss, csa, year)\n",
    "fin.to_csv('94-sclsw'+year+'.csv', index=False)\n",
    "fin.head(6) "
   ]
  },
  {
   "cell_type": "markdown",
   "metadata": {
    "id": "EqJa8YX-hZDC"
   },
   "source": [
    "### 195 eenrol - G - Drop Dupes - enrollment DF\n",
    "\n"
   ]
  },
  {
   "cell_type": "markdown",
   "metadata": {
    "id": "iSXabuQDjwbt"
   },
   "source": [
    "grade"
   ]
  },
  {
   "cell_type": "code",
   "execution_count": null,
   "metadata": {
    "id": "0rcB-BdbcNCD"
   },
   "outputs": [],
   "source": [
    "lbl = \"\"\"BCPSS - Education and Youth - Number of Students Officially Enrolled in 1st - 5th Grade\"\"\"\n",
    "\n",
    "q16 = \"\"\" with tbl AS (\n",
    "    select (sum(\n",
    "  case \n",
    "  when grade = '1' OR grade = '2' OR grade = '3' OR grade = '4' OR grade = '5'\n",
    "  then 1\n",
    "  else 0\n",
    "  end)::numeric \n",
    " ) as result, csa\n",
    " from vital_signs.match_csas_and_bc_by_geom('schools.enrollment_2016', 'gid', 'the_geom') a\n",
    " left join schools.enrollment_2016 b on a.gid = b.gid\n",
    " group by csa\n",
    "     )\n",
    "     update vital_signs.data\n",
    "     set eenrol = result from tbl where data.csa = tbl.csa and data_year = '2016';\n",
    "  \"\"\"\n",
    "\n",
    "q17 = \"\"\"with tbl AS (\n",
    "  select (sum( case \n",
    "    when grade = '1' OR grade = '2' OR grade = '3' OR grade = '4' OR grade = '5'\n",
    "     then 1 else 0\n",
    "       end)::numeric \n",
    "   ) as result, csa\n",
    "     from vital_signs.match_csas_and_bc_by_geom('schools.enrollment_1617', 'gid', 'the_geom') a\n",
    "       left join schools.enrollment_1617 b on a.gid = b.gid\n",
    "         group by csa\n",
    "  )\n",
    "  select * from tbl where 1 = 1 ORDER BY csa ASC;\n",
    "  \"\"\""
   ]
  },
  {
   "cell_type": "code",
   "execution_count": null,
   "metadata": {
    "id": "uqBihigH3MUw"
   },
   "outputs": [],
   "source": [
    "bcpssTemp.shape[0]"
   ]
  },
  {
   "cell_type": "code",
   "execution_count": null,
   "metadata": {
    "id": "rk0cUW523Ork"
   },
   "outputs": [],
   "source": [
    "bcpss.shape[0]"
   ]
  },
  {
   "cell_type": "code",
   "execution_count": null,
   "metadata": {
    "id": "onOeduMw26U2"
   },
   "outputs": [],
   "source": [
    "enrollment.shape[0]"
   ]
  },
  {
   "cell_type": "markdown",
   "metadata": {
    "id": "0Vo9xNUr6KHV"
   },
   "source": [
    "Whatever the VS year is, the school year is the year before. so for vs20, the school year to filter on (need to know the date they entered) is sept 2019."
   ]
  },
  {
   "cell_type": "code",
   "execution_count": null,
   "metadata": {
    "id": "CN-LQ9fS6Z38"
   },
   "outputs": [],
   "source": [
    "enrollment.dtypes"
   ]
  },
  {
   "cell_type": "code",
   "execution_count": null,
   "metadata": {
    "id": "zaL0tuCo21jx"
   },
   "outputs": [],
   "source": [
    "#export\n",
    "def eenrol(df, csa, yr):\n",
    "  df['count'] = 1\n",
    "\n",
    "  # Create the Numerator\n",
    "  numer = df.copy() # .sort_values('enterdate', ascending=False).drop_duplicates(['std_number'])\n",
    "  numer = numer[ numer['grade'].str.contains('^1$|^2$|^3$|^4$|^5$', regex=True) ]\n",
    "\n",
    "  id = '195'\n",
    "  shortname = 'eenrol'\n",
    "\n",
    "  # Group by CSA\n",
    "  numer = numer.groupby('CSA2010').sum(numeric_only=True)\n",
    "\n",
    "  # Make sure ALL csas and BaltimoreCity are included and sorted.\n",
    "  numer = csa.merge( numer, left_on='CSA2010', right_on='CSA2010', how='outer' )\n",
    "  numer.drop( columns=['geometry', 'Shape__Length','Shape__Area'], inplace=True)\n",
    "\n",
    "  # Do after sortViaCsaMerge to get index right. False records would show underneath it but still get added to the sum.\n",
    "  numer.at[55,'count']=numer['count'].sum()\n",
    "\n",
    "  # Perform the calculation\n",
    "  numer[id+'-'+shortname+year] = numer['count']\n",
    "\n",
    "  compareYears = gpd.read_file(\"https://services1.arcgis.com/mVFRs7NF4iFitgbY/ArcGIS/rest/services/\"+shortname.capitalize()+\"/FeatureServer/0/query?where=1%3D1&outFields=*&returnGeometry=true&f=pgeojson\");\n",
    "  goback = 2 if year == '19' else 3\n",
    "  prevYear = shortname + str( int(year) - goback )\n",
    "  if prevYear in compareYears.columns:\n",
    "    numer = numer.merge( compareYears[['CSA2010', prevYear]], left_on='CSA2010', right_on='CSA2010', how='outer' )\n",
    "    numer['change'] = numer[id+'-'+shortname+year] - numer[ prevYear ]\n",
    "    numer['percentChange'] = numer['change' ] / numer[ prevYear ] * 100\n",
    "    numer['change'] = numer['change'].apply(lambda x: \"{:.2f}\".format(x) )\n",
    "    print( 'Records Matching Query: ', numer.size / len(numer.columns) )\n",
    "  return numer.drop(columns=['daysattend', 'SchoolSwitcherFlag',\n",
    "               'daysabsent', 'race_AIAN', 'race_asian', 'race_AA',\n",
    "               'race_NHPI', 'race_white', 'std_number', 'enterdate'])"
   ]
  },
  {
   "cell_type": "code",
   "execution_count": null,
   "metadata": {
    "id": "C_D5EumwYuHY"
   },
   "outputs": [],
   "source": [
    "fin = eenrol(enrollment, csa, year)\n",
    "fin.to_csv('195-eenrol'+year+'.csv', index=False)\n",
    "fin.tail(3)"
   ]
  },
  {
   "cell_type": "markdown",
   "metadata": {
    "id": "qXiPOQjShZGB"
   },
   "source": [
    "### 196 menrol - G - Drop Dupes\n",
    "\n"
   ]
  },
  {
   "cell_type": "markdown",
   "metadata": {
    "id": "TIJ-l3WFjwJF"
   },
   "source": [
    "grade"
   ]
  },
  {
   "cell_type": "code",
   "execution_count": null,
   "metadata": {
    "id": "8pxyX9LicLxq"
   },
   "outputs": [],
   "source": [
    "\"\"\" BCPSS - Education and Youth - Number of Students Officially Enrolled in 6th - 8th Grade\"\"\"\n",
    "\n",
    "q16 = \"\"\"with tbl AS (\n",
    "    select (sum(\n",
    "  case \n",
    "  when grade = '6' OR grade = '7' OR grade = '8' \n",
    "  then 1\n",
    "  else 0\n",
    "  end)::numeric \n",
    " ) as result, csa\n",
    " from vital_signs.match_csas_and_bc_by_geom('schools.enrollment_2016', 'gid', 'the_geom') a\n",
    " left join schools.enrollment_2016 b on a.gid = b.gid\n",
    " group by csa\n",
    "     )\n",
    "     update vital_signs.data\n",
    "     set menrol = result from tbl where data.csa = tbl.csa and data_year = '2016';\n",
    "  \"\"\"\n",
    "\n",
    "q17 = \"\"\"with tbl AS (\n",
    "    select (sum( case \n",
    "      when grade = '6' OR grade = '7' OR grade = '8' \n",
    "        then 1 else 0 end)::numeric \n",
    "    ) as result, csa\n",
    "      from vital_signs.match_csas_and_bc_by_geom('schools.enrollment_1617', 'gid', 'the_geom') a\n",
    "        left join schools.enrollment_1617 b on a.gid = b.gid\n",
    "          group by csa\n",
    "  )\n",
    "  select * from tbl where 1 = 1 ORDER BY csa ASC;\n",
    "  \"\"\""
   ]
  },
  {
   "cell_type": "code",
   "execution_count": null,
   "metadata": {
    "id": "SY85lYb9aEvc"
   },
   "outputs": [],
   "source": [
    "\"\"\"\n",
    "      when grade = '6' OR grade = '7' OR grade = '8' \n",
    "        then 1 else 0 end)::numeric \n",
    "\"\"\""
   ]
  },
  {
   "cell_type": "code",
   "execution_count": null,
   "metadata": {
    "id": "rpQp2S2F27GR"
   },
   "outputs": [],
   "source": [
    "#export\n",
    "def menrol(df, csa, yr):\n",
    "  df['count'] = 1\n",
    "\n",
    "  # Create the Denominator\n",
    "  numer = df.copy()\n",
    "  numer = numer[ numer['grade'].str.contains('^6$|^7$|^8$', regex=True) ]\n",
    "\n",
    "  id = '196'\n",
    "  shortname = 'menrol'\n",
    "\n",
    "  # Group by CSA\n",
    "  numer = numer.groupby('CSA2010').sum(numeric_only=True)\n",
    "\n",
    "  # Make sure ALL csas and BaltimoreCity are included and sorted.\n",
    "  numer = csa.merge( numer, left_on='CSA2010', right_on='CSA2010', how='outer' )\n",
    "  numer.drop( columns=['geometry', 'Shape__Length','Shape__Area'], inplace=True)\n",
    "\n",
    "  # Do after sortViaCsaMerge to get index right. False records would show underneath it but still get added to the sum.\n",
    "  numer.at[55,'count']=numer['count'].sum()\n",
    "\n",
    "  # Perform the calculation\n",
    "  numer[id+'-'+shortname+year] = numer['count']\n",
    "\n",
    "  compareYears = gpd.read_file(\"https://services1.arcgis.com/mVFRs7NF4iFitgbY/ArcGIS/rest/services/\"+shortname.capitalize()+\"/FeatureServer/0/query?where=1%3D1&outFields=*&returnGeometry=true&f=pgeojson\");\n",
    "  goback = 2 if year == '19' else 3\n",
    "  prevYear = shortname + str( int(year) - goback )\n",
    "  if prevYear in compareYears.columns:\n",
    "    numer = numer.merge( compareYears[['CSA2010', prevYear]], left_on='CSA2010', right_on='CSA2010', how='outer' )\n",
    "    numer['change'] = numer[id+'-'+shortname+year] - numer[ prevYear ]\n",
    "    numer['percentChange'] = numer['change' ] / numer[ prevYear ] * 100\n",
    "    numer['change'] = numer['change'].apply(lambda x: \"{:.2f}\".format(x) )\n",
    "    print( 'Records Matching Query: ', numer.size / len(numer.columns) )\n",
    "  return numer.drop(columns=['daysattend', 'SchoolSwitcherFlag', 'wleavecode',\n",
    "               'daysabsent', 'race_AIAN', 'race_asian', 'race_AA',\n",
    "               'race_NHPI', 'race_white', 'std_number', 'enterdate'])"
   ]
  },
  {
   "cell_type": "code",
   "execution_count": null,
   "metadata": {
    "id": "UO2qM9JmYp73"
   },
   "outputs": [],
   "source": [
    "fin = menrol(enrollment, csa, year)\n",
    "fin.to_csv('196-menrol'+year+'.csv', index=False)\n",
    "fin.tail(6) "
   ]
  },
  {
   "cell_type": "markdown",
   "metadata": {
    "id": "jQMxTf8jhZJB"
   },
   "source": [
    "### 197 hsenrol - G - Drop Dupes\n",
    "\n"
   ]
  },
  {
   "cell_type": "markdown",
   "metadata": {
    "id": "e_Nsd7twjv6N"
   },
   "source": [
    "grade"
   ]
  },
  {
   "cell_type": "code",
   "execution_count": null,
   "metadata": {
    "id": "qC8qYj5AcKr_"
   },
   "outputs": [],
   "source": [
    "lbl = \"\"\"BCPSS - Education and Youth - Number of Students Officially Enrolled in 9th - 12th Grade \"\"\"\n",
    "\n",
    "q16 = \"\"\"with tbl AS (\n",
    "    select (sum(\n",
    "  case \n",
    "  when grade = '9' OR grade = '10' OR grade = '11' OR grade = '12'\n",
    "  then 1\n",
    "  else 0\n",
    "  end)::numeric \n",
    " ) as result, csa\n",
    " from vital_signs.match_csas_and_bc_by_geom('schools.enrollment_2016', 'gid', 'the_geom') a\n",
    " left join schools.enrollment_2016 b on a.gid = b.gid\n",
    " group by csa\n",
    "     )\n",
    "     update vital_signs.data\n",
    "     set hsenrol = result from tbl where data.csa = tbl.csa and data_year = '2016';\n",
    "  \"\"\"\n",
    "\n",
    "q17 = \"\"\" with tbl AS (\n",
    "    select (sum( case \n",
    "      when grade = '9' OR grade = '10' OR grade = '11' OR grade = '12'\n",
    "        then 1 else 0 end)::numeric \n",
    "    ) as result, csa\n",
    "      from vital_signs.match_csas_and_bc_by_geom('schools.enrollment_1617', 'gid', 'the_geom') a\n",
    "        left join schools.enrollment_1617 b on a.gid = b.gid\n",
    "          group by csa\n",
    "  )\n",
    "  select * from tbl where 1 = 1 ORDER BY csa ASC;\n",
    "  \"\"\""
   ]
  },
  {
   "cell_type": "code",
   "execution_count": null,
   "metadata": {
    "id": "YZ2u2vk5aBOz"
   },
   "outputs": [],
   "source": [
    "\"\"\"\n",
    "       when grade = '9' OR grade = '10' OR grade = '11' OR grade = '12'\n",
    "        then 1 else 0 end)::numeric  \n",
    "\"\"\""
   ]
  },
  {
   "cell_type": "code",
   "execution_count": null,
   "metadata": {
    "id": "kflHlk8F3EC6"
   },
   "outputs": [],
   "source": [
    "#export\n",
    "def hsenrol(df, csa, yr):\n",
    "  df['count'] = 1\n",
    "\n",
    "  # Create the Denominator\n",
    "  numer = df.copy() #.sort_values('enterdate', ascending=False).drop_duplicates(['std_number'])\n",
    "  numer = numer[ numer['grade'].str.contains('^9$|^10$|^11$|^12$', regex=True) ]\n",
    "  print( numer['grade'].unique() )\n",
    "\n",
    "  id = '197'\n",
    "  shortname = 'hsenrol'\n",
    "\n",
    "  # Group by CSA\n",
    "  numer = numer.groupby('CSA2010').sum(numeric_only=True)\n",
    "\n",
    "  # Make sure ALL csas and BaltimoreCity are included and sorted.\n",
    "  numer = csa.merge( numer, left_on='CSA2010', right_on='CSA2010', how='outer' )\n",
    "  numer.drop( columns=['geometry', 'Shape__Length','Shape__Area'], inplace=True)\n",
    "\n",
    "  # Bcity is the sum of the community sums.\n",
    "  # Incorrect Bcity Sum IFF Groupby keeps a 'False' row (index 56)\n",
    "  numer.at[55,'count']=numer['count'].sum()\n",
    "\n",
    "  # Perform the calculation\n",
    "  fincol = id+'-'+shortname+year\n",
    "  numer[fincol] = numer['count']\n",
    "\n",
    "  compareYears = gpd.read_file(\"https://services1.arcgis.com/mVFRs7NF4iFitgbY/ArcGIS/rest/services/\"+shortname.capitalize()+\"/FeatureServer/0/query?where=1%3D1&outFields=*&returnGeometry=true&f=pgeojson\");\n",
    "  goback = 2 if year == '19' else 3\n",
    "  prevYear = shortname + str( int(year) - goback )\n",
    "  if prevYear in compareYears.columns:\n",
    "    numer = numer.merge( compareYears[['CSA2010', prevYear]], left_on='CSA2010', right_on='CSA2010', how='outer' )\n",
    "    numer['change'] = numer[fincol] - numer[ prevYear ]\n",
    "    numer['percentChange'] = numer['change' ] / numer[ prevYear ] * 100\n",
    "    numer['change'] = numer['change'].apply(lambda x: \"{:.2f}\".format(x) )\n",
    "    print( 'Records Matching Query: ', numer.size / len(numer.columns) )\n",
    "  return numer.drop(columns=['daysattend', 'daysabsent', 'race_AIAN', 'race_asian', 'race_AA', 'race_NHPI', 'race_white', 'std_number', 'enterdate'])"
   ]
  },
  {
   "cell_type": "code",
   "execution_count": null,
   "metadata": {
    "id": "IwnJyu4-YkVf"
   },
   "outputs": [],
   "source": [
    "fin = hsenrol(enrollment, csa, year)\n",
    "fin.to_csv('197-hsenrol'+year+'.csv', index=False)\n",
    "fin.tail(6) "
   ]
  },
  {
   "cell_type": "markdown",
   "metadata": {
    "id": "_LXtZZpAhZMK"
   },
   "source": [
    "### 206 pmath3 - G ❌\n",
    "\n"
   ]
  },
  {
   "cell_type": "markdown",
   "metadata": {
    "id": "CSX9VemnjvvN"
   },
   "source": [
    "grade  parcc_perf subject"
   ]
  },
  {
   "cell_type": "code",
   "execution_count": null,
   "metadata": {
    "id": "pgGIx7dVcJVW"
   },
   "outputs": [],
   "source": [
    "lbl = \"\"\"BCPSS - Education and Youth - Percentage of 3rd Grade Students who Met or Exceeded PARCC Math\"\"\"\n",
    "\n",
    "q16 = \"\"\"with numerator as (\n",
    "    select sum( case \n",
    "      when (grade = '3')  AND (parcc_perf =4 OR parcc_perf = 5) \n",
    "        then 1 else 0 end\n",
    "    )::numeric as math3_proficiency, csa\n",
    "      from vital_signs.match_csas_and_bc_by_geom('schools.math_2016', 'gid', 'the_geom') a\n",
    "        left join schools.math_2016 b on a.gid = b.gid\n",
    "          group by csa\n",
    "            order by csa\n",
    "  ),\n",
    "  denominator AS (\n",
    "    select sum( case \n",
    "      when (grade = '3') \n",
    "        then 1 else 0 end\n",
    "    )::numeric as math3_testtakers, csa\n",
    "      from vital_signs.match_csas_and_bc_by_geom('schools.math_2016', 'gid', 'the_geom') a\n",
    "        left join schools.math_2016 b on a.gid = b.gid\n",
    "          group by csa\n",
    "            order by csa\n",
    "  ),\n",
    "  tbl AS (\n",
    "  select vital_signs.div_zero (numerator.math3_proficiency, denominator.math3_testtakers)*(100::numeric) as result, numerator.csa\n",
    "  from numerator left join denominator on numerator.csa = denominator.csa\n",
    "  )\n",
    "  select * from tbl\n",
    "  \"\"\"\n",
    "\n",
    "q17 = \"\"\"with numerator as (\n",
    "    select sum( case \n",
    "      when (grade = '3')  AND (parcc_perf =4 OR parcc_perf = 5) AND subject = 'Mathematics'\n",
    "        then 1 else 0 end\n",
    "    )::numeric as math3_proficiency, csa\n",
    "      from vital_signs.match_csas_and_bc_by_geom('schools.parcc_1617', 'gid', 'the_geom') a\n",
    "        left join schools.parcc_1617 b on a.gid = b.gid\n",
    "          group by csa\n",
    "            order by csa\n",
    "  ),\n",
    "  denominator AS (\n",
    "    select sum( case \n",
    "      when (grade = '3') AND subject = 'Mathematics'\n",
    "        then 1 else 0 end\n",
    "    )::numeric as math3_testtakers, csa\n",
    "      from vital_signs.match_csas_and_bc_by_geom('schools.parcc_1617', 'gid', 'the_geom') a\n",
    "        left join schools.parcc_1617 b on a.gid = b.gid\n",
    "          group by csa\n",
    "            order by csa\n",
    "  ),\n",
    "  tbl AS (\n",
    "  select vital_signs.div_zero (numerator.math3_proficiency, denominator.math3_testtakers)*(100::numeric) as result, numerator.csa\n",
    "  from numerator left join denominator on numerator.csa = denominator.csa\n",
    "  )\n",
    "  select * from tbl where 1 = 1 ORDER BY csa ASC;\"\"\""
   ]
  },
  {
   "cell_type": "code",
   "execution_count": null,
   "metadata": {
    "id": "bzNXNjguZ9K0"
   },
   "outputs": [],
   "source": [
    "      when (grade = '3')  AND (parcc_perf =4 OR parcc_perf = 5) AND subject = 'Mathematics'\n",
    "        then 1 else 0 end\n",
    "        \n",
    "        /\n",
    "\n",
    "      when (grade = '3') AND subject = 'Mathematics'\n",
    "        then 1 else 0 end"
   ]
  },
  {
   "cell_type": "markdown",
   "metadata": {
    "id": "ngaa4S3DhZPA"
   },
   "source": [
    "###  207 pread3 - G ❌\n",
    "\n"
   ]
  },
  {
   "cell_type": "markdown",
   "metadata": {
    "id": "UddQjHjdjvj9"
   },
   "source": [
    "grade  parcc_perf subject"
   ]
  },
  {
   "cell_type": "code",
   "execution_count": null,
   "metadata": {
    "id": "USneLbHOcH4U"
   },
   "outputs": [],
   "source": [
    "BCPSS\n",
    "Education and Youth\n",
    "Percentage of 3rd Grade Students who Met or Exceeded PARCC Reading\n",
    "\n",
    "q16 = \"\"\"with numerator as (\n",
    "    select sum( case \n",
    "      when (grade = '3') AND (parcc_perf =4 OR parcc_perf = 5)\n",
    "        then 1 else 0 end\n",
    "    )::numeric as eng_prof, csa\n",
    "      from vital_signs.match_csas_and_bc_by_geom('schools.english_2016', 'gid', 'the_geom') a\n",
    "        left join schools.english_2016 b on a.gid = b.gid\n",
    "          group by csa\n",
    "            order by csa\n",
    "  ),\n",
    "  denominator AS (\n",
    "    select sum( case \n",
    "      when (grade = '3')\n",
    "        then 1 else 0 end\n",
    "    )::numeric as eng_prof, csa\n",
    "      from vital_signs.match_csas_and_bc_by_geom('schools.english_2016', 'gid', 'the_geom') a\n",
    "        left join schools.english_2016 b on a.gid = b.gid\n",
    "          group by csa\n",
    "            order by csa\n",
    "  ),\n",
    "  tbl AS (\n",
    "    select vital_signs.div_zero (numerator.eng_prof, denominator.eng_prof)*(100::numeric) as result, numerator.csa\n",
    "      from numerator \n",
    "        left join denominator on numerator.csa = denominator.csa\n",
    "  )\n",
    "  select * from tbl where 1 = 1 ORDER BY csa ASC;\n",
    "  \"\"\"\n",
    "\n",
    "q17 = \"\"\" with numerator as (\n",
    "    select sum( case \n",
    "      when (grade = '3') AND (parcc_perf =4 OR parcc_perf = 5) AND subject = 'English Language Arts/Literacy'\n",
    "        then 1 else 0 end\n",
    "    )::numeric as eng_prof, csa\n",
    "      from vital_signs.match_csas_and_bc_by_geom('schools.parcc_1617', 'gid', 'the_geom') a\n",
    "        left join schools.parcc_1617 b on a.gid = b.gid\n",
    "          group by csa\n",
    "            order by csa\n",
    "  ),\n",
    "  denominator AS (\n",
    "    select sum( case \n",
    "      when (grade = '3') AND subject = 'English Language Arts/Literacy'\n",
    "        then 1 else 0 end\n",
    "    )::numeric as eng_prof, csa\n",
    "      from vital_signs.match_csas_and_bc_by_geom('schools.parcc_1617', 'gid', 'the_geom') a\n",
    "        left join schools.parcc_1617 b on a.gid = b.gid\n",
    "          group by csa\n",
    "            order by csa\n",
    "  ),\n",
    "  tbl AS (\n",
    "    select vital_signs.div_zero (numerator.eng_prof, denominator.eng_prof)*(100::numeric) as result, numerator.csa\n",
    "      from numerator \n",
    "        left join denominator on numerator.csa = denominator.csa\n",
    "  )\n",
    "  select * from tbl where 1 = 1 ORDER BY csa ASC;\n",
    "  \"\"\""
   ]
  },
  {
   "cell_type": "code",
   "execution_count": null,
   "metadata": {
    "id": "ZXjV_lagZ3qv"
   },
   "outputs": [],
   "source": [
    "      when (grade = '3') AND (parcc_perf =4 OR parcc_perf = 5) AND subject = 'English Language Arts/Literacy'\n",
    "        then 1 else 0 end\n",
    "\n",
    "        /\n",
    "      when (grade = '3') AND subject = 'English Language Arts/Literacy'\n",
    "        then 1 else 0 end"
   ]
  },
  {
   "cell_type": "markdown",
   "metadata": {
    "id": "7r382g4uhZR1"
   },
   "source": [
    "### 208 pmath5 - G ❌\n",
    "\n"
   ]
  },
  {
   "cell_type": "markdown",
   "metadata": {
    "id": "EgIGxHIajvXV"
   },
   "source": [
    "grade  parcc_perf subject"
   ]
  },
  {
   "cell_type": "code",
   "execution_count": null,
   "metadata": {
    "id": "769GcvI-cGNG"
   },
   "outputs": [],
   "source": [
    "lbl = \"\"\"BCPSS - Education and Youth - Percentage of 5th Grade Students who Met or Exceeded PARCC Math\"\"\"\n",
    "\n",
    "q16 = \"\"\" with numerator as (\n",
    "    select sum( case \n",
    "      when (grade = '5')  AND (parcc_perf =4 OR parcc_perf = 5)\n",
    "        then 1 else 0 end\n",
    "    )::numeric as math3_proficiency, csa\n",
    "      from vital_signs.match_csas_and_bc_by_geom('schools.math_2016', 'gid', 'the_geom') a\n",
    "        left join schools.math_2016 b on a.gid = b.gid\n",
    "          group by csa\n",
    "            order by csa\n",
    "  ),\n",
    "  denominator AS (\n",
    "    select sum( case \n",
    "      when (grade = '5')\n",
    "        then 1 else 0 end\n",
    "    )::numeric as math3_testtakers, csa\n",
    "      from vital_signs.match_csas_and_bc_by_geom('schools.math_2016', 'gid', 'the_geom') a\n",
    "        left join schools.math_2016 b on a.gid = b.gid\n",
    "          group by csa\n",
    "            order by csa\n",
    "  ),\n",
    "  tbl AS (\n",
    "    select vital_signs.div_zero (numerator.math3_proficiency, denominator.math3_testtakers)*(100::numeric) as result, numerator.csa\n",
    "      from numerator \n",
    "        left join denominator on numerator.csa = denominator.csa\n",
    "  )\n",
    "  select * from tbl\n",
    "  \"\"\"\n",
    "\n",
    "q17 = \"\"\"\n",
    "  with numerator as (\n",
    "    select sum( case \n",
    "      when (grade = '5')  AND (parcc_perf =4 OR parcc_perf = 5) AND subject = 'Mathematics'\n",
    "        then 1 else 0 end\n",
    "    )::numeric as math3_proficiency, csa\n",
    "      from vital_signs.match_csas_and_bc_by_geom('schools.parcc_1617', 'gid', 'the_geom') a\n",
    "        left join schools.parcc_1617 b on a.gid = b.gid\n",
    "          group by csa\n",
    "            order by csa\n",
    "  ),\n",
    "  denominator AS (\n",
    "    select sum( case \n",
    "      when (grade = '5') AND subject = 'Mathematics'\n",
    "        then 1 else 0 end\n",
    "    )::numeric as math3_testtakers, csa\n",
    "      from vital_signs.match_csas_and_bc_by_geom('schools.parcc_1617', 'gid', 'the_geom') a\n",
    "        left join schools.parcc_1617 b on a.gid = b.gid\n",
    "          group by csa\n",
    "            order by csa\n",
    "  ),\n",
    "  tbl AS (\n",
    "    select vital_signs.div_zero (numerator.math3_proficiency, denominator.math3_testtakers)*(100::numeric) as result, numerator.csa\n",
    "      from numerator \n",
    "        left join denominator on numerator.csa = denominator.csa\n",
    "  )\n",
    "  select * from tbl\n",
    "  \"\"\""
   ]
  },
  {
   "cell_type": "code",
   "execution_count": null,
   "metadata": {
    "id": "r_OvsDITZ1G8"
   },
   "outputs": [],
   "source": [
    "      when (grade = '5')  AND (parcc_perf =4 OR parcc_perf = 5) AND subject = 'Mathematics'\n",
    "        then 1 else 0 end\n",
    "\n",
    "        /\n",
    "\n",
    "      when (grade = '5') AND subject = 'Mathematics'\n",
    "        then 1 else 0 end"
   ]
  },
  {
   "cell_type": "markdown",
   "metadata": {
    "id": "CUAVbkAthZUp"
   },
   "source": [
    "### 209 pread5 - G ❌\n",
    "\n"
   ]
  },
  {
   "cell_type": "markdown",
   "metadata": {
    "id": "uz8ZE3MNjvG1"
   },
   "source": [
    "grade  parcc_perf subject"
   ]
  },
  {
   "cell_type": "code",
   "execution_count": null,
   "metadata": {
    "id": "RiprEQwccE43"
   },
   "outputs": [],
   "source": [
    "lbl = \"\"\"BCPSS - Education and Youth - Percentage of 5th Grade Students who Met or Exceeded PARCC Reading\"\"\"\n",
    "\n",
    "queries16 = \"\"\"select sum(\n",
    "  case \n",
    "  when (grade = '5') AND (parcc_perf =4 OR parcc_perf = 5) \n",
    "  then 1\n",
    "  else 0\n",
    "  end)::numeric as eng_prof, csa\n",
    "  from vital_signs.match_csas_and_bc_by_geom('schools.english_2016', 'gid', 'the_geom') a\n",
    "  left join schools.english_2016 b on a.gid = b.gid\n",
    "  group by csa\n",
    "  order by csa;\n",
    "\n",
    "\n",
    "  select sum(\n",
    "  case \n",
    "  when (grade_code = '5') \n",
    "  then 1\n",
    "  else 0\n",
    "  end)::numeric as eng_prof, csa\n",
    "  from vital_signs.match_csas_and_bc_by_geom('schools.english_2016', 'gid', 'the_geom') a\n",
    "  left join schools.english_2016 b on a.gid = b.gid\n",
    "  group by csa\n",
    "  order by csa;\n",
    "  \"\"\"\n",
    "\n",
    "q17 = \"\"\"with numerator as (\n",
    "    select sum( case \n",
    "      when (grade = '8')  AND (parcc_perf =4 OR parcc_perf = 5) AND subject = 'Mathematics'\n",
    "        then 1 else 0 end\n",
    "    )::numeric as math3_proficiency, csa\n",
    "      from vital_signs.match_csas_and_bc_by_geom('schools.parcc_1617', 'gid', 'the_geom') a\n",
    "        left join schools.parcc_1617 b on a.gid = b.gid\n",
    "          group by csa\n",
    "            order by csa\n",
    "  ),\n",
    "  denominator AS (\n",
    "    select sum( case \n",
    "      when (grade = '8') \n",
    "        then 1 else 0 end\n",
    "    )::numeric as math3_testtakers, csa\n",
    "      from vital_signs.match_csas_and_bc_by_geom('schools.parcc_1617', 'gid', 'the_geom') a\n",
    "        left join schools.parcc_1617 b on a.gid = b.gid\n",
    "          group by csa\n",
    "            order by csa\n",
    "  ),\n",
    "  tbl AS (\n",
    "  select vital_signs.div_zero (numerator.math3_proficiency, denominator.math3_testtakers)*(100::numeric) as result, numerator.csa\n",
    "  from numerator left join denominator on numerator.csa = denominator.csa\n",
    "  )\n",
    "  select * from tbl\n",
    "  \"\"\""
   ]
  },
  {
   "cell_type": "code",
   "execution_count": null,
   "metadata": {
    "id": "qOLs8WKZZuDT"
   },
   "outputs": [],
   "source": [
    "      when (grade = '8')  AND (parcc_perf =4 OR parcc_perf = 5) AND subject = 'Mathematics'\n",
    "        then 1 else 0 end\n",
    "\n",
    "  /\n",
    "\n",
    "      when (grade = '8') \n",
    "        then 1 else 0 end"
   ]
  },
  {
   "cell_type": "markdown",
   "metadata": {
    "id": "R1XzpMrfhZXh"
   },
   "source": [
    "### 210 pmath8 - G ❌\n",
    "\n"
   ]
  },
  {
   "cell_type": "markdown",
   "metadata": {
    "id": "Qra2jfg4juzO"
   },
   "source": [
    "grade  parcc_perf subject"
   ]
  },
  {
   "cell_type": "code",
   "execution_count": null,
   "metadata": {
    "id": "FtiKG0-RcDkC"
   },
   "outputs": [],
   "source": [
    "lbl = \"\"\"BCPSS - Education and Youth - Percentage of 8th Grade Students who Met or Exceeded PARCC Math\"\"\"\n",
    "\n",
    "q16 = \"\"\"with numerator as (\n",
    "    select sum( case \n",
    "      when (grade = '8')  AND (parcc_perf =4 OR parcc_perf = 5)\n",
    "        then 1 else 0 end\n",
    "    )::numeric as math3_proficiency, csa\n",
    "      from vital_signs.match_csas_and_bc_by_geom('schools.math_2016', 'gid', 'the_geom') a\n",
    "        left join schools.math_2016 b on a.gid = b.gid\n",
    "          group by csa\n",
    "            order by csa\n",
    "  ),\n",
    "  denominator AS (\n",
    "    select sum( case \n",
    "      when (grade = '8')\n",
    "        then 1 else 0 end\n",
    "    )::numeric as math3_testtakers, csa\n",
    "      from vital_signs.match_csas_and_bc_by_geom('schools.math_2016', 'gid', 'the_geom') a\n",
    "        left join schools.math_2016 b on a.gid = b.gid\n",
    "          group by csa\n",
    "            order by csa\n",
    "  ),\n",
    "  tbl AS (\n",
    "    select vital_signs.div_zero (numerator.math3_proficiency, denominator.math3_testtakers)*(100::numeric) as result, numerator.csa\n",
    "      from numerator \n",
    "        left join denominator on numerator.csa = denominator.csa\n",
    "  )\n",
    "  select * from tbl\n",
    "  \"\"\"\n",
    "\n",
    "q17 = \"\"\"with numerator as (\n",
    "    select sum( case \n",
    "      when (grade = '8')  AND (parcc_perf =4 OR parcc_perf = 5) AND subject = 'Mathematics'\n",
    "        then 1 else 0 end\n",
    "    )::numeric as math3_proficiency, csa\n",
    "      from vital_signs.match_csas_and_bc_by_geom('schools.parcc_1617', 'gid', 'the_geom') a\n",
    "        left join schools.parcc_1617 b on a.gid = b.gid\n",
    "          group by csa\n",
    "            order by csa\n",
    "  ),\n",
    "  denominator AS (\n",
    "    select sum( case \n",
    "      when (grade = '8') AND subject = 'Mathematics'\n",
    "        then 1 else 0 end\n",
    "    )::numeric as math3_testtakers, csa\n",
    "      from vital_signs.match_csas_and_bc_by_geom('schools.parcc_1617', 'gid', 'the_geom') a\n",
    "        left join schools.parcc_1617 b on a.gid = b.gid\n",
    "          group by csa\n",
    "            order by csa\n",
    "  ),\n",
    "  tbl AS (\n",
    "    select vital_signs.div_zero (numerator.math3_proficiency, denominator.math3_testtakers)*(100::numeric) as result, numerator.csa\n",
    "      from numerator \n",
    "        left join denominator on numerator.csa = denominator.csa\n",
    "  )\n",
    "  select * from tbl\n",
    "  \"\"\""
   ]
  },
  {
   "cell_type": "code",
   "execution_count": null,
   "metadata": {
    "id": "_Sd8NMgnZovL"
   },
   "outputs": [],
   "source": [
    "      when (grade = '8')  AND (parcc_perf =4 OR parcc_perf = 5) AND subject = 'Mathematics'\n",
    "        then 1 else 0 end\n",
    "\n",
    "        /\n",
    "\n",
    "      when (grade = '8') AND subject = 'Mathematics'\n",
    "        then 1 else 0 end"
   ]
  },
  {
   "cell_type": "markdown",
   "metadata": {
    "id": "aVrjFs05h4bx"
   },
   "source": [
    "### 211 pread8 - G ❌\n",
    "\n"
   ]
  },
  {
   "cell_type": "markdown",
   "metadata": {
    "id": "7wLC4KHrjufl"
   },
   "source": [
    "grade  parcc_perf subject eng_prof"
   ]
  },
  {
   "cell_type": "code",
   "execution_count": null,
   "metadata": {
    "id": "ZTxreZX8cCIT"
   },
   "outputs": [],
   "source": [
    "lbl = \"\"\"BCPSS  - Education and Youth - Percentage of 8th Grade Students who Met or Exceeded PARCC Reading\"\"\"\n",
    "\n",
    "q16 = \"\"\"with numerator as (\n",
    "    select sum( case \n",
    "      when (grade = '8') AND (parcc_perf =4 OR parcc_perf = 5) \n",
    "        then 1 else 0 end\n",
    "  )::numeric as eng_prof, csa\n",
    "    from vital_signs.match_csas_and_bc_by_geom('schools.english_2016', 'gid', 'the_geom') a\n",
    "      left join schools.english_2016 b on a.gid = b.gid\n",
    "        group by csa \n",
    "          order by csa\n",
    "  ),\n",
    "  denominator AS (\n",
    "    select sum( case \n",
    "      when (grade = '8') \n",
    "        then 1 else 0\n",
    "          end\n",
    "    )::numeric as eng8_testtakers, csa\n",
    "      from vital_signs.match_csas_and_bc_by_geom('schools.english_2016', 'gid', 'the_geom') a\n",
    "        left join schools.english_2016 b on a.gid = b.gid\n",
    "          group by csa \n",
    "            order by csa\n",
    "  ),\n",
    "  tbl AS (\n",
    "    select vital_signs.div_zero (numerator.eng_prof, denominator.eng8_testtakers)*(100::numeric) as result, numerator.csa\n",
    "      from numerator left join denominator on numerator.csa = denominator.csa\n",
    "  )\n",
    "  select * from tbl\n",
    "  \"\"\"\n",
    "\n",
    "q17 = \"\"\"with numerator as (\n",
    "  select sum( case \n",
    "      when (grade = '8') AND (parcc_perf =4 OR parcc_perf = 5) AND subject = 'English Language Arts/Literacy'\n",
    "        then 1 else 0 end\n",
    "    )::numeric as eng_prof, csa\n",
    "      from vital_signs.match_csas_and_bc_by_geom('schools.parcc_1617', 'gid', 'the_geom') a\n",
    "        left join schools.parcc_1617 b on a.gid = b.gid\n",
    "          group by csa\n",
    "            order by csa\n",
    "  ),\n",
    "  denominator AS (\n",
    "    select sum( case \n",
    "      when (grade = '8') AND subject = 'English Language Arts/Literacy'\n",
    "        then 1 else 0 end\n",
    "    )::numeric as eng_prof, csa\n",
    "      from vital_signs.match_csas_and_bc_by_geom('schools.parcc_1617', 'gid', 'the_geom') a\n",
    "        left join schools.parcc_1617 b on a.gid = b.gid\n",
    "          group by csa\n",
    "            order by csa\n",
    "  ),\n",
    "  tbl AS (\n",
    "    select vital_signs.div_zero (numerator.eng_prof, denominator.eng_prof)*(100::numeric) as result, numerator.csa\n",
    "      from numerator \n",
    "        left join denominator on numerator.csa = denominator.csa\n",
    "  )\n",
    "  select * from tbl where 1 = 1 ORDER BY csa ASC;\n",
    "  \"\"\"\n"
   ]
  },
  {
   "cell_type": "code",
   "execution_count": null,
   "metadata": {
    "id": "7EaxsdbkZksj"
   },
   "outputs": [],
   "source": [
    "      when (grade = '8') AND (parcc_perf =4 OR parcc_perf = 5) AND subject = 'English Language Arts/Literacy'\n",
    "        then 1 else 0 end\n",
    "\n",
    "        /\n",
    "\n",
    "      when (grade = '8') AND subject = 'English Language Arts/Literacy'\n",
    "        then 1 else 0 end"
   ]
  },
  {
   "cell_type": "markdown",
   "metadata": {
    "id": "1sgvHoB5h4gp"
   },
   "source": [
    "### 212 palg1 - G ? - ❌\n"
   ]
  },
  {
   "cell_type": "markdown",
   "metadata": {
    "id": "dQ_qvnfVjuSl"
   },
   "source": [
    "grade  parcc_perf subject"
   ]
  },
  {
   "cell_type": "code",
   "execution_count": null,
   "metadata": {
    "id": "Dz-oX8vucA4X"
   },
   "outputs": [],
   "source": [
    "lbl = \"\"\"BCPSS - Education and Youth - Percentage of Students who Met or Exceeded PARCC Algebra I\"\"\"\n",
    "\n",
    "q16 = \"\"\"with numerator as (\n",
    "    select sum( case \n",
    "      when (grade = '9' or grade = '10' or grade = '11' or grade = '12') \n",
    "        AND (parcc_perf =4 OR parcc_perf = 5)\n",
    "        then 1 else 0 \n",
    "          end\n",
    "    )::numeric as algebra1_met, csa\n",
    "      from vital_signs.match_csas_and_bc_by_geom('schools.algebra1_2016', 'gid', 'the_geom') a\n",
    "        left join schools.algebra1_2016 b on a.gid = b.gid\n",
    "          group by csa\n",
    "            order by csa\n",
    "  ),\n",
    "  denominator AS (\n",
    "    select sum( case \n",
    "      when  (grade = '9' or grade = '10' or grade = '11' or grade = '12')\n",
    "        then 1 else 0\n",
    "          end\n",
    "    )::numeric as algebra1_testtakers, csa\n",
    "      from vital_signs.match_csas_and_bc_by_geom('schools.algebra1_2016', 'gid', 'the_geom') a\n",
    "        left join schools.algebra1_2016 b on a.gid = b.gid\n",
    "          group by csa \n",
    "            order by csa\n",
    "  ),\n",
    "  tbl AS (\n",
    "    select vital_signs.div_zero (numerator.algebra1_met, denominator.algebra1_testtakers)*(100::numeric) as result, numerator.csa\n",
    "      from numerator left join denominator on numerator.csa = denominator.csa\n",
    "  )\n",
    "  select * from tbl\n",
    "  \"\"\"\n",
    "\n",
    "q17 = \"\"\"with numerator as (\n",
    "    select sum( case \n",
    "      when (grade = '9' or grade = '10' or grade = '11' or grade = '12') AND subject = 'Algebra I'\n",
    "        AND (parcc_perf =4 OR parcc_perf = 5)\n",
    "        then 1 else 0 \n",
    "          end\n",
    "    )::numeric as algebra1_met, csa\n",
    "      from vital_signs.match_csas_and_bc_by_geom('schools.parcc_1617', 'gid', 'the_geom') a\n",
    "        left join schools.parcc_1617 b on a.gid = b.gid\n",
    "          group by csa\n",
    "            order by csa\n",
    "  ),\n",
    "  denominator AS (\n",
    "    select sum( case \n",
    "      when  (grade = '9' or grade = '10' or grade = '11' or grade = '12') AND subject = 'Algebra I'\n",
    "        then 1 else 0\n",
    "          end\n",
    "    )::numeric as algebra1_testtakers, csa\n",
    "      from vital_signs.match_csas_and_bc_by_geom('schools.parcc_1617', 'gid', 'the_geom') a\n",
    "        left join schools.parcc_1617 b on a.gid = b.gid\n",
    "          group by csa \n",
    "            order by csa\n",
    "  ),\n",
    "  tbl AS (\n",
    "    select vital_signs.div_zero (numerator.algebra1_met, denominator.algebra1_testtakers)*(100::numeric) as result, numerator.csa\n",
    "      from numerator left join denominator on numerator.csa = denominator.csa\n",
    "  )\n",
    "  select * from tbl\n",
    "  \"\"\""
   ]
  },
  {
   "cell_type": "code",
   "execution_count": null,
   "metadata": {
    "id": "xj6FnrUxZgls"
   },
   "outputs": [],
   "source": [
    "\"\"\"\n",
    "      when (grade = '9' or grade = '10' or grade = '11' or grade = '12') AND subject = 'Algebra I'\n",
    "        AND (parcc_perf =4 OR parcc_perf = 5)\n",
    "\n",
    "        /\n",
    "      when  (grade = '9' or grade = '10' or grade = '11' or grade = '12') AND subject = 'Algebra I'\n",
    "        then 1 else 0\n",
    "\"\"\""
   ]
  },
  {
   "cell_type": "code",
   "execution_count": null,
   "metadata": {
    "id": "Ha60j3rg3Nu4"
   },
   "outputs": [],
   "source": [
    "def palg1(df, csa, yr): \n",
    "  df['count'] = 1\n",
    "\n",
    "  # Create the Denominator\n",
    "  denom = df.copy().sort_values('enterdate', ascending=False).drop_duplicates(['std_number']) \n",
    "  denom = denom[ denom['grade'].str.contains('9|10|11|12', regex=True)  & (denom['subject'] == 'Algebra I') ] \n",
    "\n",
    "  # Create the Numerator \n",
    "  denom['parcc_perf'] = denom['parcc_perf'].astype(str)\n",
    "  numer = denom[ ( denom['parcc_perf'].str.contains('4|5', regex=True) ) ]\n",
    "\n",
    "  id = '212'\n",
    "  shortname = 'palg1'\n",
    "  \n",
    "  # Group by CSA\n",
    "  numer = numer.groupby('CSA2010').sum(numeric_only=True) \n",
    "  denom = denom.groupby('CSA2010').sum(numeric_only=True) \n",
    "\n",
    "  # Make sure ALL csas and BaltimoreCity are included and sorted.\n",
    "  numer = csa.merge( numer, left_on='CSA2010', right_on='CSA2010', how='outer' )\n",
    "  denom = csa.merge( denom, left_on='CSA2010', right_on='CSA2010', how='outer' )\n",
    "  numer.drop( columns=['geometry', 'Shape__Length','Shape__Area'], inplace=True) \n",
    "  numer['denomCount'] = denom['count']\n",
    "  \n",
    "  # Do after sortViaCsaMerge to get index right. False records would show underneath it but still get added to the sum.\n",
    "  numer.at[55,'count']=numer['count'].sum()\n",
    "  numer.at[55,'denomCount']=numer['denomCount'].sum()\n",
    "\n",
    "  # Perform the calculation\n",
    "  numer[id+'-'+shortname+year] = numer['count'] / numer['denomCount'] * 100\n",
    "\n",
    "  compareYears = gpd.read_file(\"https://services1.arcgis.com/mVFRs7NF4iFitgbY/ArcGIS/rest/services/\"+shortname+\"/FeatureServer/0/query?where=1%3D1&outFields=*&returnGeometry=true&f=pgeojson\");\n",
    "  prevYear = shortname+ str( int(year) - 1 )\n",
    "  if prevYear in compareYears.columns:\n",
    "    numer = numer.merge( compareYears[['CSA2010', prevYear]], left_on='CSA2010', right_on='CSA2010', how='outer' ) \n",
    "    numer['change'] = numer[id+'-'+shortname+year] - numer[ prevYear ]\n",
    "    numer['percentChange'] = numer['change' ] / numer[ prevYear ] * 100\n",
    "    numer['change'] = numer['change'].apply(lambda x: \"{:.2f}\".format(x) )\n",
    "    print( 'Records Matching Query: ', numer.size / len(numer.columns) )\n",
    "  return numer.drop(columns=['daysattend', 'daysabsent', 'GENDER', 'race_AIAN', 'race_asian', 'race_AA', 'race_NHPI', 'race_white', 'std_number', 'enterdate'])\n",
    "\n",
    "\n",
    "fin = palg1(bcpss, csa, year)\n",
    "fin.to_csv('212-palg1'+year+'.csv', index=False)\n",
    "fin.head(60) "
   ]
  },
  {
   "cell_type": "markdown",
   "metadata": {
    "id": "YJp06lAGh4jf"
   },
   "source": [
    "### 213 palg2 - G ? - ❌\n",
    "\n"
   ]
  },
  {
   "cell_type": "markdown",
   "metadata": {
    "id": "AMcYfGRtjt6t"
   },
   "source": [
    "grade  parcc_perf subject"
   ]
  },
  {
   "cell_type": "code",
   "execution_count": null,
   "metadata": {
    "id": "WKWYEddtb_Dd"
   },
   "outputs": [],
   "source": [
    "lbl = \"\"\"Percentage of Students who Met or Exceeded PARCC Algebra II - Education and Youth - BCPSS\"\"\"\n",
    "\n",
    "query16 = \"\"\"with numerator as (\n",
    "    select sum( case \n",
    "      when (grade = '9' or grade = '10' or grade = '11' or grade = '12')\n",
    "        AND (parcc_perf =4 OR parcc_perf = 5)\n",
    "        then 1 else 0 \n",
    "          end\n",
    "    )::numeric as algebra1_met, csa\n",
    "      from vital_signs.match_csas_and_bc_by_geom('schools.algebra2_2016', 'gid', 'the_geom') a\n",
    "        left join schools.algebra2_2016 b on a.gid = b.gid\n",
    "          group by csa\n",
    "            order by csa\n",
    "  ),\n",
    "  denominator AS (\n",
    "    select sum( case \n",
    "      when  (grade = '9' or grade = '10' or grade = '11' or grade = '12')\n",
    "        then 1 else 0\n",
    "          end\n",
    "    )::numeric as algebra1_testtakers, csa\n",
    "      from vital_signs.match_csas_and_bc_by_geom('schools.algebra2_2016', 'gid', 'the_geom') a\n",
    "        left join schools.algebra2_2016 b on a.gid = b.gid\n",
    "          group by csa \n",
    "            order by csa\n",
    "  ),\n",
    "  tbl AS (\n",
    "    select vital_signs.div_zero (numerator.algebra1_met, denominator.algebra1_testtakers)*(100::numeric) as result, numerator.csa\n",
    "      from numerator left join denominator on numerator.csa = denominator.csa\n",
    "  )\n",
    "  select * from tbl\n",
    "  \"\"\"\n",
    "\n",
    "\n",
    "query17 = \"\"\" with numerator as (\n",
    "    select sum( case \n",
    "      when (grade = '9' or grade = '10' or grade = '11' or grade = '12') AND subject = 'Algebra II'\n",
    "        AND (parcc_perf =4 OR parcc_perf = 5)\n",
    "        then 1 else 0 \n",
    "          end\n",
    "    )::numeric as algebra1_met, csa\n",
    "      from vital_signs.match_csas_and_bc_by_geom('schools.parcc_1617', 'gid', 'the_geom') a\n",
    "        left join schools.parcc_1617 b on a.gid = b.gid\n",
    "          group by csa\n",
    "            order by csa\n",
    "  ),\n",
    "  denominator AS (\n",
    "    select sum( case \n",
    "      when  (grade = '9' or grade = '10' or grade = '11' or grade = '12') AND subject = 'Algebra II'\n",
    "        then 1 else 0\n",
    "          end\n",
    "    )::numeric as algebra1_testtakers, csa\n",
    "      from vital_signs.match_csas_and_bc_by_geom('schools.parcc_1617', 'gid', 'the_geom') a\n",
    "        left join schools.parcc_1617 b on a.gid = b.gid\n",
    "          group by csa \n",
    "            order by csa\n",
    "  ),\n",
    "  tbl AS (\n",
    "    select vital_signs.div_zero (numerator.algebra1_met, denominator.algebra1_testtakers)*(100::numeric) as result, numerator.csa\n",
    "      from numerator left join denominator on numerator.csa = denominator.csa\n",
    "  )\n",
    "  select * from tbl\n",
    "  \"\"\""
   ]
  },
  {
   "cell_type": "code",
   "execution_count": null,
   "metadata": {
    "id": "J-56qgtrZXUs"
   },
   "outputs": [],
   "source": [
    "\"\"\"\n",
    "      when (grade = '9' or grade = '10' or grade = '11' or grade = '12') AND subject = 'Algebra II'\n",
    "        AND (parcc_perf =4 OR parcc_perf = 5)\n",
    "/\n",
    "\n",
    "      when  (grade = '9' or grade = '10' or grade = '11' or grade = '12') AND subject = 'Algebra II'\n",
    "\"\"\""
   ]
  },
  {
   "cell_type": "code",
   "execution_count": null,
   "metadata": {
    "id": "xXt_O9vd3c8o"
   },
   "outputs": [],
   "source": [
    "def palg2(df, csa, yr): \n",
    "  df['count'] = 1\n",
    "\n",
    "  # Create the Denominator\n",
    "  denom = df.copy().sort_values('enterdate', ascending=False).drop_duplicates(['std_number']) \n",
    "  denom = denom[ denom['grade'].str.contains('9|10|11|12', regex=True)  & (denom['subject'] == 'Algebra I') ] \n",
    "\n",
    "  # Create the Numerator \n",
    "  denom['parcc_perf'] = denom['parcc_perf'].astype(str)\n",
    "  numer = denom[ ( denom['parcc_perf'].str.contains('4|5', regex=True) ) ]\n",
    "\n",
    "  id = '213'\n",
    "  shortname = 'palg2'\n",
    "  \n",
    "  # Group by CSA\n",
    "  numer = numer.groupby('CSA2010').sum(numeric_only=True) \n",
    "  denom = denom.groupby('CSA2010').sum(numeric_only=True) \n",
    "\n",
    "  # Make sure ALL csas and BaltimoreCity are included and sorted.\n",
    "  numer = csa.merge( numer, left_on='CSA2010', right_on='CSA2010', how='outer' )\n",
    "  denom = csa.merge( denom, left_on='CSA2010', right_on='CSA2010', how='outer' )\n",
    "  numer.drop( columns=['geometry', 'Shape__Length','Shape__Area'], inplace=True) \n",
    "  numer['denomCount'] = denom['count']\n",
    "  \n",
    "  # Do after sortViaCsaMerge to get index right. False records would show underneath it but still get added to the sum.\n",
    "  numer.at[55,'count']=numer['count'].sum()\n",
    "  numer.at[55,'denomCount']=numer['denomCount'].sum()\n",
    "\n",
    "  # Perform the calculation\n",
    "  numer[id+'-'+shortname+year] = numer['count'] / numer['denomCount'] * 100\n",
    "\n",
    "  compareYears = gpd.read_file(\"https://services1.arcgis.com/mVFRs7NF4iFitgbY/ArcGIS/rest/services/\"+shortname+\"/FeatureServer/0/query?where=1%3D1&outFields=*&returnGeometry=true&f=pgeojson\");\n",
    "  prevYear = shortname+ str( int(year) - 1 )\n",
    "  if prevYear in compareYears.columns:\n",
    "    numer = numer.merge( compareYears[['CSA2010', prevYear]], left_on='CSA2010', right_on='CSA2010', how='outer' ) \n",
    "    numer['change'] = numer[id+'-'+shortname+year] - numer[ prevYear ]\n",
    "    numer['percentChange'] = numer['change' ] / numer[ prevYear ] * 100\n",
    "    numer['change'] = numer['change'].apply(lambda x: \"{:.2f}\".format(x) )\n",
    "    print( 'Records Matching Query: ', numer.size / len(numer.columns) )\n",
    "  return numer.drop(columns=['daysattend', 'daysabsent', 'GENDER', 'race_AIAN', 'race_asian', 'race_AA', 'race_NHPI', 'race_white', 'std_number', 'enterdate'])\n",
    "\n",
    "\n",
    "fin = palg2(bcpss, csa, year)\n",
    "fin.to_csv('213-palg2'+year+'.csv', index=False)\n",
    "fin.head(60) "
   ]
  },
  {
   "cell_type": "markdown",
   "metadata": {
    "id": "FXRKz_Yih4mN"
   },
   "source": [
    "### 214 kra - O ❌\n",
    "\n"
   ]
  },
  {
   "cell_type": "markdown",
   "metadata": {
    "id": "0l8faLd9ipfP"
   },
   "source": [
    "std_number Demonstrating comp"
   ]
  },
  {
   "cell_type": "code",
   "execution_count": null,
   "metadata": {
    "id": "mu55Cji1b9SS"
   },
   "outputs": [],
   "source": [
    "lbl = \"\"\" Kindergarten Readiness - Education and Youth - BCPSS\"\"\"\n",
    "\n",
    "desc = \"\"\"The Kindergarten Readiness Assessment (KRA) measure children’s readiness to do kindergarten work. \n",
    "  The KRA is a developmentally appropriate assessment tool that measures of incoming public-school \n",
    "  kindergarteners across four learning domains. A child is considered to be ready for kindergarten \n",
    "  if assessed as “demonstrating” the foundational skills and behaviors that prepare him/her for \n",
    "  curriculum based on the kindergarten standards. \"\"\"\n",
    "\n",
    "query16 = \"\"\"with numerator as (\n",
    "    select csa, count ( DISTINCT std_numb_1 ) as test_met\n",
    "      from vital_signs.match_csas_and_bc_by_geom('schools.kra_2016', 'gid', 'the_geom') as a\n",
    "        left join schools.kra_2016 as b \n",
    "          on a.gid = b.gid AND comp = 'Demonstrating'\n",
    "            group by csa\n",
    "              order by csa\n",
    "  ),\n",
    "  denominator AS (\n",
    "    select csa, count ( DISTINCT std_number ) test_takers\n",
    "      from vital_signs.match_csas_and_bc_by_geom('schools.kra_2016', 'gid', 'the_geom') as a\n",
    "        left join schools.kra_2016 as b \n",
    "          on a.gid = b.gid AND comp NOT IN ('Other', 'Incomplete')\n",
    "            group by csa\n",
    "              order by csa\n",
    "  ),\n",
    "  tbl AS (\n",
    "    select vital_signs.div_zero (numerator.test_met, denominator.test_takers)*(100::numeric) \n",
    "      as result, numerator.csa\n",
    "      from numerator \n",
    "        left join denominator \n",
    "          on numerator.csa = denominator.csa\n",
    "  )\n",
    "  select * from tbl\n",
    "  \"\"\"\n",
    "\n",
    "query17 = \"\"\"with numerator as (\n",
    "    select csa, count ( DISTINCT std_number ) as test_met\n",
    "      from vital_signs.match_csas_and_bc_by_geom('schools.kra_1617', 'gid', 'the_geom') as a\n",
    "        left join schools.kra_1617 as b \n",
    "          on a.gid = b.gid AND comp = 'Demonstrating'\n",
    "            group by csa\n",
    "              order by csa\n",
    "  ),\n",
    "  denominator AS (\n",
    "    select csa, count ( DISTINCT std_number ) test_takers\n",
    "      from vital_signs.match_csas_and_bc_by_geom('schools.kra_1617', 'gid', 'the_geom') as a\n",
    "        left join schools.kra_1617 as b \n",
    "          on a.gid = b.gid AND comp NOT IN ('Other', 'Incomplete')\n",
    "            group by csa\n",
    "              order by csa\n",
    "  ),\n",
    "  tbl AS (\n",
    "    select vital_signs.div_zero (numerator.test_met, denominator.test_takers)*(100::numeric) \n",
    "      as result, numerator.csa\n",
    "      from numerator \n",
    "        left join denominator \n",
    "          on numerator.csa = denominator.csa\n",
    "  )\n",
    "  select * from tbl\n",
    "  \"\"\"\n",
    "\n",
    "uhmm = \"\"\"\n",
    "  The percentage of children whose composite score indicates full school readiness out of all \n",
    "  kindergarten school children tested within an area in a school year. The Maryland Model for \n",
    "  School Readiness (MMSR) is an assessment and instructional system that was designed to provide \n",
    "  parents, teachers, and early childhood providers with a common understanding of what children \n",
    "  know and are able to do upon entering school. Under the MMSR system, all children entering \n",
    "  kindergarten are assessed for level of mastery across several learning domains. These domains \n",
    "  include: social and personal development; language and literacy; mathematical thinking; \n",
    "  scientific thinking; social studies; the arts; and physical development and health. \n",
    "  Kindergarten  teachers must evaluate students during the first few months of the kindergarten \n",
    "  year using selected Work Sampling System (WSS) indicators and report their ratings by the \n",
    "  end of November of each year to the state. \"\"\"\n",
    "\n",
    "query2013 = \"\"\"\n",
    "  \"-- mmsr13nbr_bcf\n",
    "  --mmsr13 indicator number 80\n",
    "  SELECT bAll.name AS Bound, sum(bQuery.mmsr13nbr) as mmsr13nbr\n",
    "    FROM boundaries.bcf_areas bAll\n",
    "      LEFT JOIN (\n",
    "    SELECT bounds.name as Boundary, (count(DISTINCT b.sid::numeric(20,4))) as mmsr13nbr\n",
    "    FROM schools.mmsr_2013 as b\n",
    "      LEFT JOIN boundaries.bcf_areas as a\n",
    "        ON ST_Contains(a.the_geom, b.the_geom)\n",
    "      WHERE compscore = 3\n",
    "        GROUP BY bounds.name\n",
    "        ORDER BY bounds.name\n",
    "  ) bQuery\n",
    "    ON bAll.name = bQuery.Boundary\n",
    "      GROUP BY Bound\n",
    "      ORDER BY Bound;\n",
    "\n",
    "  -- mmsr_total13nbr_bcf\n",
    "  --mmsr13 indicator number 80\n",
    "  SELECT bAll.name AS Bound, sum(bQuery.mmsr13nbr) as mmsr13nbr\n",
    "    FROM boundaries.bcf_areas bAll\n",
    "      LEFT JOIN (\n",
    "        SELECT bounds.name as Boundary, (count(DISTINCT Tables.sid::numeric(20,4))) as mmsr13nbr\n",
    "      FROM schools.mmsr_2013 as Tables\n",
    "      LEFT JOIN boundaries.bcf_areas as bounds\n",
    "        ON ST_Contains(bounds.the_geom, Tables.the_geom)\n",
    "      GROUP BY bounds.name\n",
    "        ORDER BY bounds.name\n",
    "  ) bQuery\n",
    "    ON bAll.name = bQuery.Boundary\n",
    "      GROUP BY Bound\n",
    "      ORDER BY Bound;\n",
    "  \"\"\" \n",
    "\n",
    "specialnote = \"\"\"2014 and 2015 does not exist for either kindergarden Indicator. These two years the tests were in the process of changing.\"\"\""
   ]
  },
  {
   "cell_type": "code",
   "execution_count": null,
   "metadata": {
    "id": "p6qR6NZUiAme"
   },
   "outputs": [],
   "source": [
    "query17 = \"\"\"with numerator = on a.gid = b.gid AND comp = 'Demonstrating'\n",
    "  denominator AS on a.gid = b.gid AND comp NOT IN ('Other', 'Incomplete')"
   ]
  }
 ],
 "metadata": {
  "colab": {
   "authorship_tag": "ABX9TyOpX7mKacCTafyeBbT5oFhg",
   "collapsed_sections": [],
   "name": "BCPSS_Schools.ipynb",
   "provenance": []
  },
  "kernelspec": {
   "display_name": "Python 3",
   "name": "python3"
  },
  "language_info": {
   "name": "python"
  }
 },
 "nbformat": 4,
 "nbformat_minor": 0
}
