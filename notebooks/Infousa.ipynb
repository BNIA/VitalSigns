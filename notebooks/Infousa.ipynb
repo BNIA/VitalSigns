{
  "nbformat": 4,
  "nbformat_minor": 0,
  "metadata": {
    "colab": {
      "provenance": []
    },
    "kernelspec": {
      "name": "python3",
      "display_name": "Python 3"
    },
    "language_info": {
      "name": "python"
    }
  },
  "cells": [
    {
      "cell_type": "markdown",
      "source": [
        "This notebook uses the InfoUSA data to create a portion of BNIA's Vital Signs report\n",
        "\n",
        "####**Indicators from this csv**\n",
        "\n",
        "*   artbusXX - Arts and Culture\n",
        "*   artempXX - Arts and Culture\n",
        "*   cebusXX - Arts and Culture\n",
        "*   ceempXX - Arts and Culture\n",
        "*   numbusXX - Workforce and Economic Development\n",
        "*   totempXX - Workforce and Economic Development\n",
        "*   smlbusXX - Workforce and Economic Development\n",
        "*   biz1_XX - Workforce and Economic Development\n",
        "*   biz2_XX - Workforce and Economic Development\n",
        "*   biz4_XX - Workforce and Economic Development\n",
        "*   neiindXX - Workforce and Economic Development\n",
        "*   neibusXX - Workforce and Economic Development\n",
        "*   neiempXX - Workforce and Economic Development\n",
        "\n",
        "####**Tables used in this notebook**\n",
        "*   infoUSA_2021\n",
        "*   CSA2020_CSA2010_&_2020pop\n",
        "\n",
        "\n",
        "\n",
        "\n",
        "\n",
        "\n",
        "\n",
        "\n",
        "\n",
        "\n",
        "\n"
      ],
      "metadata": {
        "id": "LPdmQPieK8d7"
      }
    },
    {
      "cell_type": "code",
      "execution_count": null,
      "metadata": {
        "id": "YLFP6bycKjzs"
      },
      "outputs": [],
      "source": [
        "#export\n",
        "#Import needed libraries\n",
        "import pandas as pd\n",
        "import numpy as np"
      ]
    },
    {
      "cell_type": "code",
      "source": [
        "#export\n",
        "#Read data\n",
        "original = pd.read_csv('InfoUSA_2021_CSACity.csv')\n",
        "pop2020_and_2020CSA = pd.read_csv('CSA2020_CSA2010_&_2020pop.csv')\n",
        "\n",
        "#Fix typos in CSA names.\n",
        "original['CSA'] = original['CSA'].str.replace('Hamiliton Hills', 'Hamilton Hills')\n",
        "\n",
        "#Remove rows where BaltCity is empty\n",
        "original = original[original[\"BaltCity\"] == \"Baltimore City\"]\n",
        "\n",
        "#Make copy of prim_naics while removing the last 2 digits from the codes. \n",
        "#Only the first 6-digits are needed. The dataset gives 8-digit values.\n",
        "original['new_prim_naics'] = original['prim_naics'].astype(str).map(lambda x: x[:-2])\n",
        "\n",
        "#Change datatype to int so it works with the filters later on.\n",
        "original['new_prim_naics'] = original['new_prim_naics'].astype(int) "
      ],
      "metadata": {
        "id": "8t_8c83bLcDk"
      },
      "execution_count": null,
      "outputs": []
    },
    {
      "cell_type": "markdown",
      "source": [
        "#Arts and Culture"
      ],
      "metadata": {
        "id": "R8HSpDLhMfkB"
      }
    },
    {
      "cell_type": "markdown",
      "source": [
        "Arts-related businesses are defined as belonging to industries that allow for the consumption and enjoyment of arts and culture.\n",
        "\n",
        "The following industries are identified by their primary NAICS code: music, literary, and visual arts-related retail/supplies (451140, 451211, 451220); art dealers (453920, 453920); libraries (519120); motion picture and film (521310, 532230); art schools (611610); performing arts (711110, 711120, 711130, 711190); independent artists, writers, and performers (711510); museums (712110); historical sites (712120); and zoos, gardens and nature parks (712130, 712190).\n",
        "\n",
        "The following industries are identified by their primary SIC codes: designers (152106); art publishers (274101), music, literary, and visual arts-related retail/supplies (393101, 519202, 573608, 573609, 593201, 594201, 594205, 594501, 594520, 594601, 599965, 769969); art galleries, dealers, and consultants (599969, 599988, 599989); photography (722121); calligraphers (733607); embroidery (738942); theatres (783201, 792207); theatrical support (792211, 792212); musical and live entertainment (792903, 792905, 792906, 792908, 792917, 792918, 792927); parks (799951); art and music instruction (804958, 829915, 829919); libraries (823111); museums (841201); arts organizations (841202); zoos (842201); writers (899903); visual artists (899907, 899912); art restoring (899908); and music arrangers and composers (899921)."
      ],
      "metadata": {
        "id": "4tRwWzRlFpZL"
      }
    },
    {
      "cell_type": "markdown",
      "source": [
        "####Artbus Indicator "
      ],
      "metadata": {
        "id": "xfNj1ndLz4wG"
      }
    },
    {
      "cell_type": "code",
      "source": [
        "#export\n",
        "#Artbus Indicator\n",
        "#Output - Number of Businesses that are Arts-Related per 1,000 Residents\n",
        "\n",
        "#Define NAICS ans SIC codes\n",
        "naicCodes =  [451140, 451211, 451220, 453920, 519120, 521310, 532230, 611610, 711110, 711120, \n",
        "              711130, 711190, 711510, 712110, 712120, 712130, 712190]\n",
        "\n",
        "sicCodes = [152106, 274101, 393101, 519202, 573608, 573609, 593201, 594201, 594205, 594501, \n",
        "            594520, 594601, 599965, 769969, 599969, 599988, 599989, 722121, 733607, 738942, \n",
        "            783201, 792207, 792211, 792212, 792903, 792905, 792906, 792908, 792917, 792918, \n",
        "            792927, 799951, 804958, 829915, 829919, 823111, 841201, 841202, 842201, 899903, \n",
        "            899907, 899912, 899908, 899921]\n",
        "\n",
        "#Subset data to only include the codes above from the new_prim_naics & prim_sic columns\n",
        "artbus = original[(original['new_prim_naics'].isin(naicCodes)) | (original['prim_sic'].isin(sicCodes))]\n",
        "\n",
        "#Frequency table for CSAs\n",
        "artbus = pd.crosstab(index=artbus['CSA'], columns='artbusCount')\n",
        "\n",
        "#make index the CSA2020 column\n",
        "artbus.reset_index(inplace=True)\n",
        "\n",
        "#Rename CSA column to CSA2020\n",
        "artbus = artbus.rename({'CSA': 'CSA2020'}, axis=1)\n",
        "\n",
        "#Add Baltimore City Row\n",
        "artbus.loc[len(artbus.index)] = ['Baltimore City', artbus['artbusCount'].sum()]\n",
        "\n",
        "#Append CSA population and CSA2010 names\n",
        "artbus = pop2020_and_2020CSA.merge(artbus, on='CSA2020', how='outer')\n",
        "\n",
        "#Create indicator\n",
        "artbus['artbusXX'] = (artbus['artbusCount']/artbus['tpop20'])*1000"
      ],
      "metadata": {
        "id": "Mr-MuKECdFRk"
      },
      "execution_count": null,
      "outputs": []
    },
    {
      "cell_type": "markdown",
      "source": [
        "####Artemp Indicator "
      ],
      "metadata": {
        "id": "3YQQnCUNhvdI"
      }
    },
    {
      "cell_type": "code",
      "source": [
        "#export\n",
        "#Artemp Indicator\n",
        "#Output - Total Employment in Arts-Related Businesses\n",
        "\n",
        "#Define NAICS ans SIC codes\n",
        "naicCodes =  [451140, 451211, 451220, 453920, 519120, 521310, 532230, 611610, 711110, 711120, \n",
        "              711130, 711190, 711510, 712110, 712120, 712130, 712190]\n",
        "\n",
        "sicCodes = [152106, 274101, 393101, 519202, 573608, 573609, 593201, 594201, 594205, 594501, \n",
        "            594520, 594601, 599965, 769969, 599969, 599988, 599989, 722121, 733607, 738942, \n",
        "            783201, 792207, 792211, 792212, 792903, 792905, 792906, 792908, 792917, 792918, \n",
        "            792927, 799951, 804958, 829915, 829919, 823111, 841201, 841202, 842201, 899903, \n",
        "            899907, 899912, 899908, 899921]\n",
        "\n",
        "#Subset data to only include the codes above from the new_prim_naics & prim_sic columns\n",
        "artemp = original[ (original['new_prim_naics'].isin(naicCodes)) | (original['prim_sic'].isin(sicCodes))]\n",
        "\n",
        "#Frequency table for CSAs\n",
        "artemp = artemp[['CSA', 'empl_size']]\n",
        "\n",
        "#Add Baltimore City Row\n",
        "artemp.loc[len(artemp.index)] = ['Baltimore City', artemp['empl_size'].sum()]\n",
        "\n",
        "artemp = artemp.groupby('CSA').sum(numeric_only=True) \n",
        "\n",
        "#make index the CSA2020 column\n",
        "artemp.reset_index(inplace=True)\n",
        "\n",
        "#Rename CSA column to CSA2020, and empl_size to artemp\n",
        "artemp = artemp.rename({'CSA': 'CSA2020', 'empl_size': 'artempXX'}, axis=1)\n",
        "\n",
        "#Append CSA population and CSA2010 names\n",
        "artemp = pop2020_and_2020CSA.merge(artemp, on='CSA2020', how='outer')"
      ],
      "metadata": {
        "id": "LWjCw-cnh9IW"
      },
      "execution_count": null,
      "outputs": []
    },
    {
      "cell_type": "markdown",
      "source": [
        "####cebus Indicator "
      ],
      "metadata": {
        "id": "bfh94dvn27bl"
      }
    },
    {
      "cell_type": "markdown",
      "source": [
        "The creative economy is defined as industries that use and support artistic and cultural skillsets to attract and generate capital, knowledge, and information.\n",
        "\n",
        "Arts-based businesses are included in the creative economy. In addition to the industries included in the rate of arts-based businesses indictor, the following industries are identified by their primary NAICS code: Textiles (313220); Commercial Printing (323111, 323113); Book Printers and Publishers (323117, 511130); Print Media (451212, 511110, 511120, 511199, 519110); Motion Picture & Video Production (512110); Music Publishers (512230); Sound Recording (512240); Radio (515112); Architecture (541310, 541320); Interior Design (541410); Graphic Design (541430); Advertising (541810, 541890); and Photography (541921, 541922).\n",
        "\n",
        "In addition to the industries included in the rate of arts-based businesses indictor, the following industries are identified by their primary SIC code: Print Media (271101, 271102, 271198, 272101, 272102, 272104, 273101, 273198, 596302, 599401);Publishers (273298, 274104, 274105, 874205); Printers (275202, 275202, 275902, 275998); Bookbinders (278902); Radio (483201); Television (483301, 484101, 792205, 824911); Textiles (513122, 594904); Advertising (519917, 731101, 731115, 731305, 731999); Fashion Designers (569901, 594408); Photography (722101, 722113, 722120, 733501, 738401); Graphic Design (733603); Commercial Artists (733604); Website Design (737311); General Media (738301); Interior Design (738902); Restoration (764112); Landscape Design (781030); Motion Picture and Video Support (781205, 781211, 781901); Architecture (871202, 871207, 871209, 874892); and Business Writers (899902)."
      ],
      "metadata": {
        "id": "qUGpunY1F5yO"
      }
    },
    {
      "cell_type": "code",
      "source": [
        "#export\n",
        "#cebus Indicator\n",
        "#Output - Rate of Businesses in the Creative Economy per 1,000 Residents\n",
        "\n",
        "#Define NAICS ans SIC codes\n",
        "naicCodes = [323111, 323113, 451140, 451211, 451212, 453920, 511110, 511120, 511130, 511199, \n",
        "              512110, 519110, 519120, 541310, 541320, 541410, 541430, 541810, 541890, 541921, \n",
        "              541922, 611610, 711110, 711130, 711190, 711510, 712110, 712120, 712130, 712190, \n",
        "              313220, 323117, 511130, 512230, 512240, 515112 ]\n",
        "\n",
        "sicCodes = [271101, 271102, 271198, 272101, 272102, 272104, 273101, 273198, 596302, 599401,\n",
        "            273298, 274104, 274105, 874205, 275202, 275902, 275998, 278902, 483201, \n",
        "            483301, 484101, 792205, 824911, 513122, 594904, 519917, 731101, 731115, 731305, \n",
        "            731999, 569901, 594408, 722101, 722113, 722120, 733501, 738401, 733603, 733604, \n",
        "            737311, 738301, 738902, 764112, 781030, 781205, 781211, 781901, 871202, 871207, \n",
        "            871209, 874892, 899902]\n",
        "\n",
        "#Subset data to only include the codes above from the new_prim_naics & prim_sic columns\n",
        "cebus = original[ (original['new_prim_naics'].isin(naicCodes)) | (original['prim_sic'].isin(sicCodes))]\n",
        "\n",
        "#Frequency table for CSAs\n",
        "cebus = pd.crosstab(index=cebus['CSA'], columns='cebusCount')\n",
        "\n",
        "#make index the CSA2020 column\n",
        "cebus.reset_index(inplace=True)\n",
        "\n",
        "#Rename CSA column to CSA2020\n",
        "cebus = cebus.rename({'CSA': 'CSA2020'}, axis=1)\n",
        "\n",
        "#Add Baltimore City Row\n",
        "cebus.loc[len(cebus.index)] = ['Baltimore City', cebus['cebusCount'].sum()]\n",
        "\n",
        "#Append CSA population and CSA2010 names\n",
        "cebus = pop2020_and_2020CSA.merge(cebus, on='CSA2020', how='outer')\n",
        "\n",
        "#Create indicator\n",
        "cebus['cebusxx'] = (cebus['cebusCount']/cebus['tpop20'])*1000"
      ],
      "metadata": {
        "id": "bpj_7iMx3JHO"
      },
      "execution_count": null,
      "outputs": []
    },
    {
      "cell_type": "markdown",
      "source": [
        "####ceemp Indicator "
      ],
      "metadata": {
        "id": "70bzmquL9WNr"
      }
    },
    {
      "cell_type": "code",
      "source": [
        "#export\n",
        "#ceemp Indicator\n",
        "#Output - Number of Employees in the Creative Economy\n",
        "\n",
        "#Define NAICS ans SIC codes\n",
        "naicCodes = [323111, 323113, 451140, 451211, 451212, 453920, 511110, 511120, 511130, 511199, \n",
        "              512110, 519110, 519120, 541310, 541320, 541410, 541430, 541810, 541890, 541921, \n",
        "              541922, 611610, 711110, 711130, 711190, 711510, 712110, 712120, 712130, 712190, \n",
        "              313220, 323117, 511130, 512230, 512240, 515112]\n",
        "\n",
        "sicCodes = [271101, 271102, 271198, 272101, 272102, 272104, 273101, 273198, 596302, 599401,\n",
        "            273298, 274104, 274105, 874205, 275202, 275902, 275998, 278902, 483201, \n",
        "            483301, 484101, 792205, 824911, 513122, 594904, 519917, 731101, 731115, 731305, \n",
        "            731999, 569901, 594408, 722101, 722113, 722120, 733501, 738401, 733603, 733604, \n",
        "            737311, 738301, 738902, 764112, 781030, 781205, 781211, 781901, 871202, 871207, \n",
        "            871209, 874892, 899902, 451220, 521310, 532230, 711120]\n",
        "\n",
        "#Subset data to only include the codes above from the new_prim_naics & prim_sic columns\n",
        "ceemp = original[ (original['new_prim_naics'].isin(naicCodes)) | (original['prim_sic'].isin(sicCodes))]\n",
        "\n",
        "#Frequency table for CSAs\n",
        "ceemp = ceemp[['CSA', 'empl_size']]\n",
        "\n",
        "#Add Baltimore City Row\n",
        "ceemp.loc[len(ceemp.index)] = ['Baltimore City', ceemp['empl_size'].sum()]\n",
        "\n",
        "#Group by CSA\n",
        "ceemp = ceemp.groupby('CSA').sum(numeric_only=True) \n",
        "\n",
        "#make index the CSA2020 column\n",
        "ceemp.reset_index(inplace=True)\n",
        "\n",
        "#Rename CSA column to CSA2020, and empl_size to ceemp\n",
        "ceemp = ceemp.rename({'CSA': 'CSA2020', 'empl_size': 'ceempXX'}, axis=1)\n",
        "\n",
        "#Append CSA population and CSA2010 names\n",
        "ceemp = pop2020_and_2020CSA.merge(ceemp, on='CSA2020', how='outer')"
      ],
      "metadata": {
        "id": "PMe1rcWd9eJ-"
      },
      "execution_count": null,
      "outputs": []
    },
    {
      "cell_type": "markdown",
      "source": [
        "#Workforce and Economic Development"
      ],
      "metadata": {
        "id": "whU722qgcmtK"
      }
    },
    {
      "cell_type": "markdown",
      "source": [
        "###numbus Indicator"
      ],
      "metadata": {
        "id": "YHhaGg8CdhfJ"
      }
    },
    {
      "cell_type": "code",
      "source": [
        "#export\n",
        "#numbus Indicator\n",
        "#Output - Total Number of Businesses\n",
        "\n",
        "#Create new df with only the CSA column\n",
        "numbus = original[['CSA']]\n",
        "numbus['numbus'] = 1\n",
        "\n",
        "#Frequency table for CSAs\n",
        "numbus = numbus.groupby('CSA').sum(numeric_only=True) \n",
        "\n",
        "#make index the CSA2020 column\n",
        "numbus.reset_index(inplace=True)\n",
        "\n",
        "#Rename CSA column to CSA2020, and empl_size to ceemp\n",
        "numbus = numbus.rename({'CSA': 'CSA2020'}, axis=1)\n",
        "\n",
        "#Add Baltimore City Row\n",
        "numbus.loc[len(numbus.index)] = ['Baltimore City', numbus['numbus'].sum()]\n",
        "\n",
        "#Append CSA population and CSA2010 names\n",
        "numbus = pop2020_and_2020CSA.merge(numbus, left_on='CSA2020', right_on='CSA2020', how='outer')"
      ],
      "metadata": {
        "id": "Twsd5BncdnnI"
      },
      "execution_count": null,
      "outputs": []
    },
    {
      "cell_type": "markdown",
      "source": [
        "###totemp Indicator"
      ],
      "metadata": {
        "id": "t9Un-31nhl-F"
      }
    },
    {
      "cell_type": "code",
      "source": [
        "#export\n",
        "#totemp Indicator\n",
        "#Output - Total Number of Employees\n",
        "\n",
        "#Create new df with CSA and empl_size columns \n",
        "totemp = original[['CSA', 'empl_size']]\n",
        "\n",
        "#Frequency table for CSAs\n",
        "totemp = totemp[['CSA', 'empl_size']]\n",
        "totemp = totemp.groupby('CSA').sum(numeric_only=True) \n",
        "\n",
        "#make index the CSA2020 column\n",
        "totemp.reset_index(inplace=True)\n",
        "\n",
        "#Rename CSA column to CSA2020, and empl_size to totemp\n",
        "totemp = totemp.rename({'CSA': 'CSA2020', 'empl_size': 'totemp'}, axis=1)\n",
        "\n",
        "#Add Baltimore City Row\n",
        "totemp.loc[len(totemp.index)] = ['Baltimore City', totemp['totemp'].sum()]\n",
        "\n",
        "#Append CSA population and CSA2010 names\n",
        "totemp = pop2020_and_2020CSA.merge(totemp, left_on='CSA2020', right_on='CSA2020', how='outer')"
      ],
      "metadata": {
        "id": "1w0vXFPGhm_L"
      },
      "execution_count": null,
      "outputs": []
    },
    {
      "cell_type": "markdown",
      "source": [
        "###smlbus  Indicator"
      ],
      "metadata": {
        "id": "qHDN3bzbYzdN"
      }
    },
    {
      "cell_type": "code",
      "source": [
        "#export\n",
        "#smlbus Indicator\n",
        "#Output - Number of Businesses with Under 50 Employees\n",
        "\n",
        "#Create new df with only business that have less than 50 employess\n",
        "smlbus = original[original['empl_rng'].isin(['1 to 4', '5 to 9', '10 to 19', '20 to 49'])]\n",
        "\n",
        "#Frequency table for CSAs\n",
        "smlbus = pd.crosstab(index=smlbus['CSA'], columns='smlbus')\n",
        "\n",
        "#make index the CSA2020 column\n",
        "smlbus.reset_index(inplace=True)\n",
        "\n",
        "#Rename CSA column to CSA2020\n",
        "smlbus = smlbus.rename({'CSA': 'CSA2020'}, axis=1)\n",
        "\n",
        "#Add Baltimore City Row\n",
        "smlbus.loc[len(smlbus.index)] = ['Baltimore City', smlbus['smlbus'].sum()]\n",
        "\n",
        "#Append CSA population and CSA2020 names\n",
        "smlbus = pop2020_and_2020CSA.merge(smlbus, left_on='CSA2020', right_on='CSA2020', how='outer')"
      ],
      "metadata": {
        "id": "AyCBU_eIZEAs"
      },
      "execution_count": null,
      "outputs": []
    },
    {
      "cell_type": "markdown",
      "source": [
        "###biz_1  Indicator"
      ],
      "metadata": {
        "id": "FsICW7F6cdSM"
      }
    },
    {
      "cell_type": "code",
      "source": [
        "#export\n",
        "#biz_1 Indicator (for 2021)\n",
        "#Output - Percent of Businesses that are 1 Year old or Less\n",
        "#This indicator requires the numbus indicator as denominator\n",
        "\n",
        "#Create new df with only business that started in 2020\n",
        "biz1 = original[original['first_year'].isin([2020])]\n",
        "\n",
        "#Frequency table for CSAs\n",
        "biz1 = pd.crosstab(index=biz1['CSA'], columns='biz1_count')\n",
        "\n",
        "#make index the CSA2020 column\n",
        "biz1.reset_index(inplace=True)\n",
        "\n",
        "#Rename CSA column to CSA2020\n",
        "biz1 = biz1.rename({'CSA': 'CSA2020'}, axis=1)\n",
        "\n",
        "#Add Baltimore City Row\n",
        "biz1.loc[len(biz1.index)] = ['Baltimore City', biz1['biz1_count'].sum()]\n",
        "\n",
        "#Get numbus indicator data\n",
        "numbus = pd.read_csv('numbus2021.csv')\n",
        "\n",
        "#Append numbus data to biz1\n",
        "biz1 = numbus.merge(biz1, left_on='CSA2020', right_on='CSA2020', how='outer')\n",
        "\n",
        "#Create indicator\n",
        "biz1['biz1'] = (biz1['biz1_count']/ biz1['numbus'])*100"
      ],
      "metadata": {
        "id": "AGXoIsuIcjMa"
      },
      "execution_count": null,
      "outputs": []
    },
    {
      "cell_type": "markdown",
      "source": [
        "###biz_2  Indicator"
      ],
      "metadata": {
        "id": "RcMFu6IUjhGG"
      }
    },
    {
      "cell_type": "code",
      "source": [
        "#export\n",
        "#biz_2 Indicator (for 2021)\n",
        "#Output - Percent of Businesses that are 2 Years old or Less\n",
        "#This indicator requires the numbus indicator as denominator\n",
        "\n",
        "#Create new df with only business that started in 2020\n",
        "biz2 = original[original['first_year'].isin([2020, 2019])]\n",
        "\n",
        "#Frequency table for CSAs\n",
        "biz2 = pd.crosstab(index=biz2['CSA'], columns='biz2_count')\n",
        "\n",
        "#make index the CSA2020 column\n",
        "biz2.reset_index(inplace=True)\n",
        "\n",
        "#Rename CSA column to CSA2020\n",
        "biz2 = biz2.rename({'CSA': 'CSA2020'}, axis=1)\n",
        "\n",
        "#Add Baltimore City Row\n",
        "biz2.loc[len(biz2.index)] = ['Baltimore City', biz2['biz2_count'].sum()]\n",
        "\n",
        "#Get numbus indicator data\n",
        "numbus = pd.read_csv('numbus2021.csv')\n",
        "\n",
        "#Append numbus data to biz2\n",
        "biz2 = numbus.merge(biz2, left_on='CSA2020', right_on='CSA2020', how='outer')\n",
        "\n",
        "#Create indicator\n",
        "biz2['biz2'] = (biz2['biz2_count']/ biz2['numbus'])*100"
      ],
      "metadata": {
        "id": "Zzh88D9Ij3ne"
      },
      "execution_count": null,
      "outputs": []
    },
    {
      "cell_type": "markdown",
      "source": [
        "###biz_4  Indicator"
      ],
      "metadata": {
        "id": "iuHjOILflBEZ"
      }
    },
    {
      "cell_type": "code",
      "source": [
        "#export\n",
        "#biz_4 Indicator (for 2021)\n",
        "#Output - Percent of Businesses that are 4 Years old or Less\n",
        "#This indicator requires the numbus indicator as denominator\n",
        "\n",
        "#Create new df with only business that started in 2020\n",
        "biz4 = original[original['first_year'].isin([2020, 2019, 2018, 2017])]\n",
        "\n",
        "#Frequency table for CSAs\n",
        "biz4 = pd.crosstab(index=biz4['CSA'], columns='biz4_count')\n",
        "\n",
        "#make index the CSA2020 column\n",
        "biz4.reset_index(inplace=True)\n",
        "\n",
        "#Rename CSA column to CSA2020\n",
        "biz4 = biz4.rename({'CSA': 'CSA2020'}, axis=1)\n",
        "\n",
        "#Add Baltimore City Row\n",
        "biz4.loc[len(biz4.index)] = ['Baltimore City', biz4['biz4_count'].sum()]\n",
        "\n",
        "#Get numbus indicator data\n",
        "numbus = pd.read_csv('numbus2021.csv')\n",
        "\n",
        "#Append numbus data to biz4\n",
        "biz4 = numbus.merge(biz4, left_on='CSA2020', right_on='CSA2020', how='outer')\n",
        "\n",
        "#Create indicator\n",
        "biz4['biz4'] = (biz4['biz4_count']/ biz4['numbus'])*100"
      ],
      "metadata": {
        "id": "qEt1rfOrlE5S"
      },
      "execution_count": null,
      "outputs": []
    },
    {
      "cell_type": "markdown",
      "source": [
        "###neiind  Indicator"
      ],
      "metadata": {
        "id": "sN8BiS3mmojK"
      }
    },
    {
      "cell_type": "code",
      "source": [
        "#export\n",
        "#neiind Indicator\n",
        "#Output - Number of Businesses by Selected Neighborhood Industry (NAICS Sectors)\n",
        "\n",
        "#Make copy of original df for neiind indicator\n",
        "neiind = original.copy()\n",
        "\n",
        "#Create new column where the 'prim_naics' column is trasformed to a string. \n",
        "#Then remove the last 6 characters from the string, and transform the column back to int\n",
        "neiind['naics_extra_short'] = neiind.prim_naics.astype(str).str[:-6].astype(np.int64)\n",
        "\n",
        "#Create df with only the short naic values needed\n",
        "neiind = original[ (neiind['naics_extra_short'].isin( [44, 45, 52, 54, 62, 71, 72, 81]))]\n",
        "\n",
        "#Frequency table for CSAs\n",
        "neiind = pd.crosstab(index=neiind['CSA'], columns='neiind')\n",
        "\n",
        "#make index the CSA2020 column\n",
        "neiind.reset_index(inplace=True)\n",
        "\n",
        "#Rename CSA column to CSA2020\n",
        "neiind = neiind.rename({'CSA': 'CSA2020'}, axis=1)\n",
        "\n",
        "#Add Baltimore City Row\n",
        "neiind.loc[len(neiind.index)] = ['Baltimore City', neiind['neiind'].sum()]\n",
        "\n",
        "#Append CSA population and CSA2020 names\n",
        "neiind = pop2020_and_2020CSA.merge(neiind, left_on='CSA2020', right_on='CSA2020', how='outer')"
      ],
      "metadata": {
        "id": "RteXf5-kmrq4"
      },
      "execution_count": null,
      "outputs": []
    },
    {
      "cell_type": "markdown",
      "source": [
        "###neibus Indicator"
      ],
      "metadata": {
        "id": "J1LiJ4PIrPLE"
      }
    },
    {
      "cell_type": "code",
      "source": [
        "#export\n",
        "#neibus Indicator\n",
        "#Output - Neighborhood Businesses per 1,000 Residents (NAICS Sectors)\n",
        "\n",
        "#Make copy of original df for neibus indicator\n",
        "neibus = original.copy()\n",
        "\n",
        "#Create new column where the 'prim_naics' column is trasformed to a string. \n",
        "#Then remove the last 6 characters from the string, and transform the column back to int\n",
        "neibus['naics_extra_short'] = neibus.prim_naics.astype(str).str[:-6].astype(np.int64)\n",
        "\n",
        "#Create df with only the short naic values needed\n",
        "neibus = original[(neibus['naics_extra_short'].isin( [44, 45, 52, 54, 62, 71, 72, 81]))]\n",
        "\n",
        "#Frequency table for CSAs\n",
        "neibus = pd.crosstab(index=neibus['CSA'], columns='neibus_count')\n",
        "\n",
        "#make index the CSA2020 column\n",
        "neibus.reset_index(inplace=True)\n",
        "\n",
        "#Rename CSA column to CSA2020\n",
        "neibus = neibus.rename({'CSA': 'CSA2020'}, axis=1)\n",
        "\n",
        "#Add Baltimore City Row\n",
        "neibus.loc[len(neibus.index)] = ['Baltimore City', neibus['neibus_count'].sum()]\n",
        "\n",
        "#Append CSA population and CSA2020 names\n",
        "neibus = pop2020_and_2020CSA.merge(neibus, left_on='CSA2020', right_on='CSA2020', how='outer')\n",
        "\n",
        "#Create indicator\n",
        "neibus['neibus'] = (neibus['neibus_count'] / neibus['tpop20']) *1000"
      ],
      "metadata": {
        "id": "zMdtCeSvrRdv"
      },
      "execution_count": null,
      "outputs": []
    },
    {
      "cell_type": "markdown",
      "source": [
        "###neiemp Indicator"
      ],
      "metadata": {
        "id": "8KNimsE3txKq"
      }
    },
    {
      "cell_type": "code",
      "source": [
        "#export\n",
        "#neiemp Indicator\n",
        "#Output - Total number of Employees by Selected Neighborhood Industry (NAICS Sectors)\n",
        "\n",
        "#Make copy of original df for neiemp indicator\n",
        "neiemp = original.copy()\n",
        "\n",
        "#Create new column where the 'prim_naics' column is trasformed to a string. \n",
        "#Then remove the last 6 characters from the string, and transform the column back to int\n",
        "neiemp['naics_extra_short'] = neiemp.prim_naics.astype(str).str[:-6].astype(np.int64)\n",
        "\n",
        "#Create df with only the short naic values needed\n",
        "neiemp = original[(neiemp['naics_extra_short'].isin( [44, 45, 52, 54, 62, 71, 72, 81]))]\n",
        "\n",
        "#Frequency table for CSAs\n",
        "neiemp = neiemp[['CSA', 'empl_size']]\n",
        "neiemp = neiemp.groupby('CSA').sum(numeric_only=True) \n",
        "\n",
        "#make index the CSA2020 column\n",
        "neiemp.reset_index(inplace=True)\n",
        "\n",
        "#Rename CSA column to CSA2020, and empl_size to neiemp\n",
        "neiemp = neiemp.rename({'CSA': 'CSA2020', 'empl_size': 'neiemp'}, axis=1)\n",
        "\n",
        "#Add Baltimore City Row\n",
        "neiemp.loc[len(neiemp.index)] = ['Baltimore City', neiemp['neiemp'].sum()]\n",
        "\n",
        "#Append CSA population and CSA2010 names\n",
        "neiemp = pop2020_and_2020CSA.merge(neiemp, left_on='CSA2020', right_on='CSA2020', how='outer')"
      ],
      "metadata": {
        "id": "lzizW0A1ty41"
      },
      "execution_count": null,
      "outputs": []
    }
  ]
}