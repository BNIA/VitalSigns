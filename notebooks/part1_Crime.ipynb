{
  "nbformat": 4,
  "nbformat_minor": 0,
  "metadata": {
    "colab": {
      "provenance": [],
      "collapsed_sections": []
    },
    "kernelspec": {
      "name": "python3",
      "display_name": "Python 3"
    },
    "language_info": {
      "name": "python"
    }
  },
  "cells": [
    {
      "cell_type": "markdown",
      "source": [
        "This notebook uses the Part1_Crime data to create a portion of BNIA's Vital Signs report\n",
        "\n",
        "####**Indicators from this csv**\n",
        "\n",
        "*   crime\n",
        "*   prop\n",
        "*   vio\n",
        "*   gunhom\n",
        "\n",
        "\n",
        "\n",
        "\n",
        "\n",
        "\n",
        "\n",
        "\n",
        "\n",
        "\n",
        "\n",
        "\n"
      ],
      "metadata": {
        "id": "GJCY8gZna6JJ"
      }
    },
    {
      "cell_type": "code",
      "source": [
        "#export\n",
        "#Import needed libraries\n",
        "import pandas as pd"
      ],
      "metadata": {
        "id": "xQetsniqWlwj"
      },
      "execution_count": 1,
      "outputs": []
    },
    {
      "cell_type": "code",
      "source": [
        "#export\n",
        "#Read data - This dataset has been geocoded and has a few extra columns; CSA2010, CSA2020 & BaltCity.\n",
        "original = pd.read_csv('Part1_2021_CSACity.csv')\n",
        "\n",
        "#Only keep needed crime descriptions\n",
        "crime_descriptions = ['AGG. ASSAULT', 'AUTO THEFT', 'BURGLARY', 'HOMICIDE',\n",
        "                      'LARCENY', 'LARCENY FROM AUTO', 'RAPE', 'ROBBERY - CARJACKING',\n",
        "                      'ROBBERY - COMMERCIAL', 'ROBBERY - RESIDENCE', 'ROBBERY - STREET']\n",
        "\n",
        "p1Crime_2021 = original[(original['Descriptio'].isin(crime_descriptions))]\n",
        "\n",
        "#Remove rows where Baltimore City column is empty\n",
        "p1Crime_2021 = p1Crime_2021[p1Crime_2021['BaltCity'] != '']"
      ],
      "metadata": {
        "id": "vADfWSeNWp7t"
      },
      "execution_count": 2,
      "outputs": []
    },
    {
      "cell_type": "markdown",
      "source": [
        "###crime Indicator"
      ],
      "metadata": {
        "id": "Jw5nthctazPU"
      }
    },
    {
      "cell_type": "code",
      "source": [
        "#export\n",
        "#crime Indicator\n",
        "#Output - Part 1 Crime Rate per 1,000 Residents\n",
        "\n",
        "#Create new df with only needed columns\n",
        "crime = p1Crime_2021[['CSA2010', 'CSA2020']]\n",
        "\n",
        "#Add crime column\n",
        "crime['crimeCount'] = 1\n",
        "\n",
        "#Get CSAs frequency\n",
        "crime = crime.groupby(['CSA2010', 'CSA2020']).sum(numeric_only=True) \n",
        "\n",
        "#make index the CSA2020 column\n",
        "crime.reset_index(inplace=True)\n",
        "\n",
        "#Add Baltimore City row\n",
        "crime.loc[len(crime.index)] = ['Baltimore City', 'Baltimore City', crime['crimeCount'].sum()]\n",
        "\n",
        "#read pop2020 data\n",
        "pop2020 = pd.read_csv('CSA2020_CSA2010_&_2020pop.csv')\n",
        "\n",
        "#Append 2020pop\n",
        "crime = crime.merge(pop2020, left_on=['CSA2010', 'CSA2020'], right_on=['CSA2010', 'CSA2020'], how='inner')\n",
        "\n",
        "#Create indicator\n",
        "crime['crime'] = (crime['crimeCount']/crime['tpop20'])*1000"
      ],
      "metadata": {
        "id": "APEEkAIjcKR4"
      },
      "execution_count": null,
      "outputs": []
    },
    {
      "cell_type": "markdown",
      "source": [
        "###prop Indicator"
      ],
      "metadata": {
        "id": "kahUqTR6tU2L"
      }
    },
    {
      "cell_type": "code",
      "source": [
        "#export\n",
        "#prop Indicator\n",
        "#Output - Property Crime Rate per 1,000 Residents\n",
        "\n",
        "#Create new df with only needed descriptions\n",
        "descriptions = ['AUTO THEFT', 'BURGLARY', 'LARCENY', 'LARCENY FROM AUTO']\n",
        "\n",
        "prop = p1Crime_2021[(p1Crime_2021['Descriptio'].isin(descriptions))]\n",
        "\n",
        "#Remove all unnecessary columns\n",
        "prop = prop[['CSA2010', 'CSA2020']]\n",
        "\n",
        "#Add property crime column\n",
        "prop['propCount'] = 1\n",
        "\n",
        "#Get CSAs frequency\n",
        "prop = prop.groupby(['CSA2010', 'CSA2020']).sum(numeric_only=True) \n",
        "\n",
        "#make index the CSA2020 column\n",
        "prop.reset_index(inplace=True)\n",
        "\n",
        "#Add Baltimore City row\n",
        "prop.loc[len(prop.index)] = ['Baltimore City', 'Baltimore City', prop['propCount'].sum()]\n",
        "\n",
        "#read pop2020 data\n",
        "pop2020 = pd.read_csv('CSA2020_CSA2010_&_2020pop.csv')\n",
        "\n",
        "#Append 2020pop\n",
        "prop = prop.merge(pop2020, left_on=['CSA2010', 'CSA2020'], right_on=['CSA2010', 'CSA2020'], how='inner')\n",
        "\n",
        "#Create indicator\n",
        "prop['prop'] = (prop['propCount']/prop['tpop20'])*1000"
      ],
      "metadata": {
        "id": "aCT0b9UTte2A"
      },
      "execution_count": null,
      "outputs": []
    },
    {
      "cell_type": "markdown",
      "source": [
        "###vio Indicator"
      ],
      "metadata": {
        "id": "7Hhgv0yov6_2"
      }
    },
    {
      "cell_type": "code",
      "source": [
        "#export\n",
        "#vio Indicator\n",
        "#Output - Violent Crime Rate per 1,000 Residents\n",
        "\n",
        "#Create new df with only needed descriptions\n",
        "descriptions = ['AGG. ASSAULT', 'HOMICIDE', 'RAPE', 'ROBBERY - CARJACKING', \n",
        "                'ROBBERY - COMMERCIAL', 'ROBBERY - RESIDENCE', 'ROBBERY - STREET']\n",
        "                \n",
        "vio = p1Crime_2021[(p1Crime_2021['Descriptio'].isin(descriptions))]\n",
        "\n",
        "#Remove all unnecessary columns\n",
        "vio = vio[['CSA2010', 'CSA2020']]\n",
        "\n",
        "#Add property crime column\n",
        "vio['vioCount'] = 1\n",
        "\n",
        "#Get CSAs frequency\n",
        "vio = vio.groupby(['CSA2010', 'CSA2020']).sum(numeric_only=True) \n",
        "\n",
        "#make index the CSA2020 column\n",
        "vio.reset_index(inplace=True)\n",
        "\n",
        "#Add Baltimore City row\n",
        "vio.loc[len(vio.index)] = ['Baltimore City', 'Baltimore City', vio['vioCount'].sum()]\n",
        "\n",
        "#read pop2020 data\n",
        "pop2020 = pd.read_csv('CSA2020_CSA2010_&_2020pop.csv')\n",
        "\n",
        "#Append 2020pop\n",
        "vio = vio.merge(pop2020, left_on=['CSA2010', 'CSA2020'], right_on=['CSA2010', 'CSA2020'], how='inner')\n",
        "\n",
        "#Create indicator\n",
        "vio['vio'] = (vio['vioCount']/vio['tpop20'])*1000"
      ],
      "metadata": {
        "id": "J8IIst-Zvxxk"
      },
      "execution_count": null,
      "outputs": []
    },
    {
      "cell_type": "markdown",
      "source": [
        "###gunhom Indicator"
      ],
      "metadata": {
        "id": "eX-GwCunxHav"
      }
    },
    {
      "cell_type": "code",
      "source": [
        "#export\n",
        "#gunhom Indicator\n",
        "#Output - Number of Gun-Related Homicides per 1,000 Residents\n",
        "\n",
        "#Create df where desription = homicide & weapon = firearm\n",
        "gunhom = p1Crime_2021[(p1Crime_2021['Descriptio'] == 'HOMICIDE') & (p1Crime_2021['Weapon'] == 'FIREARM')]\n",
        "\n",
        "#Remove all unnecessary columns\n",
        "gunhom = gunhom[['CSA2010', 'CSA2020']]\n",
        "\n",
        "#Add property crime column\n",
        "gunhom['gunhomCount'] = 1\n",
        "\n",
        "#Get CSAs frequency\n",
        "gunhom = gunhom.groupby(['CSA2010', 'CSA2020']).sum(numeric_only=True) \n",
        "\n",
        "#make index the CSA2020 column\n",
        "gunhom.reset_index(inplace=True)\n",
        "\n",
        "#Add Baltimore City row\n",
        "gunhom.loc[len(gunhom.index)] = ['Baltimore City', 'Baltimore City', gunhom['gunhomCount'].sum()]\n",
        "\n",
        "#read pop2020 data\n",
        "pop2020 = pd.read_csv('CSA2020_CSA2010_&_2020pop.csv')\n",
        "\n",
        "#Append 2020pop. Using right-merge since some CSAs have zero gunhomCount.\n",
        "gunhom = gunhom.merge(pop2020, left_on=['CSA2010', 'CSA2020'], right_on=['CSA2010', 'CSA2020'], how='right')\n",
        "\n",
        "#Create indicator\n",
        "gunhom['gunhom'] = (gunhom['gunhomCount']/gunhom['tpop20'])*1000"
      ],
      "metadata": {
        "id": "ukm0L8_qxJoz"
      },
      "execution_count": null,
      "outputs": []
    }
  ]
}