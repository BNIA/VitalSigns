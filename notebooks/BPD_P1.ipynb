{
 "cells": [
  {
   "cell_type": "code",
   "execution_count": null,
   "metadata": {
    "id": "OkDQhmGldUdR"
   },
   "outputs": [],
   "source": [
    "# default_exp bpd"
   ]
  },
  {
   "cell_type": "markdown",
   "metadata": {
    "id": "_jLE_5-I9HzS"
   },
   "source": [
    "# Part 1 Crime Exploration\n",
    "\n",
    "> This notebook uses Baltimore Cities Part1 Crime Data. "
   ]
  },
  {
   "cell_type": "markdown",
   "metadata": {
    "id": "xLO-aGKodxvP"
   },
   "source": [
    "### 58 shootl - R\n",
    "\n"
   ]
  },
  {
   "cell_type": "markdown",
   "metadata": {
    "id": "EAOen37Ekb2O"
   },
   "source": [
    "Convert Shooting\n",
    "\n",
    "WITH tbl AS ( \n",
    "  SELECT (Sum( CASE WHEN csa_present THEN 1 ELSE 0 END)::numeric * 1000 )/the_pop AS result, csa \n",
    "    FROM vital_signs.Match_csas_and_bc_by_geom('crime.part1_2017', 'gid', 'the_geom') a \n",
    "      LEFT JOIN crime.part1_2017 b \n",
    "        ON a.gid = b.gid \n",
    "          GROUP BY  csa, the_pop \n",
    ") \n",
    "select * from tbl where 1 = 1\n",
    "\n",
    "\n",
    "Not Used\n",
    "\n",
    "\n",
    "SQL WAS SCRAPPED.\n",
    "\n",
    "Processed Manually."
   ]
  },
  {
   "cell_type": "markdown",
   "metadata": {
    "id": "XfwOgcYTs90R"
   },
   "source": [
    "Todo: \n",
    "- Refractor Queries for no Point In Polygons\n",
    "- Wrap as Function"
   ]
  },
  {
   "cell_type": "markdown",
   "metadata": {
    "id": "ukxt0JZCsaxc"
   },
   "source": [
    "## Whats Inside?: "
   ]
  },
  {
   "cell_type": "markdown",
   "metadata": {
    "id": "pS9RYbfljX20"
   },
   "source": [
    "1. Retrieve ACS Datasets\n",
    "2. Retrieve Crime Datasets\n",
    "3. Filter Down Columns \n",
    "3. Append CSA label w a Points in Polygons operation.\n",
    "5. One hot encode variables\n",
    "6. Aggregate points along CSAs\n",
    "7. Create indicators.\n",
    "8. Visualize these aggregates."
   ]
  },
  {
   "cell_type": "markdown",
   "metadata": {
    "id": "J5fgpFCgNkVt"
   },
   "source": [
    "#### __Indicators Used__\n",
    "\n",
    "- ✅ 50 - __crime__ -  (Part1, Tpop) Part 1 Crime Rate per 1,000 Residents\n",
    "- ✅ 52 - __vio__ -  (Part1, Tpop) Violent Crime Rate per 1,000 Residents\n",
    "- ✅ 53 - __prop__ - (Part1, Tpop) Property Crime Rate per 1,000 Residents\n",
    "- ✅ 59 - __gunhom__ - (Part1, Tpop) Number of Gun-Related Homicides per 1,000 Residents"
   ]
  },
  {
   "cell_type": "markdown",
   "metadata": {
    "id": "-6lDtbLS0a-C"
   },
   "source": [
    "#### __Datasets Used__\n",
    "\n",
    "- ✅ Crime_Part_1 - __(50-crime, 52-vio, 53-prop, 59-gunhom -> Descriptio, Weapon)__\n",
    "- ✅ Baltvac - __(50-crime, 52-vio, 53-prop, 59-gunhom -> Tpop)__\n"
   ]
  },
  {
   "cell_type": "markdown",
   "metadata": {
    "id": "e8-mgsByhrxG"
   },
   "source": [
    "## SETUP Enviornment:"
   ]
  },
  {
   "cell_type": "markdown",
   "metadata": {
    "id": "0hHCW-qPMeH6"
   },
   "source": [
    "### Import Modules"
   ]
  },
  {
   "cell_type": "code",
   "execution_count": null,
   "metadata": {
    "id": "WUvcamATFo4G"
   },
   "outputs": [],
   "source": [
    "%%capture\n",
    "! pip install -U -q PyDrive\n",
    "! pip install geopy\n",
    "! pip install geopandas\n",
    "! pip install geoplot\n",
    "! pip install dataplay\n",
    "! pip install matplotlib\n",
    "! pip install psycopg2-binary"
   ]
  },
  {
   "cell_type": "code",
   "execution_count": null,
   "metadata": {
    "id": "r0vkoXtZRdJz"
   },
   "outputs": [],
   "source": [
    "%%capture\n",
    "! apt-get install build-dep python-psycopg2\n",
    "! apt-get install libpq-dev\n",
    "! apt-get install libspatialindex-dev"
   ]
  },
  {
   "cell_type": "code",
   "execution_count": null,
   "metadata": {
    "id": "gZ17xjOgR8vg"
   },
   "outputs": [],
   "source": [
    "%%capture\n",
    "!pip install rtree\n",
    "!pip install dexplot"
   ]
  },
  {
   "cell_type": "code",
   "execution_count": null,
   "metadata": {
    "id": "w9Mcvm-X0gdo"
   },
   "outputs": [],
   "source": [
    "#hide_output\n",
    "from dataplay.geoms import workWithGeometryData"
   ]
  },
  {
   "cell_type": "code",
   "execution_count": null,
   "metadata": {
    "id": "nNOByHFKFo4m"
   },
   "outputs": [],
   "source": [
    "%%capture \n",
    "# These imports will handle everything\n",
    "import os\n",
    "import sys\n",
    "import csv\n",
    "import matplotlib.pyplot as plt\n",
    "import numpy as np\n",
    "import pandas as pd\n",
    "import geopandas as gpd\n",
    "from geopandas import GeoDataFrame\n",
    "import psycopg2\n",
    "import pyproj\n",
    "from pyproj import Proj, transform\n",
    "# conda install -c conda-forge proj4\n",
    "from shapely.geometry import Point\n",
    "from shapely import wkb\n",
    "from shapely.wkt import loads\n",
    "# https://pypi.org/project/geopy/\n",
    "from geopy.geocoders import Nominatim\n",
    "\n",
    "# In case file is KML, enable support\n",
    "import fiona\n",
    "fiona.drvsupport.supported_drivers['kml'] = 'rw'\n",
    "fiona.drvsupport.supported_drivers['KML'] = 'rw'"
   ]
  },
  {
   "cell_type": "code",
   "execution_count": null,
   "metadata": {
    "id": "evj9GJLdSlxF"
   },
   "outputs": [],
   "source": [
    "#hide_output\n",
    "from IPython.display import clear_output\n",
    "clear_output(wait=True)"
   ]
  },
  {
   "cell_type": "code",
   "execution_count": null,
   "metadata": {
    "id": "uTcb3bD84mSA"
   },
   "outputs": [],
   "source": [
    "#hide_output\n",
    "import ipywidgets as widgets\n",
    "from ipywidgets import interact, interact_manual"
   ]
  },
  {
   "cell_type": "markdown",
   "metadata": {
    "id": "q8tLzJzcMh74"
   },
   "source": [
    "### Configure Enviornment"
   ]
  },
  {
   "cell_type": "code",
   "execution_count": null,
   "metadata": {
    "id": "OuH4mBeYCUqU"
   },
   "outputs": [],
   "source": [
    "#hide_output\n",
    "# This will just beautify the output\n",
    "\n",
    "pd.set_option('display.expand_frame_repr', False)\n",
    "pd.set_option('display.precision', 2)\n",
    "from IPython.core.interactiveshell import InteractiveShell\n",
    "InteractiveShell.ast_node_interactivity = \"all\"\n",
    "\n",
    "# pd.set_option('display.expand_frame_repr', False)\n",
    "# pd.set_option('display.precision', 2)\n",
    "# pd.reset_option('max_colwidth')\n",
    "pd.set_option('max_colwidth', 20)\n",
    "# pd.reset_option('max_colwidth')"
   ]
  },
  {
   "cell_type": "markdown",
   "metadata": {
    "id": "g-eNzM614b3K"
   },
   "source": [
    "## Prep Datasets"
   ]
  },
  {
   "cell_type": "markdown",
   "metadata": {
    "id": "_3QiG_W4iDl7"
   },
   "source": [
    "### TPOP CSA and Baltimore"
   ]
  },
  {
   "cell_type": "markdown",
   "metadata": {
    "id": "tlQvkkbaB0ZI"
   },
   "source": [
    "Get Baltimore"
   ]
  },
  {
   "cell_type": "code",
   "execution_count": null,
   "metadata": {
    "id": "-xeV9WHdOhBv"
   },
   "outputs": [],
   "source": [
    "#collapse_output\n",
    "#collapse_input\n",
    "csa = \"https://services1.arcgis.com/mVFRs7NF4iFitgbY/ArcGIS/rest/services/Tpop/FeatureServer/0/query?where=1%3D1&outFields=*&returnGeometry=true&f=pgeojson\"\n",
    "csa = gpd.read_file(csa);\n",
    "csa.head(1)"
   ]
  },
  {
   "cell_type": "markdown",
   "metadata": {
    "id": "QyBS5PlHB1db"
   },
   "source": [
    "Get CSA"
   ]
  },
  {
   "cell_type": "code",
   "execution_count": null,
   "metadata": {
    "id": "2FLpVhiPUAck"
   },
   "outputs": [],
   "source": [
    "url2 = \"https://services1.arcgis.com/mVFRs7NF4iFitgbY/ArcGIS/rest/services/Tpop/FeatureServer/1/query?where=1%3D1&outFields=*&returnGeometry=true&f=pgeojson\"\n",
    "csa2 = gpd.read_file(url2);\n",
    "csa2['CSA2010'] = csa2['City_1'] \n",
    "csa2['OBJECTID'] = 56 \n",
    "csa2 = csa2.drop(columns=['City_1'])\n",
    "csa2.head()"
   ]
  },
  {
   "cell_type": "markdown",
   "metadata": {
    "id": "RiT-Pc1jgZJI"
   },
   "source": [
    "Append do no append Bcity. We put it on the Bottom of the df because when performing the ponp it returns only the last matching columns CSA Label. "
   ]
  },
  {
   "cell_type": "code",
   "execution_count": null,
   "metadata": {
    "id": "RWZigszHUWm5"
   },
   "outputs": [],
   "source": [
    "# csa = pd.concat([csa2, csa], ignore_index=True)\n",
    "csa = csa.append(csa2).reset_index(drop=True)"
   ]
  },
  {
   "cell_type": "code",
   "execution_count": null,
   "metadata": {
    "id": "oH6C5OecjBsy"
   },
   "outputs": [],
   "source": [
    "csa.head(3)"
   ]
  },
  {
   "cell_type": "code",
   "execution_count": null,
   "metadata": {
    "id": "WLpXYhJHB_rt"
   },
   "outputs": [],
   "source": [
    "csa.tail(3)"
   ]
  },
  {
   "cell_type": "code",
   "execution_count": null,
   "metadata": {
    "id": "wpZDcRVkk9SJ"
   },
   "outputs": [],
   "source": [
    "csa.head()"
   ]
  },
  {
   "cell_type": "markdown",
   "metadata": {
    "id": "3aCZjZNUSauR"
   },
   "source": [
    "### 2018 P1 Crime"
   ]
  },
  {
   "cell_type": "markdown",
   "metadata": {
    "id": "yhFIgsPGb3kH"
   },
   "source": [
    "#### Append CSA's name to each record using a Point in Polygons operation"
   ]
  },
  {
   "cell_type": "code",
   "execution_count": null,
   "metadata": {
    "id": "F8216VYZSeZp"
   },
   "outputs": [],
   "source": [
    "cd p1crime"
   ]
  },
  {
   "cell_type": "code",
   "execution_count": null,
   "metadata": {
    "id": "rhJXid9aSiCp"
   },
   "outputs": [],
   "source": [
    "ls"
   ]
  },
  {
   "cell_type": "markdown",
   "metadata": {
    "id": "RUYO7niblKbt"
   },
   "source": [
    "Load it"
   ]
  },
  {
   "cell_type": "code",
   "execution_count": null,
   "metadata": {
    "id": "dbxff5-OSi6h"
   },
   "outputs": [],
   "source": [
    "import geopandas as gpd\n",
    "original18 = gpd.read_file('Part1_2018.shp')\n",
    "original18 = original18.to_crs(epsg=4326)"
   ]
  },
  {
   "cell_type": "markdown",
   "metadata": {
    "id": "daVOTbSclN_7"
   },
   "source": [
    "Drop Columns"
   ]
  },
  {
   "cell_type": "code",
   "execution_count": null,
   "metadata": {
    "id": "7NlDQvNIS0LW"
   },
   "outputs": [],
   "source": [
    "original18.columns"
   ]
  },
  {
   "cell_type": "code",
   "execution_count": null,
   "metadata": {
    "id": "gC6WBZQsejer"
   },
   "outputs": [],
   "source": [
    "original18.Desc_.unique()"
   ]
  },
  {
   "cell_type": "markdown",
   "metadata": {
    "id": "gZBLCdeG2w4L"
   },
   "source": [
    "I’m just interested in 2018 vs 2019 for the description (crime type) right now, and the indicator values for the CSAs and city"
   ]
  },
  {
   "cell_type": "markdown",
   "metadata": {
    "id": "CFvb3QJ5m9IN"
   },
   "source": [
    "We are only going to be looking at tthis from an aggregated point of view. \n",
    "\n",
    "While our columns are all very important and each deserve inspection for quality assurance...\n",
    "\n",
    "We are just going to look past that part for this exercise. "
   ]
  },
  {
   "cell_type": "code",
   "execution_count": null,
   "metadata": {
    "id": "xe3Y_XUMlNgd"
   },
   "outputs": [],
   "source": [
    "original18 = original18.drop(columns=['Longitude','Latitude', 'Location1', 'Total_Inci', 'CrimeDate', 'CrimeTime', 'Location', 'Neighborho', 'Post', 'District', 'vri_name1', 'InOut', 'Premise', 'CrimeCode'])\n",
    "original18.head(1)"
   ]
  },
  {
   "cell_type": "markdown",
   "metadata": {
    "id": "2rcyEscVlrFB"
   },
   "source": [
    "Lets take a peek"
   ]
  },
  {
   "cell_type": "code",
   "execution_count": null,
   "metadata": {
    "id": "OBNKkMaUS2CR"
   },
   "outputs": [],
   "source": [
    "original18.plot(column='Desc_')"
   ]
  },
  {
   "cell_type": "markdown",
   "metadata": {
    "id": "F5d72sFvliGs"
   },
   "source": [
    "Eeesh. Lets filter out points not near Baltimore for the sake of visibility "
   ]
  },
  {
   "cell_type": "code",
   "execution_count": null,
   "metadata": {
    "id": "uEHqIRdST_H3"
   },
   "outputs": [],
   "source": [
    "gdf18 = original18.copy()\n",
    "filteredOut18 = original18.copy()"
   ]
  },
  {
   "cell_type": "markdown",
   "metadata": {
    "id": "wCLwc-YmmERT"
   },
   "source": [
    "This works"
   ]
  },
  {
   "cell_type": "code",
   "execution_count": null,
   "metadata": {
    "id": "tRjCry5zTY8A"
   },
   "outputs": [],
   "source": [
    "# gdf18 = original18.copy()\n",
    "# gdf18 = gdf18[ (gdf18.geometry.y < 39.378) == (gdf18.geometry.y > 39.215) ] \n",
    "# gdf18 = gdf18[ (gdf18.geometry.x < -76.52) == (gdf18.geometry.x > -76.71) ] \n",
    "# gdf18.plot(column='CrimeCode')\n",
    "# print( \"Originally had {}, and now we have {}, removing {}\".format( len(gdf18), len(original18), (len(gdf18) - len(original18) ) ) )"
   ]
  },
  {
   "cell_type": "markdown",
   "metadata": {
    "id": "4dIaaH7kmKwT"
   },
   "source": [
    "But this next bit essentially does the same thing and more."
   ]
  },
  {
   "cell_type": "markdown",
   "metadata": {
    "id": "siWw26mOmZBJ"
   },
   "source": [
    "Append CSA label w a Points in Polygons operation."
   ]
  },
  {
   "cell_type": "code",
   "execution_count": null,
   "metadata": {
    "id": "ebk3pzTIiWYN"
   },
   "outputs": [],
   "source": [
    "# Get CSA Labels for all Points.\n",
    "gdf18 = workWithGeometryData( \n",
    "     method='ponp', df=gdf18, polys=csa, ptsCoordCol='geometry', \n",
    "     polygonsCoordCol='geometry', polygonsLabel='CSA2010'\n",
    ")\n",
    "gdf18.to_csv('ponp_gdf18.csv', index=False)"
   ]
  },
  {
   "cell_type": "markdown",
   "metadata": {
    "id": "fHD7ztDBXdPC"
   },
   "source": [
    "Output: \n",
    "\n",
    "Total Points:  48143.0\n",
    "\n",
    "Total Points in Polygons:  47748\n",
    "\n",
    "Prcnt Points in Polygons:  0.9917952765718796"
   ]
  },
  {
   "cell_type": "code",
   "execution_count": null,
   "metadata": {
    "id": "GIPz5YzuolDu"
   },
   "outputs": [],
   "source": [
    "gdf18[gdf18.CSA2010 != 'false'].plot(column='CSA2010')"
   ]
  },
  {
   "cell_type": "markdown",
   "metadata": {
    "id": "vwJTmCQdb_4P"
   },
   "source": [
    "#### Dummy encode the description column."
   ]
  },
  {
   "cell_type": "code",
   "execution_count": null,
   "metadata": {
    "id": "IzYf4G8K-KzE"
   },
   "outputs": [],
   "source": [
    "ls"
   ]
  },
  {
   "cell_type": "code",
   "execution_count": null,
   "metadata": {
    "id": "Jxt3JSSKY4gh"
   },
   "outputs": [],
   "source": [
    "cd p1crime"
   ]
  },
  {
   "cell_type": "code",
   "execution_count": null,
   "metadata": {
    "id": "cAtb6EwpxQzf"
   },
   "outputs": [],
   "source": [
    "gdf18New = pd.read_csv('ponp_gdf18.csv')\n",
    "gdf18New = gdf18New.drop('geometry', axis=1)\n",
    "# gdf18 = gdf18.drop(['CrimeCode', 'Premise', 'Weapon', 'InOut'], axis=1)"
   ]
  },
  {
   "cell_type": "code",
   "execution_count": null,
   "metadata": {
    "id": "OrmWFJbPasPh"
   },
   "outputs": [],
   "source": [
    "gdf18New.columns"
   ]
  },
  {
   "cell_type": "code",
   "execution_count": null,
   "metadata": {
    "id": "A7pkp3mlmfUr"
   },
   "outputs": [],
   "source": [
    "gdf18New.CSA2010.unique()"
   ]
  },
  {
   "cell_type": "code",
   "execution_count": null,
   "metadata": {
    "id": "3lqcR1IBs_pS"
   },
   "outputs": [],
   "source": [
    "gdf18New"
   ]
  },
  {
   "cell_type": "code",
   "execution_count": null,
   "metadata": {
    "id": "oMuH2dNNsChL"
   },
   "outputs": [],
   "source": [
    "df18.columns"
   ]
  },
  {
   "cell_type": "code",
   "execution_count": null,
   "metadata": {
    "id": "aQEP-ZNStfed"
   },
   "outputs": [],
   "source": [
    "df18 = pd.get_dummies( gdf18New.loc[:, gdf18New.columns != 'CSA2010'] )\n",
    "df18['CSA2010'] = gdf18New.CSA2010\n",
    "df18['gunhom'] = df18.apply(lambda x: 1 if x['Desc__HOMICIDE'] + x['Weapon_FIREARM']== 2 else 0, axis=1 )\n",
    "df18.head(1)"
   ]
  },
  {
   "cell_type": "code",
   "execution_count": null,
   "metadata": {
    "id": "8dxCkJg3u0lj"
   },
   "outputs": [],
   "source": [
    "dft18 = df18.groupby('CSA2010').sum(numeric_only=True) \n",
    "dft18.head(1)"
   ]
  },
  {
   "cell_type": "code",
   "execution_count": null,
   "metadata": {
    "id": "RapkNMInol2a"
   },
   "outputs": [],
   "source": [
    "dft18 = dft18.reset_index()\n",
    "dft18.to_csv('aggregated18CrimeDesc.csv')"
   ]
  },
  {
   "cell_type": "code",
   "execution_count": null,
   "metadata": {
    "id": "fQBOKW-5AVFx"
   },
   "outputs": [],
   "source": [
    "dft18 = pd.read_csv('aggregated18CrimeDesc.csv')\n",
    "dft18.drop('Unnamed: 0', inplace=True, axis=1)\n",
    "dft18 = dft18.merge( csa[ ['CSA2010', 'geometry'] ], left_on='CSA2010', right_on='CSA2010' ) "
   ]
  },
  {
   "cell_type": "code",
   "execution_count": null,
   "metadata": {
    "id": "fUOeebkXLExH"
   },
   "outputs": [],
   "source": [
    "import geopandas as gpd\n",
    "dft18 = gpd.GeoDataFrame(  dft18, geometry='geometry' ) "
   ]
  },
  {
   "cell_type": "code",
   "execution_count": null,
   "metadata": {
    "id": "EtwmiNCIBrmf"
   },
   "outputs": [],
   "source": [
    "dft18.head()"
   ]
  },
  {
   "cell_type": "code",
   "execution_count": null,
   "metadata": {
    "id": "yoOyW6LKLcNP"
   },
   "outputs": [],
   "source": [
    "dft18.plot(column='Desc__AGG. ASSAULT')"
   ]
  },
  {
   "cell_type": "markdown",
   "metadata": {
    "id": "jhpoEcmYMnT1"
   },
   "source": [
    "### 2019 P1 Crime"
   ]
  },
  {
   "cell_type": "markdown",
   "metadata": {
    "id": "Bzxncft7Msk7"
   },
   "source": [
    "#### Append CSA's name to each record using a Point in Polygons operation"
   ]
  },
  {
   "cell_type": "code",
   "execution_count": null,
   "metadata": {
    "id": "sMtQEufaMsk-"
   },
   "outputs": [],
   "source": [
    "ls"
   ]
  },
  {
   "cell_type": "markdown",
   "metadata": {
    "id": "ICVZ88utMsk_"
   },
   "source": [
    "Load it"
   ]
  },
  {
   "cell_type": "code",
   "execution_count": null,
   "metadata": {
    "id": "g9nyitETMslA"
   },
   "outputs": [],
   "source": [
    "import geopandas as gpd\n",
    "original19 = gpd.read_file('Part1_2019.shp')\n",
    "original19 = original19.to_crs(epsg=4326)"
   ]
  },
  {
   "cell_type": "markdown",
   "metadata": {
    "id": "kuiqjRH9MslA"
   },
   "source": [
    "Drop Columns"
   ]
  },
  {
   "cell_type": "code",
   "execution_count": null,
   "metadata": {
    "id": "uR9sYjDEMslB"
   },
   "outputs": [],
   "source": [
    "original19.columns"
   ]
  },
  {
   "cell_type": "markdown",
   "metadata": {
    "id": "vJuwQSP8SS2q"
   },
   "source": [
    "So. We can see that different column names are used."
   ]
  },
  {
   "cell_type": "code",
   "execution_count": null,
   "metadata": {
    "id": "QDnkuy1nMslC"
   },
   "outputs": [],
   "source": [
    "original19.Descriptio.unique()"
   ]
  },
  {
   "cell_type": "code",
   "execution_count": null,
   "metadata": {
    "id": "c0gvLXOmStyb"
   },
   "outputs": [],
   "source": [
    "original19['Desc_'] = original19.Descriptio"
   ]
  },
  {
   "cell_type": "markdown",
   "metadata": {
    "id": "pHlh0R4SMslC"
   },
   "source": [
    "I’m just interested in 2018 vs 2019 for the description (crime type) right now, and the indicator values for the CSAs and city"
   ]
  },
  {
   "cell_type": "markdown",
   "metadata": {
    "id": "RaZPB8fwMslD"
   },
   "source": [
    "We are only going to be looking at tthis from an aggregated point of view. \n",
    "\n",
    "While our columns are all very important and each deserve inspection for quality assurance...\n",
    "\n",
    "We are just going to look past that part for this exercise. "
   ]
  },
  {
   "cell_type": "code",
   "execution_count": null,
   "metadata": {
    "id": "L8o3omx3MslD"
   },
   "outputs": [],
   "source": [
    "original19 = original19.drop(columns=['CrimeDate', 'CrimeTime', 'CrimeCode', 'Location', 'Descriptio',\n",
    "       'Inside_Out', 'Post', 'District', 'Neighborho', 'Longitude',\n",
    "       'Latitude', 'Location_1', 'Premise', 'vri_name1', 'Total_Inci' ])\n",
    "original19.head(1)"
   ]
  },
  {
   "cell_type": "markdown",
   "metadata": {
    "id": "MH8BtT3BMslE"
   },
   "source": [
    "Lets take a peek"
   ]
  },
  {
   "cell_type": "code",
   "execution_count": null,
   "metadata": {
    "id": "gbg5rgrTMslE"
   },
   "outputs": [],
   "source": [
    "original19.plot(column='Desc_')"
   ]
  },
  {
   "cell_type": "markdown",
   "metadata": {
    "id": "8lALK7LwMslF"
   },
   "source": [
    "Eeesh. Lets filter out points not near Baltimore for the sake of visibility "
   ]
  },
  {
   "cell_type": "code",
   "execution_count": null,
   "metadata": {
    "id": "Tyy8xgfMMslF"
   },
   "outputs": [],
   "source": [
    "gdf19 = original19.copy()\n",
    "filteredOut19 = original19.copy() "
   ]
  },
  {
   "cell_type": "markdown",
   "metadata": {
    "id": "R7z0RvPMMslG"
   },
   "source": [
    "Append CSA label w a Points in Polygons operation."
   ]
  },
  {
   "cell_type": "code",
   "execution_count": null,
   "metadata": {
    "id": "rcsZe9KYMslH"
   },
   "outputs": [],
   "source": [
    "# Get CSA Labels for all Points.\n",
    "gdf19 = workWithGeometryData( \n",
    "     method='ponp', df=gdf19, polys=csa, ptsCoordCol='geometry', \n",
    "     polygonsCoordCol='geometry', polygonsLabel='CSA2010'\n",
    ")\n",
    "gdf19.to_csv('ponp_gdf19.csv', index=False)"
   ]
  },
  {
   "cell_type": "markdown",
   "metadata": {
    "id": "_4-a2a_6VdY2"
   },
   "source": [
    "Output: \n",
    "\n",
    "Total Points:  37166.0\n",
    "\n",
    "Total Points in Polygons:  37018\n",
    "\n",
    "Prcnt Points in Polygons:  0.9960178657913147"
   ]
  },
  {
   "cell_type": "code",
   "execution_count": null,
   "metadata": {
    "id": "MEwB0bF8MslL"
   },
   "outputs": [],
   "source": [
    "gdf19[gdf19.CSA2010 != 'false'].plot(column='CSA2010')"
   ]
  },
  {
   "cell_type": "markdown",
   "metadata": {
    "id": "8y6ORHrane7a"
   },
   "source": [
    "#### Or Use Pre-Geocoded Point in Polygon "
   ]
  },
  {
   "cell_type": "code",
   "execution_count": null,
   "metadata": {
    "id": "X2QycwBARUL1"
   },
   "outputs": [],
   "source": [
    "year = '20'"
   ]
  },
  {
   "cell_type": "code",
   "execution_count": null,
   "metadata": {
    "id": "nM0zkyUhnhRr"
   },
   "outputs": [],
   "source": [
    "import geopandas as gpd\n",
    "original = gpd.read_file('Part1_20'+year+'_CSACity.shp')"
   ]
  },
  {
   "cell_type": "markdown",
   "metadata": {
    "id": "CRarB4DrHiV4"
   },
   "source": [
    "All the functiosn in here use different column names"
   ]
  },
  {
   "cell_type": "code",
   "execution_count": null,
   "metadata": {
    "id": "JR0MaQk0fHYa"
   },
   "outputs": [],
   "source": [
    "original.rename(columns={ 'CSA':'CSA2010', 'BaltCity':'InBaltimore'}, inplace=True)"
   ]
  },
  {
   "cell_type": "code",
   "execution_count": null,
   "metadata": {
    "id": "OTbDXNYrRknf"
   },
   "outputs": [],
   "source": [
    "original.head(1)"
   ]
  },
  {
   "cell_type": "code",
   "execution_count": null,
   "metadata": {
    "id": "-OHaJiCeQ6_Q"
   },
   "outputs": [],
   "source": [
    "# original.groupby('CSA2010').sum(numeric_only=True) "
   ]
  },
  {
   "cell_type": "markdown",
   "metadata": {
    "id": "fAMNZzimHlgp"
   },
   "source": [
    "And convert the CRS"
   ]
  },
  {
   "cell_type": "code",
   "execution_count": null,
   "metadata": {
    "id": "0fzA7keZqRnc"
   },
   "outputs": [],
   "source": [
    "original = original.to_crs(epsg=4326)"
   ]
  },
  {
   "cell_type": "code",
   "execution_count": null,
   "metadata": {
    "id": "1wSGOMQeqCv9"
   },
   "outputs": [],
   "source": [
    "original.crs"
   ]
  },
  {
   "cell_type": "markdown",
   "metadata": {
    "id": "VzHGDxX8HunQ"
   },
   "source": [
    "Lets see if we have the columns we need"
   ]
  },
  {
   "cell_type": "code",
   "execution_count": null,
   "metadata": {
    "id": "dimLQRhUfJTs"
   },
   "outputs": [],
   "source": [
    "original.columns"
   ]
  },
  {
   "cell_type": "markdown",
   "metadata": {
    "id": "VQC_OE-9tCLs"
   },
   "source": [
    "Original Dataset"
   ]
  },
  {
   "cell_type": "code",
   "execution_count": null,
   "metadata": {
    "id": "mGq6t5yppn-G"
   },
   "outputs": [],
   "source": [
    "original.plot()"
   ]
  },
  {
   "cell_type": "markdown",
   "metadata": {
    "id": "BKINeI4LuZ3p"
   },
   "source": [
    "Remove these for not being either a CSA or Baltimore"
   ]
  },
  {
   "cell_type": "code",
   "execution_count": null,
   "metadata": {
    "id": "IjBo8tv8s7Dn"
   },
   "outputs": [],
   "source": [
    "removeThese = original[ original['CSA2010'].isnull() & original['InBaltimore'].isnull()  ]\n",
    "removeThese.plot()"
   ]
  },
  {
   "cell_type": "markdown",
   "metadata": {
    "id": "SOXB1w8XtEeE"
   },
   "source": [
    "Keep These"
   ]
  },
  {
   "cell_type": "code",
   "execution_count": null,
   "metadata": {
    "id": "vRcdLUNWhOBt"
   },
   "outputs": [],
   "source": [
    "df = original[ original['CSA2010'].notnull() | original['InBaltimore'].notnull()  ]\n",
    "df.plot()"
   ]
  },
  {
   "cell_type": "code",
   "execution_count": null,
   "metadata": {
    "id": "cz7Pr7qFoT-8"
   },
   "outputs": [],
   "source": [
    "print('After filtering records where a CSA or Baltimore geo-code match Exists')\n",
    "print( 'All rows Before Filter: ', original.shape[0] ) # rows, columns\n",
    "print( '# w BCity.isnull: ', df.InBaltimore.isnull().sum() ); bmorow = df[ df.CSA2010.isnull()  ].shape[0]\n",
    "print( '# w CSA2010.isnull: ', bmorow ); csarow = df[ df.CSA2010.notnull()  ].shape[0] \n",
    "print( '# w CSA2010.notnull: ', csarow ); \n",
    "print( '# rows After Filter: ', df.shape[0],'==',csarow,'+',bmorow,'==', csarow + bmorow); "
   ]
  },
  {
   "cell_type": "code",
   "execution_count": null,
   "metadata": {
    "id": "gjTdZWcrmIUy"
   },
   "outputs": [],
   "source": [
    "# add baltimore city\n",
    "df.CSA2010 = df.CSA2010.fillna('Baltimore City')"
   ]
  },
  {
   "cell_type": "code",
   "execution_count": null,
   "metadata": {
    "id": "ntkgHH5vqFRA"
   },
   "outputs": [],
   "source": [
    "df.head(1)"
   ]
  },
  {
   "cell_type": "code",
   "execution_count": null,
   "metadata": {
    "id": "FpQ-ZVR7Ypmp"
   },
   "outputs": [],
   "source": [
    "df['Desc_'] = df.Descriptio"
   ]
  },
  {
   "cell_type": "code",
   "execution_count": null,
   "metadata": {
    "id": "uCYLF1nYo9a4"
   },
   "outputs": [],
   "source": [
    "# FOR YS 20\n",
    "df = df.drop(columns=['CrimeCode', 'Location', 'Descriptio',\n",
    "       'Inside_Out', 'Post', 'District', 'Neighborho', 'Longitude',\n",
    "       'Latitude', 'Premise', 'Total_Inci' ])\n",
    "df.head(1)"
   ]
  },
  {
   "cell_type": "code",
   "execution_count": null,
   "metadata": {
    "id": "CSf4hA3CYpmr"
   },
   "outputs": [],
   "source": [
    "# FOR YR 19 18\n",
    "df = df.drop(columns=['CrimeDate', 'CrimeTime', 'CrimeCode', 'Location', 'Descriptio',\n",
    "       'Inside_Out', 'Post', 'District', 'Neighborho', 'Longitude',\n",
    "       'Latitude', 'Location_1', 'Premise', 'vri_name1', 'Total_Inci' ])\n",
    "df.head(1)"
   ]
  },
  {
   "cell_type": "code",
   "execution_count": null,
   "metadata": {
    "id": "D4yzI5MKgc0C"
   },
   "outputs": [],
   "source": [
    "df.tail(3)"
   ]
  },
  {
   "cell_type": "code",
   "execution_count": null,
   "metadata": {
    "id": "OCpPicOOmvTg"
   },
   "outputs": [],
   "source": [
    "df.to_csv('ponp_gdf'+year+'.csv', index=False) "
   ]
  },
  {
   "cell_type": "markdown",
   "metadata": {
    "id": "tVlVbEi0VXQx"
   },
   "source": [
    "##### NOT USED"
   ]
  },
  {
   "cell_type": "code",
   "execution_count": null,
   "metadata": {
    "id": "1stYifTjiXwN"
   },
   "outputs": [],
   "source": [
    "# start the count\n",
    "df['pointsinpolygon'] = 1\n",
    "\n",
    "df = df.groupby('CSA2010').sum(numeric_only=True) \n",
    "\n",
    "# Make sure ALL csas and BaltimoreCity are included. among other things\n",
    "df = csa.merge( df, left_on='CSA2010', right_on='CSA2010', how='outer' ) \n",
    "\n",
    "# Update the baltimore CSA.\n",
    "df.at[55,'pointsinpolygon'] = df['pointsinpolygon'].sum()\n",
    "\n",
    "df.tail(2)"
   ]
  },
  {
   "cell_type": "code",
   "execution_count": null,
   "metadata": {
    "id": "AyjdQAq7i9_o"
   },
   "outputs": [],
   "source": [
    "from shapely import wkt\n",
    "df = pd.read_csv('ponp_gdf'+year+'.csv')\n",
    "df['geometry'] = df['geometry'].apply(wkt.loads)\n",
    "df = gpd.GeoDataFrame(df, crs='epsg:4326')"
   ]
  },
  {
   "cell_type": "code",
   "execution_count": null,
   "metadata": {
    "id": "Lzs48C9RAkSm"
   },
   "outputs": [],
   "source": [
    "df.plot()"
   ]
  },
  {
   "cell_type": "markdown",
   "metadata": {
    "id": "gjimOkF0MvCg"
   },
   "source": [
    "#### Dummy encode the description column."
   ]
  },
  {
   "cell_type": "code",
   "execution_count": null,
   "metadata": {
    "id": "8ZbvmdVkMvCg"
   },
   "outputs": [],
   "source": [
    "gdfNew = pd.read_csv('ponp_gdf'+year+'.csv')\n",
    "# 20\n",
    "gdfNew = gdfNew.drop(['geometry', 'RowID_', 'CrimeDateT', 'GeoLocatio', 'InBaltimore', 'VRIName'], axis=1)\n",
    "# 19 gdfNew = gdfNew.drop(['geometry'], axis=1)\n",
    "# gdf18 = gdf18.drop(['CrimeCode', 'Premise', 'Weapon', 'InOut'], axis=1)"
   ]
  },
  {
   "cell_type": "code",
   "execution_count": null,
   "metadata": {
    "id": "eq2apbDLMvCh"
   },
   "outputs": [],
   "source": [
    "gdfNew.columns"
   ]
  },
  {
   "cell_type": "code",
   "execution_count": null,
   "metadata": {
    "id": "1Azdll4-MvCh"
   },
   "outputs": [],
   "source": [
    "gdfNew.CSA2010.unique()"
   ]
  },
  {
   "cell_type": "code",
   "execution_count": null,
   "metadata": {
    "id": "9Dr8gUphMvCh"
   },
   "outputs": [],
   "source": [
    "gdfNew"
   ]
  },
  {
   "cell_type": "code",
   "execution_count": null,
   "metadata": {
    "id": "ebqAcVcYMvCh"
   },
   "outputs": [],
   "source": [
    "df = pd.get_dummies( gdfNew.loc[:, gdfNew.columns != 'CSA2010'] )\n",
    "df['CSA2010'] = gdfNew.CSA2010\n",
    "df['gunhom'] = df.apply(lambda x: 1 if x['Desc__HOMICIDE'] + x['Weapon_FIREARM']== 2 else 0, axis=1 )\n",
    "df.head(1)"
   ]
  },
  {
   "cell_type": "code",
   "execution_count": null,
   "metadata": {
    "id": "SuoUnfRSMvCh"
   },
   "outputs": [],
   "source": [
    "dft = df.groupby('CSA2010').sum(numeric_only=True) \n",
    "dft.head(3)"
   ]
  },
  {
   "cell_type": "code",
   "execution_count": null,
   "metadata": {
    "id": "EbIaZQeeMvCh"
   },
   "outputs": [],
   "source": [
    "dft = dft.reset_index()\n",
    "dft.to_csv('aggregated'+year+'CrimeDesc.csv')"
   ]
  },
  {
   "cell_type": "code",
   "execution_count": null,
   "metadata": {
    "id": "fPcCau-UMvCh"
   },
   "outputs": [],
   "source": [
    "dft = pd.read_csv('aggregated'+year+'CrimeDesc.csv')"
   ]
  },
  {
   "cell_type": "code",
   "execution_count": null,
   "metadata": {
    "id": "TzPCP-KRMvCi"
   },
   "outputs": [],
   "source": [
    "dft.head(1)"
   ]
  },
  {
   "cell_type": "code",
   "execution_count": null,
   "metadata": {
    "id": "hsauGEstMvCi"
   },
   "outputs": [],
   "source": [
    "dft = dft.merge( csa[ ['CSA2010', 'geometry'] ], left_on='CSA2010', right_on='CSA2010' ) "
   ]
  },
  {
   "cell_type": "code",
   "execution_count": null,
   "metadata": {
    "id": "lZgeGYWngy6r"
   },
   "outputs": [],
   "source": [
    "dft.head()"
   ]
  },
  {
   "cell_type": "code",
   "execution_count": null,
   "metadata": {
    "id": "UuJZyc6ygwq1"
   },
   "outputs": [],
   "source": [
    "dft.tail()"
   ]
  },
  {
   "cell_type": "markdown",
   "metadata": {
    "id": "QoGRbJzaSdOx"
   },
   "source": [
    "### Create Indicators"
   ]
  },
  {
   "cell_type": "markdown",
   "metadata": {
    "id": "s7Pd4p5_X0uy"
   },
   "source": [
    "Unique Descriptions"
   ]
  },
  {
   "cell_type": "code",
   "execution_count": null,
   "metadata": {
    "id": "z0eE8xPqdaaO"
   },
   "outputs": [],
   "source": [
    "\"\"\"\n",
    "dft = pd.read_csv('aggregated'+year+'CrimeDesc.csv')\n",
    "# Remove the 'False' Records\n",
    "reapp = dft.loc[55]\n",
    "dft = dft.drop([55])\n",
    "dft = dft.append(dft.sum(numeric_only=True), ignore_index=True)\n",
    "# Reappend the False records\n",
    "dft = dft.append(reapp)\n",
    "dft = dft.reset_index()\n",
    "dft = dft.drop(columns=['Unnamed: 0', 'index']) \n",
    "dft.loc[55, 'CSA2010'] = \"Baltimore City\"\n",
    "dft.tail()\"\"\""
   ]
  },
  {
   "cell_type": "code",
   "execution_count": null,
   "metadata": {
    "id": "ABfx-CXajpKL"
   },
   "outputs": [],
   "source": [
    "df = pd.read_csv('aggregated'+year+'CrimeDesc.csv')\n",
    "\n",
    "dft = df.groupby('CSA2010').sum(numeric_only=True) \n",
    "\n",
    "# Make sure ALL csas and BaltimoreCity are included. among other things\n",
    "dft = csa.merge( dft, left_on='CSA2010', right_on='CSA2010', how='outer' ) \n",
    "\n",
    "# Update the baltimore CSA.\n",
    "dft.at[55] = dft.sum(numeric_only=True)\n",
    "dft.at[55, 'CSA2010'] = 'Baltimore City'\n",
    "display( dft.head(2) ) \n",
    "dft.tail(2)"
   ]
  },
  {
   "cell_type": "code",
   "execution_count": null,
   "metadata": {
    "id": "DNWp9FESbObB"
   },
   "outputs": [],
   "source": [
    "dft.columns"
   ]
  },
  {
   "cell_type": "code",
   "execution_count": null,
   "metadata": {
    "id": "43zxbXPmXw5-"
   },
   "outputs": [],
   "source": [
    "dft.tail()"
   ]
  },
  {
   "cell_type": "code",
   "execution_count": null,
   "metadata": {
    "id": "8A9__qulX2pl"
   },
   "outputs": [],
   "source": [
    "# Aggregate by CSA\n",
    "# Group By CSA so that they may be opperated on\n",
    "groupedCounts = dft.groupby('CSA2010')\n",
    "# Aggregate Numeric Values by Sum \n",
    "groupedCounts = groupedCounts.sum(numeric_only=True) \n",
    "groupedCounts.tail()"
   ]
  },
  {
   "cell_type": "markdown",
   "metadata": {
    "id": "L-5S_qs_ZVYp"
   },
   "source": [
    "#### Crime - 50"
   ]
  },
  {
   "cell_type": "markdown",
   "metadata": {
    "id": "GPkYCtJg8fA2"
   },
   "source": [
    "We dont have a 'Desc Shooting' column so is this accurate? \n",
    "\n",
    "When weapon = firearm and description = homicide, does that not mean it was a shooting?"
   ]
  },
  {
   "cell_type": "code",
   "execution_count": null,
   "metadata": {
    "id": "e5SIwFriSX5L"
   },
   "outputs": [],
   "source": [
    "original_SQL_crime16 = \"\"\"\n",
    "--crime\n",
    "--/* <crime_16> * Indicator Number 50/\n",
    "with tbl AS ( select (sum( case when (descriptio !='ARSON' AND descriptio != 'COMMON ASSAULT' AND descriptio != 'SHOOTING') \n",
    "then 1 else 0 end)::numeric * 1000 )/the_pop as result, csa from vital_signs.match_csas_and_bc_by_geom('crime.part1_2016', 'gid', 'the_geom') a b.gid )\n",
    "update vital_signs.data set crime = result from tbl where data.csa = tbl.csa and data_year = '2016';\n",
    "\"\"\""
   ]
  },
  {
   "cell_type": "code",
   "execution_count": null,
   "metadata": {
    "id": "MYaVskjD8XAq"
   },
   "outputs": [],
   "source": [
    "outline_crime16 = \"\"\"\n",
    "descriptio !='ARSON' AND descriptio != 'COMMON ASSAULT' AND descriptio != 'SHOOTING'\n",
    "count * 1000 )/the_pop\n",
    "\"\"\""
   ]
  },
  {
   "cell_type": "code",
   "execution_count": null,
   "metadata": {
    "id": "E5xtjtxuAvXP"
   },
   "outputs": [],
   "source": [
    "#export \n",
    "dft['crime'+year] = (\n",
    "    dft['Desc__AGG. ASSAULT'] +\n",
    "    dft['Desc__AUTO THEFT'] +\n",
    "    dft['Desc__BURGLARY'] +\n",
    "    dft['Desc__HOMICIDE'] +\n",
    "    dft['Desc__LARCENY'] +\n",
    "    dft['Desc__LARCENY FROM AUTO'] +\n",
    "    dft['Desc__RAPE'] +\n",
    "    dft['Desc__ROBBERY - CARJACKING'] +\n",
    "    dft['Desc__ROBBERY - COMMERCIAL'] +\n",
    "    dft['Desc__ROBBERY - RESIDENCE'] +\n",
    "    dft['Desc__ROBBERY - STREET']\n",
    ") * 1000 / csa['tpop10']\n",
    "\n",
    "# Just checking I got all but the three. 14 desc cols - 11 being used = 3 not used. Alls good."
   ]
  },
  {
   "cell_type": "markdown",
   "metadata": {
    "id": "1E8miK5neRM-"
   },
   "source": [
    "#### Vio - 52"
   ]
  },
  {
   "cell_type": "code",
   "execution_count": null,
   "metadata": {
    "id": "rgayKWVKo8O0"
   },
   "outputs": [],
   "source": [
    "original_SQL_viol16 = \"\"\"\n",
    "--/* <viol_16> * Indicator Number 52/\n",
    "with tbl AS ( select (sum( case when\n",
    "(descriptio LIKE 'ROBBERY - CARJACKING' OR descriptio \n",
    "            LIKE 'ROBBERY - COMMERCIAL' OR descriptio \n",
    "            LIKE 'ROBBERY - RESIDENCE' OR descriptio \n",
    "            LIKE 'ROBBERY - STREET' OR \n",
    " descriptio LIKE 'AGG. ASSAULT' OR \n",
    " descriptio LIKE 'RAPE' OR \n",
    " descriptio LIKE 'HOMICIDE') then 1 else 0 end)::numeric csa * 1000 )/the_pop as result,\n",
    "from vital_signs.match_csas_and_bc_by_geom('crime.part1_2016', 'gid', 'the_geom') a on a.gid = b.gid )\n",
    "update vital_signs.data\n",
    "set viol = result from tbl where\n",
    "data.csa = tbl.csa and data_year = '2016';\n",
    "\"\"\""
   ]
  },
  {
   "cell_type": "code",
   "execution_count": null,
   "metadata": {
    "id": "e3bvTKkB80MN"
   },
   "outputs": [],
   "source": [
    "outline_viol16 = \"\"\"(descriptio LIKE 'ROBBERY - CARJACKING' OR descriptio LIKE 'ROBBERY -\n",
    "COMMERCIAL' OR descriptio LIKE 'ROBBERY - RESIDENCE' OR descriptio LIKE\n",
    "'ROBBERY - STREET' OR descriptio LIKE 'AGG. ASSAULT' OR descriptio LIKE\n",
    "'RAPE' OR descriptio LIKE 'HOMICIDE'\n",
    "\n",
    "count * 1000 )/the_pop\n",
    "\"\"\""
   ]
  },
  {
   "cell_type": "code",
   "execution_count": null,
   "metadata": {
    "id": "Qv2pFzTdDCn2"
   },
   "outputs": [],
   "source": [
    "#export \n",
    "dft['viol'+year] = (dft['Desc__ROBBERY - CARJACKING'] +\n",
    "                   dft['Desc__ROBBERY - COMMERCIAL'] +\n",
    "                   dft['Desc__ROBBERY - RESIDENCE'] +\n",
    "                   dft['Desc__ROBBERY - STREET'] +\n",
    "                   dft['Desc__AGG. ASSAULT'] +\n",
    "                   dft['Desc__RAPE'] +\n",
    "                   dft['Desc__HOMICIDE'] ) * 1000 / csa['tpop10']"
   ]
  },
  {
   "cell_type": "markdown",
   "metadata": {
    "id": "b11dQiyvJNCN"
   },
   "source": [
    "#### Prop - 53"
   ]
  },
  {
   "cell_type": "code",
   "execution_count": null,
   "metadata": {
    "id": "ul9oSJh4o-dC"
   },
   "outputs": [],
   "source": [
    "original_SQL_prop16 = \"\"\"\n",
    "--/* <prop_16> * Indicator Number 53/ --\n",
    "with tbl AS ( left join crime.part1_2016 b group by csa, the_pop left join crime.part1_2016 b on a.gid = group by csa, the_pop select (sum( case\n",
    "when (\n",
    "    descriptio ='LARCENY' OR \n",
    "    descriptio = 'LARCENY FROM AUTO' OR \n",
    "    descriptio = 'BURGLARY' OR \n",
    "    descriptio = 'AUTO THEFT') \n",
    "then 1 else 0 end)::numeric * 1000 )/the_pop as result, csa\n",
    "from vital_signs.match_csas_and_bc_by_geom('crime.part1_2016', 'gid', 'the_geom') a b.gid )\n",
    "update vital_signs.data set prop = result from tbl where data.csa = tbl.csa and data_year = '2016';\n",
    "\"\"\""
   ]
  },
  {
   "cell_type": "code",
   "execution_count": null,
   "metadata": {
    "id": "qevlknpO9G37"
   },
   "outputs": [],
   "source": [
    "outline_prop16 = \"\"\"\n",
    "descriptio ='LARCENY' OR descriptio = 'LARCENY FROM AUTO' OR descriptio = 'BURGLARY' OR descriptio = 'AUTO THEFT'\n",
    "count * 1000 )/the_pop\n",
    "\"\"\""
   ]
  },
  {
   "cell_type": "code",
   "execution_count": null,
   "metadata": {
    "id": "ukAIAx3ge4Lm"
   },
   "outputs": [],
   "source": [
    "#export \n",
    "dft['prop'+year] = (dft['Desc__LARCENY'] +\n",
    "                   dft['Desc__LARCENY FROM AUTO'] +\n",
    "                   dft['Desc__BURGLARY'] +\n",
    "                   dft['Desc__AUTO THEFT'] ) * 1000 / csa['tpop10']"
   ]
  },
  {
   "cell_type": "markdown",
   "metadata": {
    "id": "SPLHDq_Ca1LA"
   },
   "source": [
    "#### Gunhom - 59"
   ]
  },
  {
   "cell_type": "code",
   "execution_count": null,
   "metadata": {
    "id": "V-dRuVGgLBeR"
   },
   "outputs": [],
   "source": [
    "original_SQL_gunhom16 = \"\"\"\n",
    "--/* <gunhom_16> */ --\n",
    "with tbl AS ( select (sum( case when (descriptio ='HOMICIDE' AND weapon = 'FIREARM') then 1 else 0\n",
    "end)::numeric * 1000 )/the_pop as result, csa from vital_signs.match_csas_and_bc_by_geom('crime.part1_2016', 'gid', 'the_geom') a b.gid )\n",
    "update vital_signs.data set gunhom = result from tbl where data.csa = tbl.csa and data_year = '2016';\n",
    "left join crime.part1_2016 b on a.gid = group by csa, the_pop left join crime.part1_2016 b on a.gid = group by csa, the_ \n",
    "\"\"\""
   ]
  },
  {
   "cell_type": "code",
   "execution_count": null,
   "metadata": {
    "id": "xhAALaut9Qnl"
   },
   "outputs": [],
   "source": [
    "outline_gunhom18 = \"\"\"\n",
    "descriptio = descriptio ='HOMICIDE' AND weapon = 'FIREARM'\n",
    "count * 1000 )/the_pop\n",
    "\"\"\""
   ]
  },
  {
   "cell_type": "code",
   "execution_count": null,
   "metadata": {
    "id": "y4EEOrvZhX02"
   },
   "outputs": [],
   "source": [
    "desc = \"\"\"homicide < WEAPONG > weapon = firearm ... Shooting comes from a different dataset though.\"\"\""
   ]
  },
  {
   "cell_type": "code",
   "execution_count": null,
   "metadata": {
    "id": "Xcvt3SbC9W06"
   },
   "outputs": [],
   "source": [
    "#export \n",
    "dft['gunhom'+year] = (dft['gunhom'] ) * 1000 / csa['tpop10']"
   ]
  },
  {
   "cell_type": "markdown",
   "metadata": {
    "id": "vAy-9xaDLMyT"
   },
   "source": [
    "No firearm description but we do have a shooting column. A column is created to deal with this in the pre-processing stage"
   ]
  },
  {
   "cell_type": "code",
   "execution_count": null,
   "metadata": {
    "id": "OVWY-yFO75S6"
   },
   "outputs": [],
   "source": [
    "dft.columns"
   ]
  },
  {
   "cell_type": "code",
   "execution_count": null,
   "metadata": {
    "id": "kl7VO6j6JSPj"
   },
   "outputs": [],
   "source": [
    "# dft18['gunhom18'] = (dft18['Desc__HOMICIDE'] + dft18['Desc__SHOOTING']) * 1000 / csa['tpop10']"
   ]
  },
  {
   "cell_type": "markdown",
   "metadata": {
    "id": "hD2Dh0VKguQ1"
   },
   "source": [
    "WE DONT HAVE A SHOOTING COLUMN"
   ]
  },
  {
   "cell_type": "code",
   "execution_count": null,
   "metadata": {
    "id": "1ChIYWf7gotO"
   },
   "outputs": [],
   "source": [
    "# dft19['gunhom19'] = (dft19['Desc__HOMICIDE'] + dft19['Desc__SHOOTING']) * 1000 / csa['tpop10']"
   ]
  },
  {
   "cell_type": "markdown",
   "metadata": {
    "id": "dLtfeMu0iMOW"
   },
   "source": [
    "## Wrap up"
   ]
  },
  {
   "cell_type": "code",
   "execution_count": null,
   "metadata": {
    "id": "DZe35afBkRQa"
   },
   "outputs": [],
   "source": [
    "dft = dft.drop(columns=['geometry'])"
   ]
  },
  {
   "cell_type": "code",
   "execution_count": null,
   "metadata": {
    "id": "P9dhOVPVSZwI"
   },
   "outputs": [],
   "source": [
    "dft.head()"
   ]
  },
  {
   "cell_type": "code",
   "execution_count": null,
   "metadata": {
    "id": "5sTFAOjPhtu1"
   },
   "outputs": [],
   "source": [
    "dft.to_csv('p1crime_'+year+'1_indicators_and_desc_aggregates.csv')"
   ]
  },
  {
   "cell_type": "code",
   "execution_count": null,
   "metadata": {
    "id": "rC1jEnhG9-Mv"
   },
   "outputs": [],
   "source": []
  },
  {
   "cell_type": "code",
   "execution_count": null,
   "metadata": {
    "id": "8nhcUhTJhZbm"
   },
   "outputs": [],
   "source": [
    "dft19 = dft19.add_prefix('19_')\n",
    "dft18 = dft18.add_prefix('18_')"
   ]
  },
  {
   "cell_type": "code",
   "execution_count": null,
   "metadata": {
    "id": "sNr_kKmqhLen"
   },
   "outputs": [],
   "source": [
    "dftFinal = dft19.merge( dft18, left_on='19_CSA2010', right_on='18_CSA2010' ) "
   ]
  },
  {
   "cell_type": "code",
   "execution_count": null,
   "metadata": {
    "id": "Y-yNOeMnXHRm"
   },
   "outputs": [],
   "source": [
    "dftFinal.columns"
   ]
  },
  {
   "cell_type": "code",
   "execution_count": null,
   "metadata": {
    "id": "vlb0cZeIhSu3"
   },
   "outputs": [],
   "source": [
    "dftFinal.tail()"
   ]
  },
  {
   "cell_type": "code",
   "execution_count": null,
   "metadata": {
    "id": "v0savHLcZ-1g"
   },
   "outputs": [],
   "source": [
    "dftFinal.columns"
   ]
  }
 ],
 "metadata": {
  "colab": {
   "authorship_tag": "ABX9TyP3v2Cfh3m2yWa767YpKMJo",
   "collapsed_sections": [
    "0hHCW-qPMeH6",
    "q8tLzJzcMh74",
    "_3QiG_W4iDl7",
    "yhFIgsPGb3kH",
    "vwJTmCQdb_4P",
    "QoGRbJzaSdOx",
    "L-5S_qs_ZVYp",
    "1E8miK5neRM-",
    "b11dQiyvJNCN",
    "SPLHDq_Ca1LA",
    "dLtfeMu0iMOW"
   ],
   "name": "BPD_P1.ipynb",
   "provenance": [],
   "toc_visible": true
  },
  "kernelspec": {
   "display_name": "Python 3",
   "name": "python3"
  }
 },
 "nbformat": 4,
 "nbformat_minor": 0
}
