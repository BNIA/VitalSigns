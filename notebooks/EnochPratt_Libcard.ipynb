{
  "nbformat": 4,
  "nbformat_minor": 0,
  "metadata": {
    "colab": {
      "provenance": []
    },
    "kernelspec": {
      "name": "python3",
      "display_name": "Python 3"
    },
    "language_info": {
      "name": "python"
    }
  },
  "cells": [
    {
      "cell_type": "markdown",
      "source": [
        "This notebook uses the EnochPratt 2021 data to create a portion of BNIA's Vital Signs report\n",
        "\n",
        "###Indicator from this csv\n",
        "*   libcard\n",
        "\n",
        "###Tables used in this notebook\n",
        "*   Enochpratt_2021\n",
        "*   CSA2010 to CSA2020 Crosswalk\n",
        "*   2020 Population"
      ],
      "metadata": {
        "id": "es2VSm2SUYVe"
      }
    },
    {
      "cell_type": "code",
      "execution_count": 1,
      "metadata": {
        "id": "nksGtX0nURpZ"
      },
      "outputs": [],
      "source": [
        "import pandas as pd"
      ]
    },
    {
      "cell_type": "code",
      "source": [
        "#export\n",
        "#read data\n",
        "libcard = pd.read_excel(\"EnochPratt_2021CSA_City.xlsx\")\n",
        "crosswalk = pd.read_csv(\"https://raw.githubusercontent.com/BNIA/VitalSigns/main/CSA2010_2020.csv\")\n",
        "pop_2020 = pd.read_csv(\"CSA2020_CSA2010_&_2020pop.csv\")\n",
        "\n",
        "#Remove rows where BaltCity is empty\n",
        "libcard = libcard[libcard[\"BaltCity\"] == \"Baltimore City\"]"
      ],
      "metadata": {
        "id": "DRjL-xZ4Urwc"
      },
      "execution_count": 10,
      "outputs": []
    },
    {
      "cell_type": "markdown",
      "source": [
        "###libcard"
      ],
      "metadata": {
        "id": "6E1Sy7BBWqM4"
      }
    },
    {
      "cell_type": "code",
      "source": [
        "#Export\n",
        "#libcard Indicator\n",
        "#Rate of persons per 1,000 residents that possess a valid public library system card\n",
        "\n",
        "#Keep needed columns\n",
        "libcard = libcard[['CSA2020']]\n",
        "\n",
        "#Add counter\n",
        "libcard['count'] = 1\n",
        "\n",
        "#Add Baltimore City row\n",
        "libcard.loc[len(libcard.index)] = ['Baltimore City', libcard['count'].sum()]\n",
        "\n",
        "#Group by CSA\n",
        "libcard = libcard.groupby(\"CSA2020\").sum()\n",
        "\n",
        "#Append 2010 CSAs\n",
        "libcard = crosswalk.merge(libcard, on=\"CSA2020\", how=\"outer\")\n",
        "\n",
        "#Append 2020 Population\n",
        "libcard = libcard.merge(pop_2020, on=[\"CSA2010\", \"CSA2020\"], how='inner')\n",
        "\n",
        "#Get libcard indicator\n",
        "libcard['libcardsXX'] = (libcard['count'] / libcard['tpop20']) * 1000\n",
        "\n",
        "#Sort rows alphabetically \n",
        "libcard = libcard.sort_values('CSA2010')"
      ],
      "metadata": {
        "id": "j_QBwnJ4VjRA"
      },
      "execution_count": null,
      "outputs": []
    },
    {
      "cell_type": "code",
      "source": [
        "from google.colab import files \n",
        "libcard.to_csv('libcard_2021.csv')\n",
        "files.download('libcard_2021.csv')"
      ],
      "metadata": {
        "id": "9antU7eHWwnn"
      },
      "execution_count": null,
      "outputs": []
    }
  ]
}