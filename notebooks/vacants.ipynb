{
  "nbformat": 4,
  "nbformat_minor": 0,
  "metadata": {
    "colab": {
      "provenance": []
    },
    "kernelspec": {
      "name": "python3",
      "display_name": "Python 3"
    },
    "language_info": {
      "name": "python"
    }
  },
  "cells": [
    {
      "cell_type": "markdown",
      "source": [
        "This notebook uses the Vacants 2021 data to create a portion of BNIA's Vital Signs report\n",
        "\n",
        "###Indicators from this csv\n",
        "*   vacant\n",
        "*   baltVac (uses vacant indicator)\n",
        "\n",
        "###Tables used in this notebook\n",
        "*   Vacants_2021\n",
        "*   TotalRes_2021 (BNIA Indicator)"
      ],
      "metadata": {
        "id": "fTWBGPrJZ3kD"
      }
    },
    {
      "cell_type": "code",
      "source": [
        "#export\n",
        "#Import needed libraries\n",
        "import pandas as pd"
      ],
      "metadata": {
        "id": "6q5LIvZDaUKX"
      },
      "execution_count": null,
      "outputs": []
    },
    {
      "cell_type": "code",
      "source": [
        "#export\n",
        "#Read data\n",
        "vacants = pd.read_csv(\"Vacants_2021_CSACity.csv\", encoding=\"cp850\")\n",
        "totalRes_2021 = pd.read_csv(\"totalRes_2021.csv\")\n",
        "\n",
        "#Remove rows where BaltCity is empty\n",
        "vacants = vacants[vacants['BaltCity'] != '']"
      ],
      "metadata": {
        "id": "Q4mp1V91gykN"
      },
      "execution_count": null,
      "outputs": []
    },
    {
      "cell_type": "markdown",
      "source": [
        "###vacant"
      ],
      "metadata": {
        "id": "o64OR4bgc6h1"
      }
    },
    {
      "cell_type": "code",
      "source": [
        "#export\n",
        "#vacant indicator\n",
        "#Percentage of Residential Properties that are Vacant and Abandoned\n",
        "\n",
        "#Only keep needed columns\n",
        "vacant = vacants[['CSA2010','CSA2020']]\n",
        "\n",
        "#Add indicator column\n",
        "vacant['vacant_count'] = 1\n",
        "\n",
        "#Group by CSAs\n",
        "vacant = vacant.groupby(['CSA2010', 'CSA2020']).sum(numeric_only=True) \n",
        "\n",
        "#make index the CSA2010 & CSA2020 column\n",
        "vacant.reset_index(inplace=True)\n",
        "\n",
        "#Add Baltimore City row\n",
        "vacant.loc[len(vacant.index)] = ['Baltimore City', 'Baltimore City', vacant['vacant_count'].sum()]\n",
        "\n",
        "#Merge table with TotalRes indicator\n",
        "vacant = vacant.merge(totalRes_2021, on=['CSA2010','CSA2020'], how='outer')\n",
        "\n",
        "#Create indicator\n",
        "vacant['vacantXX'] = (vacant['vacant_count']/vacant['totalres'])*100\n",
        "\n",
        "#Sort rows alphabetically \n",
        "vacant = vacant.sort_values('CSA2010')"
      ],
      "metadata": {
        "id": "UuRTjQk3an67"
      },
      "execution_count": null,
      "outputs": []
    },
    {
      "cell_type": "markdown",
      "source": [
        "###baltvac"
      ],
      "metadata": {
        "id": "rdP8MoG4geHL"
      }
    },
    {
      "cell_type": "code",
      "source": [
        "#export\n",
        "#baltvac indicator\n",
        "#Percentage of Vacant Properties Owned by Baltimore City\n",
        "\n",
        "#Filter data\n",
        "baltvac = vacants[(vacants['OWNER_ABBR'].str.contains('DHCD|HABC|HUD|MCC|USA', regex=True, na=False))]\n",
        "\n",
        "#Only keep needed columns\n",
        "baltvac = baltvac[['CSA2010','CSA2020']]\n",
        "\n",
        "#Add indicator column\n",
        "baltvac['batvac_count'] = 1\n",
        "\n",
        "#Group by CSAs\n",
        "baltvac = baltvac.groupby(['CSA2010', 'CSA2020']).sum(numeric_only=True) \n",
        "\n",
        "#make index the CSA2010 & CSA2020 column\n",
        "baltvac.reset_index(inplace=True)\n",
        "\n",
        "#Add Baltimore City row\n",
        "baltvac.loc[len(baltvac.index)] = ['Baltimore City', 'Baltimore City', baltvac['batvac_count'].sum()]\n",
        "\n",
        "#Merge table with vacant indicator\n",
        "baltvac = baltvac.merge(vacant, on=['CSA2010','CSA2020'], how='outer')\n",
        "\n",
        "#Only keep needed columns\n",
        "baltvac = baltvac[['CSA2010','CSA2020', 'batvac_count', 'vacant_count']]\n",
        "\n",
        "#calcualte indicator\n",
        "baltvac['baltvacXX'] = (baltvac['batvac_count']/baltvac['vacant_count'])*100\n",
        "\n",
        "#Sort rows alphabetically \n",
        "baltvac = baltvac.sort_values('CSA2010')"
      ],
      "metadata": {
        "id": "tLfquXboggtf"
      },
      "execution_count": null,
      "outputs": []
    },
    {
      "cell_type": "code",
      "source": [
        "from google.colab import files \n",
        "vacants.to_csv('vacants.csv')\n",
        "files.download('vacants.csv')"
      ],
      "metadata": {
        "id": "YdECy4x8eDq2"
      },
      "execution_count": null,
      "outputs": []
    }
  ]
}