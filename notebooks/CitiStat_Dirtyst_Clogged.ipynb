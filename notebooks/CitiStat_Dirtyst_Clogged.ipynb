{
 "cells": [
  {
   "cell_type": "code",
   "execution_count": null,
   "metadata": {
    "id": "o44IQpibaJD5"
   },
   "outputs": [],
   "source": [
    "# default_exp citistat"
   ]
  },
  {
   "cell_type": "markdown",
   "metadata": {
    "id": "_jLE_5-I9HzS"
   },
   "source": [
    "# VS Fares Data Intake and Operations\n",
    "\n",
    "> This notebook uses data to generate a portion of BNIA's Vital Signs report."
   ]
  },
  {
   "cell_type": "markdown",
   "metadata": {
    "id": "iSNOAJoTlQr0"
   },
   "source": [
    "This colab and more can be found at https://github.com/BNIA/vitalsigns.\n"
   ]
  },
  {
   "cell_type": "markdown",
   "metadata": {
    "id": "ukxt0JZCsaxc"
   },
   "source": [
    "## Whats Inside?: "
   ]
  },
  {
   "cell_type": "markdown",
   "metadata": {
    "id": "lEdBnKIqli8m"
   },
   "source": [
    "### __The Guided Walkthrough__\n",
    "\n",
    "This notebook was made to create the following Housing Vital Signs Indicators:"
   ]
  },
  {
   "cell_type": "markdown",
   "metadata": {
    "id": "XfwOgcYTs90R"
   },
   "source": [
    "Todo:  \n",
    "- Wrap as Function\n",
    "- Merge with Lights out Doc"
   ]
  },
  {
   "cell_type": "markdown",
   "metadata": {
    "id": "J5fgpFCgNkVt"
   },
   "source": [
    "#### __Indicators Used__\n",
    "\n",
    "- ✅ 162 - __dirtyst__ -  (CitiStat) Median Price of Homes Sold\n",
    "- ✅ 163 - __clogged__ -  (CitiStat) Number of Homes Sold"
   ]
  },
  {
   "cell_type": "markdown",
   "metadata": {
    "id": "Jo5GYquJovv-"
   },
   "source": [
    "- ✔️ 215 - __Lights__ - (CitiStat) The rate of service requests for addressing street light outages made through Baltimore's 311 system per 1,000 residents."
   ]
  },
  {
   "cell_type": "markdown",
   "metadata": {
    "id": "-6lDtbLS0a-C"
   },
   "source": [
    "#### __Datasets Used__\n",
    "\n",
    "- ✅ CitiStat.CitiStat_201X __(162-dirtyst, 163-clogged -> )__\n",
    "\n",
    "❌"
   ]
  },
  {
   "cell_type": "markdown",
   "metadata": {
    "id": "SmKkNazf2_ws"
   },
   "source": [
    "Topic Area:   Sustainability\n",
    "\n",
    "Source:   Baltimore City CitiStat\n",
    "\n",
    "Years Available:   2010, 2011, 2012, 2013, 2014, 2015, 2016, 2017, 2018\n",
    "\n",
    "The rate of service requests for addressing clogged storm drains made through Baltimore's 311 system per 1,000 residents. More than one service request may be made for the same issue but is logged as a unique request."
   ]
  },
  {
   "cell_type": "markdown",
   "metadata": {
    "id": "xGNJ-6pQgnnL"
   },
   "source": [
    "https://bniajfi.org/indicators/Crime%20and%20Safety/lights\n",
    "\n",
    "- Topic Area:   Crime and Safety\n",
    "\n",
    "- Source:   Baltimore City CitiStat\n",
    "\n",
    "- Years Available:   2016, 2017, 2018\n",
    "\n",
    "- The rate of service requests for addressing street light outages made through Baltimore's 311 system per 1,000 residents. More than one service request may be made for the same issue but is logged as a unique request.\n",
    "\n",
    "Number 215 on the indicator Sheet"
   ]
  },
  {
   "cell_type": "markdown",
   "metadata": {
    "id": "-1RKv4DiMVwo"
   },
   "source": [
    "# Guided Walkthrough"
   ]
  },
  {
   "cell_type": "markdown",
   "metadata": {
    "id": "e8-mgsByhrxG"
   },
   "source": [
    "## SETUP Enviornment:"
   ]
  },
  {
   "cell_type": "markdown",
   "metadata": {
    "id": "0hHCW-qPMeH6"
   },
   "source": [
    "### Import Modules"
   ]
  },
  {
   "cell_type": "code",
   "execution_count": null,
   "metadata": {
    "id": "WUvcamATFo4G"
   },
   "outputs": [],
   "source": [
    "%%capture\n",
    "! pip install -U -q PyDrive\n",
    "! pip install geopy\n",
    "! pip install geopandas\n",
    "! pip install geoplot\n",
    "! pip install dataplay\n",
    "! pip install matplotlib\n",
    "! pip install psycopg2-binary"
   ]
  },
  {
   "cell_type": "code",
   "execution_count": null,
   "metadata": {
    "id": "r0vkoXtZRdJz"
   },
   "outputs": [],
   "source": [
    "%%capture\n",
    "! apt-get install build-dep python-psycopg2\n",
    "! apt-get install libpq-dev\n",
    "! apt-get install libspatialindex-dev"
   ]
  },
  {
   "cell_type": "code",
   "execution_count": null,
   "metadata": {
    "id": "gZ17xjOgR8vg"
   },
   "outputs": [],
   "source": [
    "%%capture\n",
    "!pip install rtree\n",
    "!pip install dexplot"
   ]
  },
  {
   "cell_type": "code",
   "execution_count": null,
   "metadata": {
    "id": "w9Mcvm-X0gdo"
   },
   "outputs": [],
   "source": [
    "from dataplay.geoms import workWithGeometryData"
   ]
  },
  {
   "cell_type": "code",
   "execution_count": null,
   "metadata": {
    "id": "nNOByHFKFo4m"
   },
   "outputs": [],
   "source": [
    "%%capture \n",
    "# These imports will handle everything\n",
    "import os\n",
    "import sys\n",
    "import csv\n",
    "import matplotlib.pyplot as plt\n",
    "import numpy as np\n",
    "import pandas as pd\n",
    "import geopandas as gpd\n",
    "from geopandas import GeoDataFrame\n",
    "import psycopg2\n",
    "import pyproj\n",
    "from pyproj import Proj, transform\n",
    "# conda install -c conda-forge proj4\n",
    "from shapely.geometry import Point\n",
    "from shapely import wkb\n",
    "from shapely.wkt import loads\n",
    "# https://pypi.org/project/geopy/\n",
    "from geopy.geocoders import Nominatim\n",
    "\n",
    "# In case file is KML, enable support\n",
    "import fiona\n",
    "fiona.drvsupport.supported_drivers['kml'] = 'rw'\n",
    "fiona.drvsupport.supported_drivers['KML'] = 'rw'"
   ]
  },
  {
   "cell_type": "code",
   "execution_count": null,
   "metadata": {
    "id": "evj9GJLdSlxF"
   },
   "outputs": [],
   "source": [
    "from IPython.display import clear_output\n",
    "clear_output(wait=True)"
   ]
  },
  {
   "cell_type": "code",
   "execution_count": null,
   "metadata": {
    "id": "uTcb3bD84mSA"
   },
   "outputs": [],
   "source": [
    "import ipywidgets as widgets\n",
    "from ipywidgets import interact, interact_manual"
   ]
  },
  {
   "cell_type": "markdown",
   "metadata": {
    "id": "q8tLzJzcMh74"
   },
   "source": [
    "### Configure Enviornment"
   ]
  },
  {
   "cell_type": "code",
   "execution_count": null,
   "metadata": {
    "id": "OuH4mBeYCUqU"
   },
   "outputs": [],
   "source": [
    "# This will just beautify the output\n",
    "\n",
    "pd.set_option('display.expand_frame_repr', False)\n",
    "pd.set_option('display.precision', 2)\n",
    "from IPython.core.interactiveshell import InteractiveShell\n",
    "InteractiveShell.ast_node_interactivity = \"all\"\n",
    "\n",
    "# pd.set_option('display.expand_frame_repr', False)\n",
    "# pd.set_option('display.precision', 2)\n",
    "# pd.reset_option('max_colwidth')\n",
    "pd.set_option('max_colwidth', 20)\n",
    "# pd.reset_option('max_colwidth')"
   ]
  },
  {
   "cell_type": "markdown",
   "metadata": {
    "id": "g-eNzM614b3K"
   },
   "source": [
    "### Prep Datasets"
   ]
  },
  {
   "cell_type": "markdown",
   "metadata": {
    "id": "_3QiG_W4iDl7"
   },
   "source": [
    "#### TPOP CSA and Baltimore"
   ]
  },
  {
   "cell_type": "markdown",
   "metadata": {
    "id": "tlQvkkbaB0ZI"
   },
   "source": [
    "Get Baltimore"
   ]
  },
  {
   "cell_type": "code",
   "execution_count": null,
   "metadata": {
    "id": "-xeV9WHdOhBv"
   },
   "outputs": [],
   "source": [
    "#collapse_output\n",
    "#collapse_input\n",
    "csa = \"https://services1.arcgis.com/mVFRs7NF4iFitgbY/ArcGIS/rest/services/Tpop/FeatureServer/0/query?where=1%3D1&outFields=*&returnGeometry=true&f=pgeojson\"\n",
    "csa = gpd.read_file(csa);\n",
    "csa.head(1)"
   ]
  },
  {
   "cell_type": "markdown",
   "metadata": {
    "id": "QyBS5PlHB1db"
   },
   "source": [
    "Get CSA"
   ]
  },
  {
   "cell_type": "code",
   "execution_count": null,
   "metadata": {
    "id": "2FLpVhiPUAck"
   },
   "outputs": [],
   "source": [
    "url2 = \"https://services1.arcgis.com/mVFRs7NF4iFitgbY/ArcGIS/rest/services/Tpop/FeatureServer/1/query?where=1%3D1&outFields=*&returnGeometry=true&f=pgeojson\"\n",
    "csa2 = gpd.read_file(url2);\n",
    "csa2['CSA2010'] = csa2['City_1'] \n",
    "csa2['OBJECTID'] = 56 \n",
    "csa2 = csa2.drop(columns=['City_1'])\n",
    "csa2.head()"
   ]
  },
  {
   "cell_type": "markdown",
   "metadata": {
    "id": "RiT-Pc1jgZJI"
   },
   "source": [
    "Append do no append Bcity. We put it on the Bottom of the df because when performing the ponp it returns only the last matching columns CSA Label. "
   ]
  },
  {
   "cell_type": "code",
   "execution_count": null,
   "metadata": {
    "id": "RWZigszHUWm5"
   },
   "outputs": [],
   "source": [
    "# csa = pd.concat([csa2, csa], ignore_index=True)\n",
    "csa = csa.append(csa2).reset_index(drop=True)"
   ]
  },
  {
   "cell_type": "code",
   "execution_count": null,
   "metadata": {
    "id": "oH6C5OecjBsy"
   },
   "outputs": [],
   "source": [
    "csa.head(3)"
   ]
  },
  {
   "cell_type": "code",
   "execution_count": null,
   "metadata": {
    "id": "WLpXYhJHB_rt"
   },
   "outputs": [],
   "source": [
    "csa.tail(3)"
   ]
  },
  {
   "cell_type": "code",
   "execution_count": null,
   "metadata": {
    "id": "wpZDcRVkk9SJ"
   },
   "outputs": [],
   "source": [
    "csa.head()"
   ]
  },
  {
   "cell_type": "code",
   "execution_count": null,
   "metadata": {
    "id": "wG_g3sp2J2pq"
   },
   "outputs": [],
   "source": [
    "csa.drop(columns=['Shape__Area', 'Shape__Length', 'OBJECTID'], axis=1).to_file(\"BCity_and_CSA.geojson\", driver='GeoJSON')"
   ]
  },
  {
   "cell_type": "markdown",
   "metadata": {
    "id": "0G31aie1xJ4I"
   },
   "source": [
    "#### Dirty Streets"
   ]
  },
  {
   "cell_type": "code",
   "execution_count": null,
   "metadata": {
    "id": "U-WL0dCnxJGK"
   },
   "outputs": [],
   "source": [
    "import pandas as pd\n",
    "import geopandas \n",
    "\n",
    "year = '19'\n",
    "original = gpd.read_file(\"DirtyStreetsAlleys_20\"+year+\"_CSACity.shp\", geometry='geometry');\n",
    "original.columns "
   ]
  },
  {
   "cell_type": "code",
   "execution_count": null,
   "metadata": {
    "id": "Qiw4TZ8Msppg"
   },
   "outputs": [],
   "source": [
    "original.rename(columns={ 'CSA':'CSA2010', 'BaltCity':'InBaltimore'}, inplace=True)\n",
    "df = original[ original['CSA2010'].notnull() | original['InBaltimore'].notnull()  ]"
   ]
  },
  {
   "cell_type": "code",
   "execution_count": null,
   "metadata": {
    "id": "lVYhbJ5dsq0w"
   },
   "outputs": [],
   "source": [
    "print('After filtering records where a CSA or Baltimore geo-code match Exists')\n",
    "print( 'All rows Before Filter: ', original.shape[0] ) # rows, columns\n",
    "print( '# w BCity.isnull: ', df.InBaltimore.isnull().sum() ); bmorow = df[ df.CSA2010.isnull()  ].shape[0]\n",
    "print( '# w CSA2010.isnull: ', bmorow ); csarow = df[ df.CSA2010.notnull()  ].shape[0] \n",
    "print( '# w CSA2010.notnull: ', csarow ); \n",
    "print( '# rows After Filter: ', df.shape[0],'==',csarow,'+',bmorow,'==', csarow + bmorow); "
   ]
  },
  {
   "cell_type": "code",
   "execution_count": null,
   "metadata": {
    "id": "-MjNhXd2sviB"
   },
   "outputs": [],
   "source": [
    "# add baltimore city\n",
    "df.CSA2010 = df.CSA2010.fillna('Baltimore City')"
   ]
  },
  {
   "cell_type": "code",
   "execution_count": null,
   "metadata": {
    "id": "7hkvEAYFsxdQ"
   },
   "outputs": [],
   "source": [
    "dirtydf = df.copy()\n",
    "dirtydf.head(1)"
   ]
  },
  {
   "cell_type": "markdown",
   "metadata": {
    "id": "aIfUxUk1yR5x"
   },
   "source": [
    "#### Clogged"
   ]
  },
  {
   "cell_type": "code",
   "execution_count": null,
   "metadata": {
    "id": "C3dCl6SXyR52"
   },
   "outputs": [],
   "source": [
    "import pandas as pd\n",
    "import geopandas \n",
    "\n",
    "year = '19'\n",
    "original = gpd.read_file(\"Clogged_20\"+year+\"_CSACity.shp\", geometry='geometry');\n",
    "original.columns "
   ]
  },
  {
   "cell_type": "code",
   "execution_count": null,
   "metadata": {
    "id": "Dy2MbvIByR53"
   },
   "outputs": [],
   "source": [
    "original.rename(columns={ 'CSA':'CSA2010', 'BaltCity':'InBaltimore'}, inplace=True)\n",
    "df = original[ original['CSA2010'].notnull() | original['InBaltimore'].notnull()  ]"
   ]
  },
  {
   "cell_type": "code",
   "execution_count": null,
   "metadata": {
    "id": "kVr0XPXJyR54"
   },
   "outputs": [],
   "source": [
    "print('After filtering records where a CSA or Baltimore geo-code match Exists')\n",
    "print( 'All rows Before Filter: ', original.shape[0] ) # rows, columns\n",
    "print( '# w BCity.isnull: ', df.InBaltimore.isnull().sum() ); bmorow = df[ df.CSA2010.isnull()  ].shape[0]\n",
    "print( '# w CSA2010.isnull: ', bmorow ); csarow = df[ df.CSA2010.notnull()  ].shape[0] \n",
    "print( '# w CSA2010.notnull: ', csarow ); \n",
    "print( '# rows After Filter: ', df.shape[0],'==',csarow,'+',bmorow,'==', csarow + bmorow); "
   ]
  },
  {
   "cell_type": "code",
   "execution_count": null,
   "metadata": {
    "id": "bLDYZQqXyR55"
   },
   "outputs": [],
   "source": [
    "# add baltimore city\n",
    "df.CSA2010 = df.CSA2010.fillna('Baltimore City')"
   ]
  },
  {
   "cell_type": "code",
   "execution_count": null,
   "metadata": {
    "id": "PArKbTrLyR55"
   },
   "outputs": [],
   "source": [
    "cloggedf = df.copy()\n",
    "cloggedf.head(1)"
   ]
  },
  {
   "cell_type": "markdown",
   "metadata": {
    "id": "FWcTJ6L_dRvT"
   },
   "source": [
    "#### Lights"
   ]
  },
  {
   "cell_type": "code",
   "execution_count": null,
   "metadata": {
    "id": "pZz3k6jIGlpe"
   },
   "outputs": [],
   "source": [
    "ls"
   ]
  },
  {
   "cell_type": "code",
   "execution_count": null,
   "metadata": {
    "id": "xYKPKADy5q9k"
   },
   "outputs": [],
   "source": [
    "original = gpd.read_file(\"LightsOut_20\"+year+\"_CSACity.shp\");"
   ]
  },
  {
   "cell_type": "code",
   "execution_count": null,
   "metadata": {
    "id": "4nY9fic40SMR"
   },
   "outputs": [],
   "source": [
    "original.rename(columns={ 'CSA':'CSA2010', 'BaltCity':'InBaltimore'}, inplace=True)"
   ]
  },
  {
   "cell_type": "code",
   "execution_count": null,
   "metadata": {
    "id": "rZ2ZSeobuI2O"
   },
   "outputs": [],
   "source": [
    "original.head()"
   ]
  },
  {
   "cell_type": "code",
   "execution_count": null,
   "metadata": {
    "id": "mEJ_f0Vq7nNM"
   },
   "outputs": [],
   "source": [
    "# Convert to EPSG:4326\n",
    "# fares.crs\n",
    "original = original.to_crs(epsg=4326)"
   ]
  },
  {
   "cell_type": "markdown",
   "metadata": {
    "id": "VQC_OE-9tCLs"
   },
   "source": [
    "Original Dataset"
   ]
  },
  {
   "cell_type": "code",
   "execution_count": null,
   "metadata": {
    "id": "mGq6t5yppn-G"
   },
   "outputs": [],
   "source": [
    "original.plot()"
   ]
  },
  {
   "cell_type": "markdown",
   "metadata": {
    "id": "BKINeI4LuZ3p"
   },
   "source": [
    "Remove these for not being either a CSA or Baltimore"
   ]
  },
  {
   "cell_type": "code",
   "execution_count": null,
   "metadata": {
    "id": "IjBo8tv8s7Dn"
   },
   "outputs": [],
   "source": [
    "removeThese = original[ original['CSA2010'].isnull() & original['InBaltimore'].isnull()  ]\n",
    "removeThese.plot()"
   ]
  },
  {
   "cell_type": "markdown",
   "metadata": {
    "id": "SOXB1w8XtEeE"
   },
   "source": [
    "Keep These"
   ]
  },
  {
   "cell_type": "code",
   "execution_count": null,
   "metadata": {
    "id": "vRcdLUNWhOBt"
   },
   "outputs": [],
   "source": [
    "df = original[ original['CSA2010'].notnull() | original['InBaltimore'].notnull()  ]\n",
    "df.plot()"
   ]
  },
  {
   "cell_type": "code",
   "execution_count": null,
   "metadata": {
    "id": "cz7Pr7qFoT-8"
   },
   "outputs": [],
   "source": [
    "print('After filtering records where a CSA or Baltimore geo-code match Exists')\n",
    "print( 'All rows Before Filter: ', original.shape[0] ) # rows, columns\n",
    "print( '# w BCity.isnull: ', df.InBaltimore.isnull().sum() ); bmorow = df[ df.CSA2010.isnull()  ].shape[0]\n",
    "print( '# w CSA2010.isnull: ', bmorow ); csarow = df[ df.CSA2010.notnull()  ].shape[0] \n",
    "print( '# w CSA2010.notnull: ', csarow ); \n",
    "print( '# rows After Filter: ', df.shape[0],'==',csarow,'+',bmorow,'==', csarow + bmorow); "
   ]
  },
  {
   "cell_type": "code",
   "execution_count": null,
   "metadata": {
    "id": "gjTdZWcrmIUy"
   },
   "outputs": [],
   "source": [
    "# add baltimore city\n",
    "df.CSA2010 = df.CSA2010.fillna('Baltimore City')"
   ]
  },
  {
   "cell_type": "code",
   "execution_count": null,
   "metadata": {
    "id": "ntkgHH5vqFRA"
   },
   "outputs": [],
   "source": [
    "df.head(1)"
   ]
  },
  {
   "cell_type": "code",
   "execution_count": null,
   "metadata": {
    "id": "OCpPicOOmvTg"
   },
   "outputs": [],
   "source": [
    "df.to_csv('citistat_ponp_gdf'+year+'.csv', index=False) "
   ]
  },
  {
   "cell_type": "code",
   "execution_count": null,
   "metadata": {
    "id": "nDzWtO8N7nNP"
   },
   "outputs": [],
   "source": [
    "# list(fares.columns)\n",
    "print(df.columns.values)"
   ]
  },
  {
   "cell_type": "markdown",
   "metadata": {
    "id": "bl0RS29dbLT2"
   },
   "source": [
    "### Create Indicators"
   ]
  },
  {
   "cell_type": "markdown",
   "metadata": {
    "id": "TYIQdPbShY5m"
   },
   "source": [
    "#### 162 dirtyst - G\n",
    "\n"
   ]
  },
  {
   "cell_type": "code",
   "execution_count": null,
   "metadata": {
    "id": "a_8zz75pwJmZ"
   },
   "outputs": [],
   "source": [
    "bad2017SQL = \"\"\"WITH tbl AS (\n",
    "  SELECT (Count(DISTINCT srrecordid)::real)*(1000/the_pop::real) AS result, csa \n",
    "    FROM vital_signs.Match_csas_and_bc_by_geom('citistat.citistat_2017', 'gid', 'the_geom' ) a\n",
    "      LEFT JOIN citistat.citistat_2017 b \n",
    "        ON a.gid = b.gid \n",
    "          WHERE srtype LIKE 'WW-St%'\n",
    "            GROUP BY  csa, the_pop \n",
    ") \n",
    "UPDATE vital_signs.data SET clogged = result FROM   tbl WHERE  data.csa = tbl.csa AND data_year = '2017';\n",
    "\"\"\"\n",
    "# ^ BAD QUERY ^\n",
    "# WORKS V\n",
    "\n",
    "new17SQL = \"\"\"with tbl AS (\n",
    "  select (count(distinct srrecordid)::real)*(1000/the_pop::real) as result, csa\n",
    "    from vital_signs.match_csas_and_bc_by_geom('citistat.citistat_2016', 'gid', 'the_geom') a\n",
    "    left join citistat.citistat_2016 b on a.gid = b.gid\n",
    "    WHERE srtype LIKE 'SW-Dirty Alley' OR srtype LIKE 'SW-Dirty Street'\n",
    "      group by csa,the_pop\n",
    "  )\n",
    "  select * from tbl where 1 = 1 ORDER BY csa ASC;\n",
    "\"\"\"\n",
    "\n",
    "pseudocodo = \"\"\"\n",
    "Numerator = WHERE srtype LIKE 'SW-Dirty Alley' OR srtype LIKE 'SW-Dirty Street'\n",
    "\n",
    "\"\"\"\n"
   ]
  },
  {
   "cell_type": "code",
   "execution_count": null,
   "metadata": {
    "id": "TVzXJwnmxm9g"
   },
   "outputs": [],
   "source": [
    "dirtydf.columns"
   ]
  },
  {
   "cell_type": "code",
   "execution_count": null,
   "metadata": {
    "id": "gWgpachp1R7_"
   },
   "outputs": [],
   "source": [
    "dirtydf.SRType.unique()"
   ]
  },
  {
   "cell_type": "code",
   "execution_count": null,
   "metadata": {
    "id": "eVBKnuYcxVu9"
   },
   "outputs": [],
   "source": [
    "#export \n",
    "\n",
    "# Copy the Data\n",
    "dirtyst = dirtydf.copy()\n",
    "\n",
    "# Query the Data\n",
    "# dirtyst = dirtyst[ (dirtyst['SRType'].str.contains('SW-Dirty Alley|SW-Dirty Street', regex=True) ) ]\n",
    "\n",
    "# *Special*: # UPDATE HERE AND THEN GROUP\n",
    "dirtyst['162-dirtyst'+year] = 1\n",
    "dirtyst = dirtyst.append({'CSA2010': 'Baltimore City' , '162-dirtyst'+year : dirtyst['162-dirtyst'+year].sum() } , ignore_index=True)\n",
    "dirtyst = dirtyst.groupby('CSA2010').sum(numeric_only=True)\n",
    "\n",
    "# Make sure ALL csas and BaltimoreCity are included and sorted.\n",
    "dirtyst = csa.merge( dirtyst, left_on='CSA2010', right_on='CSA2010', how='outer' )\n",
    "dirtyst.drop(columns=['Shape__Length', 'Shape__Area', 'geometry' ], inplace=True)\n",
    "dirtyst = dirtyst[['CSA2010', '162-dirtyst'+year, 'tpop10']]\n",
    "\n",
    "\n",
    "# Create the Indicator\n",
    "dirtyst['162-dirtyst'+year] = dirtyst['162-dirtyst'+year] * 1000 / dirtyst['tpop10']\n",
    "\n",
    "display( dirtyst.head(2) )\n",
    "dirtyst.tail(2)\n",
    "\n",
    "dirtyst.to_csv('162-dirtyst'+year+'.csv')"
   ]
  },
  {
   "cell_type": "code",
   "execution_count": null,
   "metadata": {
    "id": "9dXUCwTI0CuB"
   },
   "outputs": [],
   "source": []
  },
  {
   "cell_type": "markdown",
   "metadata": {
    "id": "cizlZMA2hY9A"
   },
   "source": [
    "#### 163 clogged - G"
   ]
  },
  {
   "cell_type": "markdown",
   "metadata": {
    "id": "bgLgkFKMjw51"
   },
   "source": [
    "2016 uses 'WW St%'\n",
    "2017 uses 'WW-St%'\n",
    "\n",
    "\n",
    "with tbl AS (\n",
    " select (count(distinct srrecordid)::real)*(1000/the_pop::real) as result, csa\n",
    "  from vital_signs.match_csas_and_bc_by_geom('citistat.citistat_2017', 'gid', 'the_geom') a\n",
    "  left join citistat.citistat_2017 b on a.gid = b.gid\n",
    "  WHERE srtype LIKE 'WW-St%' \n",
    "    group by csa,the_pop\n",
    " )\n",
    "select * from tbl where 1 = 1 ORDER BY csa ASC;"
   ]
  },
  {
   "cell_type": "code",
   "execution_count": null,
   "metadata": {
    "id": "ozd1POlByiFh"
   },
   "outputs": [],
   "source": [
    "cloggedf.columns"
   ]
  },
  {
   "cell_type": "code",
   "execution_count": null,
   "metadata": {
    "id": "lCwvTXu71gDs"
   },
   "outputs": [],
   "source": [
    "cloggedf.SRType"
   ]
  },
  {
   "cell_type": "code",
   "execution_count": null,
   "metadata": {
    "id": "07Ho3t2jydeG"
   },
   "outputs": [],
   "source": [
    "#export \n",
    "\n",
    "# Copy the Data\n",
    "clogged = cloggedf.copy()\n",
    "\n",
    "# Query the Data\n",
    "# clogged = clogged[\n",
    "#  (dirtyst['PROPERTYIN'].str.contains('CONDOMINIUM|SINGLE FAMILY', regex=True) )\n",
    "#| (dirtyst['SALEDATE'] >= '20'+year+'-01-01')\n",
    "#]\n",
    "\n",
    "# *Special*: # UPDATE HERE AND THEN GROUP\n",
    "clogged['163-clogged'+year] = 1\n",
    "clogged = clogged.append({'CSA2010': 'Baltimore City' , '163-clogged'+year : clogged['163-clogged'+year].sum() } , ignore_index=True)\n",
    "clogged = clogged.groupby('CSA2010').sum(numeric_only=True)\n",
    "\n",
    "# Make sure ALL csas and BaltimoreCity are included and sorted.\n",
    "clogged = csa.merge( clogged, left_on='CSA2010', right_on='CSA2010', how='outer' )\n",
    "clogged.drop(columns=['Shape__Length', 'Shape__Area', 'geometry' ], inplace=True)\n",
    "clogged = clogged[['CSA2010', '163-clogged'+year, 'tpop10']]\n",
    "\n",
    "\n",
    "# Create the Indicator\n",
    "clogged['163-clogged'+year] = clogged['163-clogged'+year] * 1000 / clogged['tpop10']\n",
    "\n",
    "display( clogged.head(2) )\n",
    "clogged.tail(2)\n",
    "\n",
    "clogged.to_csv('163-clogged'+year+'.csv')"
   ]
  },
  {
   "cell_type": "code",
   "execution_count": null,
   "metadata": {
    "id": "CS7wCHEZzZDs"
   },
   "outputs": [],
   "source": []
  },
  {
   "cell_type": "markdown",
   "metadata": {
    "id": "AdGOQ_MFirUp"
   },
   "source": [
    "#### 215 - Lights"
   ]
  },
  {
   "cell_type": "markdown",
   "metadata": {
    "id": "fUHWzaLGL8nJ"
   },
   "source": [
    "The rate of service requests for addressing street light outages made through Baltimore's 311 system per 1,000 residents.\n",
    "\n",
    "More than one service request may be made for the same issue but is logged as a unique request."
   ]
  },
  {
   "cell_type": "code",
   "execution_count": null,
   "metadata": {
    "id": "wYV07Lvh2-hn"
   },
   "outputs": [],
   "source": [
    "originalSQL = \"\"\"\n",
    "WITH tbl AS ( \n",
    "  SELECT ( Sum( CASE WHEN csa_present THEN 1 ELSE 0 END )::numeric (10,2)* 1000 )/the_pop AS result, csa \n",
    "    FROM vital_signs.match_csas_and_bc_by_geom('crime.lightsout_2017', 'gid', 'the_geom') a\n",
    "      LEFT JOIN crime.lightsout_2017 b \n",
    "        ON a.gid = b.gid \n",
    "          GROUP BY  csa, the_pop \n",
    ") \n",
    "UPDATE vital_signs.data SET lights = result FROM tbl WHERE data.csa = tbl.csa AND data_year = '2017';\n",
    "\"\"\""
   ]
  },
  {
   "cell_type": "markdown",
   "metadata": {
    "id": "mhlVcvot2-O3"
   },
   "source": [
    "compareYears"
   ]
  },
  {
   "cell_type": "code",
   "execution_count": null,
   "metadata": {
    "id": "iD-ldX5gUGbH"
   },
   "outputs": [],
   "source": [
    "compeareYears = gpd.read_file(\"https://services1.arcgis.com/mVFRs7NF4iFitgbY/ArcGIS/rest/services/Lights/FeatureServer/0/query?where=1%3D1&outFields=*&returnGeometry=true&f=pgeojson\");\n",
    "compeareYears.head()"
   ]
  },
  {
   "cell_type": "code",
   "execution_count": null,
   "metadata": {
    "id": "Od0lOLQ2rHHg"
   },
   "outputs": [],
   "source": [
    "#export\n",
    "def lights(df, csa, yr):\n",
    "  # The rate of service requests for addressing street light outages made through Baltimore's 311 system per 1,000 residents.\n",
    "  # More than one service request may be made for the same issue but is logged as a unique request.\n",
    "\n",
    "  # Create the Numerator\n",
    "  lights = df.copy()\n",
    "  lights['count'] = 1\n",
    "  lights = lights.groupby('CSA2010').sum(numeric_only=True)\n",
    "\n",
    "  # Make sure ALL csas and BaltimoreCity are included and sorted.\n",
    "  lights = csa.merge( lights, left_on='CSA2010', right_on='CSA2010', how='outer' )\n",
    "  lights.drop( columns=['geometry', 'Shape__Length','CouncilDis','Latitude','Longitude','Shape__Area','OBJECTID_y','OBJECTID_x'], inplace=True)\n",
    "  # Baltimoire has records not in the\n",
    "  lights.at[55,'count']=lights['count'].sum()\n",
    "  # Perform the calculation\n",
    "  lights['215-lights'+year] = lights['count'] / lights['tpop10'] * 1000\n",
    "\n",
    "  compareYears = gpd.read_file(\"https://services1.arcgis.com/mVFRs7NF4iFitgbY/ArcGIS/rest/services/Lights/FeatureServer/0/query?where=1%3D1&outFields=*&returnGeometry=true&f=pgeojson\");\n",
    "  prevYear = 'lights'+ str( int(year) - 1 )\n",
    "  if prevYear in compareYears.columns:\n",
    "    lights = lights.merge( compareYears[['CSA2010', prevYear]], left_on='CSA2010', right_on='CSA2010', how='outer' )\n",
    "    lights['change'] = lights['215-lights'+year] - lights[ prevYear ]\n",
    "    lights['percentChange'] = lights['change' ] / lights[ prevYear ] * 100\n",
    "    lights['change'] = lights['change'].apply(lambda x: \"{:.2f}\".format(x) )\n",
    "  print( 'Records Matching Query: ', lights.size / len(lights.columns) )\n",
    "  return lights\n",
    "\n",
    "fin = lights(df, csa, year)\n",
    "fin.to_csv('215-lights'+year+'.csv', index=False)\n",
    "fin.head(60)"
   ]
  },
  {
   "cell_type": "code",
   "execution_count": null,
   "metadata": {
    "id": "bO3nWHwssB3F"
   },
   "outputs": [],
   "source": []
  }
 ],
 "metadata": {
  "colab": {
   "authorship_tag": "ABX9TyOx+eQAulKZRQdsN9fzJyN4",
   "collapsed_sections": [
    "0hHCW-qPMeH6",
    "q8tLzJzcMh74",
    "g-eNzM614b3K",
    "_3QiG_W4iDl7",
    "0G31aie1xJ4I",
    "aIfUxUk1yR5x",
    "FWcTJ6L_dRvT",
    "bl0RS29dbLT2",
    "TYIQdPbShY5m",
    "cizlZMA2hY9A",
    "AdGOQ_MFirUp"
   ],
   "name": "CitiStat_Dirtyst_Clogged.ipynb",
   "provenance": [],
   "toc_visible": true
  },
  "kernelspec": {
   "display_name": "Python 3",
   "name": "python3"
  },
  "language_info": {
   "name": "python"
  }
 },
 "nbformat": 4,
 "nbformat_minor": 0
}
