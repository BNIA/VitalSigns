{
 "cells": [
  {
   "cell_type": "code",
   "execution_count": null,
   "metadata": {
    "id": "jSel8vGV8HCd"
   },
   "outputs": [],
   "source": [
    "# default_exp utils"
   ]
  },
  {
   "cell_type": "markdown",
   "metadata": {
    "id": "ngupCX3m8HCg"
   },
   "source": [
    "# module name here\n",
    "\n",
    "> API details."
   ]
  },
  {
   "cell_type": "code",
   "execution_count": null,
   "metadata": {
    "id": "H_6pidgU8HCh"
   },
   "outputs": [],
   "source": [
    "#hide\n",
    "from nbdev.showdoc import *"
   ]
  },
  {
   "cell_type": "code",
   "execution_count": null,
   "metadata": {
    "id": "zqig4q-j8HCh"
   },
   "outputs": [],
   "source": [
    "#export \n",
    "def core_test_fn(txt):\n",
    "  return txt + txt + txt + txt"
   ]
  },
  {
   "cell_type": "code",
   "execution_count": null,
   "metadata": {
    "colab": {
     "base_uri": "https://localhost:8080/",
     "height": 35
    },
    "executionInfo": {
     "elapsed": 5,
     "status": "ok",
     "timestamp": 1626133188935,
     "user": {
      "displayName": "Baltimore Neighborhood Indicators Alliance",
      "photoUrl": "https://lh3.googleusercontent.com/a-/AOh14Gg-q3A7kTIHf7wESw989OAOaJeUYKXGEdoA4M3NTA=s64",
      "userId": "16379023391965073054"
     },
     "user_tz": 240
    },
    "id": "bbvH03PV8aZL",
    "outputId": "517776f5-71ec-4269-811b-c890d7c10a95"
   },
   "outputs": [
    {
     "data": {
      "application/vnd.google.colaboratory.intrinsic+json": {
       "type": "string"
      },
      "text/plain": [
       "'hi hi hi hi '"
      ]
     },
     "execution_count": 8,
     "metadata": {
      "tags": []
     },
     "output_type": "execute_result"
    }
   ],
   "source": [
    "core_test_fn('hi ')"
   ]
  },
  {
   "cell_type": "code",
   "execution_count": null,
   "metadata": {
    "id": "8BvLqK2NFlxD"
   },
   "outputs": [],
   "source": [
    "#export\n",
    "def check_labels(ds):\n",
    "  original = ds.copy()\n",
    "  original.rename(columns={ 'CSA':'CSA2010', 'BaltCity':'InBaltimore'}, inplace=True)\n",
    "  df = original[ original['CSA2010'].notnull() | original['InBaltimore'].notnull()  ]\n",
    "  print( 'Total # Rows: ', original.shape[0] ) # rows, columns\n",
    "  print( '# Before | After')\n",
    "  print( '# Where BCity.isnull/notnull: ', original.InBaltimore.isnull().sum(), '|', original.InBaltimore.notnull().sum() );\n",
    "  print( '# where CSA2010.isnull/notnull: ', original.CSA2010.isnull().sum(), '|', original.CSA2010.notnull().sum() );\n",
    "  print( '# Where CSA and/or Baltimore lbl Exists: ', df.shape[0])\n",
    "  df.CSA2010 = df.CSA2010.fillna('Baltimore City')\n",
    "  return df"
   ]
  }
 ],
 "metadata": {
  "colab": {
   "collapsed_sections": [],
   "name": "00_core.ipynb",
   "provenance": []
  },
  "kernelspec": {
   "display_name": "Python 3",
   "language": "python",
   "name": "python3"
  }
 },
 "nbformat": 4,
 "nbformat_minor": 0
}
