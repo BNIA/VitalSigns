{
 "cells": [
  {
   "cell_type": "code",
   "execution_count": null,
   "metadata": {
    "id": "txTC3hQTYKTg"
   },
   "outputs": [],
   "source": [
    "# default_exp cityfinance"
   ]
  },
  {
   "cell_type": "markdown",
   "metadata": {
    "id": "_jLE_5-I9HzS"
   },
   "source": [
    "# Housing -> TaxCredits (BCDF) Data Intake and Operations\n",
    "\n",
    "> This notebook uses data to generate a portion of BNIA's Vital Signs report."
   ]
  },
  {
   "cell_type": "markdown",
   "metadata": {
    "id": "iSNOAJoTlQr0"
   },
   "source": [
    "This colab and more can be found at https://github.com/BNIA/VitalSigns.\n",
    "\n"
   ]
  },
  {
   "cell_type": "markdown",
   "metadata": {
    "id": "ukxt0JZCsaxc"
   },
   "source": [
    "### Whats Inside?: "
   ]
  },
  {
   "cell_type": "markdown",
   "metadata": {
    "id": "ToVa_qqkDIUz"
   },
   "source": [
    "https://bniajfi.org/indicators/Housing%20And%20Community%20Development/homtax\n",
    "\n",
    "https://bniajfi.org/indicators/Housing%20And%20Community%20Development/histax"
   ]
  },
  {
   "cell_type": "markdown",
   "metadata": {
    "id": "Jo5GYquJovv-"
   },
   "source": [
    "#### __Indicators Used__\n",
    "\n",
    "- ✔️ 46 - __histax__ - (MdProp, BCDF) Number of Historic Tax Credits per 1,000 Residential Units\n",
    "\n",
    "The number of residential properties that received the Historic Tax Credit per 1,000 residential properties within an area. The credit is granted on the increased assessment directly resulting from qualified improvements. The duration of the credit is for 10 years, and is applicable to properties located in designated areas of significant historical value.\n",
    "\n",
    "- ✔️ 47 - __homtax__ - (MdProp, BCDF) Number of Homestead Tax Credits per 1,000 Residential Units\n",
    "\n",
    "The number of residential properties that received the homestead tax credit per 1,000 residential properties within an area. The Homestead Credit limits the increase in taxable assessments each year to a fixed percentage. Every county and municipality in Maryland is required to limit taxable assessment increases to 10% or less each year, with the Baltimore City rate capped at 4%.\n",
    "\n",
    "❌"
   ]
  },
  {
   "cell_type": "markdown",
   "metadata": {
    "id": "JNveDD1Ho0mY"
   },
   "source": [
    "#### __Datasets Used__\n",
    "\n",
    "- ✔️ housing.TaxCredits_201X __(46-homtax, 47-owntax)__ From BidBaltimore"
   ]
  },
  {
   "cell_type": "code",
   "execution_count": null,
   "metadata": {
    "id": "StERMcET5FXP"
   },
   "outputs": [],
   "source": [
    "year = \"20\""
   ]
  },
  {
   "cell_type": "markdown",
   "metadata": {
    "id": "0hHCW-qPMeH6"
   },
   "source": [
    "### Import Modules"
   ]
  },
  {
   "cell_type": "code",
   "execution_count": null,
   "metadata": {
    "id": "WUvcamATFo4G"
   },
   "outputs": [],
   "source": [
    "%%capture\n",
    "! pip install -U -q PyDrive\n",
    "! pip install geopy\n",
    "! pip install geopandas\n",
    "! pip install geoplot\n",
    "! pip install dataplay\n",
    "! pip install matplotlib\n",
    "! pip install psycopg2-binary"
   ]
  },
  {
   "cell_type": "code",
   "execution_count": null,
   "metadata": {
    "id": "r0vkoXtZRdJz"
   },
   "outputs": [],
   "source": [
    "%%capture\n",
    "! apt-get install build-dep python-psycopg2\n",
    "! apt-get install libpq-dev\n",
    "! apt-get install libspatialindex-dev"
   ]
  },
  {
   "cell_type": "code",
   "execution_count": null,
   "metadata": {
    "id": "gZ17xjOgR8vg"
   },
   "outputs": [],
   "source": [
    "%%capture\n",
    "!pip install rtree\n",
    "!pip install dexplot"
   ]
  },
  {
   "cell_type": "code",
   "execution_count": null,
   "metadata": {
    "id": "w9Mcvm-X0gdo"
   },
   "outputs": [],
   "source": [
    "from dataplay.geoms import workWithGeometryData"
   ]
  },
  {
   "cell_type": "code",
   "execution_count": null,
   "metadata": {
    "id": "nNOByHFKFo4m"
   },
   "outputs": [],
   "source": [
    "%%capture \n",
    "# These imports will handle everything\n",
    "import os\n",
    "import sys\n",
    "import csv\n",
    "import matplotlib.pyplot as plt\n",
    "import numpy as np\n",
    "import pandas as pd\n",
    "import geopandas as gpd\n",
    "from geopandas import GeoDataFrame\n",
    "import psycopg2\n",
    "import pyproj\n",
    "from pyproj import Proj, transform\n",
    "# conda install -c conda-forge proj4\n",
    "from shapely.geometry import Point\n",
    "from shapely import wkb\n",
    "from shapely.wkt import loads\n",
    "# https://pypi.org/project/geopy/\n",
    "from geopy.geocoders import Nominatim\n",
    "\n",
    "# In case file is KML, enable support\n",
    "import fiona\n",
    "fiona.drvsupport.supported_drivers['kml'] = 'rw'\n",
    "fiona.drvsupport.supported_drivers['KML'] = 'rw'"
   ]
  },
  {
   "cell_type": "code",
   "execution_count": null,
   "metadata": {
    "id": "evj9GJLdSlxF"
   },
   "outputs": [],
   "source": [
    "from IPython.display import clear_output\n",
    "clear_output(wait=True)"
   ]
  },
  {
   "cell_type": "code",
   "execution_count": null,
   "metadata": {
    "id": "uTcb3bD84mSA"
   },
   "outputs": [],
   "source": [
    "import ipywidgets as widgets\n",
    "from ipywidgets import interact, interact_manual"
   ]
  },
  {
   "cell_type": "markdown",
   "metadata": {
    "id": "q8tLzJzcMh74"
   },
   "source": [
    "### Configure Enviornment"
   ]
  },
  {
   "cell_type": "code",
   "execution_count": null,
   "metadata": {
    "id": "OuH4mBeYCUqU"
   },
   "outputs": [],
   "source": [
    "# This will just beautify the output\n",
    "\n",
    "pd.set_option('display.expand_frame_repr', False)\n",
    "pd.set_option('display.precision', 2)\n",
    "from IPython.core.interactiveshell import InteractiveShell\n",
    "InteractiveShell.ast_node_interactivity = \"all\"\n",
    "\n",
    "# pd.set_option('display.expand_frame_repr', False)\n",
    "# pd.set_option('display.precision', 2)\n",
    "# pd.reset_option('max_colwidth')\n",
    "pd.set_option('max_colwidth', 20)\n",
    "# pd.reset_option('max_colwidth')"
   ]
  },
  {
   "cell_type": "code",
   "execution_count": null,
   "metadata": {
    "id": "kjO3WF8M1S_L"
   },
   "outputs": [],
   "source": []
  },
  {
   "cell_type": "code",
   "execution_count": null,
   "metadata": {
    "id": "wFWoZ1ir7TfC"
   },
   "outputs": [],
   "source": [
    "totalres = pd.read_csv(\"37-totalres-19.csv\")\n",
    "# totalres.set_index('CSA2010', inplace=True)\n",
    "totalres.tail(1)"
   ]
  },
  {
   "cell_type": "markdown",
   "metadata": {
    "id": "xTdmo6eOKouA"
   },
   "source": [
    "### HomesteadTax_FY20 - BidBaltimore - NEW\n"
   ]
  },
  {
   "cell_type": "code",
   "execution_count": null,
   "metadata": {
    "id": "4LoXqoG-URsC"
   },
   "outputs": [],
   "source": [
    "ls"
   ]
  },
  {
   "cell_type": "code",
   "execution_count": null,
   "metadata": {
    "id": "pFuaMV6dJgxf"
   },
   "outputs": [],
   "source": [
    "original = gpd.read_file(\"HomesteadTax_FY20\"+year+\"_CSACity.shp\");"
   ]
  },
  {
   "cell_type": "code",
   "execution_count": null,
   "metadata": {
    "id": "Qiw4TZ8Msppg"
   },
   "outputs": [],
   "source": [
    "original.rename(columns={ 'CSA':'CSA2010', 'BaltCity':'InBaltimore'}, inplace=True)\n",
    "df = original[ original['CSA2010'].notnull() | original['InBaltimore'].notnull()  ]"
   ]
  },
  {
   "cell_type": "code",
   "execution_count": null,
   "metadata": {
    "id": "lVYhbJ5dsq0w"
   },
   "outputs": [],
   "source": [
    "print('After filtering records where a CSA or Baltimore geo-code match Exists')\n",
    "print( 'All rows Before Filter: ', original.shape[0] ) # rows, columns\n",
    "print( '# w BCity.isnull: ', df.InBaltimore.isnull().sum() ); bmorow = df[ df.CSA2010.isnull()  ].shape[0]\n",
    "print( '# w CSA2010.isnull: ', bmorow ); csarow = df[ df.CSA2010.notnull()  ].shape[0] \n",
    "print( '# w CSA2010.notnull: ', csarow ); \n",
    "print( '# rows After Filter: ', df.shape[0],'==',csarow,'+',bmorow,'==', csarow + bmorow); "
   ]
  },
  {
   "cell_type": "code",
   "execution_count": null,
   "metadata": {
    "id": "-MjNhXd2sviB"
   },
   "outputs": [],
   "source": [
    "# add baltimore city\n",
    "df.CSA2010 = df.CSA2010.fillna('Baltimore City')"
   ]
  },
  {
   "cell_type": "code",
   "execution_count": null,
   "metadata": {
    "id": "7hkvEAYFsxdQ"
   },
   "outputs": [],
   "source": [
    "homesteadTax = df.copy()\n",
    "homesteadTax.head(1)"
   ]
  },
  {
   "cell_type": "markdown",
   "metadata": {
    "id": "nuLmAwD9BsCH"
   },
   "source": [
    "### HistoricTax_FY20xx - BidBaltimore - NEW\n"
   ]
  },
  {
   "cell_type": "code",
   "execution_count": null,
   "metadata": {
    "id": "7DVUmy1yBsCJ"
   },
   "outputs": [],
   "source": [
    "ls"
   ]
  },
  {
   "cell_type": "code",
   "execution_count": null,
   "metadata": {
    "id": "Tde-cgpoBsCK"
   },
   "outputs": [],
   "source": [
    "original = gpd.read_file(\"HistoricTax_FY20\"+year+\"_CSACity.shp\");"
   ]
  },
  {
   "cell_type": "code",
   "execution_count": null,
   "metadata": {
    "id": "3a8jCQM4BsCK"
   },
   "outputs": [],
   "source": [
    "original.rename(columns={ 'CSA':'CSA2010', 'BaltCity':'InBaltimore'}, inplace=True)\n",
    "df = original[ original['CSA2010'].notnull() | original['InBaltimore'].notnull()  ]"
   ]
  },
  {
   "cell_type": "code",
   "execution_count": null,
   "metadata": {
    "id": "87LVe_sKBsCK"
   },
   "outputs": [],
   "source": [
    "print('After filtering records where a CSA or Baltimore geo-code match Exists')\n",
    "print( 'All rows Before Filter: ', original.shape[0] ) # rows, columns\n",
    "print( '# w BCity.isnull: ', df.InBaltimore.isnull().sum() ); bmorow = df[ df.CSA2010.isnull()  ].shape[0]\n",
    "print( '# w CSA2010.isnull: ', bmorow ); csarow = df[ df.CSA2010.notnull()  ].shape[0] \n",
    "print( '# w CSA2010.notnull: ', csarow ); \n",
    "print( '# rows After Filter: ', df.shape[0],'==',csarow,'+',bmorow,'==', csarow + bmorow); "
   ]
  },
  {
   "cell_type": "code",
   "execution_count": null,
   "metadata": {
    "id": "sOjfD_JgBsCK"
   },
   "outputs": [],
   "source": [
    "# add baltimore city\n",
    "df.CSA2010 = df.CSA2010.fillna('Baltimore City')"
   ]
  },
  {
   "cell_type": "code",
   "execution_count": null,
   "metadata": {
    "id": "T5Rl2d_OBsCL"
   },
   "outputs": [],
   "source": [
    "historicTax = df.copy()\n",
    "historicTax.head(1)"
   ]
  },
  {
   "cell_type": "markdown",
   "metadata": {
    "id": "A4GfAj-B3RhE"
   },
   "source": [
    "### HistoricTax 46 - (MdProp, TaxSale) "
   ]
  },
  {
   "cell_type": "markdown",
   "metadata": {
    "id": "ZWozkzMAvcM2"
   },
   "source": [
    "https://bniajfi.org/indicators/Housing%20And%20Community%20Development/histax"
   ]
  },
  {
   "cell_type": "markdown",
   "metadata": {
    "id": "0PEZLZCFdlqm"
   },
   "source": [
    "Above:2016Query. Beloew:2017Query\n",
    "\n",
    "with numerator AS (\n",
    "   select (sum(\n",
    "   case \n",
    "   when csa_present\n",
    "   then 1\n",
    "   else NULL\n",
    "   end)::numeric) as result, csa\n",
    "   from vital_signs.match_csas_and_bc_by_geom('housing.historictax_fy2018', 'gid', 'the_geom') a\n",
    "   left join housing.historictax_fy2018 b on a.gid = b.gid\n",
    "   group by csa\n",
    "   ),\n",
    "   denominator AS (\n",
    "    select (sum(\n",
    "     case \n",
    "     when (address != $$NULL$$) AND (desclu = $$Apartments$$ OR desclu = $$Residential$$ OR desclu = $$Residential Commercial$$ OR desclu = $$Residential Condominium$$)\n",
    "     then 1\n",
    "     else NULL\n",
    "     end)::numeric \n",
    "    ) as result, csa\n",
    "    from vital_signs.match_csas_and_bc_by_geom('housing.mdprop_2017v2', 'gid', 'the_geom') a\n",
    "    left join housing.mdprop_2017v2 b on a.gid = b.gid\n",
    "    group by csa, the_pop\n",
    "   ),\n",
    "   tbl AS (\n",
    "     select denominator.csa,(numerator.result / denominator.result)*(1000::numeric) as result \n",
    "     from numerator left join denominator on numerator.csa = denominator.csa\n",
    "    )\n",
    "\n",
    "select * from tbl where 1 = 1 ORDER BY csa ASC;"
   ]
  },
  {
   "cell_type": "code",
   "execution_count": null,
   "metadata": {
    "id": "O3xgif9DXGs3"
   },
   "outputs": [],
   "source": [
    "t = \"\"\"\n",
    "  with numerator AS (\n",
    "   select (sum(\n",
    "   case \n",
    "   when csa_present\n",
    "   then 1\n",
    "   else NULL\n",
    "   end)::numeric) as result, csa\n",
    "   from vital_signs.match_csas_and_bc_by_geom('housing.historictax_fy2017', 'gid', 'the_geom') a\n",
    "   left join housing.historictax_fy2017 b on a.gid = b.gid\n",
    "   group by csa\n",
    "   ),\n",
    "   denominator AS (\n",
    "    select (sum(\n",
    "     case \n",
    "     when (address != $$NULL$$) AND (desclu = $$Apartments$$ OR desclu = $$Residential$$ OR desclu = $$Residential Commercial$$ OR desclu = $$Residential Condominium$$)\n",
    "     then 1\n",
    "     else NULL\n",
    "     end)::numeric \n",
    "    ) as result, csa\n",
    "    from vital_signs.match_csas_and_bc_by_geom('housing.mdprop_2017', 'gid', 'the_geom') a\n",
    "    left join housing.mdprop_2017 b on a.gid = b.gid\n",
    "    group by csa, the_pop\n",
    "   ),\n",
    "   tbl AS (\n",
    "     select denominator.csa,(numerator.result / denominator.result)*(1000::numeric) as result \n",
    "     from numerator left join denominator on numerator.csa = denominator.csa\n",
    "    )\n",
    "   update vital_signs.data\n",
    "   set histax = result from tbl where data.csa = tbl.csa and data_year = '2016';\n",
    "  \"\"\""
   ]
  },
  {
   "cell_type": "code",
   "execution_count": null,
   "metadata": {
    "id": "yOuQnCBuiUe2"
   },
   "outputs": [],
   "source": [
    "historicTax.columns"
   ]
  },
  {
   "cell_type": "code",
   "execution_count": null,
   "metadata": {
    "id": "OoYeayMvXow4"
   },
   "outputs": [],
   "source": [
    "totalres = pd.read_csv(\"37-totalres-\"+year+\".csv\""
   ]
  },
  {
   "cell_type": "code",
   "execution_count": null,
   "metadata": {
    "id": "C6_DalNI-gZW"
   },
   "outputs": [],
   "source": [
    "def histax(df, totalres, year):\n",
    "  histax = df.copy()\n",
    "  # Aggregate Numeric Values by Sum \n",
    "  histax['histaxCount'] = 1\n",
    "  histax = histax.groupby('CSA2010').sum(numeric_only=True) \n",
    "\n",
    "  # Make sure ALL csas and BaltimoreCity are included. among other things\n",
    "  histax = totalres[ ['CSA2010','totalres'+year] ].merge( histax, left_on='CSA2010', right_on='CSA2010', how='outer' ) \n",
    "\n",
    "  # Update the baltimore CSA.\n",
    "  histax.at[55,'histaxCount'] = histax['histaxCount'].sum() \n",
    "\n",
    "  # Create the Indicator\n",
    "  histax['46-histax'+year] = histax['histaxCount'] * 1000 / totalres['totalres'+year]\n",
    "\n",
    "  histax = histax[['CSA2010', 'histaxCount', '46-histax'+year, 'totalres'+year ]]\n",
    " \n",
    "  compareYears = gpd.read_file(\"https://services1.arcgis.com/mVFRs7NF4iFitgbY/ArcGIS/rest/services/Histax/FeatureServer/0/query?where=1%3D1&outFields=*&returnGeometry=true&f=pgeojson\");\n",
    "  prevYear = 'histax'+ str( int(year) - 1 )\n",
    "  if prevYear in compareYears.columns:\n",
    "    histax = histax.merge( compareYears[['CSA2010', prevYear]], left_on='CSA2010', right_on='CSA2010', how='outer' ) \n",
    "    histax['change'] = histax['46-histax'+year] - histax[ prevYear ]\n",
    "    histax['percentChange'] = histax['change'] / histax[ prevYear ] * 1000\n",
    "    histax['change'] = histax['change'].apply(lambda x: \"{:.2f}\".format(x) )\n",
    "    histax = histax[['CSA2010', 'histaxCount', 'totalres19', 'histax18', '40-histax19', 'percentChange', 'change']]\n",
    "    \n",
    "  return histax"
   ]
  },
  {
   "cell_type": "code",
   "execution_count": null,
   "metadata": {
    "id": "zkiIkD8sXkdQ"
   },
   "outputs": [],
   "source": [
    "histax = histax( historicTax, totalres, year)\n",
    "\n",
    "histax.head(60)\n",
    "histax.to_csv('46-histax'+year+'.csv', index=False)"
   ]
  },
  {
   "cell_type": "markdown",
   "metadata": {
    "id": "eIZhIQCbDl5d"
   },
   "source": [
    "### HomesteadTax 47 - (MdProp, TaxSale) "
   ]
  },
  {
   "cell_type": "code",
   "execution_count": null,
   "metadata": {
    "id": "94tTpKN4XZNu"
   },
   "outputs": [],
   "source": [
    "t = \"\"\"\n",
    "  with numerator AS (\n",
    "   select (sum(\n",
    "   case \n",
    "   when csa_present\n",
    "   then 1\n",
    "   else NULL\n",
    "   end)::numeric) as result, csa\n",
    "   from vital_signs.match_csas_and_bc_by_geom('housing.homesteadtax_fy2017', 'gid', 'the_geom') a\n",
    "   left join housing.homesteadtax_fy2017 b on a.gid = b.gid\n",
    "   group by csa\n",
    "   ),\n",
    "   denominator AS (\n",
    "    select (sum(\n",
    "     case \n",
    "     when (address != $$NULL$$) AND (desclu = $$Apartments$$ OR desclu = $$Residential$$ OR desclu = $$Residential Commercial$$ OR desclu = $$Residential Condominium$$)\n",
    "     then 1\n",
    "     else NULL\n",
    "     end)::numeric \n",
    "    ) as result, csa\n",
    "    from vital_signs.match_csas_and_bc_by_geom('housing.mdprop_2017', 'gid', 'the_geom') a\n",
    "    left join housing.mdprop_2017 b on a.gid = b.gid\n",
    "    group by csa, the_pop\n",
    "   ),\n",
    "   tbl AS (\n",
    "     select denominator.csa,(numerator.result / denominator.result)*(1000::numeric) as result \n",
    "     from numerator left join denominator on numerator.csa = denominator.csa\n",
    "    )\n",
    "   update vital_signs.data\n",
    "   set homtax = result from tbl where data.csa = tbl.csa and data_year = '2016';\n",
    "\n",
    "  Above:2016Query. Beloew:2017Query\n",
    "\n",
    "\n",
    "  with numerator AS (\n",
    "    select (sum(\n",
    "    case \n",
    "    when csa_present\n",
    "    then 1\n",
    "    else NULL\n",
    "    end)::numeric) as result, csa\n",
    "    from vital_signs.match_csas_and_bc_by_geom('housing.homesteadtax_fy2018', 'gid', 'the_geom') a\n",
    "    left join housing.homesteadtax_fy2018 b on a.gid = b.gid\n",
    "    group by csa\n",
    "    ),\n",
    "    denominator AS (\n",
    "      select (sum(\n",
    "      case \n",
    "      when (address != $$NULL$$) AND (desclu = $$Apartments$$ OR desclu = $$Residential$$ OR desclu = $$Residential Commercial$$ OR desclu = $$Residential Condominium$$)\n",
    "      then 1\n",
    "      else NULL\n",
    "      end)::numeric \n",
    "      ) as result, csa\n",
    "      from vital_signs.match_csas_and_bc_by_geom('housing.mdprop_2017v2', 'gid', 'the_geom') a\n",
    "      left join housing.mdprop_2017v2 b on a.gid = b.gid\n",
    "      group by csa, the_pop\n",
    "    ),\n",
    "    tbl AS (\n",
    "      select denominator.csa,(numerator.result / denominator.result)*(1000::numeric) as result \n",
    "      from numerator left join denominator on numerator.csa = denominator.csa\n",
    "      )\n",
    "\n",
    "  select * from tbl where 1 = 1 ORDER BY csa ASC;\n",
    "\"\"\""
   ]
  },
  {
   "cell_type": "code",
   "execution_count": null,
   "metadata": {
    "id": "GsFfKxTRXRyP"
   },
   "outputs": [],
   "source": [
    "totalres = pd.read_csv(\"37-totalres-\"+year+\".csv\")"
   ]
  },
  {
   "cell_type": "code",
   "execution_count": null,
   "metadata": {
    "id": "KFwEGK03Dl5f"
   },
   "outputs": [],
   "source": [
    "totalres.columns"
   ]
  },
  {
   "cell_type": "code",
   "execution_count": null,
   "metadata": {
    "id": "LgGfr5w8Dl5f"
   },
   "outputs": [],
   "source": [
    "#export\n",
    "def homtax(df, totalres, year):\n",
    "  homtax = df.copy()\n",
    "  # Aggregate Numeric Values by Sum\n",
    "  homtax['homtaxCount'] = 1\n",
    "  homtax = homtax.groupby('CSA2010').sum(numeric_only=True)\n",
    "\n",
    "  # Make sure ALL csas and BaltimoreCity are included. among other things\n",
    "  homtax = totalres[ ['CSA2010','totalres'+year] ].merge( homtax, left_on='CSA2010', right_on='CSA2010', how='outer' )\n",
    "\n",
    "  # Update the baltimore CSA.\n",
    "  homtax.at[55,'homtaxCount'] = homtax['homtaxCount'].sum()\n",
    "\n",
    "  # Create the Indicator\n",
    "  homtax['47-homtax'+year] = homtax['homtaxCount'] * 1000 / totalres['totalres'+year]\n",
    "\n",
    "  homtax = homtax[['CSA2010', 'homtaxCount', '47-homtax'+year, 'totalres'+year ]]\n",
    "\n",
    "  compareYears = gpd.read_file(\"https://services1.arcgis.com/mVFRs7NF4iFitgbY/ArcGIS/rest/services/Histax/FeatureServer/0/query?where=1%3D1&outFields=*&returnGeometry=true&f=pgeojson\");\n",
    "  prevYear = 'histax'+ str( int(year) - 1 )\n",
    "  if prevYear in compareYears.columns:\n",
    "    homtax = homtax.merge( compareYears[['CSA2010', prevYear]], left_on='CSA2010', right_on='CSA2010', how='outer' )\n",
    "    homtax['change'] = homtax['47-homtax'+year] - homtax[ prevYear ]\n",
    "    homtax['percentChange'] = homtax['change'] / homtax[ prevYear ] * 1000\n",
    "    homtax['change'] = homtax['change'].apply(lambda x: \"{:.2f}\".format(x) )\n",
    "    homtax = homtax[['CSA2010', 'homtaxCount', 'totalres19', 'homtax18', '47-homtax19', 'percentChange', 'change']]\n",
    "\n",
    "  return homtax"
   ]
  },
  {
   "cell_type": "code",
   "execution_count": null,
   "metadata": {
    "id": "LAhfwky9XViu"
   },
   "outputs": [],
   "source": [
    "homtax = homtax( homesteadTax, totalres, year)\n",
    "\n",
    "homtax.head(60)\n",
    "homtax.to_csv('47-homtax'+year+'.csv', index=False)"
   ]
  },
  {
   "cell_type": "markdown",
   "metadata": {
    "id": "CG1Xmxtidxlq"
   },
   "source": [
    "### owntax 48\n"
   ]
  },
  {
   "cell_type": "markdown",
   "metadata": {
    "id": "pvJ7iXmEWuoQ"
   },
   "source": [
    "Seema did it most recently"
   ]
  },
  {
   "cell_type": "markdown",
   "metadata": {
    "id": "rhbRIJRVkcHm"
   },
   "source": [
    "select (sum(\n",
    "   case \n",
    "   when csa_present\n",
    "   then 1\n",
    "   else 0\n",
    "   end)::numeric) as result, csa\n",
    "   from vital_signs.match_csas_and_bc_by_geom('housing.homeownertax_2016', 'gid', 'the_geom') a\n",
    "   left join housing.homeownertax_2016 b on a.gid = b.gid\n",
    "   group by csa order by csa\n",
    "\n",
    "WE ARE NOT USING THE QUERY OR THE DATA FROM THE QUERY\n",
    "\n",
    "DATA WAS PROVIDED IN AN ALREADY AGGREGATED FORM\n",
    "\n",
    "STARTING FROM 2016; WE Used to get it raw.\n",
    "\n",
    "We do not get it raw for data confidentiality reasons (you would know how much people earn.)\n"
   ]
  },
  {
   "cell_type": "markdown",
   "metadata": {
    "id": "LuJ_IR7ZGuZk"
   },
   "source": [
    "we don't have 2020 so i know it's 19. but just something to keep in our notes, that for dept of finance data the fiscal year is +1 on what we call it for VS"
   ]
  }
 ],
 "metadata": {
  "colab": {
   "authorship_tag": "ABX9TyPEFZJ2dQbrGetqut/4Ua6R",
   "collapsed_sections": [
    "ukxt0JZCsaxc",
    "JNveDD1Ho0mY",
    "0hHCW-qPMeH6",
    "q8tLzJzcMh74",
    "xTdmo6eOKouA",
    "nuLmAwD9BsCH",
    "A4GfAj-B3RhE",
    "eIZhIQCbDl5d",
    "CG1Xmxtidxlq"
   ],
   "name": "CityFinance_histaxhometaxowntax.ipynb",
   "provenance": [],
   "toc_visible": true
  },
  "kernelspec": {
   "display_name": "Python 3",
   "name": "python3"
  },
  "language_info": {
   "name": "python"
  }
 },
 "nbformat": 4,
 "nbformat_minor": 0
}
