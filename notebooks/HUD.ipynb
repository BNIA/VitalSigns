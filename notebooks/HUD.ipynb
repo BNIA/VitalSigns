{
 "cells": [
  {
   "cell_type": "code",
   "execution_count": null,
   "metadata": {
    "id": "3wubhrvShyLW"
   },
   "outputs": [],
   "source": [
    "# default_exp HUD"
   ]
  },
  {
   "cell_type": "code",
   "execution_count": null,
   "metadata": {
    "id": "ITWR8WdEqt3y"
   },
   "outputs": [],
   "source": [
    "#export\n",
    "import pandas as pd\n",
    "\n",
    "df = pd.read_csv(\"hcv_2019_BCityonly.csv\");"
   ]
  },
  {
   "cell_type": "code",
   "execution_count": null,
   "metadata": {
    "id": "usTXPXRWrHgb"
   },
   "outputs": [],
   "source": [
    "df.columns"
   ]
  },
  {
   "cell_type": "code",
   "execution_count": null,
   "metadata": {
    "id": "rlGHxc75rIQZ"
   },
   "outputs": [],
   "source": [
    "df.head(1)"
   ]
  },
  {
   "cell_type": "code",
   "execution_count": null,
   "metadata": {
    "id": "6nyZ3-yKuimg"
   },
   "outputs": [],
   "source": [
    "#export\n",
    "import numpy as np\n",
    "df['tract'] = df['Code'].astype(str).str[4:].astype(np.int64)\n",
    "df['tract']"
   ]
  },
  {
   "cell_type": "code",
   "execution_count": null,
   "metadata": {
    "id": "AdC9KXgyrNUN"
   },
   "outputs": [],
   "source": [
    "pip install dataplay geopandas dexplot"
   ]
  },
  {
   "cell_type": "code",
   "execution_count": null,
   "metadata": {
    "id": "V2GBmxxWrVqr"
   },
   "outputs": [],
   "source": [
    "tract = '*'\n",
    "county = '510'\n",
    "state = '24'\n",
    "tableId = 'B25003'\n",
    "year = '19'\n",
    "saveAcs = False"
   ]
  },
  {
   "cell_type": "code",
   "execution_count": null,
   "metadata": {
    "id": "b8ztvtzWrOwB"
   },
   "outputs": [],
   "source": [
    "#export\n",
    "from dataplay.acsDownload import retrieve_acs_data\n",
    "cdf = retrieve_acs_data(state, county, tract, tableId, year, saveAcs).reset_index()[['B25003_003E_Total:_Renter_occupied', 'tract']]"
   ]
  },
  {
   "cell_type": "code",
   "execution_count": null,
   "metadata": {
    "id": "ytxy4rM1t-oJ"
   },
   "outputs": [],
   "source": [
    "cdf.head(10)"
   ]
  },
  {
   "cell_type": "code",
   "execution_count": null,
   "metadata": {
    "id": "tGFUb4gcrWGC"
   },
   "outputs": [],
   "source": [
    "#export\n",
    "df['B25003_003E_Total:_Renter_occupied'] = df.merge(cdf, left_on='tract', right_on='tract')['B25003_003E_Total:_Renter_occupied']\n",
    "df.head()"
   ]
  },
  {
   "cell_type": "code",
   "execution_count": null,
   "metadata": {
    "id": "5GGVIKnpucEw"
   },
   "outputs": [],
   "source": [
    "# https://bniajfi.org/mapping-resources/"
   ]
  },
  {
   "cell_type": "code",
   "execution_count": null,
   "metadata": {
    "id": "7-mlkbwFr8yX"
   },
   "outputs": [],
   "source": [
    "crosswalk = pd.read_csv( 'tract_2_csa.csv' )\n",
    "crosswalk.head()"
   ]
  },
  {
   "cell_type": "code",
   "execution_count": null,
   "metadata": {
    "id": "_nc3yTiumHl9"
   },
   "outputs": [],
   "source": [
    "#export\n",
    "# Match Tract to CSA\n",
    "df['CSA'] = df.merge(crosswalk, left_on='Code', right_on='GEOID10')['CSA2010']"
   ]
  },
  {
   "cell_type": "code",
   "execution_count": null,
   "metadata": {
    "id": "yTmARzGEnkgK"
   },
   "outputs": [],
   "source": [
    "df['CSA'].unique()"
   ]
  },
  {
   "cell_type": "code",
   "execution_count": null,
   "metadata": {
    "id": "7gJwBiKEt0fE"
   },
   "outputs": [],
   "source": [
    "df.head(1)"
   ]
  },
  {
   "cell_type": "code",
   "execution_count": null,
   "metadata": {
    "id": "LcvNtG4xvd2e"
   },
   "outputs": [],
   "source": [
    "df.tail(2)"
   ]
  },
  {
   "cell_type": "code",
   "execution_count": null,
   "metadata": {
    "id": "ULD-f0CYn7ZJ"
   },
   "outputs": [],
   "source": [
    "df.to_csv('hcv_2019_BCityOnly_w_CSAs_and_ACS_Data')"
   ]
  },
  {
   "cell_type": "code",
   "execution_count": null,
   "metadata": {
    "id": "2pKMmRr6nnqc"
   },
   "outputs": [],
   "source": [
    "df[ df['CSA'] == 'undefined' ] "
   ]
  },
  {
   "cell_type": "code",
   "execution_count": null,
   "metadata": {
    "id": "dd3p6Mg3vCY_"
   },
   "outputs": [],
   "source": [
    "df.head()"
   ]
  },
  {
   "cell_type": "code",
   "execution_count": null,
   "metadata": {
    "id": "US7ghBc2uUZn"
   },
   "outputs": [],
   "source": [
    "#export\n",
    "from math import floor\n",
    "cdf = df.merge(crosswalk, left_on='Code', right_on='GEOID2010', how='left')\n",
    "cdf[\"TRACT2010\"] = cdf[\"TRACT2010\"].fillna(0.0).astype(int)\n",
    "\n",
    "# TRACTCE10 GEOID10 NAME10 CSA\n",
    "cdf['TRACTCE10'] = cdf['TRACT2010']\n",
    "cdf['GEOID10'] = cdf['Code']\n",
    "cdf['CSA'] = cdf['CSA2010']\n",
    "\n",
    "cdf = cdf.drop(columns=['TRACT2010', 'GEOID2010', 'Code', 'CSA2010', 'TRACT2010' ], axis=1)"
   ]
  },
  {
   "cell_type": "code",
   "execution_count": null,
   "metadata": {
    "id": "Kc5YtcC308Zo"
   },
   "outputs": [],
   "source": [
    "cdf.head(1)"
   ]
  },
  {
   "cell_type": "code",
   "execution_count": null,
   "metadata": {
    "id": "kfRhYSoi2rnA"
   },
   "outputs": [],
   "source": [
    "cw2 = crosswalk2.drop(columns=['STATEFIPS', 'COUNTYFIPS' ,'BLOCKCE10' ,'GEOID10'])\n",
    "cw2.head(1)"
   ]
  },
  {
   "cell_type": "code",
   "execution_count": null,
   "metadata": {
    "id": "8G-EBdPL054x"
   },
   "outputs": [],
   "source": [
    "#export\n",
    "cdf2 = cdf.merge(cw2, left_on='TRACTCE10', right_on='TRACT', how='left')\n",
    "cdf2['NAME10'] = cdf2['NEIGHBORHOOD']\n",
    "cdf2 = cdf2.drop(columns=['TRACT', 'NEIGHBORHOOD'], axis=1)\n",
    "cdf2.head(1)"
   ]
  },
  {
   "cell_type": "code",
   "execution_count": null,
   "metadata": {
    "id": "wvcwSNnC02zC"
   },
   "outputs": [],
   "source": [
    "#export\n",
    " cd3 = cdf2[[\n",
    "           'NAME10',\n",
    "           'TRACTCE10', 'CSA', 'GEOID10',\n",
    "           'Summary level', 'Program label', 'Program', 'Sub-program', 'Name',\n",
    "       'Subsidized units available', '% Occupied', '# Reported',\n",
    "       '% Reported', 'Average months since report', '% moved in past year',\n",
    "       'Number of people per unit', 'Number of people: total',\n",
    "       'Average Family Expenditure per month ($$)',\n",
    "       'Average HUD Expenditure per month ($$)', 'Household income per year',\n",
    "       'Household income per year per person', '% $1 - $4,999',\n",
    "       '% $5,000 - $9,999', '% $10,000 - $14,999', '% $15,000 - $19,999',\n",
    "       '% $20,000 or more',\n",
    "       '% Households where wages are major source of income',\n",
    "       '% Households where welfare is major source of income',\n",
    "       '% Households with other major sources of income',\n",
    "       '% of local median (Household income)', '% very low income',\n",
    "       '% extremely low income', '% 2+ adults with children',\n",
    "       '% 1 adult with children', '% female head',\n",
    "       '% female head with children',\n",
    "       '% with disability, among Head, Spouse, Co-head, aged 61 years or less',\n",
    "       '% with disability, among Head, Spouse, Co-head, aged 62 years or older',\n",
    "       '% with disability, among all persons in households',\n",
    "       '% 24 years or less (Head or spouse)',\n",
    "       '% 25 to 49 years (Head or spouse)', '% 51 to 60 (Head or spouse)',\n",
    "       '% 62 or more (Head or spouse)', '% 85 or more (Head or spouse)',\n",
    "       '% Minority', '%Black Non-Hispanic', ' %Black Hispanic',\n",
    "       '%Native American Non-Hispanic',\n",
    "       '%Asian or Pacific Islander Non-Hispanic', '% Hispanic',\n",
    "       'Average months on waiting list', 'Average months since moved in',\n",
    "       '% with utility allowance', 'Average utility allowance $$',\n",
    "       '% 0 - 1 bedrooms:', '% 2 bedrooms', '% 3+ bedrooms', '% Overhoused',\n",
    "       '% in poverty (Census tract)', '% minority (Census tract)',\n",
    "       '% single family owners (Census tract)', 'Congressional District',\n",
    "       'CBSA', 'PLACE', 'Latitude', 'Longitude', 'State', 'PHA Total Units',\n",
    "       'HA category']]"
   ]
  },
  {
   "cell_type": "code",
   "execution_count": null,
   "metadata": {
    "id": "3TcR5F2Y04z3"
   },
   "outputs": [],
   "source": [
    "cd3.head(1)"
   ]
  },
  {
   "cell_type": "code",
   "execution_count": null,
   "metadata": {
    "id": "FdFLgifR3ZKI"
   },
   "outputs": [],
   "source": [
    "cd3.to_csv('hcv_2019_BCityonly_w_csas.csv')"
   ]
  },
  {
   "cell_type": "code",
   "execution_count": null,
   "metadata": {
    "id": "ynkgy4vbzT9M"
   },
   "outputs": [],
   "source": [
    "# TRACTCE10 GEOID10 NAME10 CSA"
   ]
  },
  {
   "cell_type": "code",
   "execution_count": null,
   "metadata": {
    "id": "KvER8FbXscSe"
   },
   "outputs": [],
   "source": [
    "crosswalk.head(1)"
   ]
  },
  {
   "cell_type": "code",
   "execution_count": null,
   "metadata": {
    "id": "L4oZOKolsdad"
   },
   "outputs": [],
   "source": [
    "cdf.head(1)"
   ]
  },
  {
   "cell_type": "code",
   "execution_count": null,
   "metadata": {
    "id": "Bw4D8CjcsOBn"
   },
   "outputs": [],
   "source": [
    "cdf"
   ]
  },
  {
   "cell_type": "code",
   "execution_count": null,
   "metadata": {
    "id": "_8J6wDv0saKg"
   },
   "outputs": [],
   "source": [
    "df['B25003_003E_Total:_Renter_occupied'] = df.merge(cdf, left_on='CSA', right_on='CSA')['B25003_003E_Total:_Renter_occupied']"
   ]
  },
  {
   "cell_type": "code",
   "execution_count": null,
   "metadata": {
    "id": "-RxetmsksrvH"
   },
   "outputs": [],
   "source": [
    "df.head()"
   ]
  }
 ],
 "metadata": {
  "colab": {
   "authorship_tag": "ABX9TyMyKd+CQza6rVjAGvRWjPQl",
   "collapsed_sections": [],
   "name": "HUD.ipynb",
   "provenance": []
  },
  "kernelspec": {
   "display_name": "Python 3",
   "name": "python3"
  }
 },
 "nbformat": 4,
 "nbformat_minor": 0
}
