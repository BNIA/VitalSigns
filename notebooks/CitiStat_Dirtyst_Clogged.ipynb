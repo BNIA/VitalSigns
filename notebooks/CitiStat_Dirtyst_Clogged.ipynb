{
  "nbformat": 4,
  "nbformat_minor": 0,
  "metadata": {
    "colab": {
      "provenance": [],
      "collapsed_sections": []
    },
    "kernelspec": {
      "name": "python3",
      "display_name": "Python 3"
    },
    "language_info": {
      "name": "python"
    }
  },
  "cells": [
    {
      "cell_type": "markdown",
      "source": [
        "This notebook uses the 311 Service Requests data to create a portion of BNIA's Vital Signs report\n",
        "\n",
        "####**Indicators from this csv**\n",
        "\n",
        "*   dirtyst\n",
        "*   clogged\n",
        "*   lights"
      ],
      "metadata": {
        "id": "Ch3pUdzxVolg"
      }
    },
    {
      "cell_type": "markdown",
      "source": [
        "**Note:** Due to the size of the original file for the 311 Service Requests data, the dataset was broken down into the three subsets that are needed for the indicators. After creating the three subsets, each subset was geocoded to include the CSA2010, CSA2020, and BaltCity columns. \n",
        "The subsets were created based on the SRType column, and the filters used for each indicator are as follows:\n",
        "\n",
        "*   **dirtyst:** SRType = SW-Dirty Alley, SW-Dirty Street, SW-Dirty Alley Proactive, SW-Dirty Street Proactive\n",
        "*   **clogged:** SRType = Everything that begins with 'WW-St' (used grep function)\n",
        "*   **lights:** SRType = BGE-StLight(s) Out, BGE-StLight(s) Out Rear, TRM-Street Light Out\n",
        "*   BaltCity != ' ' was used for all three subsets in addition to the above\n",
        "\n"
      ],
      "metadata": {
        "id": "A8CRx9N2axJU"
      }
    },
    {
      "cell_type": "code",
      "execution_count": 2,
      "metadata": {
        "id": "qWMnOoT2U7DA"
      },
      "outputs": [],
      "source": [
        "#export\n",
        "#Import needed libraries\n",
        "import pandas as pd"
      ]
    },
    {
      "cell_type": "markdown",
      "source": [
        "###dirtyst Indicator\n"
      ],
      "metadata": {
        "id": "FN2HrQIhV7dP"
      }
    },
    {
      "cell_type": "code",
      "source": [
        "#export\n",
        "#dirtyst Indicator\n",
        "#Output - Rate of Dirty Streets and Alleys Reports per 1,000 Residents\n",
        "\n",
        "#Read data\n",
        "dirtyst = pd.read_csv('Clean_DirtyStreets_and_Alleys_2021.csv', encoding=\"cp850\") #utf8 encoding kept giving an error.\n",
        "\n",
        "#Only keep needed columns\n",
        "dirtyst = dirtyst[['CSA2010', 'CSA2020']]\n",
        "\n",
        "#Add dirtyst column\n",
        "dirtyst['dirtystCount'] = 1\n",
        "\n",
        "#Get CSAs frequency\n",
        "dirtyst = dirtyst.groupby(['CSA2010', 'CSA2020']).sum(numeric_only=True) \n",
        "\n",
        "#make index the CSA2020 column\n",
        "dirtyst.reset_index(inplace=True)\n",
        "\n",
        "#Add Baltimore City row\n",
        "dirtyst.loc[len(dirtyst.index)] = ['Baltimore City', 'Baltimore City', dirtyst['dirtystCount'].sum()]\n",
        "\n",
        "#read pop2020 data\n",
        "pop2020 = pd.read_csv('CSA2020_CSA2010_&_2020pop.csv')\n",
        "\n",
        "#Append 2020pop\n",
        "dirtyst = dirtyst.merge(pop2020, left_on=['CSA2010', 'CSA2020'], right_on=['CSA2010', 'CSA2020'], how='inner')\n",
        "\n",
        "#Create indicator\n",
        "dirtyst['dirtyst'] = (dirtyst['dirtystCount']/dirtyst['tpop20'])*1000"
      ],
      "metadata": {
        "id": "QuMmMGtoV_KN"
      },
      "execution_count": null,
      "outputs": []
    },
    {
      "cell_type": "markdown",
      "source": [
        "###clogged Indicator\n"
      ],
      "metadata": {
        "id": "F_e-Woqm5jtE"
      }
    },
    {
      "cell_type": "code",
      "source": [
        "#export\n",
        "#clogged Indicator\n",
        "#Output - Rate of Clogged Storm Drain Reports per 1,000 Residents\n",
        "\n",
        "#Read data\n",
        "clogged = pd.read_csv('Clean_Clogged_Storm_Drains_2021.csv') #utf8 encoding kept giving an error.\n",
        "\n",
        "#Only keep needed columns\n",
        "clogged = clogged[['CSA2010', 'CSA2020']]\n",
        "\n",
        "#Add clogged column\n",
        "clogged['cloggedCount'] = 1\n",
        "\n",
        "#Get CSAs frequency\n",
        "clogged = clogged.groupby(['CSA2010', 'CSA2020']).sum(numeric_only=True) \n",
        "\n",
        "#make index the CSA2020 column\n",
        "clogged.reset_index(inplace=True)\n",
        "\n",
        "#Add Baltimore City row\n",
        "clogged.loc[len(clogged.index)] = ['Baltimore City', 'Baltimore City', clogged['cloggedCount'].sum()]\n",
        "\n",
        "#read pop2020 data\n",
        "pop2020 = pd.read_csv('CSA2020_CSA2010_&_2020pop.csv')\n",
        "\n",
        "#Append 2020pop\n",
        "clogged = clogged.merge(pop2020, left_on=['CSA2010', 'CSA2020'], right_on=['CSA2010', 'CSA2020'], how='inner')\n",
        "\n",
        "#Create indicator\n",
        "clogged['clogged'] = (clogged['cloggedCount']/clogged['tpop20'])*1000"
      ],
      "metadata": {
        "id": "PqACRK955rYL"
      },
      "execution_count": null,
      "outputs": []
    },
    {
      "cell_type": "markdown",
      "source": [
        "###lights Indicator\n"
      ],
      "metadata": {
        "id": "HNXBKf1E66yf"
      }
    },
    {
      "cell_type": "code",
      "source": [
        "#export\n",
        "#lights Indicator\n",
        "#Output - #Rate of Street Light Outages per 1,000 Residents\n",
        "\n",
        "#Read data\n",
        "lights = pd.read_csv('Clean_LightsOut_2021.csv') #utf8 encoding kept giving an error.\n",
        "\n",
        "#Only keep needed columns\n",
        "lights = lights[['CSA2010', 'CSA2020']]\n",
        "\n",
        "#Add lights column\n",
        "lights['lightsCount'] = 1\n",
        "\n",
        "#Get CSAs frequency\n",
        "lights = lights.groupby(['CSA2010', 'CSA2020']).sum(numeric_only=True) \n",
        "\n",
        "#make index the CSA2020 column\n",
        "lights.reset_index(inplace=True)\n",
        "\n",
        "#Add Baltimore City row\n",
        "lights.loc[len(lights.index)] = ['Baltimore City', 'Baltimore City', lights['lightsCount'].sum()]\n",
        "\n",
        "#read pop2020 data\n",
        "pop2020 = pd.read_csv('CSA2020_CSA2010_&_2020pop.csv')\n",
        "\n",
        "#Append 2020pop\n",
        "lights = lights.merge(pop2020, left_on=['CSA2010', 'CSA2020'], right_on=['CSA2010', 'CSA2020'], how='inner')\n",
        "\n",
        "#Create indicator\n",
        "lights['lights'] = (lights['lightsCount']/lights['tpop20'])*1000"
      ],
      "metadata": {
        "id": "eAYCG6826--j"
      },
      "execution_count": null,
      "outputs": []
    }
  ]
}