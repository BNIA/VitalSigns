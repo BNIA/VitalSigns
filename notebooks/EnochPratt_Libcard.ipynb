{
 "cells": [
  {
   "cell_type": "code",
   "execution_count": null,
   "metadata": {
    "id": "QJla77K6beWf"
   },
   "outputs": [],
   "source": [
    "# default_exp enoch"
   ]
  },
  {
   "cell_type": "markdown",
   "metadata": {
    "id": "1uPMyhQiiBO0"
   },
   "source": [
    "# Guided Walkthrough"
   ]
  },
  {
   "cell_type": "markdown",
   "metadata": {
    "id": "XfwOgcYTs90R"
   },
   "source": [
    "Todo: \n",
    "- Refractor Queries for no Point In Polygons\n",
    "- Wrap as Function"
   ]
  },
  {
   "cell_type": "markdown",
   "metadata": {
    "id": "ukxt0JZCsaxc"
   },
   "source": [
    "## Whats Inside?: "
   ]
  },
  {
   "cell_type": "markdown",
   "metadata": {
    "id": "Jo5GYquJovv-"
   },
   "source": [
    "#### __Indicators Used__\n",
    "\n",
    "- ❌ 128 - __libcard__ - (EnochPratt) The rate of persons per 1,000 residents that possess a valid public library system card. This includes all library card types (first card, juvenile, young adult, adult)."
   ]
  },
  {
   "cell_type": "code",
   "execution_count": null,
   "metadata": {
    "id": "fi5o2XE_3vrg"
   },
   "outputs": [],
   "source": [
    "originalSql = \"\"\"\n",
    "  with tbl AS (\n",
    "   select (sum(\n",
    "      case \n",
    "      when csa_present\n",
    "      then 1\n",
    "      else 0\n",
    "      end)::numeric \n",
    "    * 1000 )/the_pop as result, csa\n",
    "    from vital_signs.match_csas_and_bc_by_geom('enochpratt.enochpratt_2016', 'gid', 'the_geom') a\n",
    "    left join enochpratt.enochpratt_2016 b on a.gid = b.gid\n",
    "    group by csa, the_pop\n",
    "   )\n",
    "   update vital_signs.data\n",
    "   set libcard = result from tbl where data.csa = tbl.csa and data_year = '2016';\n",
    "\"\"\""
   ]
  },
  {
   "cell_type": "markdown",
   "metadata": {
    "id": "KEcLV4Pv3vCI"
   },
   "source": []
  },
  {
   "cell_type": "markdown",
   "metadata": {
    "id": "Z8urONZKiBO0"
   },
   "source": [
    "## SETUP:"
   ]
  },
  {
   "cell_type": "markdown",
   "metadata": {
    "id": "LzLvFz42iBO0"
   },
   "source": [
    "### Import Modules"
   ]
  },
  {
   "cell_type": "code",
   "execution_count": null,
   "metadata": {
    "cellView": "form",
    "id": "bWhdtebqiBO0"
   },
   "outputs": [],
   "source": [
    "# @title Run: Install Modules"
   ]
  },
  {
   "cell_type": "code",
   "execution_count": null,
   "metadata": {
    "id": "u-_gdiWtiBO0"
   },
   "outputs": [],
   "source": [
    "%%capture\n",
    "! pip install geopy\n",
    "! pip install geopandas\n",
    "! pip install geoplot\n",
    "! pip install dataplay"
   ]
  },
  {
   "cell_type": "code",
   "execution_count": null,
   "metadata": {
    "id": "aE6f4ei9icmz"
   },
   "outputs": [],
   "source": [
    "!pip install dexplot"
   ]
  },
  {
   "cell_type": "code",
   "execution_count": null,
   "metadata": {
    "id": "uHSXDrpGiBO1"
   },
   "outputs": [],
   "source": [
    "\n",
    "%%capture\n",
    "# export\n",
    "# @title Run: Import Modules\n",
    "\n",
    "# These imports will handle everything\n",
    "import os\n",
    "import sys\n",
    "import csv\n",
    "from IPython.display import clear_output\n",
    "import matplotlib.pyplot as plt\n",
    "import numpy as np\n",
    "import pandas as pd\n",
    "import geopandas as gpd\n",
    "from geopandas import GeoDataFrame\n",
    "import psycopg2\n",
    "import pyproj\n",
    "from pyproj import Proj, transform\n",
    "# conda install -c conda-forge proj4\n",
    "from shapely.geometry import Point\n",
    "from shapely.geometry import LineString\n",
    "from shapely import wkb\n",
    "from shapely.wkt import loads\n",
    "# https://pypi.org/project/geopy/\n",
    "from geopy.geocoders import Nominatim\n",
    "import folium\n",
    "from folium import plugins\n",
    "\n",
    "from dataplay.merge import mergeDatasets\n",
    "\n",
    "import dexplot as dxp\n",
    "\n",
    "# In case file is KML, enable support\n",
    "import fiona\n",
    "fiona.drvsupport.supported_drivers['kml'] = 'rw'\n",
    "fiona.drvsupport.supported_drivers['KML'] = 'rw'"
   ]
  },
  {
   "cell_type": "markdown",
   "metadata": {
    "id": "pWRfd8FRiBO2"
   },
   "source": [
    "### Configure Enviornment"
   ]
  },
  {
   "cell_type": "code",
   "execution_count": null,
   "metadata": {
    "id": "cpZMd4SyiBO2"
   },
   "outputs": [],
   "source": [
    "# This will just beautify the output\n",
    "\n",
    "pd.set_option('display.expand_frame_repr', False)\n",
    "pd.set_option('display.precision', 2)\n",
    "from IPython.core.interactiveshell import InteractiveShell\n",
    "InteractiveShell.ast_node_interactivity = \"all\"\n",
    "\n",
    "# pd.set_option('display.expand_frame_repr', False)\n",
    "# pd.set_option('display.precision', 2)\n",
    "# pd.reset_option('max_colwidth')\n",
    "pd.set_option('max_colwidth', 50)\n",
    "# pd.reset_option('max_colwidth')"
   ]
  },
  {
   "cell_type": "code",
   "execution_count": null,
   "metadata": {
    "id": "ZYq2-gRLiBO2"
   },
   "outputs": [],
   "source": [
    "#hide\n",
    "# %matplotlib inline\n",
    "# !jupyter nbextension enable --py widgetsnbextension"
   ]
  },
  {
   "cell_type": "markdown",
   "metadata": {
    "id": "Pm3nEXKpSmQm"
   },
   "source": [
    "## Read in df"
   ]
  },
  {
   "cell_type": "code",
   "execution_count": null,
   "metadata": {
    "id": "g1JrNtLnSpQl"
   },
   "outputs": [],
   "source": [
    "csa_gdf = gpd.read_file(\"https://services1.arcgis.com/mVFRs7NF4iFitgbY/ArcGIS/rest/services/Tpop/FeatureServer/0/query?where=1%3D1&outFields=*&returnGeometry=true&f=pgeojson\")\n",
    "csa_gdf.plot(column='tpop10')"
   ]
  },
  {
   "cell_type": "code",
   "execution_count": null,
   "metadata": {
    "id": "EWQ1APkwSww3"
   },
   "outputs": [],
   "source": [
    "csa_gdf.head()"
   ]
  },
  {
   "cell_type": "markdown",
   "metadata": {
    "id": "nHAig4kSjgi8"
   },
   "source": [
    "### (Optional) GoogleDrive Access"
   ]
  },
  {
   "cell_type": "code",
   "execution_count": null,
   "metadata": {
    "id": "sxGAFjlFzv35"
   },
   "outputs": [],
   "source": [
    "# (Optional) Run this cell to gain access to Google Drive (Colabs only) \n",
    "from google.colab import drive\n",
    "\n",
    "# Colabs operates in a virtualized enviornment\n",
    "# Colabs default directory is at ~/content.\n",
    "# We mount Drive into a temporary folder at '~/content/drive' \n",
    "\n",
    "drive.mount('/content/drive')"
   ]
  },
  {
   "cell_type": "code",
   "execution_count": null,
   "metadata": {
    "id": "RaP90f0NsDxW"
   },
   "outputs": [],
   "source": [
    "cd drive/'MyDrive'/vitalSigns"
   ]
  },
  {
   "cell_type": "code",
   "execution_count": null,
   "metadata": {
    "id": "bcBtR2ZOTYcN"
   },
   "outputs": [],
   "source": [
    "ls"
   ]
  },
  {
   "cell_type": "code",
   "execution_count": null,
   "metadata": {
    "id": "av5tm_L3iroW"
   },
   "outputs": [],
   "source": [
    "cd enoch"
   ]
  },
  {
   "cell_type": "code",
   "execution_count": null,
   "metadata": {
    "id": "ZdfBdFQlitTs"
   },
   "outputs": [],
   "source": [
    "ls"
   ]
  },
  {
   "cell_type": "code",
   "execution_count": null,
   "metadata": {
    "id": "kwrpGMYdTTi2"
   },
   "outputs": [],
   "source": [
    "crs = {'init' :'epsg:2248'} \n",
    "gdf = gpd.read_file(\"EnochPratt_2019.shp\", crs=crs)\n",
    "gdf = gdf.to_crs(epsg=4326)\n",
    "gdf.head()"
   ]
  },
  {
   "cell_type": "markdown",
   "metadata": {
    "id": "YDnfGkh-SoqF"
   },
   "source": []
  },
  {
   "cell_type": "code",
   "execution_count": null,
   "metadata": {
    "id": "Z_GEQtorTwKF"
   },
   "outputs": [],
   "source": [
    "from dataplay import geoms "
   ]
  },
  {
   "cell_type": "code",
   "execution_count": null,
   "metadata": {
    "id": "YPhDXSifT0FM"
   },
   "outputs": [],
   "source": [
    "help(geoms)"
   ]
  },
  {
   "cell_type": "code",
   "execution_count": null,
   "metadata": {
    "id": "AcfzArEzXcLc"
   },
   "outputs": [],
   "source": [
    "fdf.head()"
   ]
  },
  {
   "cell_type": "code",
   "execution_count": null,
   "metadata": {
    "id": "yV_8MIo_gFpd"
   },
   "outputs": [],
   "source": [
    "# export\n",
    "fdf = geoms.workWithGeometryData(method='pinp', df=gdf, polys=csa_gdf, ptsCoordCol='geometry', polygonsCoordCol='geometry', polyColorCol=False, polygonsLabel='RecordsInCsa', pntsClr='red', polysClr='white')\n",
    "findf = fdf.copy()\n",
    "findf = findf[['CSA2010', 'tpop10', 'pointsinpolygon', 'geometry']]\n",
    "findf['libcard19'] = findf['pointsinpolygon'] / findf['tpop10'] * 1000"
   ]
  },
  {
   "cell_type": "code",
   "execution_count": null,
   "metadata": {
    "id": "27YraTHgiJHN"
   },
   "outputs": [],
   "source": [
    "findf.tail(1)"
   ]
  },
  {
   "cell_type": "code",
   "execution_count": null,
   "metadata": {
    "id": "AHjjtWiviQk-"
   },
   "outputs": [],
   "source": [
    "findf.dtypes"
   ]
  },
  {
   "cell_type": "code",
   "execution_count": null,
   "metadata": {
    "id": "gqVkJ3RnhDZ2"
   },
   "outputs": [],
   "source": [
    "#export\n",
    "findf = findf.append({\n",
    "    'CSA2010': 'Baltimore City',\n",
    "    'tpop10': findf['tpop10'].sum(),\n",
    "    'pointsinpolygon': findf['pointsinpolygon'].sum(),\n",
    "    'geometry': 'na',\n",
    "    'libcard19': (findf['pointsinpolygon'].sum() / findf['tpop10'].sum() * 1000), }, ignore_index=True)"
   ]
  },
  {
   "cell_type": "code",
   "execution_count": null,
   "metadata": {
    "id": "OqxeVbL4jKGF"
   },
   "outputs": [],
   "source": [
    "findf.tail()"
   ]
  },
  {
   "cell_type": "code",
   "execution_count": null,
   "metadata": {
    "id": "2nrJt0H0dAHj"
   },
   "outputs": [],
   "source": [
    "findf.to_csv('enoch_pratt_libcard19.csv')"
   ]
  },
  {
   "cell_type": "markdown",
   "metadata": {
    "id": "3FiXt54yVMu1"
   },
   "source": [
    "The rate of persons per 1,000 residents that possess a valid public library system card. This includes all library card types (first card, juvenile, young adult, adult).\n",
    "\n",
    "\n"
   ]
  },
  {
   "cell_type": "markdown",
   "metadata": {
    "id": "RQDQynOOSUFv"
   },
   "source": [
    "# OLD 18 content below"
   ]
  },
  {
   "cell_type": "code",
   "execution_count": null,
   "metadata": {
    "id": "puLNKyWEO6hi"
   },
   "outputs": [],
   "source": [
    "import pandas as pd"
   ]
  },
  {
   "cell_type": "code",
   "execution_count": null,
   "metadata": {
    "id": "K8Ph1dQhO5rR"
   },
   "outputs": [],
   "source": [
    "!git clone https://github.com/BNIA/tidyaddr-js.git"
   ]
  },
  {
   "cell_type": "code",
   "execution_count": null,
   "metadata": {
    "id": "cYs4OUGRPIrp"
   },
   "outputs": [],
   "source": [
    "! npm install tidyaddr-js/"
   ]
  },
  {
   "cell_type": "code",
   "execution_count": null,
   "metadata": {
    "id": "f0TcSv9FPMRl"
   },
   "outputs": [],
   "source": [
    "cd tidyaddr-js"
   ]
  },
  {
   "cell_type": "code",
   "execution_count": null,
   "metadata": {
    "id": "zmsaReRyOM6N"
   },
   "outputs": [],
   "source": [
    "pd.read_excel(open('EnochPratt_FY2020_VS19.xlsx', 'rb'), sheet_name='AllCardTypes2020').to_csv('lib.csv')"
   ]
  },
  {
   "cell_type": "code",
   "execution_count": null,
   "metadata": {
    "id": "VWf4O8wbPUyh"
   },
   "outputs": [],
   "source": [
    "ls"
   ]
  },
  {
   "cell_type": "code",
   "execution_count": null,
   "metadata": {
    "id": "kX2yn1PQRymB"
   },
   "outputs": [],
   "source": [
    "!node tidyaddr.js clean-csv lib.csv tidyaddrd.csv"
   ]
  },
  {
   "cell_type": "code",
   "execution_count": null,
   "metadata": {
    "id": "muVQ84pncrft"
   },
   "outputs": [],
   "source": [
    "df = pd.read_csv(\"tidyaddrd.csv\");"
   ]
  },
  {
   "cell_type": "code",
   "execution_count": null,
   "metadata": {
    "id": "1pLLsWcU2xFY"
   },
   "outputs": [],
   "source": [
    "df.head(1)"
   ]
  },
  {
   "cell_type": "code",
   "execution_count": null,
   "metadata": {
    "id": "UHkmJP-twV9K"
   },
   "outputs": [],
   "source": [
    "df.to_excel('output1.xlsx', engine='xlsxwriter') ;\n",
    "df.head(1)"
   ]
  },
  {
   "cell_type": "code",
   "execution_count": null,
   "metadata": {
    "id": "Mor_eUfQc6Cb"
   },
   "outputs": [],
   "source": [
    "%%capture\n",
    "! pip install geopy\n",
    "! pip install geopandas\n",
    "! pip install geoplot\n",
    "! pip install dataplay"
   ]
  },
  {
   "cell_type": "code",
   "execution_count": null,
   "metadata": {
    "id": "uT4nqqZJMKIB"
   },
   "outputs": [],
   "source": [
    "ls"
   ]
  },
  {
   "cell_type": "code",
   "execution_count": null,
   "metadata": {
    "id": "n7OAx0pnc5NU"
   },
   "outputs": [],
   "source": [
    "\n",
    "%%capture\n",
    "# export\n",
    "# @title Run: Import Modules\n",
    "\n",
    "# These imports will handle everything\n",
    "import os\n",
    "import sys\n",
    "import csv\n",
    "from IPython.display import clear_output\n",
    "import matplotlib.pyplot as plt\n",
    "import numpy as np\n",
    "import pandas as pd\n",
    "import geopandas as gpd\n",
    "from geopandas import GeoDataFrame\n",
    "import psycopg2\n",
    "import pyproj\n",
    "from pyproj import Proj, transform\n",
    "# conda install -c conda-forge proj4\n",
    "from shapely.geometry import Point\n",
    "from shapely.geometry import LineString\n",
    "from shapely import wkb\n",
    "from shapely.wkt import loads\n",
    "# https://pypi.org/project/geopy/\n",
    "from geopy.geocoders import Nominatim\n",
    "import folium\n",
    "from folium import plugins\n",
    "\n",
    "from dataplay.merge import mergeDatasets\n",
    "\n",
    "import dexplot as dxp\n",
    "\n",
    "# In case file is KML, enable support\n",
    "import fiona\n",
    "fiona.drvsupport.supported_drivers['kml'] = 'rw'\n",
    "fiona.drvsupport.supported_drivers['KML'] = 'rw'"
   ]
  },
  {
   "cell_type": "code",
   "execution_count": null,
   "metadata": {
    "id": "0XfmSweEctKL"
   },
   "outputs": [],
   "source": [
    "\n",
    "address_df = df.copy()\n",
    "addrCol = 'address'\n",
    "\n",
    "# An example of loading in an internal BNIA file\n",
    "crs = {'init' :'epsg:2248'} "
   ]
  },
  {
   "cell_type": "code",
   "execution_count": null,
   "metadata": {
    "id": "K92GtQQZPSy3"
   },
   "outputs": [],
   "source": [
    "# More information vist: https://geopy.readthedocs.io/en/stable/#module-geopy.geocoders\n",
    "\n",
    "# In this example we retrieve and map a dataset with no lat/lng but containing an address\n",
    "\n",
    "# In this example our data is stored in the 'STREET' attribute\n",
    "geometry = []\n",
    "geolocator = Nominatim(user_agent=\"my-application\")\n",
    "\n",
    "for index, row in address_df.iterrows():\n",
    "  # We will try and return an address for each Street Name\n",
    "  try: \n",
    "      # retrieve the geocoded information of our street address\n",
    "      geol = geolocator.geocode(row[addrCol], timeout=None)\n",
    "\n",
    "      # create a mappable coordinate point from the response object's lat/lang values.\n",
    "      pnt = Point(geol.longitude, geol.latitude)\n",
    "      \n",
    "      # Append this value to the list of geometries\n",
    "      geometry.append(pnt)\n",
    "      \n",
    "  except: \n",
    "      # If no street name was found decide what to do here.\n",
    "      # df.loc[index]['geom'] = Point(0,0) # Alternate method\n",
    "      geometry.append(Point(0,0))\n",
    "      \n",
    "# Finally, we stuff the geometry data we created back into the dataframe\n",
    "address_df['geometry'] = geometry"
   ]
  },
  {
   "cell_type": "code",
   "execution_count": null,
   "metadata": {
    "id": "AW9POzmhdhci"
   },
   "outputs": [],
   "source": [
    "# save after every 100th geocode"
   ]
  },
  {
   "cell_type": "code",
   "execution_count": null,
   "metadata": {
    "id": "bdfhYocwdjX7"
   },
   "outputs": [],
   "source": []
  }
 ],
 "metadata": {
  "colab": {
   "authorship_tag": "ABX9TyMFy4lgO2HLKsvMZ0/db2jd",
   "collapsed_sections": [
    "Z8urONZKiBO0",
    "LzLvFz42iBO0",
    "RQDQynOOSUFv"
   ],
   "name": "EnochPratt_Libcard.ipynb",
   "provenance": [],
   "toc_visible": true
  },
  "kernelspec": {
   "display_name": "Python 3",
   "name": "python3"
  }
 },
 "nbformat": 4,
 "nbformat_minor": 0
}
