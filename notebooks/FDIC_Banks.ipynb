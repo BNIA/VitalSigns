{
  "nbformat": 4,
  "nbformat_minor": 0,
  "metadata": {
    "colab": {
      "provenance": []
    },
    "kernelspec": {
      "name": "python3",
      "display_name": "Python 3"
    },
    "language_info": {
      "name": "python"
    }
  },
  "cells": [
    {
      "cell_type": "markdown",
      "source": [
        "This notebook uses the Banks 2021 data to create a portion of BNIA's Vital Signs report\n",
        "\n",
        "###Indicator from this csv\n",
        "*   banks\n",
        "\n",
        "###Tables used in this notebook\n",
        "*   Banks_2021\n",
        "*   CSA2010 to CSA2020 Crosswalk\n",
        "*   2020 Population"
      ],
      "metadata": {
        "id": "Jth-4X1QSu_p"
      }
    },
    {
      "cell_type": "code",
      "execution_count": null,
      "metadata": {
        "id": "MlMKe-92MdNE"
      },
      "outputs": [],
      "source": [
        "#export\n",
        "#Import needed libraries\n",
        "import pandas as pd"
      ]
    },
    {
      "cell_type": "code",
      "source": [
        "#Export\n",
        "#Read data\n",
        "banks = pd.read_excel(\"Banks_2021_CSA _City.xlsx\")\n",
        "crosswalk = pd.read_csv(\"https://raw.githubusercontent.com/BNIA/VitalSigns/main/CSA2010_2020.csv\")\n",
        "pop_2020 = pd.read_csv(\"CSA2020_CSA2010_&_2020pop.csv\")\n",
        "\n",
        "#Remove rows where Baltimore City is empty\n",
        "banks = banks[banks['BaltCity'] != '']"
      ],
      "metadata": {
        "id": "sjacjm51TdST"
      },
      "execution_count": null,
      "outputs": []
    },
    {
      "cell_type": "markdown",
      "source": [
        "###banks"
      ],
      "metadata": {
        "id": "-9lKAaRxTeaO"
      }
    },
    {
      "cell_type": "code",
      "source": [
        "#Export\n",
        "#Banks Indicator\n",
        "#Rate of Banks and Bank Branches per 1,000 Residents\n",
        "\n",
        "#Only keep needed columns\n",
        "banks = banks[['CSA']]\n",
        "\n",
        "#Add counter\n",
        "banks['count'] = 1\n",
        "\n",
        "#Add Baltimore City row\n",
        "banks.loc[len(banks.index)] = ['Baltimore City', banks['count'].sum()]\n",
        "\n",
        "#Group by CSA\n",
        "banks = banks.groupby(\"CSA\").sum()\n",
        "\n",
        "#Append 2010 CSAs\n",
        "banks = crosswalk.merge(banks, left_on=\"CSA2020\", right_on=\"CSA\", how=\"outer\")\n",
        "\n",
        "#Append 2020 Population\n",
        "banks = banks.merge(pop_2020, on=[\"CSA2010\", \"CSA2020\"], how='outer')\n",
        "\n",
        "#Get banks indicator\n",
        "banks['banksXX'] = (banks['count'] / banks['tpop20']) * 1000\n",
        "\n",
        "#Sort rows alphabetically \n",
        "banks = banks.sort_values('CSA2010')"
      ],
      "metadata": {
        "id": "hac2QOxxM1Xj"
      },
      "execution_count": null,
      "outputs": []
    },
    {
      "cell_type": "code",
      "source": [
        "from google.colab import files \n",
        "banks.to_csv('banks_2021.csv')\n",
        "files.download('banks_2021.csv')"
      ],
      "metadata": {
        "id": "xZrfgTTjQTLY",
        "colab": {
          "base_uri": "https://localhost:8080/",
          "height": 17
        },
        "outputId": "370960ab-0c65-4011-cc12-a08379b930d2"
      },
      "execution_count": null,
      "outputs": [
        {
          "output_type": "display_data",
          "data": {
            "text/plain": [
              "<IPython.core.display.Javascript object>"
            ],
            "application/javascript": [
              "\n",
              "    async function download(id, filename, size) {\n",
              "      if (!google.colab.kernel.accessAllowed) {\n",
              "        return;\n",
              "      }\n",
              "      const div = document.createElement('div');\n",
              "      const label = document.createElement('label');\n",
              "      label.textContent = `Downloading \"${filename}\": `;\n",
              "      div.appendChild(label);\n",
              "      const progress = document.createElement('progress');\n",
              "      progress.max = size;\n",
              "      div.appendChild(progress);\n",
              "      document.body.appendChild(div);\n",
              "\n",
              "      const buffers = [];\n",
              "      let downloaded = 0;\n",
              "\n",
              "      const channel = await google.colab.kernel.comms.open(id);\n",
              "      // Send a message to notify the kernel that we're ready.\n",
              "      channel.send({})\n",
              "\n",
              "      for await (const message of channel.messages) {\n",
              "        // Send a message to notify the kernel that we're ready.\n",
              "        channel.send({})\n",
              "        if (message.buffers) {\n",
              "          for (const buffer of message.buffers) {\n",
              "            buffers.push(buffer);\n",
              "            downloaded += buffer.byteLength;\n",
              "            progress.value = downloaded;\n",
              "          }\n",
              "        }\n",
              "      }\n",
              "      const blob = new Blob(buffers, {type: 'application/binary'});\n",
              "      const a = document.createElement('a');\n",
              "      a.href = window.URL.createObjectURL(blob);\n",
              "      a.download = filename;\n",
              "      div.appendChild(a);\n",
              "      a.click();\n",
              "      div.remove();\n",
              "    }\n",
              "  "
            ]
          },
          "metadata": {}
        },
        {
          "output_type": "display_data",
          "data": {
            "text/plain": [
              "<IPython.core.display.Javascript object>"
            ],
            "application/javascript": [
              "download(\"download_0cd13cd0-cc0e-4863-9ca0-f065b90cffe1\", \"banks_2021.csv\", 3749)"
            ]
          },
          "metadata": {}
        }
      ]
    }
  ]
}