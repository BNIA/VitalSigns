{
 "cells": [
  {
   "cell_type": "code",
   "execution_count": null,
   "metadata": {
    "id": "Ww-bR5B9Z2eS"
   },
   "outputs": [],
   "source": [
    "# default_exp bidbaltimore"
   ]
  },
  {
   "cell_type": "markdown",
   "metadata": {
    "id": "_jLE_5-I9HzS"
   },
   "source": [
    "# Housing -> BidBaltimore -> TaxSale -> Taxlien Data Intake and Operations\n",
    "\n",
    "> This notebook uses data to generate a portion of BNIA's Vital Signs report."
   ]
  },
  {
   "cell_type": "markdown",
   "metadata": {
    "id": "iSNOAJoTlQr0"
   },
   "source": [
    "This colab and more can be found at https://github.com/BNIA/VitalSigns.\n"
   ]
  },
  {
   "cell_type": "markdown",
   "metadata": {
    "id": "ukxt0JZCsaxc"
   },
   "source": [
    "## Whats Inside?: "
   ]
  },
  {
   "cell_type": "markdown",
   "metadata": {
    "id": "Jo5GYquJovv-"
   },
   "source": [
    "#### __Indicators Used__\n",
    "\n",
    "- ✔️ 40 - __taxlien__ - (MdProp, TaxSale) Percentage of residential tax lien sales\n",
    "\n",
    "❌"
   ]
  },
  {
   "cell_type": "markdown",
   "metadata": {
    "id": "JNveDD1Ho0mY"
   },
   "source": [
    "#### __Datasets Used__\n",
    "\n",
    "- ✔️ housing.taxsales_201X __(40-taxlien)__ From BidBaltimore"
   ]
  },
  {
   "cell_type": "code",
   "execution_count": null,
   "metadata": {
    "id": "StERMcET5FXP"
   },
   "outputs": [],
   "source": [
    "year = \"19\""
   ]
  },
  {
   "cell_type": "markdown",
   "metadata": {
    "id": "0hHCW-qPMeH6"
   },
   "source": [
    "### Import Modules"
   ]
  },
  {
   "cell_type": "code",
   "execution_count": null,
   "metadata": {
    "id": "WUvcamATFo4G"
   },
   "outputs": [],
   "source": [
    "%%capture\n",
    "! pip install -U -q PyDrive\n",
    "! pip install geopy\n",
    "! pip install geopandas\n",
    "! pip install geoplot\n",
    "! pip install dataplay\n",
    "! pip install matplotlib\n",
    "! pip install psycopg2-binary"
   ]
  },
  {
   "cell_type": "code",
   "execution_count": null,
   "metadata": {
    "id": "r0vkoXtZRdJz"
   },
   "outputs": [],
   "source": [
    "%%capture\n",
    "! apt-get install build-dep python-psycopg2\n",
    "! apt-get install libpq-dev\n",
    "! apt-get install libspatialindex-dev"
   ]
  },
  {
   "cell_type": "code",
   "execution_count": null,
   "metadata": {
    "id": "gZ17xjOgR8vg"
   },
   "outputs": [],
   "source": [
    "%%capture\n",
    "!pip install rtree\n",
    "!pip install dexplot"
   ]
  },
  {
   "cell_type": "code",
   "execution_count": null,
   "metadata": {
    "id": "w9Mcvm-X0gdo"
   },
   "outputs": [],
   "source": [
    "from dataplay.geoms import workWithGeometryData"
   ]
  },
  {
   "cell_type": "code",
   "execution_count": null,
   "metadata": {
    "id": "nNOByHFKFo4m"
   },
   "outputs": [],
   "source": [
    "%%capture \n",
    "# These imports will handle everything\n",
    "import os\n",
    "import sys\n",
    "import csv\n",
    "import matplotlib.pyplot as plt\n",
    "import numpy as np\n",
    "import pandas as pd\n",
    "import geopandas as gpd\n",
    "from geopandas import GeoDataFrame\n",
    "import psycopg2\n",
    "import pyproj\n",
    "from pyproj import Proj, transform\n",
    "# conda install -c conda-forge proj4\n",
    "from shapely.geometry import Point\n",
    "from shapely import wkb\n",
    "from shapely.wkt import loads\n",
    "# https://pypi.org/project/geopy/\n",
    "from geopy.geocoders import Nominatim\n",
    "\n",
    "# In case file is KML, enable support\n",
    "import fiona\n",
    "fiona.drvsupport.supported_drivers['kml'] = 'rw'\n",
    "fiona.drvsupport.supported_drivers['KML'] = 'rw'"
   ]
  },
  {
   "cell_type": "code",
   "execution_count": null,
   "metadata": {
    "id": "evj9GJLdSlxF"
   },
   "outputs": [],
   "source": [
    "from IPython.display import clear_output\n",
    "clear_output(wait=True)"
   ]
  },
  {
   "cell_type": "code",
   "execution_count": null,
   "metadata": {
    "id": "uTcb3bD84mSA"
   },
   "outputs": [],
   "source": [
    "import ipywidgets as widgets\n",
    "from ipywidgets import interact, interact_manual"
   ]
  },
  {
   "cell_type": "markdown",
   "metadata": {
    "id": "q8tLzJzcMh74"
   },
   "source": [
    "### Configure Enviornment"
   ]
  },
  {
   "cell_type": "code",
   "execution_count": null,
   "metadata": {
    "id": "OuH4mBeYCUqU"
   },
   "outputs": [],
   "source": [
    "# This will just beautify the output\n",
    "\n",
    "pd.set_option('display.expand_frame_repr', False)\n",
    "pd.set_option('display.precision', 2)\n",
    "from IPython.core.interactiveshell import InteractiveShell\n",
    "InteractiveShell.ast_node_interactivity = \"all\"\n",
    "\n",
    "# pd.set_option('display.expand_frame_repr', False)\n",
    "# pd.set_option('display.precision', 2)\n",
    "# pd.reset_option('max_colwidth')\n",
    "pd.set_option('max_colwidth', 20)\n",
    "# pd.reset_option('max_colwidth')"
   ]
  },
  {
   "cell_type": "code",
   "execution_count": null,
   "metadata": {
    "id": "kjO3WF8M1S_L"
   },
   "outputs": [],
   "source": []
  },
  {
   "cell_type": "code",
   "execution_count": null,
   "metadata": {
    "id": "wFWoZ1ir7TfC"
   },
   "outputs": [],
   "source": [
    "totalres = pd.read_csv(\"37-totalres-19.csv\")\n",
    "# totalres.set_index('CSA2010', inplace=True)\n",
    "totalres.tail(1)"
   ]
  },
  {
   "cell_type": "markdown",
   "metadata": {
    "id": "F748SA-C6TVk"
   },
   "source": [
    "### Taxsales_2019 - BidBaltimore - OLD"
   ]
  },
  {
   "cell_type": "code",
   "execution_count": null,
   "metadata": {
    "id": "8YHQxqtySX4p"
   },
   "outputs": [],
   "source": [
    "# Convert to EPSG:4326\n",
    "taxSales = taxSales.to_crs(epsg=4326)"
   ]
  },
  {
   "cell_type": "code",
   "execution_count": null,
   "metadata": {
    "id": "VALeLzqcSX4v"
   },
   "outputs": [],
   "source": [
    "# Convert Geom to Coords\n",
    "\n",
    "taxSales['x'] = taxSales.geometry.x\n",
    "taxSales['y'] = taxSales.geometry.y\n",
    "# taxSales.head(5)\n",
    "\n",
    "taxSales = taxSales[ taxSales.geometry.y > 38 ]\n",
    "taxSales = taxSales[ taxSales.geometry.x < -70 ]\n",
    "taxSales = taxSales[ taxSales.geometry.x > -80 ]"
   ]
  },
  {
   "cell_type": "code",
   "execution_count": null,
   "metadata": {
    "id": "u23DRwkWSX42"
   },
   "outputs": [],
   "source": [
    "# Reference: All Points\n",
    "base = csa.plot(color='white', edgecolor='black')\n",
    "taxSales.plot(ax=base, marker='o', color='green', markersize=5);"
   ]
  },
  {
   "cell_type": "code",
   "execution_count": null,
   "metadata": {
    "id": "cYTnnGKcSX47"
   },
   "outputs": [],
   "source": [
    "# Get CSA Labels for all Points.\n",
    "taxSalesCsa = workWithGeometryData( \n",
    "     method='ponp', df=taxSales, polys=csa, ptsCoordCol='geometry', \n",
    "     polygonsCoordCol='geometry', polygonsLabel='CSA2010'\n",
    ")\n",
    "taxSalesCsa = taxSalesCsa.drop('geometry',axis=1)\n",
    "taxSalesCsa.to_csv('ponp_taxSales_19.csv', index=False)\n",
    "taxSalesCsa.head(10)"
   ]
  },
  {
   "cell_type": "markdown",
   "metadata": {
    "id": "tNaKIVJbomcd"
   },
   "source": [
    "### Taxsales_2018 - BidBaltimore - OLD"
   ]
  },
  {
   "cell_type": "code",
   "execution_count": null,
   "metadata": {
    "id": "LquqdEIfomce"
   },
   "outputs": [],
   "source": [
    "ls"
   ]
  },
  {
   "cell_type": "code",
   "execution_count": null,
   "metadata": {
    "id": "UuJgfb7womce"
   },
   "outputs": [],
   "source": [
    "taxSales = gpd.read_file(\"./TaxSales_2018.shp\");"
   ]
  },
  {
   "cell_type": "code",
   "execution_count": null,
   "metadata": {
    "id": "Bz34OBuzomcf"
   },
   "outputs": [],
   "source": [
    "# Convert to EPSG:4326\n",
    "taxSales = taxSales.to_crs(epsg=4326)"
   ]
  },
  {
   "cell_type": "code",
   "execution_count": null,
   "metadata": {
    "id": "8Z5AhwYromcf"
   },
   "outputs": [],
   "source": [
    "# Convert Geom to Coords\n",
    "\n",
    "taxSales['x'] = taxSales.geometry.x\n",
    "taxSales['y'] = taxSales.geometry.y\n",
    "# taxSales.head(5)\n",
    "\n",
    "taxSales = taxSales[ taxSales.geometry.y > 38 ]\n",
    "taxSales = taxSales[ taxSales.geometry.x < -70 ]\n",
    "taxSales = taxSales[ taxSales.geometry.x > -80 ]"
   ]
  },
  {
   "cell_type": "code",
   "execution_count": null,
   "metadata": {
    "id": "M2jAzArNomcg"
   },
   "outputs": [],
   "source": [
    "# Reference: All Points\n",
    "base = csa.plot(color='white', edgecolor='black')\n",
    "taxSales.plot(ax=base, marker='o', color='green', markersize=5);"
   ]
  },
  {
   "cell_type": "code",
   "execution_count": null,
   "metadata": {
    "id": "B1ibFNGComcg"
   },
   "outputs": [],
   "source": [
    "# Get CSA Labels for all Points.\n",
    "taxSalesCsa18 = workWithGeometryData( \n",
    "     method='ponp', df=taxSales, polys=csa, ptsCoordCol='geometry', \n",
    "     polygonsCoordCol='geometry', polygonsLabel='CSA2010'\n",
    ")\n",
    "taxSalesCsa18 = taxSalesCsa18.drop('geometry',axis=1)\n",
    "taxSalesCsa18.to_csv('ponp_taxSales_18.csv', index=False)\n",
    "taxSalesCsa18.head(10)"
   ]
  },
  {
   "cell_type": "markdown",
   "metadata": {
    "id": "xTdmo6eOKouA"
   },
   "source": [
    "### Taxsales_2019 - BidBaltimore - NEW\n"
   ]
  },
  {
   "cell_type": "code",
   "execution_count": null,
   "metadata": {
    "id": "4LoXqoG-URsC"
   },
   "outputs": [],
   "source": [
    "ls"
   ]
  },
  {
   "cell_type": "code",
   "execution_count": null,
   "metadata": {
    "id": "pFuaMV6dJgxf"
   },
   "outputs": [],
   "source": [
    "original = gpd.read_file(\"TaxSales_20\"+year+\"_CSACity.shp\");"
   ]
  },
  {
   "cell_type": "code",
   "execution_count": null,
   "metadata": {
    "id": "Qiw4TZ8Msppg"
   },
   "outputs": [],
   "source": [
    "original.rename(columns={ 'CSA':'CSA2010', 'BaltCity':'InBaltimore'}, inplace=True)\n",
    "df = original[ original['CSA2010'].notnull() | original['InBaltimore'].notnull()  ]"
   ]
  },
  {
   "cell_type": "code",
   "execution_count": null,
   "metadata": {
    "id": "lVYhbJ5dsq0w"
   },
   "outputs": [],
   "source": [
    "print('After filtering records where a CSA or Baltimore geo-code match Exists')\n",
    "print( 'All rows Before Filter: ', original.shape[0] ) # rows, columns\n",
    "print( '# w BCity.isnull: ', df.InBaltimore.isnull().sum() ); bmorow = df[ df.CSA2010.isnull()  ].shape[0]\n",
    "print( '# w CSA2010.isnull: ', bmorow ); csarow = df[ df.CSA2010.notnull()  ].shape[0] \n",
    "print( '# w CSA2010.notnull: ', csarow ); \n",
    "print( '# rows After Filter: ', df.shape[0],'==',csarow,'+',bmorow,'==', csarow + bmorow); "
   ]
  },
  {
   "cell_type": "code",
   "execution_count": null,
   "metadata": {
    "id": "-MjNhXd2sviB"
   },
   "outputs": [],
   "source": [
    "# add baltimore city\n",
    "df.CSA2010 = df.CSA2010.fillna('Baltimore City')"
   ]
  },
  {
   "cell_type": "code",
   "execution_count": null,
   "metadata": {
    "id": "7hkvEAYFsxdQ"
   },
   "outputs": [],
   "source": [
    "taxSales = df.copy()\n",
    "taxSales.head(1)"
   ]
  },
  {
   "cell_type": "markdown",
   "metadata": {
    "id": "A4GfAj-B3RhE"
   },
   "source": [
    "### Taxlien 40 - (MdProp, TaxSale) "
   ]
  },
  {
   "cell_type": "code",
   "execution_count": null,
   "metadata": {
    "id": "gR5_JrgrfkKA"
   },
   "outputs": [],
   "source": [
    "# 40- taxlien - Percentage of residential tax lien sales\n",
    "\n",
    "# https://services1.arcgis.com/mVFRs7NF4iFitgbY/arcgis/rest/services/taxlien/FeatureServer/layers\n",
    "# https://bniajfi.org/indicators/Housing%20And%20Community%20Development/taxlien\n",
    "\n",
    "# Numerator: housing.taxsales_201X\n",
    "# Denominator: housing.mdprop_201X\n",
    "\n",
    "long_Description: \"\"\"\n",
    "The percentage of residential properties with city liens sold as tax certificates at the annual tax lien certificate sale held in May. \n",
    "Tax sales are used to collect delinquent real property taxes and other unpaid charges to the city, which are liens against the real property.\n",
    "The tax certificate sale is a public online auction of City lien interests on properties that occurs annually in May.\n",
    "\"\"\"\n",
    "\n",
    "taxlien_SQL = \"\"\"\n",
    " 2017 Query\n",
    "  WITH numerator AS ( \n",
    "   select (sum( case \n",
    "    when csa_present\n",
    "   then 1 else 0 end)::numeric) as result, csa\n",
    "    from vital_signs.match_csas_and_bc_by_geom('housing.taxsales_2017', 'gid', 'the_geom') a\n",
    "      left join housing.taxsales_2017 b on a.gid = b.gid\n",
    "        group by csa ), \n",
    "  denominator AS (\n",
    "   select (sum( case \n",
    "    when (address != $$NULL$$) AND (desclu = $$Apartments$$ OR desclu = $$Residential$$ OR desclu = $$Residential Commercial$$ OR desclu = $$Residential Condominium$$) then 1 else NULL end)::numeric ) as result, csa\n",
    "      from vital_signs.match_csas_and_bc_by_geom('housing.mdprop_2017', 'gid', 'the_geom') a\n",
    "        left join housing.mdprop_2017 b on a.gid = b.gid\n",
    "          group by csa, the_pop ),\n",
    "  tbl AS (\n",
    "   select denominator.csa,(numerator.result / denominator.result)*(100::numeric) as result \n",
    "   from numerator left join denominator on numerator.csa = denominator.csa )\n",
    "  select * from tbl where 1 = 1 ORDER BY csa ASC;\"\n",
    "\n",
    " 2016 query\n",
    "  WITH numerator AS ( select (sum( case \n",
    "   when csa_present then 1 else 0 end)::numeric) as result, csa\n",
    "      from vital_signs.match_csas_and_bc_by_geom('housing.taxsales_2016', 'gid', 'the_geom') a\n",
    "        left join housing.taxsales_2016 b on a.gid = b.gid\n",
    "          group by csa ),\n",
    "  denominator AS (\n",
    "   select (sum( case \n",
    "    when (address != $$NULL$$) AND (desclu = $$Apartments$$ OR desclu = $$Residential$$ OR desclu = $$Residential Commercial$$ OR desclu = $$Residential Condominium$$) then 1 else NULL end)::numeric ) as result, csa\n",
    "      from vital_signs.match_csas_and_bc_by_geom('housing.mdprop_2017', 'gid', 'the_geom') a\n",
    "        left join housing.mdprop_2017 b on a.gid = b.gid\n",
    "          group by csa, the_pop ),\n",
    "  tbl AS (\n",
    "   select denominator.csa,(numerator.result / denominator.result)*(100::numeric) as result \n",
    "   from numerator left join denominator on numerator.csa = denominator.csa )\n",
    "  update vital_signs.data\n",
    "  set taxlien = result from tbl where data.csa = tbl.csa and data_year = '2016'; \n",
    "  \"\"\"\n",
    "\n",
    "taxlien_translation = \" (sum taxsales_2017 when csa_present / mdprop.totalres )* 100 \""
   ]
  },
  {
   "cell_type": "code",
   "execution_count": null,
   "metadata": {
    "id": "_gaMG5y45njy"
   },
   "outputs": [],
   "source": [
    "oldpy = \"\"\"\n",
    "taxlien18 = df18.drop(['X', 'Y', 'x', 'y'], axis=1).copy()\n",
    "taxlien18.head(2)\n",
    "taxlien19 = df19.drop(['X', 'Y', 'x', 'y'], axis=1).copy()\n",
    "taxlien19.head(2)\n",
    "taxlien18['taxlien18Count'] = 1\n",
    "taxlien19['taxlien19Count'] = 1\n",
    "taxlien = taxlien19.groupby('CSA2010').sum(numeric_only=True) \n",
    "taxlien['taxlien18Count'] = taxlien18.groupby('CSA2010').sum(numeric_only=True)['taxlien18Count']\n",
    "taxlien = taxlien[['taxlien18Count', 'taxlien19Count']]\n",
    "taxlien['totalres18'] = totalres['totalres18']\n",
    "taxlien.head(1)\n",
    "\n",
    "# DOES 2019 use the same denominator as 2018 as 2017?\n",
    "taxlien['totalres19'] = taxlien['totalres18']\n",
    "\"\"\""
   ]
  },
  {
   "cell_type": "code",
   "execution_count": null,
   "metadata": {
    "id": "yOuQnCBuiUe2"
   },
   "outputs": [],
   "source": [
    "totalres.columns"
   ]
  },
  {
   "cell_type": "code",
   "execution_count": null,
   "metadata": {
    "id": "hFY9hDjGZ-rf"
   },
   "outputs": [],
   "source": [
    "totalres = pd.read_csv(\"37-totalres-\"+year+\".csv\")"
   ]
  },
  {
   "cell_type": "code",
   "execution_count": null,
   "metadata": {
    "id": "C6_DalNI-gZW"
   },
   "outputs": [],
   "source": [
    "#export\n",
    "def taxlien(df, totalres, year):\n",
    "  taxlien = df.copy()\n",
    "  # Aggregate Numeric Values by Sum\n",
    "  taxlien['taxlienCount'] = 1\n",
    "  taxlien = taxlien.groupby('CSA2010').sum(numeric_only=True)\n",
    "\n",
    "  # Make sure ALL csas and BaltimoreCity are included. among other things\n",
    "  taxlien = totalres[ ['CSA2010','totalres'+year] ].merge( taxlien, left_on='CSA2010', right_on='CSA2010', how='outer' )\n",
    "\n",
    "  # Update the baltimore CSA.\n",
    "  taxlien.at[55,'taxlienCount'] = taxlien['taxlienCount'].sum()\n",
    "\n",
    "  # Create the Indicator\n",
    "  taxlien['40-taxlien'+year] = taxlien['taxlienCount'] / totalres['totalres'+year] * 100\n",
    "\n",
    "  taxlien = taxlien[['CSA2010', 'taxlienCount', '40-taxlien'+year, 'totalres'+year ]]\n",
    "\n",
    "  compareYears = gpd.read_file(\"https://services1.arcgis.com/mVFRs7NF4iFitgbY/ArcGIS/rest/services/Taxlien/FeatureServer/0/query?where=1%3D1&outFields=*&returnGeometry=true&f=pgeojson\");\n",
    "  prevYear = 'taxlien'+ str( int(year) - 1 )\n",
    "  if prevYear in compareYears.columns:\n",
    "    taxlien = taxlien.merge( compareYears[['CSA2010', prevYear]], left_on='CSA2010', right_on='CSA2010', how='outer' )\n",
    "    taxlien['change'] = taxlien['40-taxlien'+year] - taxlien[ prevYear ]\n",
    "    taxlien['percentChange'] = taxlien['change'] / taxlien[ prevYear ] * 100\n",
    "    taxlien['change'] = taxlien['change'].apply(lambda x: \"{:.2f}\".format(x) )\n",
    "    taxlien = taxlien[['CSA2010', 'taxlienCount', 'totalres19', 'taxlien18', '40-taxlien19', 'percentChange', 'change']]\n",
    "\n",
    "  return taxlien"
   ]
  },
  {
   "cell_type": "code",
   "execution_count": null,
   "metadata": {
    "id": "jVi-6lfUuJeL"
   },
   "outputs": [],
   "source": [
    "taxlien = taxlien( taxSales.drop(['X', 'Y'], axis=1), totalres, year)\n",
    "\n",
    "taxlien.head(60)\n",
    "taxlien.to_csv('40-taxlien'+year+'.csv', index=False)"
   ]
  }
 ],
 "metadata": {
  "colab": {
   "authorship_tag": "ABX9TyNtY8O+cfLRgtGqsDndQM4j",
   "collapsed_sections": [
    "0hHCW-qPMeH6",
    "q8tLzJzcMh74",
    "F748SA-C6TVk",
    "tNaKIVJbomcd",
    "xTdmo6eOKouA"
   ],
   "name": "Bidbalt_TaxSale_Taxlien.ipynb",
   "provenance": []
  },
  "kernelspec": {
   "display_name": "Python 3",
   "name": "python3"
  }
 },
 "nbformat": 4,
 "nbformat_minor": 0
}
