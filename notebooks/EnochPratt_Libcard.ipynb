{
  "nbformat": 4,
  "nbformat_minor": 0,
  "metadata": {
    "colab": {
      "provenance": []
    },
    "kernelspec": {
      "name": "python3",
      "display_name": "Python 3"
    },
    "language_info": {
      "name": "python"
    }
  },
  "cells": [
    {
      "cell_type": "markdown",
      "source": [
        "This notebook uses the EnochPratt 2021 data to create a portion of BNIA's Vital Signs report\n",
        "\n",
        "###Indicator from this csv\n",
        "*   libcard\n",
        "\n",
        "###Tables used in this notebook\n",
        "*   Enochpratt_2021\n",
        "*   CSA2010 to CSA2020 Crosswalk\n",
        "*   2020 Population"
      ],
      "metadata": {
        "id": "es2VSm2SUYVe"
      }
    },
    {
      "cell_type": "code",
      "execution_count": null,
      "metadata": {
        "id": "nksGtX0nURpZ"
      },
      "outputs": [],
      "source": [
        "import pandas as pd"
      ]
    },
    {
      "cell_type": "code",
      "source": [
        "#export\n",
        "#read data\n",
        "libcard = pd.read_excel(\"EnochPratt_2021CSA_City.xlsx\")\n",
        "crosswalk = pd.read_csv(\"https://raw.githubusercontent.com/BNIA/VitalSigns/main/CSA2010_2020.csv\")\n",
        "pop_2020 = pd.read_csv(\"CSA2020_CSA2010_&_2020pop.csv\")\n",
        "\n",
        "#Remove rows where BaltCity is empty\n",
        "libcard = libcard[libcard[\"BaltCity\"] == \"Baltimore City\"]"
      ],
      "metadata": {
        "id": "DRjL-xZ4Urwc"
      },
      "execution_count": null,
      "outputs": []
    },
    {
      "cell_type": "markdown",
      "source": [
        "###libcard"
      ],
      "metadata": {
        "id": "6E1Sy7BBWqM4"
      }
    },
    {
      "cell_type": "code",
      "source": [
        "#Export\n",
        "#libcard Indicator\n",
        "#Rate of persons per 1,000 residents that possess a valid public library system card\n",
        "\n",
        "#Keep needed columns\n",
        "libcard = libcard[['CSA']]\n",
        "\n",
        "#Add counter\n",
        "libcard['count'] = 1\n",
        "\n",
        "#Add Baltimore City row\n",
        "libcard.loc[len(libcard.index)] = ['Baltimore City', libcard['count'].sum()]\n",
        "\n",
        "#Group by CSA\n",
        "libcard = libcard.groupby(\"CSA\").sum()\n",
        "\n",
        "#Append 2010 CSAs\n",
        "libcard = crosswalk.merge(libcard, left_on=\"CSA2020\", right_on=\"CSA\", how=\"outer\")\n",
        "\n",
        "#Append 2020 Population\n",
        "libcard = libcard.merge(pop_2020, on=[\"CSA2010\", \"CSA2020\"], how='outer')\n",
        "\n",
        "#Get libcard indicator\n",
        "libcard['libcardsXX'] = (libcard['count'] / libcard['tpop20']) * 1000\n",
        "\n",
        "#Sort rows alphabetically \n",
        "libcard = libcard.sort_values('CSA2010')"
      ],
      "metadata": {
        "id": "j_QBwnJ4VjRA"
      },
      "execution_count": null,
      "outputs": []
    },
    {
      "cell_type": "code",
      "source": [
        "from google.colab import files \n",
        "libcard.to_csv('libcard_2021.csv')\n",
        "files.download('libcard_2021.csv')"
      ],
      "metadata": {
        "colab": {
          "base_uri": "https://localhost:8080/",
          "height": 17
        },
        "id": "9antU7eHWwnn",
        "outputId": "4c944399-4c44-409d-d2a6-d19a61fe0754"
      },
      "execution_count": null,
      "outputs": [
        {
          "output_type": "display_data",
          "data": {
            "text/plain": [
              "<IPython.core.display.Javascript object>"
            ],
            "application/javascript": [
              "\n",
              "    async function download(id, filename, size) {\n",
              "      if (!google.colab.kernel.accessAllowed) {\n",
              "        return;\n",
              "      }\n",
              "      const div = document.createElement('div');\n",
              "      const label = document.createElement('label');\n",
              "      label.textContent = `Downloading \"${filename}\": `;\n",
              "      div.appendChild(label);\n",
              "      const progress = document.createElement('progress');\n",
              "      progress.max = size;\n",
              "      div.appendChild(progress);\n",
              "      document.body.appendChild(div);\n",
              "\n",
              "      const buffers = [];\n",
              "      let downloaded = 0;\n",
              "\n",
              "      const channel = await google.colab.kernel.comms.open(id);\n",
              "      // Send a message to notify the kernel that we're ready.\n",
              "      channel.send({})\n",
              "\n",
              "      for await (const message of channel.messages) {\n",
              "        // Send a message to notify the kernel that we're ready.\n",
              "        channel.send({})\n",
              "        if (message.buffers) {\n",
              "          for (const buffer of message.buffers) {\n",
              "            buffers.push(buffer);\n",
              "            downloaded += buffer.byteLength;\n",
              "            progress.value = downloaded;\n",
              "          }\n",
              "        }\n",
              "      }\n",
              "      const blob = new Blob(buffers, {type: 'application/binary'});\n",
              "      const a = document.createElement('a');\n",
              "      a.href = window.URL.createObjectURL(blob);\n",
              "      a.download = filename;\n",
              "      div.appendChild(a);\n",
              "      a.click();\n",
              "      div.remove();\n",
              "    }\n",
              "  "
            ]
          },
          "metadata": {}
        },
        {
          "output_type": "display_data",
          "data": {
            "text/plain": [
              "<IPython.core.display.Javascript object>"
            ],
            "application/javascript": [
              "download(\"download_f4b1fcd9-8365-4fb2-9ef9-254dcd6397f2\", \"libcard_2021.csv\", 4168)"
            ]
          },
          "metadata": {}
        }
      ]
    }
  ]
}